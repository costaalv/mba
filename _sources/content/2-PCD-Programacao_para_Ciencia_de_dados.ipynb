{
 "cells": [
  {
   "cell_type": "markdown",
   "metadata": {},
   "source": [
    "## <span style=\"color:blue\">Python Parte I</span>"
   ]
  },
  {
   "cell_type": "markdown",
   "metadata": {},
   "source": [
    "### Conteúdo:\n",
    "- Variáveis e atribuição\n",
    "- Tipos de dados\n",
    "    - Tipos básicos\n",
    "    - Sequênciais\n",
    "    - Dicionários\n",
    "- Estruturas de controle\n",
    "    - Estruturas de controle\n",
    "    - Estruturas de repetição "
   ]
  },
  {
   "cell_type": "markdown",
   "metadata": {},
   "source": [
    "## O que é Python?\n",
    "Python é uma linguagem dinâmica e interpretada. Em outras palavras, muitas taferas são realizadas em tempo de execução e o código é executado diretamente ao invés de ser compilado.\n",
    "\n",
    "Python também é:\n",
    "- _Imperativo_: programas compreendem uma sequência de declarações\n",
    "- _Orientada a objetos_: permite modelos de classes para manipular objetos\n",
    "- _Procedural_: código pode ser agrupado em unidades chamadas funções\n",
    "- _Funcional_: nativamente permite funções, lambdas anônimos, comprehensions e geradores."
   ]
  },
  {
   "cell_type": "markdown",
   "metadata": {},
   "source": [
    "# Variáveis e atribuição\n",
    "Uma variável em Python é uma referência (etiqueta) dada para uma região da memória onde informações são armazenadas.\n",
    "\n",
    "Toda variável possui um tipo associado. Por exemplo, uma variável para ser do tipo número real (float), número inteiro (int), conjunto de caracteres (string), dentre outros.\n",
    "\n",
    "A atribuiçao de variáveis é feita diretamente, sem necessidade de declarar o tipo da variável em questão. O próprio Python se encarrega de descobrir o tipo da variável, diferentemente de linguagens como Java ou C++, onde o tipo deve ser especificado."
   ]
  },
  {
   "cell_type": "code",
   "execution_count": 2,
   "metadata": {},
   "outputs": [
    {
     "name": "stdout",
     "output_type": "stream",
     "text": [
      "Tipo da variavel x =  <class 'int'>\n",
      "Tipo da variavel y =  <class 'str'>\n",
      "Tipo da variavel z =  <class 'float'>\n"
     ]
    }
   ],
   "source": [
    "# Comentários em Python são definidos pelo síbulo \"#\", isto é, \n",
    "# tudo que vem após o símbolo \"#\" não é interpretado como código\n",
    "\n",
    "x = 36            # Criando e inicializando x como número inteiro (int)\n",
    "y = \"Hello\"       # Criando e inicializando y como um conjunto de caracteres (str)\n",
    "z = 3.45          # Criando e inicializando z como um número real (float)\n",
    "\n",
    "#########\n",
    "# Imprimindo os typos de cada variável \n",
    "#########\n",
    "# O comando \"print\" é utilizada para exibir o conteúdo de variáveis, textos, \n",
    "# ou o resultado de operações e funções\n",
    "# A função \"type()\" retorna o tipo da variável enviada como parâmtro\n",
    "\n",
    "print('Tipo da variavel x = ',type(x))\n",
    "print('Tipo da variavel y = ',type(y))\n",
    "print('Tipo da variavel z = ',type(z))"
   ]
  },
  {
   "cell_type": "markdown",
   "metadata": {},
   "source": [
    "- A atrubuição cria e inicializa as variáveis\n",
    "- Cada tipo de variável admite um conjunto de operações, que podem preservar ou modificar o tipo da variável\n",
    "- Por exemplo, operações aritméticas do tipo ``+ - * /`` podem ser aplicadas em variáveis tipo float (representação de números reais). Quando aplicadas à variáveis do tipo número inteiro (int), as operações ``+ - *`` resultam em números números inteiros, porém, a operação ``/`` produz um tipo número real (float)"
   ]
  },
  {
   "cell_type": "code",
   "execution_count": 4,
   "metadata": {},
   "outputs": [
    {
     "name": "stdout",
     "output_type": "stream",
     "text": [
      "x =  37 <class 'int'>\n",
      "y =  Hello World <class 'str'>\n",
      "z =  5.45 <class 'float'>\n",
      "w =  18.5 <class 'float'>\n"
     ]
    }
   ],
   "source": [
    "x = 36     \n",
    "y = \"Hello\" \n",
    "z = 3.45  \n",
    "\n",
    "x = x + 1        # preserva o tipo int\n",
    "y = y + \" World\" # Concatenação de strings\n",
    "z = 2 + z        # preserva o tipo float\n",
    "w = x / 2        # embora x seja inteiro, a operação de divisão resulta em um float\n",
    "    \n",
    "# Imprimindo os resultados\n",
    "print('x = ',x,type(x))\n",
    "print('y = ',y,type(y))\n",
    "print('z = ',z,type(z))\n",
    "print('w = ',w,type(z))"
   ]
  },
  {
   "cell_type": "markdown",
   "metadata": {},
   "source": [
    "- Variáveis tipo strings (str) suportam os operadores aritméticos ``+`` (concatenação) e ``*`` (replicação)"
   ]
  },
  {
   "cell_type": "code",
   "execution_count": 3,
   "metadata": {},
   "outputs": [
    {
     "name": "stdout",
     "output_type": "stream",
     "text": [
      "Concatenacao y + World:  Hello World \n",
      "2*w replica w duas veze:s  Hello World Hello World \n"
     ]
    }
   ],
   "source": [
    "# Exemplo da \"aritmética\" com strings\n",
    "y = \"Hello\"\n",
    "y = y + \" World \"\n",
    "print(\"Concatenacao y + World: \",y)\n",
    "w = 2*y   # A operação de replicação \"*\" asume um número inteiro e uma string como argumentos\n",
    "print(\"2*w replica w duas vezes: \",w)"
   ]
  },
  {
   "cell_type": "markdown",
   "metadata": {},
   "source": [
    "__Importante:__\n",
    "- Atribuição cria referências, não cópias\n",
    "- Uma variável é na verdade uma instância de um objeto em Python alocado na memória\n",
    "- Se você tentar acessar uma variável antes que ela tenha sido criada, ocorre um erro\n",
    "- É possível atribuir valores a multiplas variáveis ao mesmo tempo, como por exemplo:\n",
    "```python\n",
    "x, y = 2, 3\n",
    "```"
   ]
  },
  {
   "cell_type": "markdown",
   "metadata": {},
   "source": [
    "### Nomes de variáveis\n",
    "- Nomes são sensíveis a maiúsculas e minúsculas, isto é, `a=1` e `A=1` são variáveis diferentes com o mesmo valor\n",
    "- Nomes de variáveis não podem começar com números. Por exemplo, se tentarmos criar uma variável chamada `2a`, a atribuição\n",
    "```\n",
    "2a = 3\n",
    "```\n",
    "resultará em uma mensagem de erro\n",
    "- Nomes podem conter letras, números e underline\n",
    "```\n",
    "\tbob   Bob   _bob   _2_bob_   bob_2    Bob\n",
    "```\n",
    "- Existem algumas palavras reservadas que não podem ser utilizadas como nome de variáveis, como por exemplo:\n",
    "\n",
    "<span style=\"color:blue\">and, assert, break, class, continue, def, del, elif, else, except, exec, finally, for, from, global, if, import, in, is, lambda, not, or, pass, print, raise, return, try, while</span>"
   ]
  },
  {
   "cell_type": "markdown",
   "metadata": {},
   "source": [
    "# Tipos de dados"
   ]
  },
  {
   "cell_type": "markdown",
   "metadata": {},
   "source": [
    "## Tipos básicos de dados\n",
    "\n",
    "#### Inteiro - *int*\n",
    "- Ex: 42, int(4/3)\n",
    "\n",
    "#### Ponto flutuante - *float*\n",
    "- Ex: 3.14, 3.14e-10, .0001, 4.\n",
    "\n",
    "#### Booleanos - *bool*\n",
    "- Ex: True, False\n",
    "\n",
    "#### Números complexos\n",
    "- Ex: 3j, 4+5j\n",
    "\n",
    "<hr>\n",
    "\n",
    "__OBS:__ Python fornece funções internas para converter um tipo de variável em outro tipo"
   ]
  },
  {
   "cell_type": "code",
   "execution_count": 2,
   "metadata": {},
   "outputs": [
    {
     "name": "stdout",
     "output_type": "stream",
     "text": [
      "x = 1.76 | tipo: <class 'float'>\n",
      "y = 1 | tipo: <class 'int'>\n",
      "z = True | tipo: <class 'bool'>\n"
     ]
    }
   ],
   "source": [
    "x = 1.76\n",
    "y = int(x) # Convertendo um float (real) para int (inteiro)\n",
    "z = y == 1 # O resultado da comparação y == 1 (que pode ser True ou False) é armazenado em z\n",
    "\n",
    "print(\"x =\", x, \"| tipo:\", type(x))\n",
    "print(\"y =\", y, \"| tipo:\", type(y))\n",
    "print(\"z =\", z, \"| tipo:\", type(z))"
   ]
  },
  {
   "cell_type": "markdown",
   "metadata": {},
   "source": [
    "Uma atribuição como\n",
    "```python\n",
    "x = 3.4\n",
    "```\n",
    "é uma maneira de dar um nome a um objeto (o que é chamado binding).\n",
    "- Variáveis em Python não tem um tipo intrínseco, objetos tem tipo\n",
    "- Objetos tem identidade (endereço na memória), um tipo e um valor\n",
    "- O Python determinada o tipo da variável automaticamente baseado no objeto que ela faz referência\n",
    "- A identidade de um objeto e seu tipo não mudam\n",
    "- O valor de um objeto pode mudar"
   ]
  },
  {
   "cell_type": "markdown",
   "metadata": {},
   "source": [
    "## Sequência\n",
    "\n",
    "Existem basicamente três tipos nativos de sequência em Python\n",
    "\n",
    "#### Tupla - *tuple*\n",
    "- Sequência ordenada de elementos\n",
    "- Elementos podem ser de tipos distintos, incluindo outra sequência\n",
    "- Elementos **não** podem ser modificados\n",
    "\n",
    "#### Lista - *list*\n",
    "- Sequência ordenada de elementos de qualquer tipo, incluindo outra sequência\n",
    "- Elementos podem ser modificados, adicionados, removidos, etc.\n",
    "\n",
    "#### String - *int*\n",
    "- Conceitualmente similares a tuplas\n",
    "- Elementos são restritos a caracteres apenas\n",
    "\n",
    "Os elementos de uma tupla, lista ou string podem ser acessados utilizando colchetes [ ] e o índice do elemento.<br> \n",
    "O índice dos elementos vaira de $0$ até $n-1$, onde $n$ é o número de elementos na sequência.\n",
    "\n",
    "<hr>\n",
    "\n",
    "__OBS:__ Tuplas e strings são imutáveis (seus valores são fixos), Listas são mutáveis (é possível alterar seus valores)"
   ]
  },
  {
   "cell_type": "code",
   "execution_count": 4,
   "metadata": {},
   "outputs": [
    {
     "name": "stdout",
     "output_type": "stream",
     "text": [
      "23\n",
      "abc\n",
      "4.56\n",
      "(2, 3)\n"
     ]
    }
   ],
   "source": [
    "tp = (23, 'abc', 4.56, (2,3))  # Isso é uma tupla, deve ser \n",
    "                              # definida usando parenteses ()\n",
    "print(tp[0])\n",
    "print(tp[1])\n",
    "print(tp[2])\n",
    "print(tp[3]) "
   ]
  },
  {
   "cell_type": "code",
   "execution_count": 5,
   "metadata": {
    "scrolled": true
   },
   "outputs": [
    {
     "ename": "TypeError",
     "evalue": "'tuple' object does not support item assignment",
     "output_type": "error",
     "traceback": [
      "\u001b[0;31m---------------------------------------------------------------------------\u001b[0m",
      "\u001b[0;31mTypeError\u001b[0m                                 Traceback (most recent call last)",
      "\u001b[0;32m<ipython-input-5-be27fcdbc1a9>\u001b[0m in \u001b[0;36m<module>\u001b[0;34m\u001b[0m\n\u001b[1;32m      1\u001b[0m \u001b[0;31m# Como tuplas são imutáveis, não se pode mudar o valor dos elementos (mensagem de erro é gerada)\u001b[0m\u001b[0;34m\u001b[0m\u001b[0;34m\u001b[0m\u001b[0;34m\u001b[0m\u001b[0m\n\u001b[0;32m----> 2\u001b[0;31m \u001b[0mtp\u001b[0m\u001b[0;34m[\u001b[0m\u001b[0;36m2\u001b[0m\u001b[0;34m]\u001b[0m\u001b[0;34m=\u001b[0m\u001b[0;36m1\u001b[0m\u001b[0;34m\u001b[0m\u001b[0;34m\u001b[0m\u001b[0m\n\u001b[0m",
      "\u001b[0;31mTypeError\u001b[0m: 'tuple' object does not support item assignment"
     ]
    }
   ],
   "source": [
    "# Como tuplas são imutáveis, não se pode mudar o valor dos elementos (mensagem de erro é gerada)\n",
    "tp[2]=1 "
   ]
  },
  {
   "cell_type": "code",
   "execution_count": 7,
   "metadata": {
    "scrolled": true
   },
   "outputs": [
    {
     "name": "stdout",
     "output_type": "stream",
     "text": [
      "['abc', 34, 4.34, 23, 9, 98]\n",
      "abc\n",
      "34\n",
      "4.34\n",
      "23\n"
     ]
    }
   ],
   "source": [
    "ls = [\"abc\", 34, 4.34, 23, 9, 98]   # Listas são definidas utilizando colchetes [ ]\n",
    "                        \n",
    "print(ls)\n",
    "print(ls[0])\n",
    "print(ls[1])\n",
    "print(ls[2])\n",
    "print(ls[3])"
   ]
  },
  {
   "cell_type": "code",
   "execution_count": 36,
   "metadata": {
    "scrolled": true
   },
   "outputs": [
    {
     "name": "stdout",
     "output_type": "stream",
     "text": [
      "[]\n",
      "['novo elemento na primeira posicao', 'primeiro elemento da lista', 'novo elemento no final']\n",
      "--- Removendo elememtos inseridos\n",
      "['primeiro elemento da lista']\n"
     ]
    }
   ],
   "source": [
    "# Listas são mutáveis, itens podem ser alterados, inseridos ou removidos\n",
    "lsn = []  # cria um lista chamada lsn que é vazia\n",
    "print(lsn)\n",
    "\n",
    "lsn.append('primeiro elemento da lista')\n",
    "lsn.append('novo elemento no final')\n",
    "lsn.insert(0,'novo elemento na primeira posicao')\n",
    "print(lsn)\n",
    "\n",
    "print(3*'-','Removendo elememtos inseridos')\n",
    "del lsn[0]  # remove elemento da primeira posição\n",
    "del lsn[-1] # remove último elemento da lista \n",
    "           # (índices negativos indicam percorrer a lista de forma reversa)\n",
    "print(lsn)"
   ]
  },
  {
   "cell_type": "code",
   "execution_count": 9,
   "metadata": {
    "scrolled": true
   },
   "outputs": [
    {
     "name": "stdout",
     "output_type": "stream",
     "text": [
      "I\n",
      "s\n",
      "s\n",
      "o\n"
     ]
    }
   ],
   "source": [
    "st = \"Isso é uma string\"  # Strings são definidas utilizando aspas simples '' ou duplas \"\"\n",
    "print(st[0])\n",
    "print(st[1])\n",
    "print(st[2])\n",
    "print(st[3])"
   ]
  },
  {
   "cell_type": "code",
   "execution_count": 10,
   "metadata": {
    "scrolled": true
   },
   "outputs": [
    {
     "name": "stdout",
     "output_type": "stream",
     "text": [
      "['abc', 'Eu mudei', 4.34, 23, 9, 98]\n",
      "98\n",
      "9\n",
      "23\n"
     ]
    }
   ],
   "source": [
    "# O indice dos elementos pode ser positivo ou negativo \n",
    "# Indices negativos revertem a ordem em que se percorre a sequencia\n",
    "print(ls)\n",
    "print(ls[-1])\n",
    "print(ls[-2])\n",
    "print(ls[-3])"
   ]
  },
  {
   "cell_type": "markdown",
   "metadata": {},
   "source": [
    "O número de elementos de uma sequência pode ser consultado utilizando a função **len()**"
   ]
  },
  {
   "cell_type": "code",
   "execution_count": 11,
   "metadata": {
    "scrolled": true
   },
   "outputs": [
    {
     "name": "stdout",
     "output_type": "stream",
     "text": [
      "(23, 'abc', 4.56, (2, 3))\n",
      "4\n",
      "['abc', 'Eu mudei', 4.34, 23, 9, 98]\n",
      "6\n",
      "Isso é uma string\n",
      "17\n"
     ]
    }
   ],
   "source": [
    "print(tp)\n",
    "print(len(tp))\n",
    "print(ls)\n",
    "print(len(ls))\n",
    "print(st)\n",
    "print(len(st))"
   ]
  },
  {
   "cell_type": "markdown",
   "metadata": {},
   "source": [
    "### *Slicing*  (fatiamento)\n",
    "Slicing, ou fatiamento, permite acessar um subconjunto dos elementos da sequência utilizando a sintaxe:\n",
    "```python\n",
    "[i:j]\n",
    "```\n",
    "Os elementos com índices entre i e j-1 são retornados.\n",
    "\n",
    "i e j pode não ser especificados. Se i não é especificado, a recuperação inicia com o primeiro elemento da sequência e vai até j-1. Se j não é especificado, a recuperação inicia em no elemento com índice i e vai até o último elemento da sequência."
   ]
  },
  {
   "cell_type": "code",
   "execution_count": 13,
   "metadata": {},
   "outputs": [
    {
     "name": "stdout",
     "output_type": "stream",
     "text": [
      "['abc', 'Eu mudei', 4.34, 23, 9, 98]\n",
      "['abc', 'Eu mudei']\n",
      "[4.34, 23, 9, 98]\n",
      "['Eu mudei', 4.34, 23, 9]\n",
      "['abc', 'Eu mudei', 4.34]\n",
      "['abc', 'Eu mudei', 4.34, 23, 9]\n"
     ]
    }
   ],
   "source": [
    "print(ls)\n",
    "print(ls[0:2])  # recupera elementos ls[0],ls[1] (note que o elemento ls[2] não é recuperado)\n",
    "print(ls[2:])   # recupera elementos a partir de ls[2] em diante\n",
    "print(ls[1:5])  # recupera elementos ls[1],ls[2],ls[3],ls[4] \n",
    "print(ls[:3])   # recupera elementos até ls[2]\n",
    "print(ls[:-1])  # recupera todos os elementos menos o último"
   ]
  },
  {
   "cell_type": "markdown",
   "metadata": {},
   "source": [
    "## Dicionários\n",
    "Dicionários guardam um mapeamento entre um conjunto de chaves e um conjunto de valores\n",
    "- Chaves podem ser de qualquer tipo imutável\n",
    "- Valores podem ser de qualquer tipo\n",
    "\n",
    "Um mesmo dicionário pode guardar valores de tipos diferentes\n",
    "\n",
    "É possível definir, modificar, visualizar e apagar os pares chave-valor de um dicionário\n",
    "\n",
    "Dicionários são criados utilizando 'chaves' { }, especificando a chave e o valor. A chave é o índice utilizado para acessar o valore correspondente."
   ]
  },
  {
   "cell_type": "markdown",
   "metadata": {},
   "source": [
    "No exemplo abaixo, <font color='blue'>'c1'</font>,<font color='blue'>'c2'</font> e <font color='blue'>'c3'</font> são as chaves e <font color='blue'>3.0</font>, <font color='blue'>27</font> e <font color='blue'>'O valor da chave tres'</font> são os valores correspondentes."
   ]
  },
  {
   "cell_type": "code",
   "execution_count": 18,
   "metadata": {
    "scrolled": true
   },
   "outputs": [
    {
     "name": "stdout",
     "output_type": "stream",
     "text": [
      "{'c1': 3.0, 'c2': 27, 'c3': 'O valor da chave tres'}\n"
     ]
    }
   ],
   "source": [
    "d = {'c1':3.0,\n",
    "     'c2':27,\n",
    "     'c3':'O valor da chave tres'}\n",
    "\n",
    "print(d)"
   ]
  },
  {
   "cell_type": "code",
   "execution_count": 15,
   "metadata": {
    "scrolled": true
   },
   "outputs": [
    {
     "name": "stdout",
     "output_type": "stream",
     "text": [
      "27\n",
      "O valor da chave tres\n"
     ]
    }
   ],
   "source": [
    "print(d['c2']) # recuperando o valor associado a chave 'c2'\n",
    "print(d['c3']) # recuperando o valor associado a chave 'c3'"
   ]
  },
  {
   "cell_type": "markdown",
   "metadata": {},
   "source": [
    "Novos pares chave-valore podem ser adicionados fazendo uma atribuição do valor ao dicionário utilizando a chave como \"índice\"\n",
    "\n",
    "Para remover um par chave-valore utiliza-se o comando **del**"
   ]
  },
  {
   "cell_type": "code",
   "execution_count": 19,
   "metadata": {},
   "outputs": [
    {
     "name": "stdout",
     "output_type": "stream",
     "text": [
      "------  Novo elemento\n",
      "{'c1': 3.0, 'c2': 27, 'c3': 'O valor da chave tres', 'nova_chave': 13}\n",
      "------ Removendo elemento k1\n",
      "{'c2': 27, 'c3': 'O valor da chave tres', 'nova_chave': 13}\n"
     ]
    }
   ],
   "source": [
    "# Novos pares chave-valor podem ser adicionados\n",
    "print(3*'--',' Novo elemento')\n",
    "d['nova_chave'] = 13\n",
    "print(d)\n",
    "\n",
    "\n",
    "# Chave-valor pode ser removido\n",
    "print(3*'--','Removendo elemento k1')\n",
    "del d['c1']\n",
    "print(d)"
   ]
  },
  {
   "cell_type": "markdown",
   "metadata": {},
   "source": [
    "Existem métodos para obter as informações de um dicionário:\n",
    "    - .keys() : Retorna todas as chaves do dicionário\n",
    "    - .values() : Retorna todos os valores do dicionário\n",
    "    - .items() : Retorna todos os pares chave-valor do dicionário"
   ]
  },
  {
   "cell_type": "code",
   "execution_count": 12,
   "metadata": {},
   "outputs": [
    {
     "name": "stdout",
     "output_type": "stream",
     "text": [
      "- Todas as chaves do dicionário\n",
      "dict_keys(['chave2', 'chave3', 'nova_chave'])\n",
      "\n",
      " - Todos os valores do dicionário\n",
      "dict_values([27, 'O valor da chave tres', 13])\n",
      "\n",
      " - Todos os pares chave-valor do dicionário\n",
      "dict_items([('chave2', 27), ('chave3', 'O valor da chave tres'), ('nova_chave', 13)])\n",
      "('chave2', 27)\n"
     ]
    }
   ],
   "source": [
    "# Obtendo todas as chaves\n",
    "print('- Todas as chaves do dicionário')\n",
    "print(d.keys())\n",
    "\n",
    "# Obtendo todos os valores\n",
    "print('\\n - Todos os valores do dicionário')\n",
    "print(d.values())\n",
    "\n",
    "# Obtendo todos os pares chave-valor\n",
    "print('\\n - Todos os pares chave-valor do dicionário')\n",
    "print(d.items())\n",
    "\n",
    "x = list(d.items())\n",
    "print(x[0])"
   ]
  },
  {
   "cell_type": "markdown",
   "metadata": {},
   "source": [
    "# Estruturas de controle"
   ]
  },
  {
   "cell_type": "markdown",
   "metadata": {},
   "source": [
    "Antes é preciso falar sobre um assunto muito importante no Python: indentação\n",
    "\n",
    "#### Indentação\n",
    "\n",
    "Indentação denota blocos de código sob cláusulas como _if_, _for_, _def_, ...\n",
    "```python\n",
    "if z == 3.45 or y == \"Hello\":\n",
    "    x = x + 1\n",
    "    y = y + \" World\"\n",
    "```\n",
    "\n",
    "Identação é obrigatória e deve ser utilizada com cuidado, já que, diferente de linguagem como Java e C++, Python utilizada apenas indentação para delimitar blocos.\n",
    "\n",
    "Linhas de código no mesmo nível de indentação formam um bloco"
   ]
  },
  {
   "cell_type": "markdown",
   "metadata": {},
   "source": [
    "## Comando *if*\n",
    "*__if__* é o principal comando para condicionar o fluxo de execução do programa.\n",
    "\n",
    "```python\n",
    "if condicao:\n",
    "    comandos\n",
    "```\n",
    "\n",
    "Sempre que a condição for verdadeira (__True__) o bloco de código identado abaixo é executado.\n",
    "\n",
    "Também é possível utilizar os comandos __*else*__ (senão) e __*elif*__ (senão se) para controlar o fluxo do programa"
   ]
  },
  {
   "cell_type": "code",
   "execution_count": 21,
   "metadata": {},
   "outputs": [
    {
     "name": "stdout",
     "output_type": "stream",
     "text": [
      "X não vale nem 3 nem 2\n",
      "Este print está fora do 'if'\n"
     ]
    }
   ],
   "source": [
    "x=0   # mude o valor de x para 3 ou 2 e veja o que acontece\n",
    "\n",
    "if x == 3:\n",
    "    print(\"X vale 3\")\n",
    "elif x == 2:\n",
    "    print(\"X vale 2\")\n",
    "else:\n",
    "    print(\"X não vale nem 3 nem 2\")\n",
    "\n",
    "print(\"Este print está fora do 'if'\")"
   ]
  },
  {
   "cell_type": "markdown",
   "metadata": {},
   "source": [
    "Python suporta comandos _if_ ternário"
   ]
  },
  {
   "cell_type": "code",
   "execution_count": 23,
   "metadata": {},
   "outputs": [
    {
     "name": "stdout",
     "output_type": "stream",
     "text": [
      "other thing\n",
      "other thing\n"
     ]
    }
   ],
   "source": [
    "x = 2  \n",
    "\n",
    "# O seguinte trecho de código\n",
    "if x == 3:\n",
    "    y = 'three'\n",
    "else:\n",
    "    y = 'other thing'\n",
    "    \n",
    "print(y)\n",
    "\n",
    "# É equivalente a\n",
    "\n",
    "y = 'three' if x == 3 else 'other thing' # isto é um 'if' ternário\n",
    "print(y)\n",
    "\n",
    "# mude o valor de x para 3 e veja o resultado"
   ]
  },
  {
   "cell_type": "markdown",
   "metadata": {},
   "source": [
    "## Comando *for*\n",
    "Um laço _for_ é um iterador genério em Python, com a seguinte estrutura:\n",
    "```python\n",
    "for var in sequence:\n",
    "\tstatements\n",
    "```\n",
    "O _for_ pode iterar sobre qualquer sequência, como strings, listas e tuplas. \n",
    "- Os elementos no objeto ``sequence`` são atribuidos a variável ``var`` um por vez\n",
    "\n",
    "O bloco de código `statements` deve estar identado"
   ]
  },
  {
   "cell_type": "code",
   "execution_count": 26,
   "metadata": {},
   "outputs": [
    {
     "name": "stdout",
     "output_type": "stream",
     "text": [
      "numero de elementos na lista:  20\n",
      "[0, 1, 2, 3, 4, 5, 6, 7, 8, 9, 10, 11, 12, 13, 14, 15, 16, 17, 18, 19]\n",
      "1\n",
      "3\n",
      "4\n",
      "5\n",
      "6\n",
      "7\n",
      "8\n",
      "9\n"
     ]
    }
   ],
   "source": [
    "# construindo uma lista com 100 elementos inteiros\n",
    "# o método `range(20)` gera números inteiros de 0 a 19\n",
    "minha_lista1=[]\n",
    "for i in range(20):   # cada número gerado pelo método `range` é atribuido a variável `i`\n",
    "    minha_lista1.append(i)  # os números são adicionados a lista `minha_lista1`\n",
    "  \n",
    "print('numero de elementos na lista: ',len(minha_lista1))\n",
    "print(minha_lista1)\n",
    "\n",
    "# imprimindo os elementos da lista a partir do segundo elemento, \n",
    "# pulando o elemento 2, e interrompendo o processo no elemento 10\n",
    "for val in minha_lista1[1:]:\n",
    "    if val == 10:\n",
    "        break    # Interrompe o laço\n",
    "    elif val == 2:\n",
    "        continue  # Pula para a próxima iteração do laço sem executar o restante do código no bloco\n",
    "    print(val)"
   ]
  },
  {
   "cell_type": "markdown",
   "metadata": {},
   "source": [
    "- Se os elementos em *sequence* também são uma sequência *var* pode ser declarada para obter esses elementos\n",
    "```python\n",
    "for key,value in dict.items():\n",
    "     print(key, '->', value)\n",
    "```"
   ]
  },
  {
   "cell_type": "code",
   "execution_count": 31,
   "metadata": {},
   "outputs": [
    {
     "name": "stdout",
     "output_type": "stream",
     "text": [
      "1 --> um\n",
      "2 --> dois\n",
      "3 --> tres\n",
      "------ interando com a tupla (chave,valor)\n",
      "1 --> um\n",
      "2 --> dois\n",
      "3 --> tres\n"
     ]
    }
   ],
   "source": [
    "d = {1:'um',2:'dois',3:'tres'}\n",
    "\n",
    "for k,v in d.items():\n",
    "    print(k, '-->', v)\n",
    "    \n",
    "# se não especificar os dois elementos, a variável `var` recebe a tupla (chave,valor) \n",
    "print(3*'--', 'interando com a tupla (chave,valor)')\n",
    "for var in d.items():\n",
    "    print(var[0], '-->',var[1])"
   ]
  },
  {
   "cell_type": "markdown",
   "metadata": {},
   "source": [
    "## Comando *while*\n",
    "\n",
    "O laço *while* tem a seguinte estrutura:\n",
    "\n",
    "```python\n",
    "while test:\n",
    "\tstatements\n",
    "```\n",
    "\n",
    "O bloco de código `statements` dentro do laço deve estar identado e é executado até que o valor da expressão em `test` seja falsa \n",
    "\n",
    "<hr>\n",
    "\n",
    "__OBS:__ É possivel utilizar o comando *else* após um  while, seu código é executado após o programa sair do laço associado\n",
    "\n",
    "```python\n",
    "while test:\n",
    "\tstatements\n",
    "else:\n",
    "    statements\n",
    "```\n"
   ]
  },
  {
   "cell_type": "code",
   "execution_count": 32,
   "metadata": {},
   "outputs": [
    {
     "name": "stdout",
     "output_type": "stream",
     "text": [
      "1\n",
      "2\n",
      "3\n",
      "4\n",
      "5\n",
      "6\n",
      "7\n",
      "8\n",
      "9\n",
      "10\n",
      "11\n"
     ]
    }
   ],
   "source": [
    "count = 0\n",
    "while count < 10:\n",
    "    count = count + 1\n",
    "    print(count)\n",
    "    \n",
    "print(count+1) # ao final do laço *while* a variável `count` vale 11"
   ]
  },
  {
   "cell_type": "markdown",
   "metadata": {
    "id": "mvNcrbR513HD"
   },
   "source": [
    "## <span style=\"color:blue\">Exercícios Python Parte I</span>"
   ]
  },
  {
   "cell_type": "markdown",
   "metadata": {
    "id": "p1lHDUrZ13HL"
   },
   "source": [
    "#### <span style=\"color:red\">Recomenda-se fortemente que os exercícios sejam feitos sem consultar as respostas antecipadamente.</span>"
   ]
  },
  {
   "cell_type": "markdown",
   "metadata": {
    "id": "XNY_3H0E13HM"
   },
   "source": [
    "### Exercício 1)\n",
    "Declare duas variáveis chamadas *preco_dolar* e *preco_celular_em_dolar* com os valores *5.12* e *849*, respectivamente. Realize a conversão do preço do celular para real e imprima o resultado."
   ]
  },
  {
   "cell_type": "code",
   "execution_count": null,
   "metadata": {
    "id": "ByWLtwQ813HN",
    "outputId": "4bdf7ba5-bbc2-49e8-cbe3-ac1497bb79ea"
   },
   "outputs": [
    {
     "name": "stdout",
     "output_type": "stream",
     "text": [
      "4346.88\n"
     ]
    }
   ],
   "source": [
    "preco_dolar = 5.12\n",
    "preco_celular = 849\n",
    "\n",
    "preco_celular_em_reais = preco_dolar * preco_celular\n",
    "print(preco_celular_em_reais)"
   ]
  },
  {
   "cell_type": "markdown",
   "metadata": {
    "id": "pE8kPEUT13HO"
   },
   "source": [
    "### Exercício 2)\n",
    "Considere o conjunto de valores armazenados na lista `valores` descrita abaixo. Utilizando um laço \"_for_\" percorra a lista e calcule:\n",
    "- A média dos valores\n",
    "- O maior valor\n",
    "- O menor valor\n",
    "\n",
    "Armazene os resultados nas variáveis *media*, *maximo* e *minimo*. Imprima os valores obtidos."
   ]
  },
  {
   "cell_type": "code",
   "execution_count": null,
   "metadata": {
    "id": "fc837ptF13HP",
    "outputId": "9b5a3ebb-fb2e-4949-c40b-99518b7a29c1"
   },
   "outputs": [
    {
     "name": "stdout",
     "output_type": "stream",
     "text": [
      "Media =  0.11705882352941177\n",
      "Maximo =  0.99\n",
      "Minimo =  -0.97\n"
     ]
    }
   ],
   "source": [
    "valores = [-0.85,-0.64,0.93,0.73,0.34,0.90,0.39,\n",
    "           0.04,0.32,0.99,-0.71,-0.97,0.04,0.30,0.47,0.46,-0.75]\n",
    "\n",
    "# Declarando e inicializando as variaveis \n",
    "# Pense no porque dos valores escolhidos para inicializacao\n",
    "media = 0.0\n",
    "maximo = 0.0\n",
    "minimo = 1.0\n",
    "for x in valores:\n",
    "    media = media + x\n",
    "    if x > maximo:\n",
    "        maximo = x\n",
    "    if x < minimo:\n",
    "        minimo = x\n",
    "        \n",
    "media = media/len(valores)\n",
    "print('Media = ',media)\n",
    "print('Maximo = ',maximo)\n",
    "print('Minimo = ',minimo)"
   ]
  },
  {
   "cell_type": "markdown",
   "metadata": {
    "id": "uVL_7Jq513HP"
   },
   "source": [
    "### Exercício 3)\n",
    "Dada a lista `meus_numeros` abaixo, crie uma nova lista chamada `meus_numeros3` contendo apenas elementos de `meus_numeros` que são multiplos de 3.\n",
    "\n",
    "__Dica:__ Utilize o operador binário <font color='blue'>'%'</font> que retorna o resto da divisão de um número por outro. Por exemplo:\n",
    "```python\n",
    "print(22%6)\n",
    "```\n",
    "resulta no valor 4"
   ]
  },
  {
   "cell_type": "code",
   "execution_count": null,
   "metadata": {
    "id": "b5LwQ6eE13HQ",
    "outputId": "17b858f1-4826-4416-96cc-d1c5ac39c8b8"
   },
   "outputs": [
    {
     "name": "stdout",
     "output_type": "stream",
     "text": [
      "[342, 12, 45, 123, 567]\n"
     ]
    }
   ],
   "source": [
    "meus_numeros = [1, 56, 342, 12, 781, 23, 43, 45, 123, 567]\n",
    "\n",
    "meus_numeros3 = []\n",
    "for i in meus_numeros:\n",
    "    if i%3 == 0:\n",
    "        meus_numeros3.append(i)\n",
    "        \n",
    "print(meus_numeros3)"
   ]
  },
  {
   "cell_type": "markdown",
   "metadata": {
    "id": "Tm7kpYSu13HQ"
   },
   "source": [
    "### Exercício 4)\n",
    "Considere a lista `minha_lista` declarada abaixo. \n",
    "- Utilizando \"slicing\", imprima o subconjunto de elementos entre o segundo e o quarto elemento (inclusive)\n",
    "- Gere uma nova lista chamada `maiores4` contendo os elementos da lista `minha_lista` que possuam quatro caracteres ou mais.\n",
    "- Gere uma nova lista chamada `j_ou_c` contendo os elementos da lista `minha_lista` que começam com a letra j ou com a letra c."
   ]
  },
  {
   "cell_type": "code",
   "execution_count": null,
   "metadata": {
    "id": "mfpFzwWi13HR",
    "outputId": "89ff3db2-5bd1-4127-9925-a28a745293f6"
   },
   "outputs": [
    {
     "name": "stdout",
     "output_type": "stream",
     "text": [
      "['java', 'c++', 'javascript', 'c#']\n",
      "['python', 'java', 'javascript']\n",
      "['java', 'c++', 'javascript', 'c#']\n"
     ]
    }
   ],
   "source": [
    "minha_lista = ['python', 'java', 'c++', 'javascript', 'c#', 'go', 'r']\n",
    "\n",
    "print(minha_lista[1:5])\n",
    "\n",
    "maiores4 = []\n",
    "for elemento in minha_lista:\n",
    "    if len(elemento) >= 4:\n",
    "        maiores4.append(elemento)\n",
    "        \n",
    "j_ou_c = []    \n",
    "for elemento in minha_lista:\n",
    "    if elemento[0] == 'j':\n",
    "        j_ou_c.append(elemento)\n",
    "    if elemento[0] == 'c':\n",
    "        j_ou_c.append(elemento)\n",
    "        \n",
    "print(maiores4)\n",
    "print(j_ou_c)"
   ]
  },
  {
   "cell_type": "markdown",
   "metadata": {
    "id": "xfAG9y1b13HR"
   },
   "source": [
    "### Exercício 5) \n",
    "Considere a lista `minhas_notas` definida abaixo, onde cada elemento é uma lista que representa notas dadas a um produto. Calcule a média de notas de cada produto, salvando o resultado em uma nova lista chamada `notas_medias`.\n",
    "\n",
    "__Dica:__ Utilize o comando <font color='blue'>'sum'</font> do Python para somar os valores em uma lista. Por exemplo:\n",
    "```python\n",
    "ls = [1,1,1,1,1]\n",
    "print(sum(ls))\n",
    "```\n",
    "resulta no valor 5"
   ]
  },
  {
   "cell_type": "code",
   "execution_count": null,
   "metadata": {
    "id": "AqvXsOca13HS",
    "outputId": "eb6ee37f-5e76-4978-8b2f-8ec66dbde96a"
   },
   "outputs": [
    {
     "name": "stdout",
     "output_type": "stream",
     "text": [
      "[2.6666666666666665, 5.7749999999999995, 8.16, 8.7, 3.5250000000000004]\n",
      "5\n"
     ]
    }
   ],
   "source": [
    "minhas_notas = [[2.3, 4.5, 1.2], # Notas do produto 1\n",
    "                [5.4, 3.6, 7.9, 6.2], # Notas do produto 2\n",
    "                [8.1, 8.9, 6.5, 7.9, 9.4], # ...\n",
    "                [9.8, 7.6],\n",
    "                [3.2, 4.5, 1.6, 4.8]]\n",
    "\n",
    "notas_medias = []\n",
    "for l in minhas_notas:\n",
    "    notas_medias.append(sum(l)/len(l))\n",
    "    \n",
    "print(notas_medias)"
   ]
  },
  {
   "cell_type": "markdown",
   "metadata": {
    "id": "uQGZYrfQ13HS"
   },
   "source": [
    "### Exercício 6) \n",
    "Considerando a lista `nomes` a abaixo. Crie uma nova lista chamada `nomes_o` com os elementos da lista `nomes` que possuam a letra  'o' como parte do nome. Para isso, utilize o comando <font color='blue'>'in'</font> disponível no Python para verificar se uma substring esta contida em outra. \n",
    "\n",
    "Por exemplo, o código abaixo:\n",
    "```python\n",
    "print('us' in 'Gustavo')\n",
    "```\n",
    "imprime como resultado:\n",
    "```python\n",
    "True\n",
    "```"
   ]
  },
  {
   "cell_type": "code",
   "execution_count": null,
   "metadata": {
    "id": "f29BvZi413HT",
    "outputId": "0368af55-38de-48a5-920f-52d7ea1ddd4e"
   },
   "outputs": [
    {
     "name": "stdout",
     "output_type": "stream",
     "text": [
      "['Gustavo', 'Hugo', 'Ricardo']\n"
     ]
    }
   ],
   "source": [
    "nomes = ['Matheus', 'Gabriel', 'Gustavo', 'Hugo', 'Ricardo', 'Rui', 'Guilherme', 'Luiz']\n",
    "\n",
    "nomes_o = []\n",
    "for n in nomes:\n",
    "    if 'o' in n:\n",
    "        nomes_o.append(n)\n",
    "        \n",
    "print(nomes_o)"
   ]
  },
  {
   "cell_type": "markdown",
   "metadata": {
    "id": "R6A_txSg13HT"
   },
   "source": [
    "### Exercício 7) \n",
    "Ainda utilizando a lista `nomes` definida acima, crie uma nova lista chamada `concatenados` com os elementos da lista `nomes`, porém, elementos começando com a mesma letra devem ser concatenados em um único elemento, ou seja, a lista resultante deve ser: \n",
    "```python\n",
    "['Matheus', 'GabrielGustavoGuilherme', 'Hugo', 'RicardoRui', 'Luiz']\n",
    "```\n",
    "__Dica:__ Crie um dicionario onde a chave corresponde a uma letra e o valor a uma string que pode ser concatenada caso o valor não seja vazio. Você pode utilizar o comando <font color='blue'>'in'</font> para verificar se uma chave existe em um dicionário. Por exemplo, o código:\n",
    "```python\n",
    "dc = {'c1': 0, 'c2':1, 'c3':2}\n",
    "print('c2' in dc)\n",
    "```\n",
    "imprime como resultado:\n",
    "```python\n",
    "True\n",
    "```"
   ]
  },
  {
   "cell_type": "code",
   "execution_count": null,
   "metadata": {
    "id": "m5DmDDfo13HU",
    "outputId": "79424b98-01be-450c-d617-2f179a06b28b"
   },
   "outputs": [
    {
     "name": "stdout",
     "output_type": "stream",
     "text": [
      "['Matheus', 'GabrielGustavoGuilherme', 'Hugo', 'RicardoRui', 'Luiz']\n"
     ]
    }
   ],
   "source": [
    "nomes = ['Matheus', 'Gabriel', 'Gustavo', 'Hugo', 'Ricardo', 'Rui', 'Guilherme', 'Luiz']\n",
    "\n",
    "dic_nomes = {}\n",
    "for n in nomes:\n",
    "    if n[0] in dic_nomes:\n",
    "        dic_nomes[n[0]] = dic_nomes[n[0]]+n\n",
    "    else:\n",
    "        dic_nomes[n[0]] = n\n",
    " \n",
    "concatenados = list(dic_nomes.values()) # converte os valores do dicionario em uma lista\n",
    "print(concatenados)"
   ]
  },
  {
   "cell_type": "markdown",
   "metadata": {
    "id": "KWWuyKrP13HU"
   },
   "source": [
    "### Exercício 8) \n",
    "Dado o dicionário abaixo, o qual contém valores de imóveis pertencentes a uma pessoa, escreva um código para encontrar qual é o imóvel de maior valor, salvando a chave correspondente em uma variável tipo string."
   ]
  },
  {
   "cell_type": "code",
   "execution_count": null,
   "metadata": {
    "id": "YQuDd3mY13HV",
    "outputId": "a9355fca-3d5a-4ce3-c5cf-60713d02158f"
   },
   "outputs": [
    {
     "name": "stdout",
     "output_type": "stream",
     "text": [
      "Imovel de maior valor:  Sitio com lago\n"
     ]
    }
   ],
   "source": [
    "preco_imoveis = {'Apartamento centro': 1250000,\n",
    "               'Apartamento suburbio': 500000,\n",
    "               'Casa cinco quartos': 750000,\n",
    "               'Casa com garagem': 300000,\n",
    "               'Casa com piscina': 1200000,\n",
    "               'Sitio pequeno': 3000000,\n",
    "               'Sitio com lago': 5500000}\n",
    "\n",
    "maxval = 0\n",
    "imovel = \"\"\n",
    "for cv in preco_imoveis.items():\n",
    "    if cv[1] > maxval:\n",
    "        maxval = cv[1]\n",
    "        imovel = cv[0]\n",
    "        \n",
    "print(\"Imovel de maior valor: \",imovel)"
   ]
  },
  {
   "cell_type": "markdown",
   "metadata": {
    "id": "kLDbWMtl13HV"
   },
   "source": [
    "### Exercício 9) \n",
    "Repita o exercício anterior de modo a encontrar o imóvel de maior valor, porém, **NÃO** utilizando um laço <font color='blue'>'for'</font><br> no código.\n",
    "\n",
    "__Dica:__ Armazene os pares (chave, valor) em listas e utilize uma combinação do comando <font color='blue'>'max'</font> disponível no python com o método <font color='blue'>.index()</font> presente nos objetos tipo <font color='blue'>'list'</font>."
   ]
  },
  {
   "cell_type": "code",
   "execution_count": null,
   "metadata": {
    "id": "mbxVP7Lo13HW",
    "outputId": "a2d7d4ab-190b-40aa-e006-752bc9dae370"
   },
   "outputs": [
    {
     "name": "stdout",
     "output_type": "stream",
     "text": [
      "Sitio com lago\n"
     ]
    }
   ],
   "source": [
    "imoveis = list(preco_imoveis.keys())\n",
    "preco = list(preco_imoveis.values())\n",
    "\n",
    "print(imoveis[preco.index(max(preco))])"
   ]
  },
  {
   "cell_type": "markdown",
   "metadata": {
    "id": "A-ZQJEcI13HW"
   },
   "source": [
    "### Exercício 10) \n",
    "Escreva um código para contar o número de ocorrências de cada letra na string `minha_string` fornecida abaixo e imprima os resultados.\n",
    "\n",
    "__Dica:__ Utilize um dicionário."
   ]
  },
  {
   "cell_type": "code",
   "execution_count": null,
   "metadata": {
    "id": "S5OBtkbJ13HX",
    "outputId": "e8cf3a34-e807-4ff2-8a85-3a9adea867a7"
   },
   "outputs": [
    {
     "name": "stdout",
     "output_type": "stream",
     "text": [
      "s = 2\n",
      "c = 2\n",
      "i = 3\n",
      "e = 2\n",
      "n = 2\n",
      "t = 1\n",
      "a = 1\n",
      "  = 1\n",
      "v = 1\n"
     ]
    }
   ],
   "source": [
    "minha_string = \"scientia vinces\"\n",
    "\n",
    "docrr = {}\n",
    "for c in minha_string:\n",
    "    if c in docrr:\n",
    "        docrr[c] += 1\n",
    "    else:\n",
    "        docrr[c] = 1\n",
    "    \n",
    "for vc in docrr.items():\n",
    "    print(vc[0],'=',vc[1])"
   ]
  },
  {
   "cell_type": "markdown",
   "metadata": {},
   "source": [
    "## <span style=\"color:blue\">Python Parte I: Avaliação</span>"
   ]
  },
  {
   "cell_type": "markdown",
   "metadata": {},
   "source": [
    "<font color='red'> As respostas devem ser fornecidas no Moodle. O notebook é apenas para a implementação dos códigos que fornecerão as respostas</font>"
   ]
  },
  {
   "cell_type": "markdown",
   "metadata": {},
   "source": [
    "### Exercício 1\n",
    "Considere a lista `lt` abaixo. Escreva um código para calcular quantos números contidos na lista são múltiplos de 3 e quantos são múltiplos de 5.\n",
    "\n",
    "a) múltiplos de 3 = 13; múltiplos de 5 = 20<br>\n",
    "b) múltiplos de 3 = 20; múltiplos de 5 = 15<br>\n",
    "<font color='red'>c) múltiplos de 3 = 15; múltiplos de 5 = 11</font><br>\n",
    "d) múltiplos de 3 = 22; múltiplos de 5 = 20"
   ]
  },
  {
   "cell_type": "code",
   "execution_count": 2,
   "metadata": {},
   "outputs": [],
   "source": [
    "lt = [99, 128, 185, 19, 215, 493, 104, 78, 248, 299, 278, 141, 467, 212, 465, 130, 320, 35, 148, 351, \n",
    "       176, 366, 373, 256, 314, 354, 188, 259, 443, 81, 447, 313, 368, 197, 185, 328, 275, 269, 153, \n",
    "       495, 155, 312, 87, 141, 413, 129, 106, 44, 245, 479]\n",
    "\n",
    "# escreva o código para encontrar a solução \n"
   ]
  },
  {
   "cell_type": "code",
   "execution_count": 4,
   "metadata": {},
   "outputs": [
    {
     "name": "stdout",
     "output_type": "stream",
     "text": [
      "multiplos de 3 =  15\n",
      "multiplos de 5 =  11\n"
     ]
    }
   ],
   "source": [
    "multiplos_de_3 = 0\n",
    "multiplos_de_5 = 0\n",
    "for i in lt:\n",
    "    if i%3 == 0:\n",
    "        multiplos_de_3 = multiplos_de_3 + 1\n",
    "    if i%5 == 0:\n",
    "        multiplos_de_5 = multiplos_de_5 + 1\n",
    "        \n",
    "print(\"multiplos de 3 = \",multiplos_de_3)\n",
    "print(\"multiplos de 5 = \",multiplos_de_5)"
   ]
  },
  {
   "cell_type": "markdown",
   "metadata": {},
   "source": [
    "### Exercício 2\n",
    "Considere a lista `palavras` abaixo. Escreva um código para contar quantas vezes a letra 'a' e a letra 's' aparecem na lista.\n",
    "\n",
    "a) 'a': 51 vezes; 's': 56 vezes<br>\n",
    "b) 'a': 23 vezes; 's': 13 vezes<br>\n",
    "c) <font color='red'>'a': 26 vezes; 's': 20 vezes</font><br>\n",
    "d)'a': 44 vezes; 's': 26 vezes"
   ]
  },
  {
   "cell_type": "code",
   "execution_count": 5,
   "metadata": {},
   "outputs": [],
   "source": [
    "palavras = ['adeus','adoravel','amor','caminhos','chuva','coragem','cuidar','equilibrio',\n",
    "            'esperanca','felicidade','gentilezas','liberdade','melancolia','paz','respeito',\n",
    "            'riso','saudade','palimpsesto','perfeito','reciproco','recomeçar',\n",
    "            'resiliente','sentir','silencio','imprescindivel','sublime','tertulias','histerossalpingografico',\n",
    "            'pluridisciplinaridade','multidimensional']\n",
    "\n",
    "# escreva o código para encontrar a solução \n"
   ]
  },
  {
   "cell_type": "code",
   "execution_count": 6,
   "metadata": {},
   "outputs": [
    {
     "name": "stdout",
     "output_type": "stream",
     "text": [
      "'a': 26 vezes; 's': 20 vezes\n"
     ]
    }
   ],
   "source": [
    "letra_a = 0\n",
    "letra_s = 0\n",
    "for i in palavras:\n",
    "    letra_a = letra_a + i.count('a')\n",
    "    letra_s = letra_s + i.count('s')\n",
    "        \n",
    "print(\"'a':\", letra_a, \"vezes;\", \"'s':\", letra_s, \"vezes\")"
   ]
  },
  {
   "cell_type": "markdown",
   "metadata": {},
   "source": [
    "---\n",
    "\n",
    "Os exercícios de 3 a 5 abaixo fazem uso da lista de tuplas `dados_deputados` definida abaixo. Cada elemento da lista corresponde a uma tupla com nome de um deputado, estado e partido ao qual o deputado pertence e o valor de reembolso solicitado em um determinado mês do ano, ou seja:\n",
    "\n",
    "```python\n",
    "dados_deputados = [(NOME, ESTADO, PARTIDO, VALOR),\n",
    "                   (NOME, ESTADO, PARTIDO, VALOR),\n",
    "                    ...\n",
    "                   (NOME, ESTADO, PARTIDO, VALOR)]\n",
    "```"
   ]
  },
  {
   "cell_type": "code",
   "execution_count": 7,
   "metadata": {},
   "outputs": [],
   "source": [
    "dados_deputados = [('JOSE STEDILE', 'RS', 'PSB', 106.03), ('BENITO GAMA', 'BA', 'PTB', 46.82),\n",
    "                   ('LUCIO VIEIRA LIMA', 'BA', 'PMDB', 332.0), ('FABIO REIS', 'SE', 'PMDB', 80.0), \n",
    "                   ('LUIZA ERUNDINA', 'SP', 'PSOL', 5.7), ('MAURO MARIANI', 'SC', 'PMDB', 526.68), \n",
    "                   ('MAJOR OLIMPIO', 'SP', 'SD', 38.1), ('BETINHO GOMES', 'PE', 'PSDB', 12000.0), \n",
    "                   ('PAULO ABI-ACKEL', 'MG', 'PSDB', 972.72), ('EZEQUIEL TEIXEIRA', 'RJ', 'PTN', 50.0), \n",
    "                   ('ADELMO CARNEIRO LEÃO', 'MG', 'PT', 709.72), ('HISSA ABRAHAO', 'AM', 'PDT', 1379.58), \n",
    "                   ('PAES LANDIM', 'PI', 'PTB', 1091.66), ('ANDRES SANCHEZ', 'SP', 'PT', 61.4), \n",
    "                   ('JOZI ARAUJO', 'AP', 'PTN', 141.0), ('ROBERTO FREIRE', 'SP', 'PPS', 161.88), \n",
    "                   ('ELIZIANE GAMA', 'MA', 'PPS', 546.73), ('CACA LEAO', 'BA', 'PP', 77.5), \n",
    "                   ('DIMAS FABIANO', 'MG', 'PP', 185.0), ('SILVIO TORRES', 'SP', 'PSDB', 233.0), \n",
    "                   ('RICARDO TEOBALDO ', 'PE', 'PTN', 50.0), ('ZECA DIRCEU', 'PR', 'PT', 499.29), \n",
    "                   ('ROCHA', 'AC', 'PSDB', 152.9), ('LAUDIVIO CARVALHO', 'MG', 'SD', 15.6), \n",
    "                   ('CRISTIANE BRASIL', 'RJ', 'PTB', 240.45), ('FABIO SOUSA', 'GO', 'PSDB', 80.0), \n",
    "                   ('CARLOS MANATO', 'ES', 'SD', 124.9), ('GONZAGA PATRIOTA', 'PE', 'PSB', 6.0), \n",
    "                   ('LUIZ COUTO', 'PB', 'PT', 868.83), ('EZEQUIEL TEIXEIRA', 'RJ', 'PTN', 710.45), \n",
    "                   ('MAURO LOPES', 'MG', 'PMDB', 92.6), ('MARCIO ALVINO', 'SP', 'PR', 5.2)]"
   ]
  },
  {
   "cell_type": "markdown",
   "metadata": {},
   "source": [
    "### Exercício 3\n",
    "Escreva um código para calcular o valor total dos reembolsos solicitado. O valor total dos reembolsos é:\n",
    "\n",
    "<font color='red'>a) 21591.74</font><br>\n",
    "b) 19783.71<br>\n",
    "c) 27136.50<br>\n",
    "d) 42313.13"
   ]
  },
  {
   "cell_type": "code",
   "execution_count": 8,
   "metadata": {},
   "outputs": [
    {
     "name": "stdout",
     "output_type": "stream",
     "text": [
      "21591.740000000005\n"
     ]
    }
   ],
   "source": [
    "# escreva o código para encontrar a solução \n",
    "\n",
    "reembolsos = 0.0\n",
    "for v in dados_deputados:\n",
    "    reembolsos = reembolsos + v[-1]\n",
    "print(reembolsos)"
   ]
  },
  {
   "cell_type": "markdown",
   "metadata": {},
   "source": [
    "### Exercício 4\n",
    "Escreva um código para encontrar qual estado possui o maior valor total de reembolsos, ou seja, somando os reembolsos de todos os deputados de cada estado, qual estado possui o maior valor de reembolso? Qual é o estado e o valor correspondente?\n",
    "\n",
    "__Dica:__ Crie um dicionário onde as chaves são os estados e os valores são o total de reembolsos do estado correspondente.\n",
    "\n",
    "a) SP, 9546.60<br>\n",
    "b) MA, 19456.87<br>\n",
    "c) MT, 11132.70<br>\n",
    "<font color='red'>d) PE, 12056.00</font>"
   ]
  },
  {
   "cell_type": "code",
   "execution_count": 9,
   "metadata": {},
   "outputs": [
    {
     "name": "stdout",
     "output_type": "stream",
     "text": [
      "Estado com maior valor:  PE\n",
      "Valor:  12056.0\n",
      "RS 106.03\n",
      "BA 456.32\n",
      "SE 80.0\n",
      "SP 505.28\n",
      "SC 526.68\n",
      "PE 12056.0\n",
      "MG 1975.6399999999999\n",
      "RJ 1000.9000000000001\n",
      "AM 1379.58\n",
      "PI 1091.66\n",
      "AP 141.0\n",
      "MA 546.73\n",
      "PR 499.29\n",
      "AC 152.9\n",
      "GO 80.0\n",
      "ES 124.9\n",
      "PB 868.83\n"
     ]
    }
   ],
   "source": [
    "# escreva o código para encontrar a solução \n",
    "\n",
    "dc_estados = {}\n",
    "for c in dados_deputados:\n",
    "    if c[1] in dc_estados:\n",
    "        dc_estados[c[1]] = dc_estados[c[1]] + c[-1]\n",
    "    else:\n",
    "        dc_estados[c[1]] = c[-1]\n",
    "        \n",
    "estados = list(dc_estados.keys())\n",
    "valores = list(dc_estados.values())\n",
    "print(\"Estado com maior valor: \",estados[valores.index(max(valores))])\n",
    "print(\"Valor: \",max(valores))\n",
    "\n",
    "for k,v in dc_estados.items():\n",
    "  print(k,v)"
   ]
  },
  {
   "cell_type": "markdown",
   "metadata": {},
   "source": [
    "### Exercício 5\n",
    "Escreva um código para encontrar qual partido requisitou mais reembolsos (não o valor, mas sim o número de vezes solicitadas).\n",
    "Qual o partido e a quantidade de vezes solicitadas?\n",
    "\n",
    "a) PTB, 3 vezes<br>\n",
    "b) PT, 2 vezes<br>\n",
    "<font color='red'>c) PSDB, 5 vezes</font><br>\n",
    "d) PMDB, 5 vezes"
   ]
  },
  {
   "cell_type": "code",
   "execution_count": 11,
   "metadata": {},
   "outputs": [
    {
     "name": "stdout",
     "output_type": "stream",
     "text": [
      "Partido:  PSDB\n",
      "Numero de vezes:  5\n",
      "PSB 2\n",
      "PTB 3\n",
      "PMDB 4\n",
      "PSOL 1\n",
      "SD 3\n",
      "PSDB 5\n",
      "PTN 4\n",
      "PT 4\n",
      "PDT 1\n",
      "PPS 2\n",
      "PP 2\n",
      "PR 1\n"
     ]
    }
   ],
   "source": [
    "# escreva o código para encontrar a solução \n",
    "\n",
    "dc_partidos = {}\n",
    "for c in dados_deputados:\n",
    "    if c[2] in dc_partidos:\n",
    "        dc_partidos[c[2]] += 1\n",
    "    else:\n",
    "        dc_partidos[c[2]] = 1\n",
    "        \n",
    "partidos = list(dc_partidos.keys())\n",
    "vezes = list(dc_partidos.values())\n",
    "\n",
    "print(\"Partido: \",partidos[vezes.index(max(vezes))])\n",
    "print(\"Numero de vezes: \",max(vezes))\n",
    "\n",
    "for k,v in dc_partidos.items():\n",
    "  print(k,v)"
   ]
  },
  {
   "cell_type": "markdown",
   "metadata": {
    "id": "8LvkoV4F3Td1"
   },
   "source": [
    "## <span style=\"color:blue\">Python Parte II</span>"
   ]
  },
  {
   "cell_type": "markdown",
   "metadata": {
    "id": "x38It6GP3Td_"
   },
   "source": [
    "---\n",
    "__Conteúdo:__\n",
    "- Referências\n",
    "- Operações\n",
    "- Comprehensions\n",
    "- Funções e parâmetros\n",
    "\n",
    "__Bibliografia:__\n",
    "- Mark Lutz, Learning Python, O'Reilly, 2013\n",
    "- Eric Matthes, Python Crash Course: A Hands-On, Project-Based Introduction to Programming, No Starch Press, 2015"
   ]
  },
  {
   "cell_type": "markdown",
   "metadata": {
    "id": "9ItSPASY3TeA"
   },
   "source": [
    "---\n",
    "## Referências \n",
    "\n",
    "Uma atribuição feita a uma variável gera uma referência a um endereço de memória. Por exemplo:\n",
    "```python\n",
    "x = [3.1]\n",
    "y = x\n",
    "```\n",
    "No exemplo acima, a variável `x` é uma referência para o endereço de memória onde uma lista contendo o número `3.1` está armazenda.\n",
    "Quando atribuimos  `y=x` as variáves `x` e `y` fazem referência para o **mesmo endereço de memória**. Desta forma, se a lista for modificada ambas as variáveis `x` e `y` são afetadas. "
   ]
  },
  {
   "cell_type": "code",
   "execution_count": null,
   "metadata": {
    "id": "DeqzdXk53TeB",
    "outputId": "e5e928aa-2d09-46ec-bcd7-0f975d274dba"
   },
   "outputs": [
    {
     "name": "stdout",
     "output_type": "stream",
     "text": [
      "x e y referenciam o mesmo endenreço de memória\n",
      "4406252488\n",
      "4406252488\n"
     ]
    }
   ],
   "source": [
    "# ilustrando referência a endereços de memória \n",
    "x = [3.1]\n",
    "y = x\n",
    "\n",
    "# o comando id() mostra o endereço de memória referenciado pela variávial\n",
    "print(\"x e y referenciam o mesmo endenreço de memória\")\n",
    "print(id(x))\n",
    "print(id(y))"
   ]
  },
  {
   "cell_type": "code",
   "execution_count": null,
   "metadata": {
    "id": "ADiZKO6e3TeD",
    "outputId": "bc0df642-9982-4ae7-f976-f5100d2535fa"
   },
   "outputs": [
    {
     "name": "stdout",
     "output_type": "stream",
     "text": [
      "[3.1, 5.3]\n",
      "[3.1, 5.3]\n"
     ]
    }
   ],
   "source": [
    "y.append(5.3) # adicionamos um novo valor a lista via variável y\n",
    "# como x e y fazem referência ao mesmo endereço de memória, a lista fica alterada para ambos, muito embora não \n",
    "# se tenha operado sobre x\n",
    "print(x) \n",
    "print(y)"
   ]
  },
  {
   "cell_type": "markdown",
   "metadata": {
    "id": "GSWfjfSN3TeF"
   },
   "source": [
    "A situação é diferente porém quando se manipula elementos imutáveis.\n",
    "Números _inteiros_ ou _reais_, assim como _strings_ e _tuplas_, são imutáveis.\n",
    "\n",
    "Quando se atribui um elemento imutável a uma variável, a referência ao endereço de memória onde o imutável está armazenado se torna fixa. \n",
    "Se modificarmos a variável por meio de qualquer operação, um novo valor é gerado em outra posição da memória. "
   ]
  },
  {
   "cell_type": "code",
   "execution_count": null,
   "metadata": {
    "id": "WT-YwZAl3TeG",
    "outputId": "ef553278-1e15-4178-83a1-4f7eb09483fd"
   },
   "outputs": [
    {
     "name": "stdout",
     "output_type": "stream",
     "text": [
      "Endereco onde o numero 3 esta armazenado 4365812912\n",
      "Endereco onde o resultado de x+1 esta armazenado 4365812944\n"
     ]
    }
   ],
   "source": [
    "x = 3   # x faz referência ao endereço de memória onde o número 3 está armazenado\n",
    "print('Endereco onde o numero 3 esta armazenado:',id(x))\n",
    "x = x+1 # a operação + resulta no número 4, que é armazenado em um novo endereço de memória\n",
    "print('Endereco onde o resultado de x+1 esta armazenado:',id(x)) "
   ]
  },
  {
   "cell_type": "markdown",
   "metadata": {
    "id": "PqYcuSPV3TeG"
   },
   "source": [
    "No exemplo acima, a atribuição\n",
    "```python\n",
    "x = 3\n",
    "```\n",
    "cria o número inteiro (imutável) 3, armazena-o em um endereço de memória, e cria, na variável `x`, uma referência a tal endereço. Quando a operação \n",
    "```python\n",
    "x = x+1\n",
    "```\n",
    "é executada, o valor 3 referenciado por `x` é recuperado, adicionado 1 e o resultado 4 é colocado em um novo endereço de memória, fazendo que `x` referêncie o endereço onde a constante 4 está armazenada.\n"
   ]
  },
  {
   "cell_type": "markdown",
   "metadata": {
    "id": "VOJIgPLJ3TeH"
   },
   "source": [
    "## Operações em elementos tipo sequências"
   ]
  },
  {
   "cell_type": "markdown",
   "metadata": {
    "id": "dNpt6R003TeH"
   },
   "source": [
    "Operações binárias como <font color='blue'>'+'</font>, <font color='blue'>'-'</font> e <font color='blue'>'*'</font>\n",
    "podem ser aplicadas à sequências, como visto anteriormente. Porém, existem outras operação binárias importantes:"
   ]
  },
  {
   "cell_type": "markdown",
   "metadata": {
    "id": "e0wLfM5z3TeH"
   },
   "source": [
    "### <span style=\"color:blue\">\"in\"</span>\n",
    "- Verifica se um valor está em uma sequência\n",
    "- Testa substrings em strings \n",
    "- Verifica se valor é uma chave de um dicionário\n",
    "- Pode ser combinada com <span style=\"color:blue\">\"not\"</span> para verificar se o valor, substring, ou chave  NÃO está presente"
   ]
  },
  {
   "cell_type": "code",
   "execution_count": null,
   "metadata": {
    "id": "u93DIMLO3TeI",
    "outputId": "01b31fe2-4035-4194-f42a-0b032d8e7d6c"
   },
   "outputs": [
    {
     "name": "stdout",
     "output_type": "stream",
     "text": [
      "True\n",
      "False\n",
      "False\n",
      "True\n"
     ]
    }
   ],
   "source": [
    "t = [1,2,3,4,5]\n",
    "print(3 in t)\n",
    "print(7 in t)\n",
    "print(3 not in t)\n",
    "print(7 not in t)"
   ]
  },
  {
   "cell_type": "code",
   "execution_count": null,
   "metadata": {
    "id": "s0Kx4T-L3TeI",
    "outputId": "933eb095-c902-49cf-c17a-08b627f96203"
   },
   "outputs": [
    {
     "name": "stdout",
     "output_type": "stream",
     "text": [
      "True\n",
      "False\n",
      "True\n"
     ]
    }
   ],
   "source": [
    "s = 'abcde'\n",
    "print('cd' in s)\n",
    "print('acd' in s)\n",
    "print('acd' not in s)"
   ]
  },
  {
   "cell_type": "code",
   "execution_count": null,
   "metadata": {
    "id": "GOuXeHYq3TeI",
    "outputId": "1f6c136a-dffa-4d83-d5d7-d1d23b3a76fa"
   },
   "outputs": [
    {
     "name": "stdout",
     "output_type": "stream",
     "text": [
      "True\n",
      "False\n"
     ]
    }
   ],
   "source": [
    "d = {'Brasil' : 1, 'Espanha' : 0}\n",
    "print('Brasil' in d)\n",
    "print('Espanha' not in d)"
   ]
  },
  {
   "cell_type": "markdown",
   "metadata": {
    "id": "NnpC6qwc3TeJ"
   },
   "source": [
    "__Atenção__:\n",
    "o perador <font color='blue'>'in'</font> também é usado em loops <font color='blue'>'for'</font>, porém, com uma conotação diferente."
   ]
  },
  {
   "cell_type": "markdown",
   "metadata": {
    "id": "4E0bIfvB3TeJ"
   },
   "source": [
    "### <span style=\"color:blue\">\"+\"</span>\n",
    "O operador <font color='blue'>'+'</font> produz uma nova sequência que concatena os argumentos\n"
   ]
  },
  {
   "cell_type": "code",
   "execution_count": null,
   "metadata": {
    "id": "-yltZSO03TeJ",
    "outputId": "a7beae17-4e7b-4d63-9dd3-d1093f0a33be"
   },
   "outputs": [
    {
     "name": "stdout",
     "output_type": "stream",
     "text": [
      "4407084232\n",
      "(1, 2, 3, 4, 5, 6)\n",
      "4405973256\n"
     ]
    }
   ],
   "source": [
    "a = (1,2,3)\n",
    "print(id(a))\n",
    "b = (4,5,6)\n",
    "a = a+b\n",
    "print(a)\n",
    "print(id(a)) # note que como a tupla (1,2,3) é imutável, o resultado de a+b é alocado em novo endereço de memória"
   ]
  },
  {
   "cell_type": "code",
   "execution_count": null,
   "metadata": {
    "id": "gTx1r2PJ3TeK",
    "outputId": "28103150-5837-424a-94c8-9e6b64050411"
   },
   "outputs": [
    {
     "name": "stdout",
     "output_type": "stream",
     "text": [
      "[1, 2, 3, 4, 5, 6]\n",
      "helloworld\n"
     ]
    }
   ],
   "source": [
    "print([1,2,3]+[4,5,6])\n",
    "print('hello'+'world')"
   ]
  },
  {
   "cell_type": "markdown",
   "metadata": {
    "id": "VzRVQ8Tm3TeK"
   },
   "source": [
    "### <span style=\"color:blue\">\"*\"</span>\n",
    "O operador <span style=\"color:blue\">'*'</span> assume como argumentos um número inteiro e uma sequência\n",
    "- por exemplo: \n",
    "```python\n",
    "3 * [1,2,3] \n",
    "5 * \"---\" \n",
    "(1,2) * 3\n",
    "```\n",
    "- produz uma nova sequência com elementos replicados o número de vezes indicado pelo argumento inteiro"
   ]
  },
  {
   "cell_type": "code",
   "execution_count": null,
   "metadata": {
    "id": "QQzD1X0E3TeK",
    "outputId": "98f4b897-fbfc-40f1-cbcf-df6142dd2476"
   },
   "outputs": [
    {
     "name": "stdout",
     "output_type": "stream",
     "text": [
      "(1, 2, 3, 1, 2, 3, 1, 2, 3)\n",
      "[1, 2, 3, 1, 2, 3]\n",
      "ababababab\n"
     ]
    }
   ],
   "source": [
    "print(3*(1,2,3))\n",
    "print([1,2,3]*2)\n",
    "print(5*'ab')"
   ]
  },
  {
   "cell_type": "markdown",
   "metadata": {
    "id": "UeNGwFXn3TeL"
   },
   "source": [
    "### Operações exclusivas de listas\n",
    "Listas possuem operadores (métodos) próprios para inserção e concatenação. Existem basicamente 3 métodos, os quais funcionam de forma diferente:\n",
    "- <span style=\"color:blue\">'append'</span>: insere um elemento no final da lista \n",
    "- <span style=\"color:blue\">'insert'</span>: insere um elemento em uma posição indicada \n",
    "- <span style=\"color:blue\">'extend'</span>: concatena listas"
   ]
  },
  {
   "cell_type": "code",
   "execution_count": null,
   "metadata": {
    "id": "N_4sRVH93TeL",
    "outputId": "324c7206-49b1-4f2b-f3a4-614e324b9414"
   },
   "outputs": [
    {
     "name": "stdout",
     "output_type": "stream",
     "text": [
      "[1, 2, 3, 4, 5, 'a']\n",
      "[1, 'b', 2, 3, 4, 5, 'a']\n",
      "[1, 'b', 2, 3, 4, 5, 'a', 'c', 'd']\n",
      "[1, 'b', 2, 3, 4, 5, 'a', 'c', 'd', [2, 3]]\n"
     ]
    }
   ],
   "source": [
    "lst = [1,2,3,4,5]\n",
    "lst.append('a') # insere novo elemento ao final da lista\n",
    "print(lst)\n",
    "lst.insert(1,'b') # insere novo elemento na posição 1 da lista (lembre-se que o primeiro elemento esta na posição 0)\n",
    "print(lst)\n",
    "lst.extend(['c','d']) # concatena os elementos de uma outra lista no final da lista que chama o método\n",
    "print(lst)\n",
    "lst.append([2,3]) # neste caso a lista [2,3] é inserida no final de lst (não realiza concatenação)\n",
    "print(lst)"
   ]
  },
  {
   "cell_type": "code",
   "execution_count": null,
   "metadata": {
    "id": "ABb5s2tt3TeM",
    "outputId": "2fd05270-1afd-41c3-f955-4729d3c5abbe"
   },
   "outputs": [
    {
     "name": "stdout",
     "output_type": "stream",
     "text": [
      "[0, 1, 2, 3, 4, 5, 6, 7, 8, 9]\n",
      "[0, 1, 2, 3, 4, 5, 6, 7, 8, 9, 'a']\n",
      "[0, 1, 2, 3, 4, 5, 6, 7, 8, 9, 'a', ['a']]\n",
      "[0, 1, 2, 3, 4, 5, 6, 7, 8, 9, 'a', ['a', 'b']]\n",
      "[0, 1, 2, 3, 4, 5, 6, 7, 8, 9, 'a', ['a', 'b'], 'c', 'd']\n"
     ]
    }
   ],
   "source": [
    "l = list(range(10)) # o comando 'range' gera números entre 0 e 9, \n",
    "                    # que são armazenados em uma lista pelo comando 'list'\n",
    "print(l)\n",
    "l.append('a') # adiciona 'a' no final da lista l\n",
    "print(l)\n",
    "l.append(['a']) # adiciona a lista ['a'] no final da lista l\n",
    "print(l)\n",
    "l[-1].append('b') # l[-1] corresponde ao último elemento da lista l\n",
    "                  # que corresponde a lista ['a'],  o elemento 'b' é inserido nesta lista\n",
    "print(l)\n",
    "l.extend(['c','d']) # concatena a lista ['c','d'] no final da lista l\n",
    "print(l)"
   ]
  },
  {
   "cell_type": "markdown",
   "metadata": {
    "id": "L042Obl03TeM"
   },
   "source": [
    "__Atenção:__\n",
    "- <font color='blue'>'extend'</font> usa a lista em questão enquanto o operador `+` cria uma nova lista\n",
    "- <font color='blue'>'extend'</font> assume uma LISTA como argumento enquanto `append` assume um elemento como argumento (o elemento pode ser uma outra lista)"
   ]
  },
  {
   "cell_type": "markdown",
   "metadata": {
    "id": "uACLa5eu3TeN"
   },
   "source": [
    "Outras métodos importantes para operar listas são:\n",
    "- <span style=\"color:blue\">'index'</span>: encontra a posição na lista da primeira ocorência de um dado elemento \n",
    "- <span style=\"color:blue\">'count'</span>: conta o número de ocorrências de um dado elemento\n",
    "- <span style=\"color:blue\">'reverse'</span>: reverte a ordem dos elementos na lista, modificando a lista original\n",
    "- <span style=\"color:blue\">'sort'</span>: ordena os elementos na lista, modificando a lista original"
   ]
  },
  {
   "cell_type": "code",
   "execution_count": null,
   "metadata": {
    "id": "TM772bVf3TeN",
    "outputId": "12a4acfe-277b-4b19-f520-02134355c622"
   },
   "outputs": [
    {
     "name": "stdout",
     "output_type": "stream",
     "text": [
      "Posicao da primeira ocorrencia de 'b':  1\n",
      "Numero de ocorrencias de 'b':  3\n",
      "Elementos ordenados: ['e', 'c', 'b', 'b', 'b', 'a']\n",
      "Elementos ordenados: ['a', 'b', 'b', 'b', 'c', 'e']\n",
      "Lista ordenada em ordem reversa:  ['e', 'c', 'b', 'b', 'b', 'a']\n"
     ]
    }
   ],
   "source": [
    "xst = ['a', 'b', 'c', 'b','e','b']\n",
    "index = xst.index('b') # encontra o índice da primeira ocorrência\n",
    "print(\"Posicao da primeira ocorrencia de 'b': \",index)\n",
    "count = xst.count('b') # conta o número de ocorrências\n",
    "print(\"Numero de ocorrencias de 'b': \",count) \n",
    "\n",
    "xst.sort(reverse=True) # ordena os elementos da lista do maior para o menor \n",
    "print(\"Elementos ordenados:\",xst)\n",
    "\n",
    "xst.sort()# se o argumento 'reverse=False' ou se não é especificado, a ordenação vai do menor para o maior\n",
    "print(\"Elementos ordenados:\",xst)\n",
    "\n",
    "xst.reverse() # reverte a ordem dos elementos na lista\n",
    "print(\"Lista ordenada em ordem reversa: \",xst)"
   ]
  },
  {
   "cell_type": "markdown",
   "metadata": {
    "id": "eG4LCiIu3TeO"
   },
   "source": [
    "__Atenção:__ As operações _sort_ e _reverse_ são _\"in place\"_ (modificam a lista original) "
   ]
  },
  {
   "cell_type": "markdown",
   "metadata": {
    "id": "6b31XyaU3TeO"
   },
   "source": [
    "Os principais métodos para remover elementos de uma lista são:\n",
    "- <span style=\"color:blue\">'remove'</span>: remove a primeira ocorrência do elemento na lista\n",
    "- <span style=\"color:blue\">'pop'</span>: remove o último elemento da lista \n",
    "- <span style=\"color:blue\">'del'</span>: remove elemento de uma posição específica. Se nenhuma posição é especificada, toda a lista é removida da memória"
   ]
  },
  {
   "cell_type": "code",
   "execution_count": null,
   "metadata": {
    "id": "HwxuR13Q3TeO",
    "outputId": "d1cf55d6-e392-4f87-b1da-5a905cde2ced"
   },
   "outputs": [
    {
     "name": "stdout",
     "output_type": "stream",
     "text": [
      "Lista com a primeira ocorrencia de 'b' removida:  ['a', 'c', 'b', 'e', 'b']\n",
      "Elemento da posição 1 (neste caso 'c') removido:  ['a', 'b', 'e', 'b']\n",
      "Ultimo elemento (neste caso 'b') removido:  ['a', 'b', 'e']\n"
     ]
    }
   ],
   "source": [
    "xst = ['a', 'b', 'c', 'b','e','b']\n",
    "xst.remove('b') # remove primeira ocorrência e 'b'\n",
    "print(\"Lista com a primeira ocorrencia de 'b' removida: \",xst)\n",
    "\n",
    "del xst[1] # remove elemento da posição 1\n",
    "print(\"Elemento da posição 1 (neste caso 'c') removido: \",xst)\n",
    "\n",
    "xst.pop() # remove último elemento da lista\n",
    "print(\"Ultimo elemento (neste caso 'b') removido: \",xst)"
   ]
  },
  {
   "cell_type": "markdown",
   "metadata": {
    "id": "qv5ql_j73TeQ"
   },
   "source": [
    "### Operadores nativos do python que operam em sequências\n",
    "A linguagem Python possui operadores que podem ser empregados em sequências:\n",
    "- <span style=\"color:blue\">'sorted'</span>: ordena os elementos da sequência, gerando uma nova sequência (não afeta a sequência original)\n",
    "- <span style=\"color:blue\">'max'</span>: retorna o maior elemento da sequência\n",
    "- <span style=\"color:blue\">'min'</span>: retorna o menor elemento da sequência"
   ]
  },
  {
   "cell_type": "code",
   "execution_count": null,
   "metadata": {
    "id": "3LO-XHJK3TeQ",
    "outputId": "3c15c2f8-a014-4731-ad0f-2b350dc26735"
   },
   "outputs": [
    {
     "name": "stdout",
     "output_type": "stream",
     "text": [
      "Sequencia ordenanda:  ['a', 'a', 'd', 'd', 'e', 'i', 'k', 'l', 'm', 'm', 'o', 't', 'z']\n",
      "Sequencia original:  adeakziomltmd\n",
      "Sequencia ordenada no formato string:  aaddeiklmmotz\n",
      "Maior elemento:  z\n",
      "Menor elemento:  a\n"
     ]
    }
   ],
   "source": [
    "seq = 'adeakziomltmd'\n",
    "\n",
    "seq_ordenada_lista = sorted(seq) # ordena a sequência de caracteres e salve em uma nova variável. \n",
    "                           # A saida do método é a sequência armazenada em uma lista.\n",
    "                           # A sequência original não é afetada\n",
    "print('Sequencia ordenanda: ', seq_ordenada_lista) \n",
    "print('Sequencia original: ', seq)\n",
    "\n",
    "# Convertendo uma lista em uma sequência de caracteres\n",
    "seq_ordenada =''.join(seq_ordenada_lista)  # o comando join contatena elementos em uma string utilizando um separador.\n",
    "                                           # Neste caso o separador nao é fornecido.\n",
    "                                           # O simbolo '' significa que nenhum separador é fornecido.\n",
    "                                           # Rode o comando com '*'.join(seq_ordenada_lista) e veja o resultado\n",
    "print(\"Sequencia ordenada no formato string: \",seq_ordenada)\n",
    "\n",
    "seq_max = max(seq)  # retorna o maior elemento da sequência\n",
    "print('Maior elemento: ', seq_max)\n",
    "seq_min = min(seq)  # retorna o menor elemento da sequência\n",
    "print('Menor elemento: ', seq_min)"
   ]
  },
  {
   "cell_type": "markdown",
   "metadata": {
    "id": "MsfwqdQk3TeQ"
   },
   "source": [
    "---\n",
    "## Comprehension\n",
    "\n",
    "<span style=\"color:blue\">Comprehension</span> é um recurso fundamental do Python que permite construir uma sequência de forma bastante eficiente aplicando uma expressão para cada item de outra sequência. A sintaxe de um comprehension é:\n",
    "```python\n",
    "lista = [expressao for variavel_local in objeto]\n",
    "```\n",
    "O resultado do comando acima é equivalente a:\n",
    "```python\n",
    "lista=[]\n",
    "for variavel_local in objeto:\n",
    "    lista.append(expressao)\n",
    "```\n",
    "Porém, o comprehension é executado pelo Python de forma muito mais eficiente. Typicamente se emprega um comprehension para construir uma lista ou um dicionário."
   ]
  },
  {
   "cell_type": "code",
   "execution_count": null,
   "metadata": {
    "id": "lG_TExLE3TeR",
    "outputId": "af07027d-928b-405b-b450-61790897b3ea"
   },
   "outputs": [
    {
     "name": "stdout",
     "output_type": "stream",
     "text": [
      "[81, 64, 49, 36, 25, 16, 9, 4, 1, 0, 1, 4, 9, 16, 25, 36, 49, 64, 81]\n"
     ]
    }
   ],
   "source": [
    "cst = [i**2 for i in range(-9,10)] # O comando range(-9,10) gera números entre -9 e 9\n",
    "                                   # o comprehension pega cada número, eleva ao quadrado (i**2)\n",
    "                                   # e armazena em uma lista, que é referenciada pela variável cst\n",
    "print(cst)"
   ]
  },
  {
   "cell_type": "markdown",
   "metadata": {
    "id": "O9lv5oK73TeR"
   },
   "source": [
    "Comprehension é mais eficiente do que um laço <font color='blue'>'for'</font>. <br>\n",
    "Compare o tempo de processamento das duas células abaixo analisando o resultado da função  <font color='blue'>'%%timeit'</font><br>\n",
    "Uma documentação de como o <font color='blue'>'%%timeit'</font> funciona pode ser encontrada [aqui](https://jakevdp.github.io/PythonDataScienceHandbook/01.07-timing-and-profiling.html)"
   ]
  },
  {
   "cell_type": "code",
   "execution_count": null,
   "metadata": {
    "id": "_gDIytE03TeR",
    "outputId": "66365140-a978-46af-c04b-06f40b56dd41"
   },
   "outputs": [
    {
     "name": "stdout",
     "output_type": "stream",
     "text": [
      "53.5 µs ± 1.44 µs per loop (mean ± std. dev. of 7 runs, 10000 loops each)\n"
     ]
    }
   ],
   "source": [
    "%%timeit   # timeit é uma funcao utilizada para medir o tempo de processamento de uma célula do jupyter notebook\n",
    "cst = [i**2 for i in range(-100,100)]"
   ]
  },
  {
   "cell_type": "code",
   "execution_count": null,
   "metadata": {
    "id": "YSTJ8AoK3TeS",
    "outputId": "e7a72088-129d-4dec-8283-6563d3ae0da3"
   },
   "outputs": [
    {
     "name": "stdout",
     "output_type": "stream",
     "text": [
      "60.7 µs ± 1.05 µs per loop (mean ± std. dev. of 7 runs, 10000 loops each)\n"
     ]
    }
   ],
   "source": [
    "%%timeit\n",
    "cst = []\n",
    "for i in range(-100,100):\n",
    "    cst.append(i**2)"
   ]
  },
  {
   "cell_type": "markdown",
   "metadata": {
    "id": "E0-nFUDe3TeS"
   },
   "source": [
    "### Comprehension com Filtragem\n",
    "Comprehension também pode ser empregada em conjunto com estruturas de decisão <font color='blue'>'if'</font>. A sintaxe neste caso se torna.\n",
    "```python\n",
    "variavel = [expressao for variavel_local in objeto if condicao]\n",
    "```\n",
    "O resultado do comando acima é equivalente a:\n",
    "```python\n",
    "variavel=[]\n",
    "for variavel_local in objeto:\n",
    "    if condicao:\n",
    "        variavel.append(expressao)\n",
    "```"
   ]
  },
  {
   "cell_type": "code",
   "execution_count": null,
   "metadata": {
    "id": "wE2Yt4Gl3TeS",
    "outputId": "1b8e5b34-1c6c-41b6-9ec8-e08cd3adb53f"
   },
   "outputs": [
    {
     "name": "stdout",
     "output_type": "stream",
     "text": [
      "[81, 49, 25, 9, 1, 1, 9, 25, 49, 81]\n"
     ]
    }
   ],
   "source": [
    "l = [x**2 for x in range(-10,10) if x%2 != 0] # Cada número entre -10 e 9 é elevado ao quadrado e inserido na lista \n",
    "                                              # Porém, apenas números ímpares são selecionados devido\n",
    "                                              # a condição if x%2 != 0\n",
    "print(l)"
   ]
  },
  {
   "cell_type": "markdown",
   "metadata": {
    "id": "ZfB2J9bO3TeT"
   },
   "source": [
    "__OBS__: O <font color='blue'>'if'</font> funciona como filtro. \n",
    "\n",
    "Quando uma declaração do tipo <font color='blue'>'if' 'else'</font> precisa ser usada, ela deve ser inserida antes do laço <font color='blue'>'for'</font>"
   ]
  },
  {
   "cell_type": "code",
   "execution_count": null,
   "metadata": {
    "id": "kqWWSGPm3TeT",
    "outputId": "48f6710a-dea1-4aa1-b69c-eac2e1ca0fa0"
   },
   "outputs": [
    {
     "name": "stdout",
     "output_type": "stream",
     "text": [
      "[0, 81, 0, 49, 0, 25, 0, 9, 0, 1, 0, 1, 0, 9, 0, 25, 0, 49, 0, 81]\n"
     ]
    }
   ],
   "source": [
    "l = [x**2  if x%2 != 0 else 0 for x in range(-10,10)] # ímpares intercalados com zero\n",
    "print(l)"
   ]
  },
  {
   "cell_type": "markdown",
   "metadata": {
    "id": "ZICPK9i43TeT"
   },
   "source": [
    "### Comprehension com Laços Aninhados (Nested Loops)\n",
    "Pode-se empregar comprehension com laços <font color='blue'>'for'</font> aninhados um dentro do outro. Neste caso a sintaxe se torna:\n",
    "```python\n",
    "lista = [expressao for variavel_local1 in objeto1 if condicao1\n",
    "\t\t\t\t\tfor variavel_local2 in objeto2 if condicao2]\n",
    "```\n",
    "O resultado do comando acima é equivalente a:\n",
    "```python\n",
    "lista=[]\n",
    "for variavel_local1 in objeto1:\n",
    "    if condicao1:\n",
    "        for variavel_local2 in objeto2:\n",
    "            if condicao2:\n",
    "                lista.append(expressao)\n",
    "```"
   ]
  },
  {
   "cell_type": "code",
   "execution_count": null,
   "metadata": {
    "id": "sDI8eKEj3TeU",
    "outputId": "bb31cb46-e15b-45f4-d8f7-138e98d60dc8"
   },
   "outputs": [
    {
     "name": "stdout",
     "output_type": "stream",
     "text": [
      "[1, 2, 3, 3, 4, 5, 4, 5, 6, 7, 5, 6, 7, 8, 9, 6, 7, 8, 9, 10, 11, 7, 8, 9, 10, 11, 12, 13, 8, 9, 10, 11, 12, 13, 14, 15, 9, 10, 11, 12, 13, 14, 15, 16, 17]\n"
     ]
    }
   ],
   "source": [
    "l = [x+y for x in range(-10,10) for y in range(10) if y < x] # inclui na lista a soma de x+y somente se y<x\n",
    "                                                             # para x variando entre -10 e 9 e y entre 0 e 9\n",
    "print(l)"
   ]
  },
  {
   "cell_type": "code",
   "execution_count": null,
   "metadata": {
    "id": "eF-3qt9z3TeU",
    "outputId": "7f3dc299-eb53-4891-e628-1765e59f2d76"
   },
   "outputs": [
    {
     "name": "stdout",
     "output_type": "stream",
     "text": [
      "[1, 2, 3, 3, 4, 5, 4, 5, 6, 7, 5, 6, 7, 8, 9, 6, 7, 8, 9, 10, 11, 7, 8, 9, 10, 11, 12, 13, 8, 9, 10, 11, 12, 13, 14, 15, 9, 10, 11, 12, 13, 14, 15, 16, 17]\n"
     ]
    }
   ],
   "source": [
    "# código equivalente ao comprehension acima\n",
    "\n",
    "l=[]\n",
    "for x in range(-10,10):\n",
    "    for y in range(10):\n",
    "        if y < x:\n",
    "            l.append(x+y)\n",
    "            \n",
    "print(l)"
   ]
  },
  {
   "cell_type": "markdown",
   "metadata": {
    "id": "hNsKpI173TeU"
   },
   "source": [
    "Comprehention também pode ser utilizado para construir dicionários. A syntaxe se torna:\n",
    "```python\n",
    "dicionario = {expressao_chave:expressao_valor for variavel_local in objeto}\n",
    "``` \n",
    "O resultado do comando acima é equivalente a:\n",
    "```python\n",
    "dicionario = {}\n",
    "for variavel in objeto:\n",
    "    dicionario[expressao_chave]=expressao_valor\n",
    "```\n",
    "Da mesma forma que listas, pode-se utilizar condições <font color='blue'>'if'</font>, <font color='blue'>'if' 'else'</font> e laços <font color='blue'>'for'</font> aninhados para construir dicionários."
   ]
  },
  {
   "cell_type": "code",
   "execution_count": null,
   "metadata": {
    "id": "k8i__ehP3TeU",
    "outputId": "41e42d17-4b13-4274-c54e-b2d897619436"
   },
   "outputs": [
    {
     "name": "stdout",
     "output_type": "stream",
     "text": [
      "{0: 0, 1: 1, 2: 4, 3: 9, 4: 16, 5: 25, 6: 36, 7: 49, 8: 64, 9: 81}\n"
     ]
    }
   ],
   "source": [
    "dt = {x:x**2 for x in range(10)} # cria um dicionário onde as chaves são números entre 0 e 9, com valores correspondendo\n",
    "                                 # ao quadrado da chave\n",
    "print(dt)"
   ]
  },
  {
   "cell_type": "markdown",
   "metadata": {
    "id": "fOQiJ6xg3TeV"
   },
   "source": [
    "---\n",
    "## Funções e Parâmetros\n",
    "Uma função em Python pode ser criada de diferentes formas.\n",
    "\n",
    "O comando <font color='blue'>'def'</font> é um dos principais mecanismos para se criar uma função.\n",
    "O resultado de um comando <font color='blue'>'def'</font> é um _objeto_ do tipo 'função'.\n",
    "\n",
    "Uma função pode ser invocada a partir de um comando, executando a sequência de código identado abaixo dela."
   ]
  },
  {
   "cell_type": "code",
   "execution_count": null,
   "metadata": {
    "id": "2qTJihNr3TeV",
    "outputId": "b0c882b2-eafe-471a-93a8-344fcecfb874"
   },
   "outputs": [
    {
     "name": "stdout",
     "output_type": "stream",
     "text": [
      "Imprimindo  Hello 1 via funcao meu_print\n"
     ]
    }
   ],
   "source": [
    "def meu_print(x):   # cria a função meu_print\n",
    "    print('Imprimindo ', x, 'via funcao meu_print')\n",
    "    \n",
    "meu_print('Hello 1') # invoca a função meu_print com a string 'Hello 1' como parâmetro."
   ]
  },
  {
   "cell_type": "markdown",
   "metadata": {
    "id": "EPq20YS43TeV"
   },
   "source": [
    "Como o resultado do <font color='blue'>'def'</font> é um _objeto_, ele pode ser atribuido a uma variável e a \n",
    "variável passa a se comportar como uma função."
   ]
  },
  {
   "cell_type": "code",
   "execution_count": null,
   "metadata": {
    "id": "wOv5-dXY3TeW",
    "outputId": "aeaaa06a-0d32-4b09-85da-6a4431084f94"
   },
   "outputs": [
    {
     "name": "stdout",
     "output_type": "stream",
     "text": [
      "Imprimindo  Hello 2 via funcao meu_print\n"
     ]
    }
   ],
   "source": [
    "def meu_print(x):   # cria a função meu_print\n",
    "    print('Imprimindo ', x, 'via funcao meu_print')\n",
    "    \n",
    "x = meu_print  # a variável x é uma referência para o objeto (função) meu_print\n",
    "x('Hello 2')  # pode-se utilizar x como a função meu_print"
   ]
  },
  {
   "cell_type": "markdown",
   "metadata": {
    "id": "p3pFL_6Y3TeW"
   },
   "source": [
    "### Parâmetros de uma função\n",
    "Os parâmetros (também chamados de argumentos) de uma função podem assumir valores pré-estabelecidos (default) que são utilizados quando o parâmetro correspondente não é fornecido."
   ]
  },
  {
   "cell_type": "code",
   "execution_count": null,
   "metadata": {
    "id": "A1EJrbU23TeW",
    "outputId": "e70dd6c4-8ea0-47da-b217-a0928d0251a4"
   },
   "outputs": [
    {
     "name": "stdout",
     "output_type": "stream",
     "text": [
      "17\n",
      "8\n",
      "1\n",
      "8\n",
      "4\n"
     ]
    }
   ],
   "source": [
    "def echo(x=10,y=7):  # cria a função echo com dois parâmetros x e y. Se os parâmetros não são fornecidos quando a \n",
    "    print(x+y)       # função é invocada, os valores pré-estabelecidos 10 e 7 são utilizados\n",
    "    \n",
    "echo()          # nenhum parâmetro é fornecido, os dois valores pré-estabelecidos são utilizados \n",
    "\n",
    "echo(x=1)       # somente o parâmetro x é fornecido, o valor pré-estabelecido de y é utilizado \n",
    "\n",
    "echo(x=1,y=0)   # os dois parâmetros são fornecidos, nenhum valor pré-estabelecido é utilizado\n",
    "\n",
    "echo(1)   # quando o nome do parâmetro não é fornecido, assume-se a ordem como foram definidos na função,\n",
    "          # neste caso o valor de x é fornecido como 1 e y não é fornecido\n",
    "    \n",
    "echo(1,3) # o valor de x = 1 e y = 3 são fornecidos"
   ]
  },
  {
   "cell_type": "markdown",
   "metadata": {
    "id": "25IH2Gg43TeX"
   },
   "source": [
    "Como são objetos, funções podem ser passadas como parâmetros para outras funções."
   ]
  },
  {
   "cell_type": "code",
   "execution_count": null,
   "metadata": {
    "id": "itDPvtTW3TeX",
    "outputId": "5fa2d81d-06fd-4732-cae6-b6fb7643f200"
   },
   "outputs": [
    {
     "name": "stdout",
     "output_type": "stream",
     "text": [
      "Impresso pela funcao echo1  Hello\n",
      "Impresso pela funcao echo2  World\n"
     ]
    }
   ],
   "source": [
    "def echo1(x):\n",
    "    print('Impresso pela funcao echo1 ', x)\n",
    "    \n",
    "def echo2(x):\n",
    "    print('Impresso pela funcao echo2 ', x)\n",
    "    \n",
    "def invoca_echo(f,t):  # o parâmetro f é uma função\n",
    "    f(t)               # que é invocada dento da função invoca_echo\n",
    "\n",
    "invoca_echo(echo1,'Hello')\n",
    "invoca_echo(echo2,'World')"
   ]
  },
  {
   "cell_type": "markdown",
   "metadata": {
    "id": "JwdX5a5m3TeX"
   },
   "source": [
    "### Retorno de uma função\n",
    "Toda função retorna algo. Se o comando <font color='blue'>'return'</font> não é especificado, o símbolo <font color='blue'>'None'</font> é retornado como resultado da função."
   ]
  },
  {
   "cell_type": "code",
   "execution_count": null,
   "metadata": {
    "id": "cly-x3oX3TeX",
    "outputId": "dbca25ca-62f9-4c5f-9b2d-59337a4d1273"
   },
   "outputs": [
    {
     "name": "stdout",
     "output_type": "stream",
     "text": [
      "None\n",
      "3\n"
     ]
    }
   ],
   "source": [
    "def soma1(x):   # cria a função soma1 sem especificar um valor de retorno via comando \"return\"\n",
    "    x+1\n",
    "    \n",
    "def soma2(x):   # cria a função soma2 com retorno definido pelo comando \"return\"\n",
    "    return(x+1)\n",
    "    \n",
    "print(soma1(2))  # como soma1 não possui um valor de retorno, o símbolo \"None\" é retornado automaticamente\n",
    "print(soma2(2))  # o resultado x+1 (onde x vale 2) é retornado pelo comando \"return\""
   ]
  },
  {
   "cell_type": "markdown",
   "metadata": {
    "id": "4nvDvHj73TeY"
   },
   "source": [
    "---\n",
    "## Funções Lambda\n",
    "- Funções <font color='blue'>lambda</font> são funções que podem ser invocadas, mas que não possuem nome\n",
    "- Uma função <font color='blue'>lambda</font> é uma expressão, não uma declaração, então pode ser usada em lugares do código em que `def` não é possível, por exemplo dentro de um comprehension. A sintaxe de uma função <font color='blue'>lambda</font> é:\n",
    "```python\n",
    "lambda arg1,arg2,...,argn: expressao\n",
    "```"
   ]
  },
  {
   "cell_type": "code",
   "execution_count": null,
   "metadata": {
    "id": "Z4pN_Wui3TeY",
    "outputId": "8b5450fd-c2cc-4838-99b3-2c2d7d400d51"
   },
   "outputs": [
    {
     "name": "stdout",
     "output_type": "stream",
     "text": [
      "4\n",
      "5\n"
     ]
    }
   ],
   "source": [
    "f1 = lambda x: x**2  # cria uma função lambda com um argumento e retorna o valor do argumento ao quadrado\n",
    "                     # a variável f1 é uma referência a função lambda \n",
    "                     # o argumento x da função lambda passa a ser um parâmetro de f1\n",
    "    \n",
    "print(f1(2))\n",
    "\n",
    "f2 = lambda x,y: x+y # cria uma função lambda com dois argumentos e retorna a soma dos argumentos \n",
    "                     # a variável f2 é uma referência a função lambda\n",
    "                     # os argumentos x e y da função lambda passam a ser parâmetros de f2\n",
    "print(f2(2,3))"
   ]
  },
  {
   "cell_type": "code",
   "execution_count": null,
   "metadata": {
    "id": "wZL3UQIV3TeY",
    "outputId": "955a465a-3e20-45e7-b93c-2076ab885893"
   },
   "outputs": [
    {
     "name": "stdout",
     "output_type": "stream",
     "text": [
      "[0, 2, 4, 6, 8]\n",
      "['even', 'odd', 'even', 'odd', 'even', 'odd', 'even', 'odd', 'even', 'odd']\n"
     ]
    }
   ],
   "source": [
    "f3 = lambda x: 'even' if x%2==0 else 'odd' # função lambda que retorna 'even' se o argumento for par (x%2==0)\n",
    "                                           # e 'odd' caso contrário\n",
    "\n",
    "lnumeros = [i for i in range(10) if f3(i) == 'even' ] # cria uma lista de números pares entre 0 e 9 \n",
    "lstrings = [f3(i) for i in range(10)]  # cria uma lista de strings 'even' e 'odd' \n",
    "print(lnumeros)\n",
    "print(lstrings)"
   ]
  },
  {
   "cell_type": "markdown",
   "metadata": {
    "id": "_pb63wCuFD_M"
   },
   "source": [
    "## <span style=\"color:blue\">Exercícios Python Parte II</span>"
   ]
  },
  {
   "cell_type": "markdown",
   "metadata": {
    "id": "HmpyB6l7FD_U"
   },
   "source": [
    "#### <span style=\"color:red\">Recomenda-se fortemente que os exercícios sejam feitos sem consultar as respostas antecipadamente.</span>"
   ]
  },
  {
   "cell_type": "markdown",
   "metadata": {
    "id": "GFJ7TwuyFD_U"
   },
   "source": [
    "### Exercício 1)"
   ]
  },
  {
   "cell_type": "markdown",
   "metadata": {
    "id": "i7q-9FlsFD_V"
   },
   "source": [
    "**1.1** No código abaixo, explique por que o valor da variável `y` não é o mesmo que o valor de `x` após a operação `x = x+1`."
   ]
  },
  {
   "cell_type": "code",
   "execution_count": null,
   "metadata": {
    "id": "EuED9kzwFD_V",
    "outputId": "f0a38045-5dcd-4b53-9201-690866747ff0"
   },
   "outputs": [
    {
     "name": "stdout",
     "output_type": "stream",
     "text": [
      "3 3\n",
      "4 3\n"
     ]
    }
   ],
   "source": [
    "x = 3\n",
    "y = x\n",
    "print(x,y)\n",
    "x = x+1\n",
    "print(x,y)"
   ]
  },
  {
   "cell_type": "markdown",
   "metadata": {
    "id": "fSPFIdLvFD_W"
   },
   "source": [
    "**Resposta:** \n",
    "Na atribuição `x=3`, um endereço de memória é criado para armazenar o valor 3 e uma referência para este endereço é armazenada na váriável `x`. A atribuição `y = x` faz com que `y` também seja uma referência para o endereço de memória onde o valor 3 está armazendo.\n",
    "\n",
    "A operação `x+1` recupera o valor 3 referenciado por `x`, adicionado 1 e o resultado 4 é colocado em um novo endereço de memória. Com a atribuição `x = x+1`, a variável `x` passa a referenciar este novo endereço de memória. A variável `y`, por sua vez, continua sendo uma referência para o endereço de memória onde o valor 3 está armazenado.\n",
    "\n",
    "Imprima os endereços referênciados por `x` e `y` e verá que são diferentes."
   ]
  },
  {
   "cell_type": "code",
   "execution_count": null,
   "metadata": {
    "id": "hy2NrknrFD_X",
    "outputId": "43696ffe-f34d-47a9-fc3e-d33f20ead8bf"
   },
   "outputs": [
    {
     "name": "stdout",
     "output_type": "stream",
     "text": [
      "4445435088\n",
      "4445435056\n"
     ]
    }
   ],
   "source": [
    "print(id(x))\n",
    "print(id(y))"
   ]
  },
  {
   "cell_type": "markdown",
   "metadata": {
    "id": "WUGfP00MFD_X"
   },
   "source": [
    "**1.2** No código abaixo, explique por que o conteúdo da variável `y` também é afetado quando um novo elemento é adicionado à lista referenciada por `x`."
   ]
  },
  {
   "cell_type": "code",
   "execution_count": null,
   "metadata": {
    "id": "luIXCJKMFD_Y",
    "outputId": "2f313814-1800-46cb-c18b-ce795e7fa99d"
   },
   "outputs": [
    {
     "name": "stdout",
     "output_type": "stream",
     "text": [
      "[3] [3]\n",
      "[3, 1] [3, 1]\n"
     ]
    }
   ],
   "source": [
    "x = [3]\n",
    "y = x\n",
    "print(x,y)\n",
    "x.append(1)\n",
    "print(x,y)"
   ]
  },
  {
   "cell_type": "markdown",
   "metadata": {
    "id": "zlilxaTMFD_Y"
   },
   "source": [
    "**Resposta:** A atribuição `x = [3]` cria uma lista em memória e atribui o endereço desta memória a variável `x`. O endereço onde o elemento 3 da lista está armazenado é diferente do endereço de memória da lista. A atribuição `y = x` faz com que `y` também seja uma referência para o endereço de memória onde a lista está armazenada.\n",
    "\n",
    "A operação `x.append(1)` adiciona um novo elemento à lista, porém o endereço de memória da lista não muda. Como `y` referencia este endereço, `y` tem acesso ao conteúdo alterado pela operação `x.append(1)`."
   ]
  },
  {
   "cell_type": "markdown",
   "metadata": {
    "id": "KEicPW9eFD_Y"
   },
   "source": [
    "**1.3** No código abaixo, explique por que o conteúdo da variável `y` NÃO É afetado após a operação `x = x+[1]`."
   ]
  },
  {
   "cell_type": "code",
   "execution_count": null,
   "metadata": {
    "id": "ib3uajciFD_Z",
    "outputId": "b4baf9ab-5261-4da0-fbe4-fab5071a247d"
   },
   "outputs": [
    {
     "name": "stdout",
     "output_type": "stream",
     "text": [
      "[3] [3]\n",
      "[3, 1] [3]\n"
     ]
    }
   ],
   "source": [
    "x = [3]\n",
    "y = x\n",
    "print(x,y)\n",
    "x = x+[1]\n",
    "print(x,y)"
   ]
  },
  {
   "cell_type": "markdown",
   "metadata": {
    "id": "NICFkYXmFD_Z"
   },
   "source": [
    "**Resposta:** A operação `x+[1]` recupera a lista referênciada por `x` e a concatena com a lista `[1]`, porém, a concatenação resulta em uma nova lista, que é armazenada em um novo endereço de memória. A atribuição `x = x+[1]` faz com que `x` referencie este novo endereço de memória. \n",
    "\n",
    "A variável `y`, por sua vez, continua referenciando o endereço de memória onde a lista `[3]` foi armazenada, de modo que os endereços referenciados por `x` e `y` são diferentes. "
   ]
  },
  {
   "cell_type": "markdown",
   "metadata": {
    "id": "U57S58bFFD_Z"
   },
   "source": [
    "### Exercício 2)\n",
    "Considere a lista `pessoas` abaixo. Escreva um códico para remover todos os nomes da lista que começam com as letras 'A' e 'M', inserindo estes nomes em uma nova lista chamada `pessoasAM`. "
   ]
  },
  {
   "cell_type": "code",
   "execution_count": null,
   "metadata": {
    "id": "RqpR4awSFD_Z",
    "outputId": "ab80cb55-fc87-43b8-d2d2-277d613c1c00"
   },
   "outputs": [
    {
     "name": "stdout",
     "output_type": "stream",
     "text": [
      "['Sophia', 'Davi', 'Julia', 'Pedro', 'Isabella', 'Gabriel', 'Laura']\n",
      "['Miguel', 'Alice', 'Arthur', 'Manuela']\n"
     ]
    }
   ],
   "source": [
    "# Solucao 1: utilizando laço 'for'\n",
    "pessoas = ['Miguel','Sophia','Davi','Alice','Arthur','Julia','Pedro','Isabella','Gabriel',\n",
    "           'Manuela','Laura']\n",
    "\n",
    "pessoasAM = []\n",
    "for n in pessoas:\n",
    "    if n[0] == 'A' or n[0] == 'M':\n",
    "        pessoasAM.append(n)\n",
    "        \n",
    "for n in pessoasAM:\n",
    "    if n in pessoas:\n",
    "        pessoas.remove(n)  # estamos assumindo que não existem nomes repetidos na lista.\n",
    "        \n",
    "print(pessoas)\n",
    "print(pessoasAM)"
   ]
  },
  {
   "cell_type": "code",
   "execution_count": null,
   "metadata": {
    "id": "BCDwd48jFD_a",
    "outputId": "27faa6bd-6928-4690-a7a7-728d41678385"
   },
   "outputs": [
    {
     "name": "stdout",
     "output_type": "stream",
     "text": [
      "['Sophia', 'Davi', 'Julia', 'Pedro', 'Isabella', 'Gabriel', 'Laura']\n",
      "['Miguel', 'Alice', 'Arthur', 'Manuela']\n"
     ]
    }
   ],
   "source": [
    "# Solucao 2: utilizando comprehension\n",
    "pessoas = ['Miguel','Sophia','Davi','Alice','Arthur','Julia','Pedro','Isabella','Gabriel','Manuela','Laura']\n",
    "\n",
    "pessoasAM = [n for n in pessoas if (n[0]=='A' or n[0]=='M')]\n",
    "pessoas = [n for n in pessoas if n not in pessoasAM]\n",
    "\n",
    "print(pessoas)\n",
    "print(pessoasAM)"
   ]
  },
  {
   "cell_type": "markdown",
   "metadata": {
    "id": "1ubFlMoEFD_a"
   },
   "source": [
    "### Exercício 3) \n",
    "Crie um dicionário cujas chaves são as strings da lista `pessoas`, sendo o comprimento das strings correspondentes o valor associado a chave. Utilize comprehension para criar o dicionário. Por exemplo:\n",
    "```python\n",
    "{'Miguel': 6, 'Sophia': 6, 'Davi': 4,...}\n",
    "```"
   ]
  },
  {
   "cell_type": "code",
   "execution_count": null,
   "metadata": {
    "id": "1TxzGJ2SFD_a",
    "outputId": "9e3cfbc3-7c75-4fed-99b3-a20150221226"
   },
   "outputs": [
    {
     "name": "stdout",
     "output_type": "stream",
     "text": [
      "{'Miguel': 6, 'Sophia': 6, 'Davi': 4, 'Alice': 5, 'Arthur': 6, 'Julia': 5, 'Pedro': 5, 'Isabella': 8, 'Gabriel': 7, 'Manuela': 7, 'Laura': 5}\n"
     ]
    }
   ],
   "source": [
    "pessoas = ['Miguel','Sophia','Davi','Alice','Arthur','Julia','Pedro','Isabella','Gabriel','Manuela','Laura']\n",
    "\n",
    "dict_pessoas = {p : len(p) for p in pessoas}\n",
    "print(dict_pessoas)"
   ]
  },
  {
   "cell_type": "markdown",
   "metadata": {
    "id": "-dZuMXf9FD_b"
   },
   "source": [
    "### Exercício 4) \n",
    "Considere a lista `pessoas` abaixo. Modifique os elementos da lista fazendo que com que o último caracter de cada elemento fique maiúsculo caso tal caractere seja uma vogal. Utilize o método <font color='blue'>'.upper'</font> de objetos string para converter um caracter em maiúsculo. Por exemplo, o método <font color='blue'>'.upper'</font> no código abaixo:\n",
    "```python\n",
    "x = 'abc'.upper()\n",
    "print(x)\n",
    "```\n",
    "resulta em `ABC`. Você não deve utilizar um laço <font color='blue'>'for'</font>, apenas comprehension."
   ]
  },
  {
   "cell_type": "code",
   "execution_count": null,
   "metadata": {
    "id": "6r9_zDhYFD_b",
    "outputId": "64f0b006-4a4b-4878-9cac-f25b6cff6214"
   },
   "outputs": [
    {
     "name": "stdout",
     "output_type": "stream",
     "text": [
      "['Miguel', 'SophiA', 'DavI', 'AlicE', 'Arthur', 'JuliA', 'PedrO', 'IsabellA', 'Gabriel', 'ManuelA', 'LaurA']\n"
     ]
    }
   ],
   "source": [
    "pessoas = ['Miguel','Sophia','Davi','Alice','Arthur','Julia','Pedro','Isabella','Gabriel','Manuela','Laura']\n",
    "\n",
    "pessoas_upper = [n[:-1]+n[-1].upper() if n[-1] in 'aeiou' else n for n in pessoas]\n",
    "print(pessoas_upper)"
   ]
  },
  {
   "cell_type": "markdown",
   "metadata": {
    "id": "_SGsdHjRFD_b"
   },
   "source": [
    "### Exercício 5)\n",
    "Escreva uma função chamda `div3e5` que recebe como parâmetro um número. Se o número for divisível por 3 a função retorna `div3`, se for divisível por 5 retorna `div5`, se for divisível por 3 e 5 retorna `div3div5`, senão retorna o próprio número. Aplique a função na lista `teste` abaixo e utilize comprehension para gerar uma nova lista com os resultados correspondentes. Por exemplo, dada a lista:\n",
    "```python\n",
    "[30, 21, 21, 49, 39, 49, 19,  5, 17,  4]\n",
    "```\n",
    "o código deve produzir\n",
    "```python\n",
    "['div3div5', 'div3', 'div3', 49, 'div3', 49, 19, 'div5', 17, 4]\n",
    "```"
   ]
  },
  {
   "cell_type": "code",
   "execution_count": null,
   "metadata": {
    "id": "AO9QdmmKFD_b",
    "outputId": "322a0b71-ef64-41f2-bd85-6e45aace4d5f"
   },
   "outputs": [
    {
     "name": "stdout",
     "output_type": "stream",
     "text": [
      "[4, 7, 'div3', 'div5', 'div3div5', 34, 'div3div5', 'div3', 17, 'div3', 'div3', 26, 32, 'div5', 34, 'div3', 41, 'div3', 7, 'div3']\n",
      "[4, 7, 33, 20, 30, 34, 15, 3, 17, 39, 21, 26, 32, 10, 34, 42, 41, 18, 7, 36]\n"
     ]
    }
   ],
   "source": [
    "teste = [4, 7, 33, 20, 30, 34, 15, 3, 17, 39, 21, 26, 32, 10, 34, 42, 41, 18, 7, 36]\n",
    "\n",
    "def div3e5(x):\n",
    "    s = ''\n",
    "    if x%3 == 0:\n",
    "        s = 'div3'\n",
    "    if x%5 == 0:\n",
    "        s = s+'div5'\n",
    "    if s == '':\n",
    "        s = x\n",
    "    return(s)\n",
    "\n",
    "l = [div3e5(i) for i in teste]\n",
    "print(l)\n",
    "print(teste)"
   ]
  },
  {
   "cell_type": "markdown",
   "metadata": {
    "id": "Z-qgU9uTFD_c"
   },
   "source": [
    "### Exercício 6) \n",
    "Considere a lista `numeros` abaixo que contém números inteiros entre 0 e 5. Escreva uma função chamda `ocorrencias` que recebe a lista `numeros` como parâmetro e retorna um dicionário onde as chaves são números de 0 a 5 e os valores associados correspondem ao número de vezes que a chave aparece na lista. Por exemplo, o código abaixo:\n",
    "```python\n",
    "numeros = [2, 1, 1, 2, 0, 2, 0, 1, 4, 1]\n",
    "print(ocorrencias(numeros))\n",
    "```\n",
    "deve gerar o seguinte resultado:\n",
    "```python\n",
    "{0: 2, 1: 4, 2: 3, 3: 0, 4: 1, 5: 0}\n",
    "```\n",
    "Tente não utilizar um laço <font color='blue'>'for'</font>, mas sim comprehension para dicionários."
   ]
  },
  {
   "cell_type": "code",
   "execution_count": null,
   "metadata": {
    "id": "RBHcMKczFD_c",
    "outputId": "f55349c4-4775-4e1e-b4f9-82520667a84d"
   },
   "outputs": [
    {
     "name": "stdout",
     "output_type": "stream",
     "text": [
      "{0: 7, 1: 3, 2: 2, 3: 2, 4: 4, 5: 2}\n"
     ]
    }
   ],
   "source": [
    "numeros = [1, 5, 1, 4, 3, 2, 4, 0, 0, 0, 3, 0, 2, 1, 0, 0, 4, 0, 5, 4]\n",
    "\n",
    "def ocorrencias(l):\n",
    "    d = {i:l.count(i) for i in range(6)}\n",
    "    return(d)\n",
    "    \n",
    "print(ocorrencias(numeros))"
   ]
  },
  {
   "cell_type": "markdown",
   "metadata": {
    "id": "DLuCOIJ6FD_c"
   },
   "source": [
    "### Exercício 7) \n",
    "Escreva uma função `retorna_maiuscula` que receba um caractere como parâmetro e retorne o caracter em maiúsculo caso ele seja uma vogal. Utilize a função `retorna_maiuscula` para converter todas as vogais de uma string em maiúsculas. Não utilize um laço <font color='blue'>'for'</font> em seu código.\n",
    "\n",
    "__Dica:__ Armazene os resultados da função `retorna_maiuscula` em uma lista e utilize a função <font color='blue'>.join</font> para converter a lista em uma string."
   ]
  },
  {
   "cell_type": "code",
   "execution_count": null,
   "metadata": {
    "id": "aHJs5IG-FD_d",
    "outputId": "6aff2443-2309-4e97-d108-b2ad0a70e742"
   },
   "outputs": [
    {
     "name": "stdout",
     "output_type": "stream",
     "text": [
      "strIng pArA tEstAr A fUncAO\n"
     ]
    }
   ],
   "source": [
    "def retorna_maiuscula(s):\n",
    "    if s in 'aeiou':\n",
    "        return(s.upper())\n",
    "    else:\n",
    "        return(s)\n",
    "    \n",
    "st = 'string para testar a funcao'    \n",
    "stm = ''.join([retorna_maiuscula(c) for c in st])\n",
    "print(stm)"
   ]
  },
  {
   "cell_type": "markdown",
   "metadata": {
    "id": "jU8BCZrAFD_d"
   },
   "source": [
    "### Exercício 8)\n",
    "Repita o exercício 6) utilizando a função <font color='blue'>'lambda'</font> ao invés de uma função definida pelo comando <font color='blue'>'def'</font>."
   ]
  },
  {
   "cell_type": "code",
   "execution_count": null,
   "metadata": {
    "id": "1Zf-rWCwFD_e",
    "outputId": "e3baf9d0-7e26-447e-cc03-0259e36c7f5b"
   },
   "outputs": [
    {
     "name": "stdout",
     "output_type": "stream",
     "text": [
      "strIng pArA tEstAr A fUncAO\n"
     ]
    }
   ],
   "source": [
    "st = 'string para testar a funcao'\n",
    "\n",
    "f = lambda s:s.upper() if s in 'aeiou'else s\n",
    "stm =''.join([f(i) for i in st])\n",
    "print(stm)"
   ]
  },
  {
   "cell_type": "markdown",
   "metadata": {
    "id": "crNb_GJNFD_e"
   },
   "source": [
    "### Exercício 9)\n",
    "Escreva uma função `intersecao` que recebe duas listas como parâmetros e retorna uma outra lista contendo apenas os elementos que aparencem em ambas, sem repetição de elementos.\n",
    "Por exemplo, o código abaixo:\n",
    "```python\n",
    "s1 = ['a', 'f', 'o', 'i', 'n', 'f', 'g', 'a', 'o', 'i']\n",
    "s2 = ['l', 'k', 'j', 'f', 'a', 'j', 'i']\n",
    "print(intersecao(s1,s2))\n",
    "```\n",
    "deve resultar em \n",
    "```python\n",
    "['a', 'f', 'i']\n",
    "```\n",
    "__Dica:__ Utilize dicionário para encontrar os elementos únicos em cada lista. Você também pode converter a lista para uma váriavel tipo conjunto utilizando o comando <font color='blue'>set</font> disponível no python. Conjuntos não possuem elementos repetidos."
   ]
  },
  {
   "cell_type": "code",
   "execution_count": null,
   "metadata": {
    "id": "is6o9qzxFD_e",
    "outputId": "dd556200-0c7a-4e85-d787-d8eae4edbb75"
   },
   "outputs": [
    {
     "name": "stdout",
     "output_type": "stream",
     "text": [
      "['a', 'f', 'i']\n"
     ]
    }
   ],
   "source": [
    "def intersecao(l1,l2):\n",
    "          # utiliza dicionario para encontrar os elementos unicos de cada lista\n",
    "    d_l1 = {c:c for c in l1}\n",
    "    d_l2 = {c:c for c in l2}\n",
    "          # converte os valores do dicionario em listas (poderia ter convertido as chaves)\n",
    "    unicos_l1 = list(d_l1.values())\n",
    "    unicos_l2 = list(d_l2.values())\n",
    "          # utiliza comprehension para gerar a lista com interseções\n",
    "    ambas = [c for c in unicos_l1 if c in unicos_l2]\n",
    "    return(ambas)\n",
    "\n",
    "s1 = ['a', 'f', 'o', 'i', 'n', 'f', 'g', 'a', 'o', 'i']\n",
    "s2 = ['l', 'k', 'j', 'f', 'a', 'j', 'i']\n",
    "\n",
    "print(intersecao(s1,s2))"
   ]
  },
  {
   "cell_type": "code",
   "execution_count": null,
   "metadata": {
    "id": "bKEA7s0WFD_f",
    "outputId": "7a0d879f-c83e-40aa-aff2-03e6d64db714"
   },
   "outputs": [
    {
     "name": "stdout",
     "output_type": "stream",
     "text": [
      "['f', 'i', 'a']\n"
     ]
    }
   ],
   "source": [
    "# solução utilizando o método 'unique'\n",
    "\n",
    "def intersecao(l1,l2):\n",
    "          # utiliza dicionario para encontrar os elementos unicos de cada lista\n",
    "    unicos_l1 = set(l1)\n",
    "    unicos_l2 = set(l2)\n",
    "          # utiliza comprehension para gerar a lista com interseções\n",
    "    ambas = [c for c in unicos_l1 if c in unicos_l2]\n",
    "    return(ambas)\n",
    "\n",
    "s1 = ['a', 'f', 'o', 'i', 'n', 'f', 'g', 'a', 'o', 'i']\n",
    "s2 = ['l', 'k', 'j', 'f', 'a', 'j', 'i']\n",
    "\n",
    "print(intersecao(s1,s2))"
   ]
  },
  {
   "cell_type": "markdown",
   "metadata": {
    "id": "eKeD4iqJFD_f"
   },
   "source": [
    "### Exercício 10)\n",
    "As funções <font color='blue'>lambda</font>, também chamada de _funções anônimas_, são muito utilizadas quando se invoca um método (ou função) que aceita outra função como parâmetro. Por exemplo, a função <font color='blue'>sorted</font> aceita uma função com parâmetro, a qual é aplicada aos elementos da lista antes que a ordenação seja feita. Por exemplo:\n",
    "```python\n",
    "numeros = [0.11, -0.11, 0.4, 0.11, -0.57, -0.05, 0.85, -0.27, -0.07, -0.78]\n",
    "print(sorted(numeros,key=lambda x:x**2))\n",
    "```\n",
    "resulta nos elementos ordenados, mas como se eles estivessem elevados ao quadrado, ou seja, o resultado é:\n",
    "```python\n",
    "[-0.05, -0.07, 0.11, -0.11, 0.11, -0.27, 0.4, -0.57, -0.78, 0.85]\n",
    "```\n",
    "pois quando elevados ao quadrado e ordenados, os elementos da lista `numeros` resultam em:\n",
    "```python\n",
    "[0.0025, 0.0049, 0.0121, 0.0121, 0.0121, 0.0729, 0.1600, 0.3248, 0.6084, 0.7224]\n",
    "```\n",
    "\n",
    "Utilize a função <font color='blue'>lambda</font> combinada com o método <font color='blue'>sorted</font> para colocar todos os números múltiplos de 3 na parte esquerda de uma lista, ficando os demais números a direita. Por exemplo, a lista:\n",
    "```python\n",
    "[17, 46, 21, 16, 44, 1, 6, 5, 27, 24]\n",
    "```\n",
    "deve ficar organizada como:\n",
    "```python\n",
    "[21, 6, 27, 24, 17, 46, 16, 44, 1, 5]\n",
    "```\n",
    "onde `21, 6, 27, 24` ficam a esquerda, pois são múltipos de 3, equanto \n",
    "`17, 46, 16, 44, 1, 5` ficam a direita pois não são múltiplos de 3.\n",
    "\n",
    "Como teste para seu código, utilize a lista\n",
    "```python\n",
    "[2, 17, 12, 35, 39, 35, 4, 44, 12, 20, 7, 1, 21, 45, 43, 26, 6, 13, 48, 42]\n",
    "```\n",
    "que deve ficar organizada da seguinte forma:\n",
    "```python\n",
    "[12, 39, 12, 21, 45, 6, 48, 42, 2, 17, 35, 35, 4, 44, 20, 7, 1, 43, 26, 13]\n",
    "```"
   ]
  },
  {
   "cell_type": "code",
   "execution_count": null,
   "metadata": {
    "id": "rMrtdXi4FD_g",
    "outputId": "c1870c16-7c7a-466b-f90b-f95a0dfc2f32"
   },
   "outputs": [
    {
     "name": "stdout",
     "output_type": "stream",
     "text": [
      "[2, 17, 12, 35, 39, 35, 4, 44, 12, 20, 7, 1, 21, 45, 43, 26, 6, 13, 48, 42]\n",
      "[12, 39, 12, 21, 45, 6, 48, 42, 2, 17, 35, 35, 4, 44, 20, 7, 1, 43, 26, 13]\n"
     ]
    }
   ],
   "source": [
    "n = [2, 17, 12, 35, 39, 35, 4, 44, 12, 20, 7, 1, 21, 45, 43, 26, 6, 13, 48, 42]\n",
    "print(n)\n",
    "print(sorted(n,key=lambda x:0 if x%3==0 else 1))"
   ]
  },
  {
   "cell_type": "markdown",
   "metadata": {
    "id": "YRuQfjG7jPDg"
   },
   "source": [
    "## <span style=\"color:blue\">Exercícios Python Parte II</span>"
   ]
  },
  {
   "cell_type": "markdown",
   "metadata": {
    "id": "6bULgIjJjPDm"
   },
   "source": [
    "### Exercício 1)"
   ]
  },
  {
   "cell_type": "markdown",
   "metadata": {
    "id": "BFbk3dhsjPDm"
   },
   "source": [
    "**1.1** No código abaixo, explique por que o valor da variável `y` não é o mesmo que o valor de `x` após a operação `x = x+1`."
   ]
  },
  {
   "cell_type": "code",
   "execution_count": 1,
   "metadata": {
    "id": "1vKxIn2DjPDm"
   },
   "outputs": [
    {
     "name": "stdout",
     "output_type": "stream",
     "text": [
      "3 3\n",
      "4 3\n"
     ]
    }
   ],
   "source": [
    "x = 3\n",
    "y = x\n",
    "print(x,y)\n",
    "x = x+1\n",
    "print(x,y)"
   ]
  },
  {
   "cell_type": "markdown",
   "metadata": {
    "id": "9hbR9r2FjPDn"
   },
   "source": [
    "**Resposta:** "
   ]
  },
  {
   "cell_type": "code",
   "execution_count": null,
   "metadata": {
    "id": "vAw_Nry2jPDn"
   },
   "outputs": [],
   "source": [
    "print(id(x))\n",
    "print(id(y))"
   ]
  },
  {
   "cell_type": "markdown",
   "metadata": {
    "id": "dr-Sea_zjPDn"
   },
   "source": [
    "**1.2** No código abaixo, explique por que o conteúdo da variável `y` também é afetado quando um novo elemento é adicionado à lista referenciada por `x`."
   ]
  },
  {
   "cell_type": "code",
   "execution_count": null,
   "metadata": {
    "id": "95ABvrG2jPDn"
   },
   "outputs": [],
   "source": [
    "x = [3]\n",
    "y = x\n",
    "print(x,y)\n",
    "x.append(1)\n",
    "print(x,y)"
   ]
  },
  {
   "cell_type": "markdown",
   "metadata": {
    "id": "YihrK6m8jPDo"
   },
   "source": [
    "**Resposta:** "
   ]
  },
  {
   "cell_type": "markdown",
   "metadata": {
    "id": "KxqASTBujPDo"
   },
   "source": [
    "**1.3** No código abaixo, explique por que o conteúdo da variável `y` NÃO afetado após a operação `x = x+[1]`."
   ]
  },
  {
   "cell_type": "code",
   "execution_count": null,
   "metadata": {
    "id": "etpIR6QzjPDo"
   },
   "outputs": [],
   "source": [
    "x = [3]\n",
    "y = x\n",
    "print(x,y)\n",
    "x = x+[1]\n",
    "print(x,y)"
   ]
  },
  {
   "cell_type": "markdown",
   "metadata": {
    "id": "4APTG6kujPDo"
   },
   "source": [
    "**Resposta:** "
   ]
  },
  {
   "cell_type": "markdown",
   "metadata": {
    "id": "DLXnfiUnjPDo"
   },
   "source": [
    "### Exercício 2)\n",
    "Considere a lista `pessoas` abaixo. Escreva um códico para remover todos os nomes da lista que começam com as letras 'A' e 'M', inserindo estes nomes em uma nova lista chamada `pessoasAM`. "
   ]
  },
  {
   "cell_type": "code",
   "execution_count": null,
   "metadata": {
    "id": "yA69aRl-jPDp"
   },
   "outputs": [],
   "source": [
    "pessoas = ['Miguel','Sophia','Davi','Alice','Arthur','Julia','Pedro','Isabella','Gabriel',\n",
    "           'Manuela','Laura']\n",
    "\n",
    "# Escreva o código aqui"
   ]
  },
  {
   "cell_type": "markdown",
   "metadata": {
    "id": "XhBHJYm3jPDp"
   },
   "source": [
    "### Exercício 3) \n",
    "Crie um dicionário cujas chaves são as strings da lista `pessoas` definida no exercício anterior, sendo o comprimento da string correspondentes o valor associado a chave. Utilize comprehension para criar o dicionário. Por exemplo:\n",
    "```python\n",
    "{'Miguel': 6, 'Sophia': 6, 'Davi': 4,...}\n",
    "```"
   ]
  },
  {
   "cell_type": "code",
   "execution_count": 100,
   "metadata": {
    "id": "up0uKilYjPDp"
   },
   "outputs": [
    {
     "data": {
      "text/plain": [
       "{'Miguel': 6,\n",
       " 'Sophia': 6,\n",
       " 'Davi': 4,\n",
       " 'Alice': 5,\n",
       " 'Arthur': 6,\n",
       " 'Julia': 5,\n",
       " 'Pedro': 5,\n",
       " 'Isabella': 8,\n",
       " 'Gabriel': 7,\n",
       " 'Manuela': 7,\n",
       " 'Laura': 5}"
      ]
     },
     "execution_count": 100,
     "metadata": {},
     "output_type": "execute_result"
    }
   ],
   "source": [
    "pessoas = ['Miguel','Sophia','Davi','Alice','Arthur','Julia','Pedro','Isabella','Gabriel','Manuela','Laura']\n",
    "# Escreva o código aqui\n",
    "\n",
    "{p: len(p) for p in pessoas}"
   ]
  },
  {
   "cell_type": "markdown",
   "metadata": {
    "id": "nSeVwbvojPDp"
   },
   "source": [
    "### Exercício 4) \n",
    "Considere a lista `pessoas` abaixo. Modifique os elementos da lista fazendo que com que o último caracter de cada elemento fique maiúsculo caso tal caractere seja uma vogal. Utilize o método <font color='blue'>'.upper'</font> de objetos string para converter um caracter em maiúsculo. Por exemplo, o método <font color='blue'>'.upper'</font> no código abaixo:\n",
    "```python\n",
    "x = 'abc'.upper()\n",
    "print(x)\n",
    "```\n",
    "resulta em `ABC`. Você não deve utilizar um laço <font color='blue'>'for'</font>, apenas comprehension."
   ]
  },
  {
   "cell_type": "code",
   "execution_count": 65,
   "metadata": {
    "id": "aZkQbcMDjPDp"
   },
   "outputs": [
    {
     "data": {
      "text/plain": [
       "['', '', '', '', '']"
      ]
     },
     "execution_count": 65,
     "metadata": {},
     "output_type": "execute_result"
    }
   ],
   "source": [
    "pessoas = ['Miguel','Sophiá','Davi','Alice','Arthur','Julia','Pedro','Isabella','Gabriel','Manuela','Laura']\n",
    "# Escreva o código aqui\n",
    "\n",
    "vogal = 'aeiou'\n",
    "pessoas_U = [ i[:-1].upper() for i in vogal ]\n",
    "pessoas_U\n",
    "\n",
    "\n",
    "    "
   ]
  },
  {
   "cell_type": "code",
   "execution_count": 66,
   "metadata": {},
   "outputs": [
    {
     "name": "stdout",
     "output_type": "stream",
     "text": [
      "Miguel\n",
      "Sophiá\n",
      "DavI\n",
      "AlicE\n",
      "Arthur\n",
      "JuliA\n",
      "PedrO\n",
      "IsabellA\n",
      "Gabriel\n",
      "ManuelA\n",
      "LaurA\n"
     ]
    }
   ],
   "source": [
    "for i in pessoas:\n",
    "    if i[-1] in vogal:\n",
    "        print(i[:-1] + i[-1].upper())\n",
    "    else:\n",
    "        print(i)\n",
    "    "
   ]
  },
  {
   "cell_type": "code",
   "execution_count": 67,
   "metadata": {},
   "outputs": [
    {
     "data": {
      "text/plain": [
       "['Miguel',\n",
       " 'Sophiá',\n",
       " 'DavI',\n",
       " 'AlicE',\n",
       " 'Arthur',\n",
       " 'JuliA',\n",
       " 'PedrO',\n",
       " 'IsabellA',\n",
       " 'Gabriel',\n",
       " 'ManuelA',\n",
       " 'LaurA']"
      ]
     },
     "execution_count": 67,
     "metadata": {},
     "output_type": "execute_result"
    }
   ],
   "source": [
    "[i[:-1] + i[-1].upper() if i[-1] in vogal else i for i in pessoas]"
   ]
  },
  {
   "cell_type": "code",
   "execution_count": 69,
   "metadata": {},
   "outputs": [
    {
     "data": {
      "text/plain": [
       "True"
      ]
     },
     "execution_count": 69,
     "metadata": {},
     "output_type": "execute_result"
    }
   ],
   "source": [
    "'a'.isascii()"
   ]
  },
  {
   "cell_type": "markdown",
   "metadata": {
    "id": "uStoN3C3jPDp"
   },
   "source": [
    "### Exercício 5)\n",
    "Escreva uma função chamda `div3e5` que recebe como parâmetro um número. Se o número for divisível por 3 a função retorna `div3`, se for divisível por 5 retorna `div5`, se for divisível por 3 e 5 retorna `div3div5`, senão retorna o próprio número. Aplique a função na lista `teste` abaixo e utilize comprehension para gerar uma nova lista com os resultados correspondentes. Por exemplo, dada a lista:\n",
    "```python\n",
    "[30, 21, 21, 49, 39, 49, 19,  5, 17,  4]\n",
    "```\n",
    "o código deve produzir\n",
    "```python\n",
    "['div3div5', 'div3', 'div3', 49, 'div3', 49, 19, 'div5', 17, 4]\n",
    "```"
   ]
  },
  {
   "cell_type": "code",
   "execution_count": 72,
   "metadata": {
    "id": "77I618NZjPDq"
   },
   "outputs": [],
   "source": [
    "teste = [4, 7, 33, 20, 30, 34, 15, 3, 17, 39, 21, 26, 32, 10, 34, 42, 41, 18, 7, 36]\n",
    "\n",
    "def div3e5(x):\n",
    "    pass"
   ]
  },
  {
   "cell_type": "code",
   "execution_count": 79,
   "metadata": {},
   "outputs": [
    {
     "name": "stdout",
     "output_type": "stream",
     "text": [
      "[4, 7, 'oi! div3', 'oi! div5', 'oi! div3div5', 34, 'oi! div3div5', 'oi! div3', 17, 'oi! div3', 'oi! div3', 26, 32, 'oi! div5', 34, 'oi! div3', 41, 'oi! div3', 7, 'oi! div3']\n"
     ]
    }
   ],
   "source": [
    "def div3e5(x):    \n",
    "    if (x % 3 == 0 and x % 5 == 0):\n",
    "        i = 'div3div5'\n",
    "    elif x % 3 == 0:\n",
    "        i = 'div3'\n",
    "    elif x % 5 == 0:\n",
    "        i = 'div5'\n",
    "    else:\n",
    "        i = x\n",
    "    return(i)\n",
    "\n",
    "def div3e5(x):    \n",
    "    if (x % 3 == 0 and x % 5 == 0):\n",
    "        return 'div3div5'\n",
    "    if x % 3 == 0:\n",
    "        return 'div3'\n",
    "    if x % 5 == 0:\n",
    "        return 'div5'\n",
    "    else:\n",
    "        return x\n",
    "    \n",
    "def div3e5(x, ret = ''):\n",
    "    orig_ret = ret\n",
    "    if (x%3 == 0):\n",
    "        ret = ret + 'div3'\n",
    "    if (x%5 == 0):\n",
    "        ret = ret + 'div5'\n",
    "    return x if ret == orig_ret else ret\n",
    "\n",
    "\n",
    "lista = [div3e5(a, ret = 'oi! ') for a in teste]\n",
    "print(lista)"
   ]
  },
  {
   "cell_type": "markdown",
   "metadata": {
    "id": "ynf1pLUdjPDq"
   },
   "source": [
    "### Exercício 6) \n",
    "Considere a lista `numeros` abaixo que contém números inteiros entre 0 e 5. Escreva uma função chamda `ocorrencias` que recebe a lista `numeros` como parâmetro e retorna um dicionário onde as chaves são números de 0 a 5 e os valores associados correspondem ao número de vezes que a chave aparece na lista. Por exemplo, o código abaixo:\n",
    "```python\n",
    "numeros = [2, 1, 1, 2, 0, 2, 0, 1, 4, 1]\n",
    "print(ocorrencias(numeros))\n",
    "```\n",
    "deve gerar o seguinte resultado:\n",
    "```python\n",
    "{0: 2, 1: 4, 2: 3, 3: 0, 4: 1, 5: 0}\n",
    "```\n",
    "Tente não utilizar um laço <font color='blue'>'for'</font>, mas sim comprehension para dicionários."
   ]
  },
  {
   "cell_type": "code",
   "execution_count": 114,
   "metadata": {
    "id": "4bIm9xi0jPDq"
   },
   "outputs": [
    {
     "name": "stdout",
     "output_type": "stream",
     "text": [
      "{0: 7, 1: 3, 2: 2, 3: 2, 4: 4, 5: 2}\n"
     ]
    }
   ],
   "source": [
    "numeros = [1, 5, 1, 4, 3, 2, 4, 0, 0, 0, 3, 0, 2, 1, 0, 0, 4, 0, 5, 4]\n",
    "\n",
    "# Solução da Leo\n",
    "def ocorrencias(l):\n",
    "    dict_count = {}\n",
    "    for n in numeros:\n",
    "        if n in dict_count:\n",
    "            dict_count[n] = dict_count[n] + 1\n",
    "        else:\n",
    "            dict_count[n] = 1\n",
    "    return dict_count\n",
    "\n",
    "# Solução do Caio\n",
    "def ocorrencias(l):\n",
    "    dict_count = {}\n",
    "    for n in numeros:\n",
    "        dict_count[n] = dict_count.get(n, 0) + 1\n",
    "\n",
    "    return dict_count\n",
    "\n",
    "# Solução ruim da Leo (mas tem comprehension!)\n",
    "def ocorrencias(l):\n",
    "    return {i: len([n for n in numeros if n == i]) for i in range(0,6)}\n",
    "    \n",
    "print(ocorrencias(numeros))"
   ]
  },
  {
   "cell_type": "code",
   "execution_count": 106,
   "metadata": {},
   "outputs": [
    {
     "name": "stdout",
     "output_type": "stream",
     "text": [
      "{0: 7, 1: 3, 2: 2, 3: 2, 4: 4, 5: 2}\n"
     ]
    }
   ],
   "source": [
    "# Solução do Diego\n",
    "def ocorrencias(l):\n",
    "    return {i:l.count(i) for i in range(0,6)}\n",
    "print(ocorrencias(numeros))\n",
    "\n"
   ]
  },
  {
   "cell_type": "code",
   "execution_count": 120,
   "metadata": {},
   "outputs": [
    {
     "data": {
      "text/plain": [
       "1"
      ]
     },
     "execution_count": 120,
     "metadata": {},
     "output_type": "execute_result"
    }
   ],
   "source": [
    "# exemplo do get\n",
    "dict_ocorrencias = ocorrencias(numeros)\n",
    "dict_ocorrencias.get(6, 1)"
   ]
  },
  {
   "cell_type": "markdown",
   "metadata": {
    "id": "3YhUAQCYjPDq"
   },
   "source": [
    "### Exercício 7) \n",
    "Escreva uma função `retorna_maiuscula` que recebe um caractere como parâmetro e retorna o caracter em maiúsculo caso ele seja uma vogal. Utilize a função `retorna_maiuscula` para converter todas as vogais de uma string em maiúsculas.\n",
    "Por exemplo: \n",
    "```python\n",
    "'string para testar a funcao'\n",
    "```\n",
    "deve ser transformada em:\n",
    "```python\n",
    "'strIng pArA tEstAr A fUncAO'\n",
    "```\n",
    "Não utilize um laço <font color='blue'>'for'</font> em seu código.\n",
    "\n",
    "__Dica:__ Armazene os resultados da função `retorna_maiuscula` em uma lista e utilize a função <font color='blue'>.join</font> para converter a lista em uma string."
   ]
  },
  {
   "cell_type": "code",
   "execution_count": 122,
   "metadata": {
    "id": "kbQ78-FBjPDq"
   },
   "outputs": [
    {
     "data": {
      "text/plain": [
       "'strIng pArA tEstAr A fUncAO'"
      ]
     },
     "execution_count": 122,
     "metadata": {},
     "output_type": "execute_result"
    }
   ],
   "source": [
    "def retorna_maiuscula(s):\n",
    "    if s in \"aeiou\":\n",
    "        return s.upper()\n",
    "    else:\n",
    "        return s\n",
    "    \n",
    "nossa_str = 'string para testar a funcao'\n",
    "nossa_str_list = [retorna_maiuscula(c) for c in nossa_str]\n",
    "''.join(nossa_str_list)\n"
   ]
  },
  {
   "cell_type": "markdown",
   "metadata": {
    "id": "-xZENba5jPDr"
   },
   "source": [
    "### Exercício 8)\n",
    "Repita o exercício 6) utilizando a função <font color='blue'>'lambda'</font> ao invés de uma função declarada pelo comando <font color='blue'>'def'</font>."
   ]
  },
  {
   "cell_type": "code",
   "execution_count": 123,
   "metadata": {
    "id": "mJzu7XZ9jPDr"
   },
   "outputs": [
    {
     "data": {
      "text/plain": [
       "{0: 7, 1: 3, 2: 2, 3: 2, 4: 4, 5: 2}"
      ]
     },
     "execution_count": 123,
     "metadata": {},
     "output_type": "execute_result"
    }
   ],
   "source": [
    " # Escreva o código aqui\n",
    "ocorrencias = lambda l: {i:l.count(i) for i in range(0,6)}\n",
    "ocorrencias(numeros)"
   ]
  },
  {
   "cell_type": "markdown",
   "metadata": {
    "id": "j8usO24FjPDr"
   },
   "source": [
    "### Exercício 9)\n",
    "Escreva uma função `intersecao` que recebe duas listas como parâmetros e retorna uma outra lista contendo apenas os elementos que aparencem em ambas, sem repetição de elementos.\n",
    "Por exemplo, o código abaixo:\n",
    "```python\n",
    "s1 = ['a', 'f', 'o', 'i', 'n', 'f', 'g', 'a', 'o', 'i']\n",
    "s2 = ['l', 'k', 'j', 'f', 'a', 'j', 'i']\n",
    "print(intersecao(s1,s2))\n",
    "```\n",
    "deve resultar em \n",
    "```python\n",
    "['a', 'f', 'i']\n",
    "```\n",
    "__Dica:__ Utilize dicionário para encontrar os elementos únicos em cada lista. Você também pode converter a lista para uma váriavel tipo conjunto utilizando o comando <font color='blue'>set</font> disponível no python. Conjuntos não possuem elementos repetidos."
   ]
  },
  {
   "cell_type": "code",
   "execution_count": 80,
   "metadata": {
    "id": "jM_fTiSNjPDr"
   },
   "outputs": [
    {
     "name": "stdout",
     "output_type": "stream",
     "text": [
      "None\n"
     ]
    }
   ],
   "source": [
    "s1 = ['a', 'f', 'o', 'i', 'n', 'f', 'g', 'a', 'o', 'i']\n",
    "s2 = ['l', 'k', 'j', 'f', 'a', 'j', 'i']\n",
    "\n",
    "def intersecao(l1,l2):\n",
    "    pass\n",
    "\n",
    "print(intersecao(s1,s2))"
   ]
  },
  {
   "cell_type": "code",
   "execution_count": 90,
   "metadata": {},
   "outputs": [
    {
     "data": {
      "text/plain": [
       "{'a', 'f', 'i'}"
      ]
     },
     "execution_count": 90,
     "metadata": {},
     "output_type": "execute_result"
    }
   ],
   "source": [
    "set(s1) & set(s2)"
   ]
  },
  {
   "cell_type": "code",
   "execution_count": 88,
   "metadata": {},
   "outputs": [
    {
     "data": {
      "text/plain": [
       "{'a', 'f', 'i'}"
      ]
     },
     "execution_count": 88,
     "metadata": {},
     "output_type": "execute_result"
    }
   ],
   "source": [
    "set(s1).intersection(set(s2))"
   ]
  },
  {
   "cell_type": "code",
   "execution_count": 91,
   "metadata": {},
   "outputs": [
    {
     "data": {
      "text/plain": [
       "['i', 'f', 'a']"
      ]
     },
     "execution_count": 91,
     "metadata": {},
     "output_type": "execute_result"
    }
   ],
   "source": [
    "[a for a in set(s1) if a in set(s2)]"
   ]
  },
  {
   "cell_type": "code",
   "execution_count": null,
   "metadata": {},
   "outputs": [],
   "source": [
    "def intersecao(l1,l2):\n",
    "    s1=[ l1[i] for i in range(len(l1)) if l1[i] not in l1[:i]]\n",
    "    s2=[ l2[i] for i in range(len(l2)) if l1[i] not in l2[:i]]\n",
    "    return [s1[i] for i in range(len(s1)) if s1[i] in s2]"
   ]
  },
  {
   "cell_type": "code",
   "execution_count": 98,
   "metadata": {},
   "outputs": [
    {
     "data": {
      "text/plain": [
       "['a', 'f', 'o', 'i', 'n', 'g']"
      ]
     },
     "execution_count": 98,
     "metadata": {},
     "output_type": "execute_result"
    }
   ],
   "source": [
    "def make_unique(s):\n",
    "    unique_dict = {} \n",
    "    for a in s:\n",
    "        if a in unique_dict:\n",
    "            continue\n",
    "        else:\n",
    "            unique_dict[a] = 1\n",
    "    return list(unique_dict.keys())\n",
    "make_unique(s1)"
   ]
  },
  {
   "cell_type": "code",
   "execution_count": 99,
   "metadata": {},
   "outputs": [
    {
     "data": {
      "text/plain": [
       "['a', 'f', 'i']"
      ]
     },
     "execution_count": 99,
     "metadata": {},
     "output_type": "execute_result"
    }
   ],
   "source": [
    "[a for a in make_unique(s1) if a in make_unique(s2)]"
   ]
  },
  {
   "cell_type": "markdown",
   "metadata": {
    "id": "qdRPcylZjPDr"
   },
   "source": [
    "### Exercício 10)\n",
    "As funções <font color='blue'>lambda</font>, também chamada de _funções anônimas_, são muito utilizadas quando se invoca um método (ou função) que aceita outra função como parâmetro. Por exemplo, a função <font color='blue'>sorted</font> aceita uma função com parâmetro, a qual é aplicada aos elementos da lista antes que a ordenação seja feita. Por exemplo:\n",
    "```python\n",
    "numeros = [0.11, -0.11, 0.4, 0.11, -0.57, -0.05, 0.85, -0.27, -0.07, -0.78]\n",
    "print(sorted(numeros,key=lambda x:x**2))\n",
    "```\n",
    "resulta nos elementos ordenados, mas como se eles estivessem elevados ao quadrado, ou seja, o resultado é:\n",
    "```python\n",
    "[-0.05, -0.07, 0.11, -0.11, 0.11, -0.27, 0.4, -0.57, -0.78, 0.85]\n",
    "```\n",
    "pois quando elevados ao quadrado e ordenados, os elementos da lista `numeros` resultam em:\n",
    "```python\n",
    "[0.0025, 0.0049, 0.0121, 0.0121, 0.0121, 0.0729, 0.1600, 0.3248, 0.6084, 0.7224]\n",
    "```\n",
    "\n",
    "Utilize a função <font color='blue'>lambda</font> combinada com o método <font color='blue'>sorted</font> para colocar todos os números múltiplos de 3 na parte esquerda de uma lista, ficando os demais números a direita. Por exemplo, a lista:\n",
    "```python\n",
    "[17, 46, 21, 16, 44, 1, 6, 5, 27, 24]\n",
    "```\n",
    "deve ficar organizada como:\n",
    "```python\n",
    "[21, 6, 27, 24, 17, 46, 16, 44, 1, 5]\n",
    "```\n",
    "onde `21, 6, 27, 24` ficam a esquerda, pois são múltipos de 3, equanto \n",
    "`17, 46, 16, 44, 1, 5` ficam a direita pois não são múltiplos de 3.\n",
    "\n",
    "Como teste para seu código, utilize a lista\n",
    "```python\n",
    "[2, 17, 12, 35, 39, 35, 4, 44, 12, 20, 7, 1, 21, 45, 43, 26, 6, 13, 48, 42]\n",
    "```\n",
    "que deve ficar organizada da seguinte forma:\n",
    "```python\n",
    "[12, 39, 12, 21, 45, 6, 48, 42, 2, 17, 35, 35, 4, 44, 20, 7, 1, 43, 26, 13]\n",
    "```"
   ]
  },
  {
   "cell_type": "code",
   "execution_count": null,
   "metadata": {
    "id": "DyGB9wuQjPDs"
   },
   "outputs": [],
   "source": [
    "n = [2, 17, 12, 35, 39, 35, 4, 44, 12, 20, 7, 1, 21, 45, 43, 26, 6, 13, 48, 42]\n",
    " # Escreva o código aqui"
   ]
  },
  {
   "cell_type": "code",
   "execution_count": 7,
   "metadata": {},
   "outputs": [
    {
     "data": {
      "text/plain": [
       "True"
      ]
     },
     "execution_count": 7,
     "metadata": {},
     "output_type": "execute_result"
    }
   ],
   "source": [
    "isinstance([3.0], list)"
   ]
  },
  {
   "cell_type": "code",
   "execution_count": 15,
   "metadata": {},
   "outputs": [],
   "source": [
    "x_list = [1, 2, 3, 4, [2, 3, 5], 2.0]"
   ]
  },
  {
   "cell_type": "code",
   "execution_count": 16,
   "metadata": {},
   "outputs": [
    {
     "name": "stdout",
     "output_type": "stream",
     "text": [
      "1 is list or int\n",
      "2 is list or int\n",
      "3 is list or int\n",
      "4 is list or int\n",
      "[2, 3, 5] is list or int\n"
     ]
    }
   ],
   "source": [
    "for x in x_list:\n",
    "    if isinstance(x, (list, int)):\n",
    "        print(f\"{x} is list or int\")"
   ]
  },
  {
   "cell_type": "code",
   "execution_count": 18,
   "metadata": {},
   "outputs": [
    {
     "data": {
      "text/plain": [
       "True"
      ]
     },
     "execution_count": 18,
     "metadata": {},
     "output_type": "execute_result"
    }
   ],
   "source": [
    "type(3) == int or type..."
   ]
  },
  {
   "cell_type": "code",
   "execution_count": 34,
   "metadata": {},
   "outputs": [],
   "source": [
    "X = list(range(100, 0, -2))"
   ]
  },
  {
   "cell_type": "code",
   "execution_count": 35,
   "metadata": {},
   "outputs": [
    {
     "data": {
      "text/plain": [
       "[100,\n",
       " 98,\n",
       " 96,\n",
       " 94,\n",
       " 92,\n",
       " 90,\n",
       " 88,\n",
       " 86,\n",
       " 84,\n",
       " 82,\n",
       " 80,\n",
       " 78,\n",
       " 76,\n",
       " 74,\n",
       " 72,\n",
       " 70,\n",
       " 68,\n",
       " 66,\n",
       " 64,\n",
       " 62,\n",
       " 60,\n",
       " 58,\n",
       " 56,\n",
       " 54,\n",
       " 52,\n",
       " 50,\n",
       " 48,\n",
       " 46,\n",
       " 44,\n",
       " 42,\n",
       " 40,\n",
       " 38,\n",
       " 36,\n",
       " 34,\n",
       " 32,\n",
       " 30,\n",
       " 28,\n",
       " 26,\n",
       " 24,\n",
       " 22,\n",
       " 20,\n",
       " 18,\n",
       " 16,\n",
       " 14,\n",
       " 12,\n",
       " 10,\n",
       " 8,\n",
       " 6,\n",
       " 4,\n",
       " 2]"
      ]
     },
     "execution_count": 35,
     "metadata": {},
     "output_type": "execute_result"
    }
   ],
   "source": [
    "X"
   ]
  },
  {
   "cell_type": "code",
   "execution_count": 43,
   "metadata": {},
   "outputs": [
    {
     "data": {
      "text/plain": [
       "[6, 10, 14, 18]"
      ]
     },
     "execution_count": 43,
     "metadata": {},
     "output_type": "execute_result"
    }
   ],
   "source": [
    "sorted(X)[2:10:2]"
   ]
  },
  {
   "cell_type": "code",
   "execution_count": 33,
   "metadata": {},
   "outputs": [
    {
     "data": {
      "text/plain": [
       "[0,\n",
       " 1,\n",
       " 1,\n",
       " 0,\n",
       " 1,\n",
       " 1,\n",
       " 0,\n",
       " 1,\n",
       " 1,\n",
       " 0,\n",
       " 1,\n",
       " 1,\n",
       " 0,\n",
       " 1,\n",
       " 1,\n",
       " 0,\n",
       " 1,\n",
       " 1,\n",
       " 0,\n",
       " 1,\n",
       " 1,\n",
       " 0,\n",
       " 1,\n",
       " 1,\n",
       " 0,\n",
       " 1,\n",
       " 1,\n",
       " 0,\n",
       " 1,\n",
       " 1,\n",
       " 0,\n",
       " 1,\n",
       " 1,\n",
       " 0,\n",
       " 1,\n",
       " 1,\n",
       " 0,\n",
       " 1,\n",
       " 1,\n",
       " 0,\n",
       " 1,\n",
       " 1,\n",
       " 0,\n",
       " 1,\n",
       " 1,\n",
       " 0,\n",
       " 1,\n",
       " 1,\n",
       " 0,\n",
       " 1]"
      ]
     },
     "execution_count": 33,
     "metadata": {},
     "output_type": "execute_result"
    }
   ],
   "source": [
    "[int(xzinho % 3 != 0) for xzinho in X]"
   ]
  },
  {
   "cell_type": "code",
   "execution_count": null,
   "metadata": {},
   "outputs": [],
   "source": []
  },
  {
   "cell_type": "code",
   "execution_count": null,
   "metadata": {},
   "outputs": [],
   "source": []
  },
  {
   "cell_type": "code",
   "execution_count": null,
   "metadata": {},
   "outputs": [],
   "source": []
  },
  {
   "cell_type": "code",
   "execution_count": null,
   "metadata": {},
   "outputs": [],
   "source": []
  },
  {
   "cell_type": "code",
   "execution_count": null,
   "metadata": {},
   "outputs": [],
   "source": []
  },
  {
   "cell_type": "markdown",
   "metadata": {
    "id": "6funjacwNy-q"
   },
   "source": [
    "## <span style=\"color:blue\">Avaliação Python Parte II</span>"
   ]
  },
  {
   "cell_type": "markdown",
   "metadata": {
    "id": "fXbLVfzhNy-3"
   },
   "source": [
    "### Exercício 1) \n",
    "Considere a lista `mat` abaixo, onde cada elemento é também uma lista. Cada lista correspondendo a um elemento de `mat` tem como primeiro elemento o cargo, o segundo elemento o nível de formação e o terceiro o nome de um  funcionário.\n",
    "\n",
    "\n",
    "Utilize comprehension para gerar uma lista chamada `nomes` que contenha o nome dos funcionários que __NÃO__ são doutor. \n",
    "Dentre as opções abaixo, qual implementa a solução correta?\n",
    "\n",
    "a) <font color='red'>nomes = [s[2] for s in mat if s[1] != 'doutor']</font><br>\n",
    "b) nomes = [s[1] for s in mat if s[2] != 'doutor']<br>\n",
    "c) nomes = [s for s in mat if s != 'doutor']<br>\n",
    "d) nomes = [s[0] for s in mat if s != 'doutor']"
   ]
  },
  {
   "cell_type": "code",
   "execution_count": 1,
   "metadata": {
    "colab": {
     "base_uri": "https://localhost:8080/"
    },
    "executionInfo": {
     "elapsed": 8,
     "status": "ok",
     "timestamp": 1642619854749,
     "user": {
      "displayName": "Luis Gustavo Nonato",
      "photoUrl": "https://lh3.googleusercontent.com/a/default-user=s64",
      "userId": "16109025348268293164"
     },
     "user_tz": 180
    },
    "id": "WgBIqbVINy-4",
    "outputId": "7e8123a4-cccc-4a11-86e1-282a6b313aa2"
   },
   "outputs": [
    {
     "name": "stdout",
     "output_type": "stream",
     "text": [
      "['Carlos', 'Lucas', 'Alberto', 'Ricardo', 'Fernando', 'Jose', 'Joao', 'Fernanda']\n"
     ]
    }
   ],
   "source": [
    "mat = [\n",
    "    ['supervisor', 'tecnico', 'Carlos'],\n",
    "    ['assistente', 'tecnico', 'Lucas'],\n",
    "    ['iniciante', 'doutor', 'Jessica'],\n",
    "    ['supervisor', 'mestre', 'Alberto'],\n",
    "    ['gerente', 'graduado', 'Ricardo'],\n",
    "    ['engenheiro', 'graduado', 'Fernando'],\n",
    "    ['gerente', 'mestre', 'Jose'],\n",
    "    ['iniciante', 'graduado', 'Joao'],\n",
    "    ['supervisor', 'graduado', 'Fernanda'],\n",
    "    ['gerente', 'doutor', 'Marcos']\n",
    "]\n",
    "\n",
    "nomes = [s[2] for s in mat if s[1] != 'doutor' ]\n",
    "print(nomes)"
   ]
  },
  {
   "cell_type": "markdown",
   "metadata": {
    "id": "qNf3LdUGNy-7"
   },
   "source": [
    "### Exercício 2)\n",
    "Ainda utilizando a lista `mat` do exercício anterior e comprehension, crie um dicionário chamado `dc` onde cada elemento é da forma `nome:(cargo, formacao)`, ou seja, as chaves são os _nomes_ e os valores uma tupla com o par (_cargo_, _nível de formação_). A forma correta de implentar a solução é:\n",
    "\n",
    "a) <font color='red'>dc = {s[2]:(s[0],s[1]) for s in mat}</font><br>\n",
    "b) dc = [s[2]:(s[0],s[1]) for s in mat]<br>\n",
    "c) dc = {s:(s[0],s[1]) for s in mat}<br>\n",
    "d) dc = {s[2]:[s[0],s[1]] for s in mat}"
   ]
  },
  {
   "cell_type": "code",
   "execution_count": null,
   "metadata": {
    "id": "kMvAVc18Ny-9",
    "outputId": "3d56e916-2bc7-41ac-b649-d29d8e857a8c"
   },
   "outputs": [
    {
     "name": "stdout",
     "output_type": "stream",
     "text": [
      "Carlos: ('supervisor', 'tecnico')\n",
      "{'Carlos': ('supervisor', 'tecnico'), 'Lucas': ('assistente', 'tecnico'), 'Jeremias': ('iniciante', 'doutor'), 'Alberto': ('supervisor', 'mestre'), 'Ricardo': ('gerente', 'graduado'), 'Fernando': ('engenheiro', 'graduado')}\n"
     ]
    }
   ],
   "source": [
    "dc = {s[2]:(s[0],s[1]) for s in mat}\n",
    "print('Carlos:',dc['Carlos'])\n",
    "print(dc)"
   ]
  },
  {
   "cell_type": "markdown",
   "metadata": {
    "id": "xlNmh7NuNy--"
   },
   "source": [
    "### Exercício 3) \n",
    "A função `variacoes` descrita abaixo \n",
    "```python\n",
    "def variacoes(s):\n",
    "    dc = {______________}\n",
    "    return(dc)\n",
    "```\n",
    "recebe uma 'string' como parâmetro e gera um dicionário como resposta, onde as chaves do dicionário são todas as variações da string com um caracter removido, colocando a string original como valor associado a cada chave . Por exemplo:\n",
    "```python\n",
    "print(variacoes('casa'))\n",
    "```\n",
    "deve resultar em:\n",
    "```python\n",
    "{'asa': 'casa', 'csa': 'casa', 'caa': 'casa', 'cas': 'casa'}\n",
    "```\n",
    "\n",
    "Qual das alternativas abaixo completa corretamente a função?\n",
    "\n",
    "a) {s[0]+s[1] for s in range(len(s))}<br>\n",
    "b) {s[:i]+s[i+1:]:i for i in s}<br>\n",
    "c) {s[0:i]+s[i+1:]:s for i in len(s)}<br>\n",
    "d) <font color='red'> {s[0:i]+s[i+1:]:s for i in range(len(s))} </font>"
   ]
  },
  {
   "cell_type": "code",
   "execution_count": 2,
   "metadata": {
    "colab": {
     "base_uri": "https://localhost:8080/"
    },
    "executionInfo": {
     "elapsed": 257,
     "status": "ok",
     "timestamp": 1642621375349,
     "user": {
      "displayName": "Luis Gustavo Nonato",
      "photoUrl": "https://lh3.googleusercontent.com/a/default-user=s64",
      "userId": "16109025348268293164"
     },
     "user_tz": 180
    },
    "id": "QFfqmQAWNy-_",
    "outputId": "41676620-f09e-4b99-f468-0d148cd17e28"
   },
   "outputs": [
    {
     "name": "stdout",
     "output_type": "stream",
     "text": [
      "{'asamento': 'casamento', 'csamento': 'casamento', 'caamento': 'casamento', 'casmento': 'casamento', 'casaento': 'casamento', 'casamnto': 'casamento', 'casameto': 'casamento', 'casameno': 'casamento', 'casament': 'casamento'}\n"
     ]
    }
   ],
   "source": [
    "def variacoes(s):\n",
    "    dc = {s[0:i]+s[i+1:]:s for i in range(len(s))}\n",
    "    return(dc)\n",
    "\n",
    "print(variacoes('casamento'))"
   ]
  },
  {
   "cell_type": "markdown",
   "metadata": {
    "id": "2C36zssaNy_B"
   },
   "source": [
    "### Exercício 4) \n",
    "O método <font color='blue'>sorted</font> assume como atributos uma sequência e um parâmetro `key` que pode ser uma função que será aplicada aos elementos da sequência a fim de ordená-los de acordo com os valores resultantes da função (veja lista de exercícios da aula).\n",
    "\n",
    "Utilize uma função <font color='blue'>lambda</font> como parâmetro `key` no método <font color='blue'>sorted</font> para ordenar uma lista cujos elementos são numéricos, de modo que cada elemento seja ordenado como se tivesse o valor $x^2-x$, onde $x$ corresponde a cada elemento da lista.\n",
    "\n",
    "O resultado da ordenação quando aplicada à lista \n",
    "```python\n",
    "[0.11, -0.11, 0.4, 0.11, -0.57, -0.05, 0.85, -0.27, -0.07, -0.78, 0.13, 0.36]\n",
    "```\n",
    "será:\n",
    "\n",
    "a) [-0.78, -0.57, -0.27, -0.11, -0.07, -0.05, 0.11, 0.11, 0.4, 0.85, 0.13, 0.36]<br>\n",
    "b) [0.11, 0.11, -0.27, -0.78, -0.11, -0.07, 0.13, 0.36, -0.05,  -0.57, 0.4, 0.85]<br>\n",
    "c) <font color='red'>[0.4, 0.36, 0.85, 0.13, 0.11, 0.11, -0.05, -0.07, -0.11, -0.27, -0.57, -0.78]</font><br>\n",
    "d) [-0.05, 0.11, -0.07, 0.13, -0.11, 0.11, 0.36, -0.27, 0.4, -0.57, -0.78, 0.85]"
   ]
  },
  {
   "cell_type": "code",
   "execution_count": 4,
   "metadata": {
    "colab": {
     "base_uri": "https://localhost:8080/"
    },
    "executionInfo": {
     "elapsed": 321,
     "status": "ok",
     "timestamp": 1642622109454,
     "user": {
      "displayName": "Luis Gustavo Nonato",
      "photoUrl": "https://lh3.googleusercontent.com/a/default-user=s64",
      "userId": "16109025348268293164"
     },
     "user_tz": 180
    },
    "id": "7F-kuDkuNy_C",
    "outputId": "497407f6-8db4-40c7-81d3-5e53b17f1870"
   },
   "outputs": [
    {
     "name": "stdout",
     "output_type": "stream",
     "text": [
      "[0.4, 0.36, 0.85, 0.13, 0.11, 0.11, -0.05, -0.07, -0.11, -0.27, -0.57, -0.78]\n"
     ]
    }
   ],
   "source": [
    "l = [0.11, -0.11, 0.4, 0.11, -0.57, -0.05, 0.85, -0.27, -0.07, -0.78, 0.13, 0.36]\n",
    "print(sorted(l,key=lambda x:x**2-x))"
   ]
  },
  {
   "cell_type": "markdown",
   "metadata": {
    "id": "S2H0JLg1Ny_E"
   },
   "source": [
    "### Exercício 5) \n",
    "Construa uma função `concatena_dicionarios` que recebe dois dicionários como atributos e concatena ambos em um único dicionário contendo as chaves e valores dos dois dicionários. Se a chave se repete em ambos, junte os valores em uma lista. Por exemplo, dados os dicionários:\n",
    "```python\n",
    "dc1 = {1: '5479', 5: '1479', 7: '1549', 9: '1547'}\n",
    "dc2 = {5: '2647', 2: '9647', 1: '9247'}\n",
    "```\n",
    "a função deve resultar no dicionário\n",
    "```python\n",
    "{1: ['5479', '9247'], 7: '1549', 5: ['1479', '2647'], 9: '1547', 2: '9647'}\n",
    "```\n",
    "Supondo os dicionários:\n",
    "```python\n",
    "dc1 = {4: '10153', 18: '41118', 2: '101515', 15: '354', 7: '4145', 8: '10316', 3: '121016', \n",
    "       11: '15122', 12: '16158', 10: '4188', 14: '15318', 5: '11711', 16: '181412'}\n",
    "\n",
    "dc2 = {19: '16619', 4: '11310', 18: '171112', 11: '171817', 12: '171911', 6: '4195', \n",
    "       5: '171910', 3: '10310', 16: '191916', 10: '111619', 17: '51016'}\n",
    "```\n",
    "como entrada para a função construída, quantas listas são criadas como valores do dicionário?\n",
    "\n",
    "Dica: Você pode utilizar a função <font color='blue'> isinstance </font> do Python que verifica se uma variável é de um determinado tipo. Por exemplo:\n",
    "```python\n",
    "x = 3.7\n",
    "print(isinstance(x,float))\n",
    "```\n",
    "irá imprimir o valor <font color='green'> True </font>. Com a função <font color='blue'> isinstance </font> você pode verificar se o valor do dicionário é uma lista (<font color='green'> list </font>).\n",
    "\n",
    "Outra possibilidade é simplesmente contar quantas chaves aparecem repetidas em ambos os dicionários.\n",
    "\n",
    "a) Número de listas criadas: 5 <br>\n",
    "b) Número de listas criadas: 6<br>\n",
    "c) Número de listas criadas: 7<br>\n",
    "d) <font color='red'> Número de listas criadas: 8</font>"
   ]
  },
  {
   "cell_type": "code",
   "execution_count": null,
   "metadata": {
    "colab": {
     "base_uri": "https://localhost:8080/"
    },
    "executionInfo": {
     "elapsed": 257,
     "status": "ok",
     "timestamp": 1642624082568,
     "user": {
      "displayName": "Luis Gustavo Nonato",
      "photoUrl": "https://lh3.googleusercontent.com/a/default-user=s64",
      "userId": "16109025348268293164"
     },
     "user_tz": 180
    },
    "id": "-isO4J3VNy_F",
    "outputId": "6b7f5312-f507-49e5-bc90-6829b521681f"
   },
   "outputs": [
    {
     "name": "stdout",
     "output_type": "stream",
     "text": [
      "[(2, '101515'), (3, ['121016', '10310']), (4, ['10153', '11310']), (5, ['11711', '171910']), (6, '4195'), (7, '4145'), (8, '10316'), (10, ['4188', '111619']), (11, ['15122', '171817']), (12, ['16158', '171911']), (14, '15318'), (15, '354'), (16, ['181412', '191916']), (17, '51016'), (18, ['41118', '171112']), (19, '16619')]\n",
      "Numero de listas: 8\n"
     ]
    }
   ],
   "source": [
    "def concatena_dicionarios(d1,d2):\n",
    "    dr = d1\n",
    "    for k,v in d2.items():\n",
    "        if k in d1:\n",
    "            dr[k] = [dr[k],v]\n",
    "        else:\n",
    "            dr[k] = v\n",
    "    return(dr)\n",
    "\n",
    "dc1 = {4: '10153', 18: '41118', 2: '101515', 15: '354', 7: '4145', 8: '10316', 3: '121016', \n",
    " 11: '15122', 12: '16158', 10: '4188', 14: '15318', 5: '11711', 16: '181412'}\n",
    "dc2 = {19: '16619', 4: '11310', 18: '171112', 11: '171817', 12: '171911', 6: '4195', \n",
    "       5: '171910', 3: '10310', 16: '191916', 10: '111619', 17: '51016'}\n",
    "\n",
    "dc12 = concatena_dicionarios(dc1,dc2)\n",
    "n_listas = 0\n",
    "for k,v in dc12.items():\n",
    "  if isinstance(v,list):\n",
    "      n_listas += 1\n",
    "\n",
    "print(sorted(dc12.items()))\n",
    "print('Numero de listas:',n_listas)\n"
   ]
  },
  {
   "cell_type": "markdown",
   "metadata": {
    "id": "-ZWWXg-hkWk2"
   },
   "source": [
    "## <span style=\"color:blue\">Python Parte III</span>"
   ]
  },
  {
   "cell_type": "markdown",
   "metadata": {
    "id": "2hNnzpWfkWk7"
   },
   "source": [
    "---\n",
    "__Conteúdos:__\n",
    "- Módulos e pacotes\n",
    "- Programação Funcional\n",
    "- I/O em python\n",
    "- Noções básicas de classes e objetos\n",
    "\n",
    "__Referências:__\n",
    "- Mark Lutz, Learning Python, O'Reilly, 2013\n",
    "- Eric Matthes, Python Crash Course: A Hands-On, Project-Based Introduction to Programming, No Starch Press, 2015"
   ]
  },
  {
   "cell_type": "markdown",
   "metadata": {
    "id": "iEWITGV8kWk8"
   },
   "source": [
    "---\n",
    "## Módulos e Pacotes\n",
    "Um _módulo_ (module) é um arquivo que pode ser importado com o comando <font color='blue'>import</font>. Essencialmente qualquer arquivo em Python é um módulo. A sintaxe para importar um módulo é:\n",
    "```python\n",
    "import nome_do_modulo\n",
    "```\n",
    "Um pacote é um módulo que contem vários módulos, podendo incluir outros subpacotes. Tipicamente, se importa apenas as partes de um pacote necessárias para desenvolver o código desejado. Por exemplo, um pacote muito importante em Python é o Numpy (que estudaremos mais adiante no curso), que inclui vários módulos. A sintaxe para importar um dos módulos do pacote Numpy é a seguinte:\n",
    "\n",
    "```python\n",
    "import numpy.random   # módulo do Numpy de geração de números randomicos\n",
    "import numpy.linalg   # módulo do Numpy para problemas de Algebra Linear, \n",
    "                      # como solução de sistemas\n",
    "```"
   ]
  },
  {
   "cell_type": "markdown",
   "metadata": {
    "id": "ckdNFxsJkWk8"
   },
   "source": [
    "### Comando *Import*\n",
    "- O comando <font color='blue'>import</font> carrega tudo que existe no módulo indicado \n",
    "- O módulo só é carregado uma vez, independente do número de vezes que é importado\n",
    "\n",
    "### Comando *from*\n",
    "- O comando <font color='blue'>from</font> permite importar apenas elementos específicos de um módulo\n",
    "\n",
    "[Neste link](https://docs.anaconda.com/anaconda/packages/py3.6_osx-64/) pode-se encontrar uma lista dos principais módulos, ou pacotes do Python, indicando os que já são automaticamente instalados com a distribuição Anaconda.\n",
    "\n",
    "Os principais pacotes e módulos que iremos utilizar no decorrer do curso sao:\n",
    "- numpy\n",
    "- matplotlib\n",
    "- pandas\n",
    "- sklearn\n",
    "- math\n",
    "- sys"
   ]
  },
  {
   "cell_type": "markdown",
   "metadata": {
    "id": "oPkIWyhhkWk8"
   },
   "source": [
    "### Escopo de Atributos e Métodos Definidos em Módulos\n",
    "- Atributos e métodos definidos em um módulo são acessados utilizando a sintaxe `nome_do_modulo.nome_do_atributo` e `nome_do_modulo.nome_do_metodo`\n",
    "- O conteúdo de módulos podem ser acessado pelo atributo `__dict__` de um módulo ou usando o método <font color='blue'>dir</font>"
   ]
  },
  {
   "cell_type": "code",
   "execution_count": null,
   "metadata": {
    "id": "fuUVcRWTkWk9"
   },
   "outputs": [],
   "source": [
    "import sys  # importa o módulo 'sys'\n",
    "dir(sys)    # lista todos os atributos e métodos contidos no módulo 'sys'"
   ]
  },
  {
   "cell_type": "markdown",
   "metadata": {
    "id": "QK6-tuIVkWk9"
   },
   "source": [
    "### Caminho de Busca de um Módulo\n",
    "Quando importa um módulo, Python usa um caminho de busca para determinar a sua localização\n",
    "\n",
    "Os caminhos de busca compreendem:\n",
    "- Diretório de trabalho (local o código esta sendo desenvolvido)\n",
    "- Diretórios do PYTHONPATH\n",
    "- Diretórios padrão de bibliotecas\n",
    "- Os conteúdos de qualquer arquivo .pth\n",
    "- O diretório site-packages\n",
    "\n",
    "Os caminhos de busca se encontram disponíveis no atributo <font color='blue'>sys.path</font>"
   ]
  },
  {
   "cell_type": "code",
   "execution_count": null,
   "metadata": {
    "id": "9UDMEL4YkWk9",
    "outputId": "a5e9f3d9-222a-44d3-d630-c4fa29e8ec4c"
   },
   "outputs": [
    {
     "name": "stdout",
     "output_type": "stream",
     "text": [
      "['/Users/lgnonato/Dropbox/Cursos/MBA/ProgramacaoCienciaDados/Modulo 3', '/anaconda3/lib/python37.zip', '/anaconda3/lib/python3.7', '/anaconda3/lib/python3.7/lib-dynload', '', '/anaconda3/lib/python3.7/site-packages', '/anaconda3/lib/python3.7/site-packages/aeosa', '/anaconda3/lib/python3.7/site-packages/nimfa-1.3.4-py3.7.egg', '/anaconda3/lib/python3.7/site-packages/IPython/extensions', '/Users/lgnonato/.ipython']\n"
     ]
    }
   ],
   "source": [
    "print(sys.path)"
   ]
  },
  {
   "cell_type": "markdown",
   "metadata": {
    "id": "eGdlhoEUkWk-"
   },
   "source": [
    "### Variáveis Especiais \n",
    "Os desenvolvedores do Python criaram uma nomenclatura para distinguir variáveis em cada módulo.\n",
    "\n",
    "Variáveis começando com `underscore` não são importadas pelo comando <font color='blue'>from</font> juntamente com <font color='blue'>*</font> <br>\n",
    "Por exemplo:\n",
    "```python \n",
    "from nome_do_modulo import *  # o simbolo * indica que será importado \n",
    "                              # do módulo tudo que for permitido\n",
    "```\n",
    "não irá importar as variáveis do módulo que começam com o símbolo '_' (underscore).\n",
    "\n",
    "Os módulos possuem uma lista chamada <font color='blue'>\\_\\_all\\_\\_</font> e as\n",
    "variáveis descritas nesta lista serão importados quando <font color='blue'>from</font> é utilizado juntamente com <font color='blue'>*</font>\n",
    "\n",
    "Pode-se acessar o nome de um módulo por meio da variável <font color='blue'>\\_\\_name\\_\\_</font>, também disponível nos módulos.\n",
    "\n",
    "Um recurso muito utilizado é associar um \"apelido\" a um módulo para facilitar seu uso no código. Um apelido é gerado com o uso do comando <font color='blue'>as</font>"
   ]
  },
  {
   "cell_type": "code",
   "execution_count": null,
   "metadata": {
    "id": "nueK0D7lkWk_",
    "outputId": "42fad0e6-c1e5-42c9-925c-dbe1cabcd1a8"
   },
   "outputs": [
    {
     "name": "stdout",
     "output_type": "stream",
     "text": [
      "numpy\n"
     ]
    }
   ],
   "source": [
    "import numpy as np  # np é o apelido do módulo 'numpy'\n",
    "\n",
    "print(np.__name__)"
   ]
  },
  {
   "cell_type": "markdown",
   "metadata": {
    "id": "Wy7EUpWRkWk_"
   },
   "source": [
    "---\n",
    "## Programação Funcional\n",
    "Python implementa um conjunto de funções, chamadas de _funcionais_, que são utilizadas para aplicar outra função em uma sequência de elementos. O uso de funcionais visa, principalmente, evitar o uso de laços (<font color='blue'>for</font> e <font color='blue'>while</font>), fornecendo implementações muito eficientes para tarefas que aparecem frequentemente em programação, como percorrer uma lista aplicando uma função a cada elemento da lista, filtrar elementos de uma lista de acordo com algum critério, dentre outras. \n",
    "\n",
    "Dentre os funcionais implementados no Python, destacam-se:\n",
    "- <font color='blue'>map</font>\n",
    "- <font color='blue'>filter</font>\n",
    "- <font color='blue'>reduce</font>\n",
    "\n",
    "A sintaxe dos funcionais é:\n",
    "```python\n",
    "funcional(func,iterador)\n",
    "```\n",
    "onde a função `func` é a função a ser aplicada e `iterador` é uma sequência ou um iterador (método que produz uma sequência de elementos, como o <font color='blue'>range</font> por exemplo)."
   ]
  },
  {
   "cell_type": "markdown",
   "metadata": {
    "id": "7OJ7zzYqkWk_"
   },
   "source": [
    "### <font color='blue'>map</font>\n",
    "O funcional <font color='blue'>map</font> aplica a função 'func' a todos os elementos do 'iterador'. \n",
    "\n",
    "O resultado do funcional <font color='blue'>map</font> é um objeto `map`, não uma sequência. Para obter a sequência é preciso realizar a conversão para o tipo de sequência desejada."
   ]
  },
  {
   "cell_type": "code",
   "execution_count": null,
   "metadata": {
    "id": "xpxiHrTMkWk_",
    "outputId": "1d0a3dce-7741-4da7-b8e1-8e9d710e6374"
   },
   "outputs": [
    {
     "name": "stdout",
     "output_type": "stream",
     "text": [
      "<map object at 0x116c626a0>\n"
     ]
    }
   ],
   "source": [
    "def quadrado(s):  # eleva um número ao quadrado\n",
    "    return(s**2)\n",
    "\n",
    "m = map(quadrado,[1,2,3,4,5])\n",
    "print(m)"
   ]
  },
  {
   "cell_type": "markdown",
   "metadata": {
    "id": "xv2X5ug2kWlA"
   },
   "source": [
    "Note que o resultado não é a sequência de números ao quadrado, mas sim um objeto `map`. Para obter a sequência, precisamos gerá-la."
   ]
  },
  {
   "cell_type": "code",
   "execution_count": null,
   "metadata": {
    "id": "jADbJwnzkWlA",
    "outputId": "e5b029a0-b697-47b1-8b4f-34563585ae79"
   },
   "outputs": [
    {
     "name": "stdout",
     "output_type": "stream",
     "text": [
      "[1, 4, 9, 16, 25]\n"
     ]
    }
   ],
   "source": [
    "def quadrado(s):  # eleva um número ao quadrado\n",
    "    return(s**2)\n",
    "\n",
    "quadrado = list(map(quadrado,[1,2,3,4,5])) # o comando 'list'gera a lista resultante do 'map'\n",
    "print(quadrado)"
   ]
  },
  {
   "cell_type": "markdown",
   "metadata": {
    "id": "Ap2Up1_RkWlA"
   },
   "source": [
    "O código acima é equivalente a:\n",
    "```python\n",
    "quadrado = []\n",
    "for i in [1,2,3,4,5]:\n",
    "    quadrado.append(i**2)\n",
    "print(quadrado)\n",
    "```\n",
    "Porém, com o uso do <font color='blue'>map</font>, a execução é muito mais eficiente, pois o laço <font color='blue'>for</font> é implementado internamente de forma otimizada.\n",
    "\n",
    "É muito comum utilizar função <font color='blue'>lambda</font> em conjunto com funcionais."
   ]
  },
  {
   "cell_type": "code",
   "execution_count": null,
   "metadata": {
    "id": "mrMoiiCSkWlA",
    "outputId": "ed96281a-68f7-438c-990a-2e4b6075a36e"
   },
   "outputs": [
    {
     "name": "stdout",
     "output_type": "stream",
     "text": [
      "[1, 4, 9, 16, 25]\n"
     ]
    }
   ],
   "source": [
    "quadrado = list(map(lambda x:x**2,[1,2,3,4,5]))\n",
    "print(quadrado)"
   ]
  },
  {
   "cell_type": "markdown",
   "metadata": {
    "id": "6cpiUogckWlB"
   },
   "source": [
    "### <font color='blue'>filter</font>\n",
    "O funcional <font color='blue'>filter</font> aplica a função 'func' a todos os elementos do 'iterador', retornando os elementos da sequência onde `func` retorna <font color='blue'>True</font>.\n",
    "Desta forma, o resultado de `func` deve ser um booleando (True ou False).\n",
    "\n",
    "O resultado do funcional <font color='blue'>filter</font> é um objeto `filter`. Para obter a sequência é preciso realizar a conversão para o tipo de sequência desejada."
   ]
  },
  {
   "cell_type": "code",
   "execution_count": null,
   "metadata": {
    "id": "AESgdlVJkWlB",
    "outputId": "1f47e339-a220-4b23-a85f-cc9805490593"
   },
   "outputs": [
    {
     "name": "stdout",
     "output_type": "stream",
     "text": [
      "[0, 2, 4, 6, 8]\n"
     ]
    }
   ],
   "source": [
    "ls = list(filter(lambda x: x%2==0,range(10))) # retorna os números entre 0 e 9 que são par\n",
    "print(ls)"
   ]
  },
  {
   "cell_type": "markdown",
   "metadata": {
    "id": "dtbjGjhlkWlB"
   },
   "source": [
    "### <font color='blue'>reduce</font>\n",
    "O funcional <font color='blue'>reduce</font> é um método do módulo <font color='blue'>functools</font>, onde vários funcionais estão disponíveis.\n",
    "\n",
    "Este funcional aplica 'func' acumulativamente aos itens do 'iterador', da esquerda para a direita, de maneira a reduzir a sequência a apenas um elemento\n",
    "- a função 'func' sempre precisa receber dois argumentos, um onde a acumulação será feita e o outro o valor a ser acumulado."
   ]
  },
  {
   "cell_type": "code",
   "execution_count": null,
   "metadata": {
    "id": "SoCuRVPRkWlC",
    "outputId": "a7f5009c-1df8-4b15-9719-59f341dfb220"
   },
   "outputs": [
    {
     "name": "stdout",
     "output_type": "stream",
     "text": [
      "45\n",
      "45\n"
     ]
    }
   ],
   "source": [
    "from functools import reduce\n",
    "\n",
    "r = reduce(lambda x,y: x+y,range(10)) # irá acumular as soma dos números de 0 a 9 na variável x\n",
    "print(r)\n",
    "\n",
    "# equivalente à\n",
    "x = 0\n",
    "for y in range(10):\n",
    "    x = x + y\n",
    "print(x)"
   ]
  },
  {
   "cell_type": "markdown",
   "metadata": {
    "id": "jBH68lYLkWlC"
   },
   "source": [
    "O funcional <font color='blue'>reduce</font> permite especificar qual o valor inicial da variável acumulada, passando este valor como parâmetro."
   ]
  },
  {
   "cell_type": "code",
   "execution_count": null,
   "metadata": {
    "id": "wELKPnn4kWlC",
    "outputId": "d3749896-c98c-4825-83a1-57dad0a75ba6"
   },
   "outputs": [
    {
     "name": "stdout",
     "output_type": "stream",
     "text": [
      "145\n",
      "145\n"
     ]
    }
   ],
   "source": [
    "r = reduce(lambda x,y: x+y,range(10),100) # irá acumular as soma dos números de 0 a 9 na variável x, \n",
    "                                          # porém, a variável x é inicializada como 100\n",
    "print(r)\n",
    "\n",
    "# equivalente à\n",
    "x = 100\n",
    "for y in range(10):\n",
    "    x = x + y\n",
    "print(x)"
   ]
  },
  {
   "cell_type": "markdown",
   "metadata": {
    "id": "nzw_LDfCkWlD"
   },
   "source": [
    "---\n",
    "## Leitura e Escrita de Arquivos (I/O)\n",
    "- Python manipula naturalmente arquivos _ascii_, mas arquivos binários também são possíveis de serem utilizados\n",
    "- O conteúdo de um arquivo é sempre uma string. Desta forma, deve-se fazer a conversão de/para string na leitura/escrita\n",
    "- Arquivos são lidos/escritos em buffers, o que significa que deve-se assegurar, principalmente no processo de escrita de arquivos, que o conteúdo foi salvo em disco\n",
    "   - fechar o arquivo (comando <font color='blue'>close</font> em Python) ou usar o comando `flush`, forçando os dados do buffer serem escritos em disco"
   ]
  },
  {
   "cell_type": "markdown",
   "metadata": {
    "id": "99gnGmgxkWlD"
   },
   "source": [
    "### <font color='blue'>open</font>\n",
    "O comando  <font color='blue'>open</font> abre um arquivo em um determinado modo. A sintaxe é:\n",
    "```python\n",
    "open(nome_do_arquivo, modo)\n",
    "``` \n",
    "O resultado é um objeto tipo 'arquivo' (`io`).<br>\n",
    "\n",
    "O parâmetro `modo` pode ser:\n",
    "- ‘r’ para leitura (read)\n",
    "- ‘w’ para escrita(write)\n",
    "- ‘a’ para acrescentar conteúdo em um arquivo existente(append)\n",
    "- ‘r+’ para leitura e escrita\n",
    "\n",
    "Se o arquivo não pode ser aberto, o interpretador envia a mensagem de erro tipo 'IOError'<br>\n",
    "Métodos do objeto tipo 'arquivo' são usados para ler, escrever e controlar o processo de leitura e escrita."
   ]
  },
  {
   "cell_type": "markdown",
   "metadata": {
    "id": "HEQh7YV0kWlD"
   },
   "source": [
    "Para ilustrarmos a funcionalidade de leitura, vamos primeiro criar um arquivo com o commando <font color='blue'>%%writefile</font>. Este comando escreve tudo que estiver na célula do notebook para um aquivo especificado. No exemplo abaixo, o commando `%%writefile data.txt` irá escrever todo o conteúdo da célula no arquivo chamado 'data.txt'\n",
    "\n",
    "Verifique no seu diretório de trabalho (onde este notebook está) que o arquivo 'data.txt' será criado após executar a célula abaixo."
   ]
  },
  {
   "cell_type": "code",
   "execution_count": null,
   "metadata": {
    "id": "K_w8p-8MkWlE",
    "outputId": "93ba3ad0-dfe4-4b59-b3c5-9c5495697b25"
   },
   "outputs": [
    {
     "name": "stdout",
     "output_type": "stream",
     "text": [
      "Overwriting data.txt\n"
     ]
    }
   ],
   "source": [
    "%%writefile data.txt \n",
    "hello world\n",
    "today is raining\n",
    "winter is comming"
   ]
  },
  {
   "cell_type": "code",
   "execution_count": null,
   "metadata": {
    "id": "yAX5ZoXvkWlF",
    "outputId": "61e0c2b1-0316-4d1c-9ceb-97998e30b97f"
   },
   "outputs": [
    {
     "name": "stdout",
     "output_type": "stream",
     "text": [
      "<_io.TextIOWrapper name='data.txt' mode='r' encoding='UTF-8'>\n"
     ]
    }
   ],
   "source": [
    "# instanciando um objeto 'arquivo'\n",
    "f = open('data.txt','r')\n",
    "print(f)"
   ]
  },
  {
   "cell_type": "markdown",
   "metadata": {
    "id": "DwzzRLPMkWlF"
   },
   "source": [
    "#### Leitura de Arquivos\n",
    "Os principais métodos para ler um arquivo são:\n",
    "- <font color='blue'>read(size)</font>\n",
    "   - lê \"size\" bytes, ou o arquivo inteiro se o parâmetro \"size\" é omitido\n",
    "- <font color='blue'>readline()</font>\n",
    "   - lê uma única linha do arquivo\n",
    "- <font color='blue'>readlines()</font>\n",
    "   - retorna uma lista contendo todas as linhas do arquivo, cada linha sendo um elemento da lista\n",
    "- <font color='blue'>for line in f:</font>\n",
    "   - lê cada linha do arquivo atribuindo-a a variável `line` (outro nome pode ser dado a variável) "
   ]
  },
  {
   "cell_type": "code",
   "execution_count": null,
   "metadata": {
    "id": "w0NGyn5skWlF",
    "outputId": "ab30e8e3-630e-4ac7-aef0-f7aa7d2d5754"
   },
   "outputs": [
    {
     "name": "stdout",
     "output_type": "stream",
     "text": [
      "['hello world\\n', 'today is raining\\n', 'winter is comming\\n']\n"
     ]
    }
   ],
   "source": [
    "f = open('data.txt','r')  # abre o aquivo criado com o comando '%%writefile data.txt'\n",
    "lines = f.readlines()  # lê todas as linhas do aquivo e armazena na lista 'lines'\n",
    "print(lines)"
   ]
  },
  {
   "cell_type": "code",
   "execution_count": null,
   "metadata": {
    "id": "3io8z5qKkWlG",
    "outputId": "c815d094-5171-41fc-875f-d5a27915ea98"
   },
   "outputs": [
    {
     "name": "stdout",
     "output_type": "stream",
     "text": [
      "hello world\n",
      "\n",
      "today is raining\n",
      "\n",
      "winter is comming\n",
      "\n"
     ]
    }
   ],
   "source": [
    "f = open('data.txt','r') \n",
    "for line in f:    # lê cada linha do aquivo, atribuindo uma de cada vez a variável 'line'\n",
    "    print(line)"
   ]
  },
  {
   "cell_type": "markdown",
   "metadata": {
    "id": "UbIajEPtkWlG"
   },
   "source": [
    "Uma construção muito comum quando se está fazendo leitura e escrita de aquivo é utilizar a estrutura definida pelo comando <font color='blue'>with</font>. A sintaxe é a seguinte:\n",
    "```python\n",
    "with open(nome_do_arquivo,modo) as variavel:\n",
    "    bloco de codigo\n",
    "```\n",
    "onde `variavel` é uma instância do objeto tipo 'aquivo' e o bloco de código é onde se executa a tarefa de leitura ou escrita.\n",
    "\n",
    "A vantagem de se empregar <font color='blue'>with</font> é que o Python se encarrega de baixar o conteúdo do buffer para disco uma vez que o bloco de código identado tenha sido executado, fechando o arquivo automaticamente."
   ]
  },
  {
   "cell_type": "code",
   "execution_count": null,
   "metadata": {
    "id": "QD62NghTkWlG",
    "outputId": "f49a7edc-c5fa-47fc-d286-e780f79147ac"
   },
   "outputs": [
    {
     "name": "stdout",
     "output_type": "stream",
     "text": [
      "hello world\n",
      "\n",
      "today is raining\n",
      "\n",
      "winter is comming\n",
      "\n"
     ]
    }
   ],
   "source": [
    "with open('data.txt', 'r') as f:  # garante que o arquivo será fechado corretamente quando finalizado\n",
    "    for line in f:\n",
    "        print(line)"
   ]
  },
  {
   "cell_type": "markdown",
   "metadata": {
    "id": "E26GBrDskWlH"
   },
   "source": [
    "#### Escrita de Arquivos\n",
    "Os principais métodos para escrever conteúdo em um arquivo são:\n",
    "- <font color='blue'>write</font>\n",
    "   - escreve uma string no arquivo\n",
    "- <font color='blue'>writelines</font>\n",
    "   - escreve uma lista de strings no arquivo"
   ]
  },
  {
   "cell_type": "code",
   "execution_count": null,
   "metadata": {
    "id": "Xk9MCkbakWlH"
   },
   "outputs": [],
   "source": [
    "lst = ['hello world\\n','today is Saturday\\n', 'winter is comming\\n'] # lista de strings que serão escritas no arquivo\n",
    "                                                                     # o símbolo '\\n' implica em uma mudança de linha\n",
    "                                                                     # ou seja, cada elemento da lista será escrito\n",
    "                                                                     # em uma linha do arquivo\n",
    "\n",
    "with open('data2write.txt', 'w') as f:  # abre um arquivo para escrita chamado 'data2write.txt'\n",
    "    f.writelines(lst)       # escreve o conteúdo da lista 'lst' no arquivo"
   ]
  },
  {
   "cell_type": "markdown",
   "metadata": {
    "id": "WQYz7Pm6kWlH"
   },
   "source": [
    "Após executar a célula acima, o arquivo 'data2write.txt' será criado no seu diretório de trabalho. Abra o arquivo e veja o conteúdo."
   ]
  },
  {
   "cell_type": "markdown",
   "metadata": {
    "id": "wENFWsH9kWlH"
   },
   "source": [
    "---\n",
    "## Programação Orientada a Objeto\n",
    "Programação orientada a objetos abrange um universo amplo de conceitos, técnicas e ferramentas que vão muito além do escopo proposto neste módulo. O objetivo da apresentação a seguir é introduzir noções básicas de programação orientada a objetos para que se possa fazer uso de tal recurso com certa segurança e desenvoltura."
   ]
  },
  {
   "cell_type": "markdown",
   "metadata": {
    "id": "KiQ0WJijkWlH"
   },
   "source": [
    "Programação orientada a objetos envolve três conceitos principais:\n",
    "- Objetos\n",
    "- Classes\n",
    "- Herança"
   ]
  },
  {
   "cell_type": "markdown",
   "metadata": {
    "id": "y09WacIokWlH"
   },
   "source": [
    "### Objetos\n",
    "Um __objeto__ agrega dois conceitos:\n",
    "- Estado\n",
    "- Comportamento\n",
    "\n",
    "\n",
    "_Estado_ diz respeio às informações salvas nos _atributos_ do objeto\n",
    "<br><br>\n",
    "_Comportamento_ é manifestado através de métodos (funções) associadas ao objeto\n",
    "\n",
    "Várias linguagens de programação escondem estados internamente na classe e os fazem acessíveis apenas através de métodos<br>\n",
    "\n",
    "Python não faz isso. Tudo é exposto!!"
   ]
  },
  {
   "cell_type": "markdown",
   "metadata": {
    "id": "c1brg62-kWlH"
   },
   "source": [
    "### Classes\n",
    "Uma __classe__ é um protótipo para criar um objeto. Quando um objeto é criado a partir de um protótipo, diz-se que ele foi instanciado.\n",
    "\n",
    "Em termos de programação, uma classe especifica os atributos e métodos do objeto, que pode ser instanciado tantas vezes quanto necessário."
   ]
  },
  {
   "cell_type": "markdown",
   "metadata": {
    "id": "JKeepSJikWlI"
   },
   "source": [
    "### Herança\n",
    "Classes são capazes de herdar estados e comportamentos de outras classes.<br>\n",
    "Uma classe que herda de outra classe é chamada subclasse. <br>\n",
    "Uma classe que é herdada por outra é chamada de superclasse ou classe base.\n"
   ]
  },
  {
   "cell_type": "markdown",
   "metadata": {
    "id": "z_Wmai7akWlI"
   },
   "source": [
    "---\n",
    "## Classes em Python\n",
    "A sintaxe para se criar uma classe em Python é a seguinte:\n",
    "```python\n",
    "class nome_da_classe(superclass,...)\n",
    "      attributo1 = valor1      # atributos da classe\n",
    "      attributo2 = valor2\n",
    "      :\n",
    "      :\n",
    "      def __init__(self,...):  # construtor da classe\n",
    "         … default code …\n",
    "            \n",
    "      def methodo1(self,...):  # métodos da classe\n",
    "         self.attribute1 = value\n",
    "```    \n",
    "Um _atributo da classe_ é uma variável que é acessível por qualquer instância da classe.<br>\n",
    "Um _atributo de uma instância_ só é acessível pela instância que o criou (como uma variável local).\n",
    "\n",
    "Um _metodo da classe_ é uma função que pode acessar os atributos da classe diretamente, além de receber parâmetros externos.\n",
    "\n",
    "Existem métodos especiais que realizam operações específicas, como o método `__init__` que é invocado toda vez que um objeto da classe é instanciado. Uma descrição dos métodos especiais pode ser encontrada [neste link](https://www.tutorialspoint.com/python/python_classes_objects.htm)."
   ]
  },
  {
   "cell_type": "markdown",
   "metadata": {
    "id": "wVviiAi-kWlI"
   },
   "source": [
    "#### Exemplo de uma classe\n",
    "O exemplo a seguir define uma classe chamada `bicycle`. Esta classe possui três métodos:\n",
    "- `__init__` (método especial pré-definido) que é o construtor da classe\n",
    "- `__str__` (método especial pré-definido) que gera a string que será apresentada toda vez que o comando <font color='blue'>print</font> for aplicado a uma instância da classe\n",
    "- `get_handlebar_options` que retorna o conteúdo de um dos atributos.\n",
    "\n",
    "A classe `bicycle` também possui os atributos:\n",
    "- bicycle_type    \n",
    "- number_of_gears\n",
    "- handlebar_type\n",
    "- handle_options\n",
    "\n",
    "Quando um objeto da classe `bicycle` é instanciado, o construtor `__init__` é invocado para inicializar os atributos. O construtor admite três parâmetros que podem ser especificados durante a instanciação do objeto, assumindo valores \"default\" quando não são especificados.\n",
    "\n",
    "O parâmetro `self` é sempre mandatório, pois é por meio dele que se distingue um atributo ou método da classe de uma variável local ou função externa."
   ]
  },
  {
   "cell_type": "code",
   "execution_count": null,
   "metadata": {
    "id": "YStLhEIjkWlI"
   },
   "outputs": [],
   "source": [
    "class bicycle():\n",
    "    def __init__(self,bike_type = None,n_gears = 1,handlebar = 'Drop'):\n",
    "        print(\"...building the object...\")\n",
    "        self.bicycle_type = bike_type\n",
    "        self.number_of_gears = n_gears\n",
    "        self.handlebar_type = handlebar\n",
    "        self.handle_options = ['Drop','Cruiser','Flat','Bullhorn']\n",
    "    \n",
    "    def get_handlebar_options(self,k=4):\n",
    "        print(self.handle_options[:k])\n",
    "        \n",
    "    def __str__(self):\n",
    "        return('Type: '+str(self.bicycle_type)+'\\n'\n",
    "               'Gears: '+str(self.number_of_gears)+'\\n'\n",
    "               'Handle: '+str(self.handlebar_type))"
   ]
  },
  {
   "cell_type": "code",
   "execution_count": null,
   "metadata": {
    "id": "7T7A9U6qkWlI",
    "outputId": "3a521585-4433-4072-e339-c8c10fa39fe5"
   },
   "outputs": [
    {
     "name": "stdout",
     "output_type": "stream",
     "text": [
      "...building the object...\n",
      "['Drop', 'Cruiser', 'Flat', 'Bullhorn']\n",
      "['Drop', 'Cruiser']\n",
      "...building the object...\n",
      "Type: Cruise\n",
      "Gears: 3\n",
      "Handle: Drop\n",
      "------\n",
      "Type: Speed\n",
      "Gears: 1\n",
      "Handle: Bullhorn\n"
     ]
    }
   ],
   "source": [
    "my_bike = bicycle() # um objeto da classe bicycle é instanciado\n",
    "\n",
    "my_bike.bicycle_type = 'Cruise' # acessando variável 'bicycle_type' e atribuindo o valor 'Cruise' dela\n",
    "my_bike.number_of_gears = 3     # acessando variável 'number_of_gears' e atribuindo o valor 3 dela\n",
    "\n",
    "my_bike.get_handlebar_options() # acessando o método 'get_handlebar_options' que imprime as opções de guidão\n",
    "my_bike.get_handlebar_options(2)# acessando o método 'get_handlebar_options' porém fazendo k=2, o que \n",
    "                                # resulta na impressão das duas primeiras opções de guidão\n",
    "\n",
    "thy_bike = bicycle(bike_type='Speed',handlebar='Bullhorn') # instanciando outro objeto da classe \n",
    "                                                           # enviando parâmetros para o construtor\n",
    "\n",
    "print(my_bike) # o comando print automaticamente invoca o método `__repr__`, \n",
    "                # que gera a string que será apresentada pelo print\n",
    " \n",
    "print(3*'--')\n",
    "print(thy_bike)"
   ]
  },
  {
   "cell_type": "markdown",
   "metadata": {
    "id": "g1D9bsBSkWlI"
   },
   "source": [
    "#### Exemplo de herança\n",
    "Pode-se derivar uma subclasse de uma classe pré-definida (_superclasse_). Todos os atributos e métodos da _superclasse_ são automaticamente herdados pela classe derivada. A sintaxe é simplesmente:\n",
    "```python\n",
    "class nome_da_subclasse(nome_da_superclasse):\n",
    "```"
   ]
  },
  {
   "cell_type": "code",
   "execution_count": null,
   "metadata": {
    "id": "_iXXxyPDkWlI"
   },
   "outputs": [],
   "source": [
    "class mountain_bike(bicycle): # a subclasse mountain_bike herda todos os\n",
    "                              # atibutos e métodos da superclasse bicycle \n",
    "        \n",
    "    def __init__(self):  # o construtor da subclasse chama o construtor da superclasse\n",
    "                         # com parametros desejados\n",
    "        bicycle.__init__(self,bike_type='Mountain',n_gears = 10,handlebar='Bullhorn')\n",
    "        self.set_handlebar_options() # o método set_handlebar_options não existe na \n",
    "                                     # superclasse bicycle, é definido somente na subclasse\n",
    "        \n",
    "    def set_handlebar_options(self): # método da subclasse \n",
    "        self.handle_options.remove('Cruiser')"
   ]
  },
  {
   "cell_type": "code",
   "execution_count": null,
   "metadata": {
    "id": "x614OkVMkWlJ"
   },
   "outputs": [],
   "source": [
    "my_mountain_bike = mountain_bike()  # instancia um objeto mountain_bike\n",
    "my_mountain_bike.get_handlebar_options() # imprime os modelos de guidão para mountain_bike\n",
    "\n",
    "print(my_mountain_bike)"
   ]
  },
  {
   "cell_type": "markdown",
   "metadata": {
    "id": "VelFwi6ckWlJ"
   },
   "source": [
    "### Sobrecarga de operador (Operator Overloading)\n",
    "Classes podem interceptar operadores especiais e sobrescrevê-los. Tais métodos são definidos por um duplo underscore. Exemplos de operadores especiais são:\n",
    "\n",
    "- <font color='blue'>\\_\\_init\\_\\_</font> construtor do objeto\n",
    "- <font color='blue'>\\_\\_repr\\_\\_</font> método que gera uma representação da classe\n",
    "- <font color='blue'>\\_\\_add\\_\\_</font> método que define a operação de soma <font color='blue'>+</font>\n",
    "- <font color='blue'>\\_\\_lt\\_\\_</font>, <font color='blue'>\\_\\_gt\\_\\_</font>, para comparações X < Y, X > Y\n",
    "- e outras..."
   ]
  },
  {
   "cell_type": "code",
   "execution_count": null,
   "metadata": {
    "id": "GhxtAB6kkWlJ"
   },
   "outputs": [],
   "source": [
    "class pessoa():\n",
    "    def __init__(self,nome = '', sobrenome = '', idade = 0):\n",
    "        self.nome = nome\n",
    "        self.sobrenome = sobrenome\n",
    "        self.idade = idade\n",
    "        \n",
    "    def __lt__(self,p):  # operador '<'\n",
    "        return(self.idade < p.idade)  # retorna True se a idade da instancia da classe for menor\n",
    "    \n",
    "    def __gt__(self,p):  # operador '>'\n",
    "        return(self.idade > p.idade)"
   ]
  },
  {
   "cell_type": "code",
   "execution_count": null,
   "metadata": {
    "colab": {
     "base_uri": "https://localhost:8080/"
    },
    "executionInfo": {
     "elapsed": 1860,
     "status": "ok",
     "timestamp": 1612814580792,
     "user": {
      "displayName": "Edesio Alcobaça",
      "photoUrl": "https://lh3.googleusercontent.com/a-/AOh14GhybDI1qzP3W03EYKTP89NWEXxwNg5z5OM5L6kdTg=s64",
      "userId": "10422480453975814446"
     },
     "user_tz": 180
    },
    "id": "2Xpm346bkWlJ",
    "outputId": "03af7ec5-5d58-4cfd-e19f-fef6ce148a5f"
   },
   "outputs": [
    {
     "name": "stdout",
     "output_type": "stream",
     "text": [
      "gustavo  eh mais novo que  francisco\n",
      "francisco  NAO eh mais novo que  gustavo\n"
     ]
    }
   ],
   "source": [
    "p1 = pessoa(nome='gustavo',sobrenome='nonato',idade=50)    # instancia um objeto 'pessoa'\n",
    "p2 = pessoa(nome='francisco',sobrenome='louzada',idade=52) # instancia outro objeto 'pessoa'\n",
    "\n",
    "if p1 < p2:\n",
    "    print(p1.nome, ' eh mais novo que ',p2.nome)\n",
    "else:\n",
    "    print(p1.nome, ' nao eh mais novo que ',p2.nome)\n",
    "    \n",
    "if p2 < p1:\n",
    "    print(p2.nome, ' eh mais novo que ',p1.nome)\n",
    "else:\n",
    "    print(p2.nome, ' NAO eh mais novo que ',p1.nome)"
   ]
  },
  {
   "cell_type": "markdown",
   "metadata": {
    "id": "Uz_H8HF7kWlJ"
   },
   "source": [
    "### Atributos públicos e privados\n",
    "Embora todos os atributos e métodos em Python são expostos, há uma convenção de que tudo precedido por dois underscores é privado.\n",
    "- \\_\\_minha_funcao\t \t\n",
    "- \\_\\_minha_variavel\n",
    "\n",
    "Não se deve acessar externamente métodos e atributos definidos por underscore duplo\n",
    "\n",
    "Tudo precedido com um underscore simples é semi-privado, e você deve evitar acessar esse dado diretamente (externamente a classe)\n",
    "- \\_b"
   ]
  },
  {
   "cell_type": "markdown",
   "metadata": {},
   "source": [
    "## <span style=\"color:blue\">Exercícios Python Parte III</span>"
   ]
  },
  {
   "cell_type": "markdown",
   "metadata": {},
   "source": [
    "### Exercício 1) \n",
    "Considere a lista `palavras` abaixo. Utilizando o funcional <font color='blue'>map</font> construa uma nova lista chamada `palavrasM` contendo todos os elementos de `palavras`, porém com o primeiro caracter em maiúsculo, ou seja,\n",
    "```python\n",
    "palavras = ['adeus','adoravel','amor',...]\n",
    "palavrasM = ['Adeus','Adoravel','Amor',...]\n",
    "```"
   ]
  },
  {
   "cell_type": "code",
   "execution_count": 2,
   "metadata": {},
   "outputs": [
    {
     "name": "stdout",
     "output_type": "stream",
     "text": [
      "['Adeus', 'Adoravel', 'Amor', 'Caminhos', 'Chuva', 'Coragem', 'Cuidar', 'Equilibrio', 'Esperanca', 'Felicidade', 'Gentilezas', 'Liberdade', 'Melancolia', 'Paz', 'Respeito', 'Riso', 'Saudade', 'Palimpsesto', 'Perfeito', 'Reciproco', 'Recomeçar', 'Resiliente', 'Sentir', 'Silencio', 'Imprescindivel', 'Sublime', 'Tertulias']\n"
     ]
    }
   ],
   "source": [
    "palavras = ['adeus','adoravel','amor','caminhos','chuva','coragem','cuidar','equilibrio',\n",
    "            'esperanca','felicidade','gentilezas','liberdade','melancolia','paz','respeito',\n",
    "            'riso','saudade','palimpsesto','perfeito','reciproco','recomeçar',\n",
    "            'resiliente','sentir','silencio','imprescindivel','sublime','tertulias']\n",
    "\n",
    "palavrasM = list(map(lambda x:x[0].upper()+x[1:],palavras))\n",
    "print(palavrasM)"
   ]
  },
  {
   "cell_type": "markdown",
   "metadata": {},
   "source": [
    "### Exercício 2)\n",
    "Utilizando o funcional <font color='blue'>filter</font>, construa uma nova lista `palavras5` contendo os elementos da lista `palavras` (definida no exercício 1) que contenham no máximo 5 caracteres. "
   ]
  },
  {
   "cell_type": "code",
   "execution_count": 8,
   "metadata": {},
   "outputs": [
    {
     "name": "stdout",
     "output_type": "stream",
     "text": [
      "['adeus', 'amor', 'chuva', 'paz', 'riso']\n"
     ]
    }
   ],
   "source": [
    "palavras5 = list(filter(lambda x: len(x)<=5,palavras))\n",
    "print(palavras5)"
   ]
  },
  {
   "cell_type": "markdown",
   "metadata": {},
   "source": [
    "### Exercício 3) \n",
    "Utilize os funcionais <font color='blue'>map</font> e <font color='blue'>filter</font> para gerar uma nova lista `palavrasOS` contendo apenas os elementos da lista `palavras` que terminam com a letra 'o', adicionando a letras 's' no final de cada elemento, ou seja,\n",
    "```python\n",
    "palavrasOS = ['equilibrios', 'respeitos', 'risos', ...]\n",
    "```"
   ]
  },
  {
   "cell_type": "code",
   "execution_count": 9,
   "metadata": {},
   "outputs": [
    {
     "name": "stdout",
     "output_type": "stream",
     "text": [
      "['equilibrios', 'respeitos', 'risos', 'palimpsestos', 'perfeitos', 'reciprocos', 'silencios']\n"
     ]
    }
   ],
   "source": [
    "palavrasOS = list(map(lambda x: x+'s',list(filter(lambda x:x[-1]=='o',palavras))))\n",
    "print(palavrasOS)"
   ]
  },
  {
   "cell_type": "markdown",
   "metadata": {},
   "source": [
    "### Exercício 4) \n",
    "Utilize os funcionais <font color='blue'>map</font> e <font color='blue'>reduce</font> para calcular o número total de caracteres na lista `palavras`. Todo o código deve estar em uma única linha."
   ]
  },
  {
   "cell_type": "code",
   "execution_count": 15,
   "metadata": {},
   "outputs": [
    {
     "name": "stdout",
     "output_type": "stream",
     "text": [
      "214\n"
     ]
    }
   ],
   "source": [
    "from functools import reduce\n",
    "\n",
    "total_len = reduce(lambda x,y: x+y,list(map(lambda i: len(i),palavras)))\n",
    "print(total_len)"
   ]
  },
  {
   "cell_type": "markdown",
   "metadata": {},
   "source": [
    "### Exercício 5) \n",
    "Escreva a lista `palavras` em um arquivo chamado 'palavras.txt' de modo que cada linha do arquivo contenha um elemento da lista `palavras` seguido do número de caracteres, ou seja, as linhas do arquivo devem ser da forma:\n",
    "```sys\n",
    "adeus 5\n",
    "adoravel 8\n",
    "amor 4\n",
    ":\n",
    ":\n",
    "```\n",
    "Utilize o método <font color='blue'>write</font> para escrever as linhas do arquivo."
   ]
  },
  {
   "cell_type": "code",
   "execution_count": 18,
   "metadata": {},
   "outputs": [],
   "source": [
    "with open('palavras.txt','w') as f:\n",
    "    for i in palavras:\n",
    "        f.write(i+' '+str(len(i))+'\\n')"
   ]
  },
  {
   "cell_type": "markdown",
   "metadata": {},
   "source": [
    "### Exercício 6)\n",
    "Repita o exercício anterior, porém utilizando o método <font color='blue'>writelines</font> para escrever o arquivo.\n",
    "\n",
    "__Dica__: prepare uma lista onde cada elemento corresponde a uma linha do arquivo."
   ]
  },
  {
   "cell_type": "code",
   "execution_count": 19,
   "metadata": {},
   "outputs": [],
   "source": [
    "lines = [i+' '+str(len(i))+'\\n' for i in palavras]\n",
    "with open('palavras.txt','w') as f:\n",
    "    f.writelines(lines)"
   ]
  },
  {
   "cell_type": "markdown",
   "metadata": {},
   "source": [
    "### Exercício 7) \n",
    "Crie uma classe chamada `manipula_arquivo` para concatenar ou dividir arquivos texto. \n",
    "A classe deve possuir as seguintes características:\n",
    "- Um método chamado `concatena` que recebe o nome de dois arquivos como parâmetros e concatena os arquivos em um terceiro arquivo cujo nome também é a concatenação dos nomes enviados. O método deve retornar o nome do novo arquivo criado.\n",
    "- Um método chamado `divide_ao_meio` que recebe o nome de um arquivo como parâmetro e gera um novo arquivo com metade das linhas do arquivo original. O nome do novo arquivo deve ser o mesmo do original adicionando o numero 2 no final do nome."
   ]
  },
  {
   "cell_type": "code",
   "execution_count": 41,
   "metadata": {},
   "outputs": [],
   "source": [
    "class manipula_arquivo:\n",
    "    def concatena(self,arq1,arq2):\n",
    "        arq3 = arq1.split('.')[0]+arq2.split('.')[0]+'.txt' \n",
    "        with open(arq3,'w') as f3:\n",
    "            with open(arq1,'r') as f1:\n",
    "                carq = f1.readlines()\n",
    "                f3.writelines(carq)\n",
    "            with open(arq2,'r') as f2:\n",
    "                carq = f2.readlines()\n",
    "                f3.writelines(carq)\n",
    "        return(arq3)\n",
    "        \n",
    "    def divide_ao_meio(self,arq):\n",
    "        with open(arq,'r') as f:\n",
    "            carq = f.readlines()\n",
    "            \n",
    "        arqn = arq.split('.')[0]+str(2)+'.'+arq.split('.')[-1]\n",
    "        with open(arqn,'w') as f:\n",
    "            meio = int(len(carq)/2)\n",
    "            print(meio)\n",
    "            f.writelines(carq[:meio])"
   ]
  },
  {
   "cell_type": "markdown",
   "metadata": {},
   "source": [
    "Execute as próximas duas células para gerar os aquivos 'test1.txt' e 'test2.txt'."
   ]
  },
  {
   "cell_type": "code",
   "execution_count": 23,
   "metadata": {},
   "outputs": [
    {
     "name": "stdout",
     "output_type": "stream",
     "text": [
      "Writing test1.txt\n"
     ]
    }
   ],
   "source": [
    "%%writefile test1.txt\n",
    "conteudo do arquivo\n",
    "test1.txt para ser\n",
    "utilizado como teste para a\n",
    "classe construida"
   ]
  },
  {
   "cell_type": "code",
   "execution_count": 24,
   "metadata": {},
   "outputs": [
    {
     "name": "stdout",
     "output_type": "stream",
     "text": [
      "Writing test2.txt\n"
     ]
    }
   ],
   "source": [
    "%%writefile test2.txt\n",
    "conteudo do arquivo\n",
    "test2.txt para ser\n",
    "utilizado como teste para a\n",
    "classe construida"
   ]
  },
  {
   "cell_type": "code",
   "execution_count": 31,
   "metadata": {},
   "outputs": [
    {
     "name": "stdout",
     "output_type": "stream",
     "text": [
      "2\n",
      "['conteudo do arquivo\\n', 'test1.txt para ser\\n', 'utilizado como teste para a\\n', 'classe construida\\n', 'conteudo do arquivo\\n', 'test2.txt para ser\\n', 'utilizado como teste para a\\n', 'classe construida\\n']\n",
      "['conteudo do arquivo\\n', 'test1.txt para ser\\n']\n"
     ]
    }
   ],
   "source": [
    "# Utilize o código abaixo para testar sua classe\n",
    "ma = manipula_arquivo()\n",
    "ma.concatena('test1.txt','test2.txt')\n",
    "ma.divide_ao_meio('test1.txt')\n",
    "\n",
    "with open('test1test2.txt','r') as f:\n",
    "    print(f.readlines())\n",
    "        \n",
    "with open('test12.txt','r') as f:\n",
    "    print(f.readlines())       "
   ]
  },
  {
   "cell_type": "markdown",
   "metadata": {},
   "source": [
    "### Exercício 8)\n",
    "Crie uma subclasse da classe `manipula_arquivo` chamada `soma_arquivos` com as seguintes propriedades:\n",
    "- o construtor da subclasse recebe o nome de um arquivo e armazena em uma variável.\n",
    "- sobrescreva o operador <font color='blue'>+</font> (via método <font color='blue'>\\_\\_add\\_\\_</font>) para que ele concatene dois arquivos (instâncias da subclasse) utilizando o método `concatena` da superclasse `manipula_arquivo`.\n",
    "- a subclasse deve possuir o conteúdo do arquivo quando o comando print for aplicado a uma instância da subclasse.\n",
    "\n",
    "__Dica:__ Faça o método <font color='blue'>\\_\\_add\\_\\_</font> retornar uma instância da subclasse `soma_arquivos`."
   ]
  },
  {
   "cell_type": "code",
   "execution_count": 43,
   "metadata": {},
   "outputs": [],
   "source": [
    "class soma_arquivos(manipula_arquivo):\n",
    "    def __init__(self,nome=''):\n",
    "        self.nome_arq = nome\n",
    "        \n",
    "    def __add__(self,o):\n",
    "        arq = self.concatena(self.nome_arq,o.nome_arq)\n",
    "        return(soma_arquivos(arq))\n",
    "    \n",
    "    def __str__(self):\n",
    "        with open(self.nome_arq,'r') as f:\n",
    "            conteudo = f.readlines()\n",
    "        return(''.join(conteudo))"
   ]
  },
  {
   "cell_type": "code",
   "execution_count": 49,
   "metadata": {},
   "outputs": [
    {
     "name": "stdout",
     "output_type": "stream",
     "text": [
      "conteudo do arquivo\n",
      "test1.txt para ser\n",
      "utilizado como teste para a\n",
      "classe construida\n",
      "conteudo do arquivo\n",
      "test2.txt para ser\n",
      "utilizado como teste para a\n",
      "classe construida\n",
      "\n"
     ]
    }
   ],
   "source": [
    "# Utilize o código abaixo para testar sua a subclasse criada\n",
    "obj1 = soma_arquivos('test1.txt')\n",
    "obj2 = soma_arquivos('test2.txt')\n",
    "obj3 = obj1+obj2\n",
    "print(obj3)"
   ]
  },
  {
   "cell_type": "markdown",
   "metadata": {},
   "source": [
    "## <span style=\"color:blue\">Exercícios Python Parte III</span>"
   ]
  },
  {
   "cell_type": "markdown",
   "metadata": {},
   "source": [
    "### Exercício 1) \n",
    "Considere a lista `palavras` abaixo. Utilizando o funcional <font color='blue'>map</font> construa uma nova lista chamada `palavrasM` contendo todos os elementos de `palavras`, porém, com o primeiro caracter em maiúsculo, ou seja,\n",
    "```python\n",
    "palavras = ['adeus','adoravel','amor',...]\n",
    "palavrasM = ['Adeus','Adoravel','Amor',...]\n",
    "```\n",
    "Todo o código deve estar em uma linha."
   ]
  },
  {
   "cell_type": "code",
   "execution_count": 42,
   "metadata": {},
   "outputs": [
    {
     "name": "stdout",
     "output_type": "stream",
     "text": [
      "7.51 µs ± 14.6 ns per loop (mean ± std. dev. of 7 runs, 100,000 loops each)\n",
      "4.53 µs ± 31 ns per loop (mean ± std. dev. of 7 runs, 100,000 loops each)\n",
      "4.41 µs ± 39.4 ns per loop (mean ± std. dev. of 7 runs, 100,000 loops each)\n",
      "['Adeus', 'Adoravel', 'Amor', 'Caminhos', 'Chuva', 'Coragem', 'Cuidar', 'Equilibrio', 'Esperanca', 'Felicidade', 'Gentilezas', 'Liberdade', 'Melancolia', 'Paz', 'Respeito', 'Riso', 'Saudade', 'Palimpsesto', 'Perfeito', 'Reciproco', 'Recomeçar', 'Resiliente', 'Sentir', 'Silencio', 'Imprescindivel', 'Sublime', 'Tertulias']\n"
     ]
    }
   ],
   "source": [
    "palavras = ['adeus','adoravel','amor','caminhos','chuva','coragem','cuidar','equilibrio',\n",
    "            'esperanca','felicidade','gentilezas','liberdade','melancolia','paz','respeito',\n",
    "            'riso','saudade','palimpsesto','perfeito','reciproco','recomeçar',\n",
    "            'resiliente','sentir','silencio','imprescindivel','sublime','tertulias']\n",
    "\n",
    "palavrasM = [p[0].upper() + p[1:] for p in palavras]\n",
    "%timeit palavrasM = list(map(lambda p: p[0].upper() + p[1:], palavras))\n",
    "%timeit palavrasM = list(map(lambda p: p.capitalize(), palavras))\n",
    "%timeit palavrasM = list(map(lambda p: p.title(), palavras))\n",
    "\n",
    "print(palavrasM)"
   ]
  },
  {
   "cell_type": "code",
   "execution_count": 8,
   "metadata": {},
   "outputs": [
    {
     "data": {
      "text/plain": [
       "'Adoravel'"
      ]
     },
     "execution_count": 8,
     "metadata": {},
     "output_type": "execute_result"
    }
   ],
   "source": [
    "palavras[0][0].upper() + palavras[0][1:]\n",
    "palavras[1][0].upper() + palavras[1][1:]"
   ]
  },
  {
   "cell_type": "code",
   "execution_count": 14,
   "metadata": {},
   "outputs": [
    {
     "name": "stdout",
     "output_type": "stream",
     "text": [
      "Adeus\n",
      "Adoravel\n",
      "Amor\n",
      "Caminhos\n",
      "Chuva\n",
      "Coragem\n",
      "Cuidar\n",
      "Equilibrio\n",
      "Esperanca\n",
      "Felicidade\n",
      "Gentilezas\n"
     ]
    }
   ],
   "source": [
    "for i, p_upper in enumerate(map(lambda p: p[0].upper() + p[1:], palavras)):\n",
    "    print(p_upper)\n",
    "    if i == 10:\n",
    "        break"
   ]
  },
  {
   "cell_type": "code",
   "execution_count": 18,
   "metadata": {
    "scrolled": false
   },
   "outputs": [
    {
     "name": "stdout",
     "output_type": "stream",
     "text": [
      "Help on map object:\n",
      "\n",
      "class map(object)\n",
      " |  map(func, *iterables) --> map object\n",
      " |  \n",
      " |  Make an iterator that computes the function using arguments from\n",
      " |  each of the iterables.  Stops when the shortest iterable is exhausted.\n",
      " |  \n",
      " |  Methods defined here:\n",
      " |  \n",
      " |  __getattribute__(self, name, /)\n",
      " |      Return getattr(self, name).\n",
      " |  \n",
      " |  __iter__(self, /)\n",
      " |      Implement iter(self).\n",
      " |  \n",
      " |  __next__(self, /)\n",
      " |      Implement next(self).\n",
      " |  \n",
      " |  __reduce__(...)\n",
      " |      Return state information for pickling.\n",
      " |  \n",
      " |  ----------------------------------------------------------------------\n",
      " |  Static methods defined here:\n",
      " |  \n",
      " |  __new__(*args, **kwargs) from builtins.type\n",
      " |      Create and return a new object.  See help(type) for accurate signature.\n",
      "\n"
     ]
    }
   ],
   "source": [
    "help(palavrasM)"
   ]
  },
  {
   "cell_type": "code",
   "execution_count": 34,
   "metadata": {},
   "outputs": [
    {
     "data": {
      "text/plain": [
       "'Respeito'"
      ]
     },
     "execution_count": 34,
     "metadata": {},
     "output_type": "execute_result"
    }
   ],
   "source": [
    "next(palavrasM)"
   ]
  },
  {
   "cell_type": "markdown",
   "metadata": {},
   "source": [
    "### Exercício 2)\n",
    "Utilizando o funcional <font color='blue'>filter</font>, construa uma nova lista `palavras5` contendo os elementos da lista `palavras` (definida no exercício 1) que contenham no máximo 5 caracteres. Todo o código deve estar em uma linha."
   ]
  },
  {
   "cell_type": "code",
   "execution_count": 56,
   "metadata": {},
   "outputs": [
    {
     "name": "stdout",
     "output_type": "stream",
     "text": [
      "['adeus', 'amor', 'chuva', 'paz', 'riso']\n"
     ]
    }
   ],
   "source": [
    "palavras5 = [p for p in palavras if len(p) <= 5]\n",
    "palavras5 = list(filter(lambda p: len(p) <= 5, palavras))\n",
    "\n",
    "def filter_less_than_5(palavra):\n",
    "    return len(palavra) <= 5\n",
    "\n",
    "palavras5 = list(filter(filter_less_than_5, palavras))\n",
    "\n",
    "\n",
    "print(palavras5)"
   ]
  },
  {
   "cell_type": "code",
   "execution_count": 48,
   "metadata": {},
   "outputs": [
    {
     "name": "stdout",
     "output_type": "stream",
     "text": [
      "adeus\n",
      "amor\n",
      "chuva\n",
      "paz\n",
      "riso\n"
     ]
    }
   ],
   "source": [
    "for p in filter(lambda p: len(p) <= 5, palavras):\n",
    "    print(p)"
   ]
  },
  {
   "cell_type": "markdown",
   "metadata": {},
   "source": [
    "### Exercício 3) \n",
    "Utilize os funcionais <font color='blue'>map</font> e <font color='blue'>filter</font> para gerar uma nova lista `palavrasOS` contendo apenas os elementos da lista `palavras` que terminam com a letra 'o', adicionando a letras 's' no final de cada elemento, ou seja,\n",
    "```python\n",
    "palavrasOS = ['equilibrios', 'respeitos', 'risos', ...]\n",
    "```\n",
    "Todo o código deve estar em uma linha."
   ]
  },
  {
   "cell_type": "code",
   "execution_count": 66,
   "metadata": {},
   "outputs": [
    {
     "name": "stdout",
     "output_type": "stream",
     "text": [
      "['equilibrios', 'respeitos', 'risos', 'palimpsestos', 'perfeitos', 'reciprocos', 'silencios']\n"
     ]
    }
   ],
   "source": [
    "palavrasOS = [p + 's' for p in palavras if p[-1] == 'o']\n",
    "\n",
    "palavrasOS = list(map(lambda p: p + 's', filter(lambda p: p[-1] == 'o', palavras)))\n",
    "\n",
    "palavras_filtered = filter(lambda p: p[-1] == 'o', palavras)\n",
    "palavrasOS = list(map(lambda p: p + 's', palavras_filtered))\n",
    "\n",
    "def filter_o(palavra):\n",
    "    return palavra[-1] == 'o'\n",
    "\n",
    "palavras_filtered = filter(filter_o, palavras)\n",
    "palavrasOS = list(map(lambda p: p + 's', palavras_filtered))\n",
    "\n",
    "print(palavrasOS)"
   ]
  },
  {
   "cell_type": "code",
   "execution_count": 65,
   "metadata": {},
   "outputs": [
    {
     "data": {
      "text/plain": [
       "['adoravel',\n",
       " 'amor',\n",
       " 'caminhos',\n",
       " 'coragem',\n",
       " 'equilibrio',\n",
       " 'melancolia',\n",
       " 'respeito',\n",
       " 'riso',\n",
       " 'palimpsesto',\n",
       " 'perfeito',\n",
       " 'reciproco',\n",
       " 'recomeçar',\n",
       " 'silencio']"
      ]
     },
     "execution_count": 65,
     "metadata": {},
     "output_type": "execute_result"
    }
   ],
   "source": [
    "palavras_filtered = list(filter(lambda p: 'o' in p, palavras))\n",
    "palavras_filtered"
   ]
  },
  {
   "cell_type": "markdown",
   "metadata": {},
   "source": [
    "### Exercício 4) \n",
    "Utilize os funcionais <font color='blue'>map</font> e <font color='blue'>reduce</font> para calcular o número total de caracteres na lista `palavras`. Todo o código deve estar em uma única linha."
   ]
  },
  {
   "cell_type": "code",
   "execution_count": 82,
   "metadata": {},
   "outputs": [
    {
     "name": "stdout",
     "output_type": "stream",
     "text": [
      "214\n"
     ]
    }
   ],
   "source": [
    "acumulador = 0\n",
    "for palavra in palavras:\n",
    "    acumulador = acumulador + len(palavra)\n",
    "print(acumulador)"
   ]
  },
  {
   "cell_type": "code",
   "execution_count": 81,
   "metadata": {},
   "outputs": [
    {
     "name": "stdout",
     "output_type": "stream",
     "text": [
      "214\n",
      "214\n",
      "214\n",
      "214\n",
      "214\n",
      "214\n",
      "214\n"
     ]
    }
   ],
   "source": [
    "from functools import reduce\n",
    "\n",
    "def acumular(acumulador1, len_da_palavra):\n",
    "    return acumulador1 + len_da_palavra\n",
    "\n",
    "def acumular_com_len(acumulador1, palavra):\n",
    "    return acumulador1 + len(palavra)\n",
    "\n",
    "def faz_o_len(palavra):\n",
    "    return len(palavra)\n",
    "\n",
    "total_len = reduce(acumular, map(faz_o_len, palavras))\n",
    "print(total_len)\n",
    "total_len = reduce(acumular, map(lambda p: len(p), palavras))\n",
    "print(total_len)\n",
    "total_len = reduce(acumular_com_len, palavras, 0)\n",
    "print(total_len)\n",
    "\n",
    "total_len = reduce(lambda acumulador, len_da_palavra: acumulador + len_da_palavra, map(faz_o_len, palavras))\n",
    "print(total_len)\n",
    "total_len = reduce(lambda acumulador, len_da_palavra: acumulador + len_da_palavra, map(lambda p: len(p), palavras))\n",
    "print(total_len)\n",
    "total_len = reduce(lambda acumulador, palavra: acumulador + len(palavra), palavras, 0)\n",
    "print(total_len)\n",
    "\n",
    "\n",
    "\n",
    "# # total_len = # escreva seu código nesta linha\n",
    "# print(total_len)"
   ]
  },
  {
   "cell_type": "code",
   "execution_count": 97,
   "metadata": {},
   "outputs": [
    {
     "name": "stdout",
     "output_type": "stream",
     "text": [
      "5\n",
      "13\n",
      "17\n",
      "25\n",
      "30\n",
      "37\n",
      "43\n",
      "53\n",
      "62\n",
      "72\n",
      "82\n",
      "91\n",
      "101\n",
      "104\n",
      "112\n",
      "116\n",
      "123\n",
      "134\n",
      "142\n",
      "151\n",
      "160\n",
      "170\n",
      "176\n",
      "184\n",
      "198\n",
      "205\n",
      "[5, 8, 4, 8, 5, 7, 6, 10, 9, 10, 10, 9, 10, 3, 8, 4, 7, 11, 8, 9, 9, 10, 6, 8, 14, 7, 9]\n"
     ]
    }
   ],
   "source": [
    "def acumular(acumulador1, len_da_palavra):\n",
    "    print(acumulador1)\n",
    "    return acumulador1 + len_da_palavra\n",
    "\n",
    "def faz_o_len(palavra):\n",
    "    return len(palavra)\n",
    "\n",
    "reduce(acumular, map(faz_o_len, palavras))\n",
    "\n",
    "# só o map\n",
    "lista_de_lens = list(map(faz_o_len, palavras))\n",
    "print(lista_de_lens)\n"
   ]
  },
  {
   "cell_type": "code",
   "execution_count": 84,
   "metadata": {},
   "outputs": [
    {
     "data": {
      "text/plain": [
       "214"
      ]
     },
     "execution_count": 84,
     "metadata": {},
     "output_type": "execute_result"
    }
   ],
   "source": [
    "def acumular(acumulador1, len_da_palavra):\n",
    "    return acumulador1 + len_da_palavra\n",
    "\n",
    "reduce(acumular, map(lambda p: len(p), palavras))"
   ]
  },
  {
   "cell_type": "code",
   "execution_count": 100,
   "metadata": {},
   "outputs": [
    {
     "name": "stdout",
     "output_type": "stream",
     "text": [
      "0\n",
      "5\n",
      "13\n",
      "17\n",
      "25\n",
      "30\n",
      "37\n",
      "43\n",
      "53\n",
      "62\n",
      "72\n",
      "82\n",
      "91\n",
      "101\n",
      "104\n",
      "112\n",
      "116\n",
      "123\n",
      "134\n",
      "142\n",
      "151\n",
      "160\n",
      "170\n",
      "176\n",
      "184\n",
      "198\n",
      "205\n"
     ]
    },
    {
     "data": {
      "text/plain": [
       "214"
      ]
     },
     "execution_count": 100,
     "metadata": {},
     "output_type": "execute_result"
    }
   ],
   "source": [
    "def acumular_com_len(acumulador1, palavra):\n",
    "    print(acumulador1)\n",
    "    return acumulador1 + len(palavra)\n",
    "\n",
    "reduce(acumular_com_len, palavras, 0)"
   ]
  },
  {
   "cell_type": "code",
   "execution_count": 101,
   "metadata": {},
   "outputs": [
    {
     "data": {
      "text/plain": [
       "214"
      ]
     },
     "execution_count": 101,
     "metadata": {},
     "output_type": "execute_result"
    }
   ],
   "source": [
    "reduce(lambda a, p: a + p, map(lambda p: len(p), palavras))"
   ]
  },
  {
   "cell_type": "code",
   "execution_count": 103,
   "metadata": {
    "scrolled": true
   },
   "outputs": [
    {
     "data": {
      "text/plain": [
       "214"
      ]
     },
     "execution_count": 103,
     "metadata": {},
     "output_type": "execute_result"
    }
   ],
   "source": [
    "reduce(lambda a, p: a + len(p), palavras, 0)"
   ]
  },
  {
   "cell_type": "code",
   "execution_count": 107,
   "metadata": {},
   "outputs": [
    {
     "data": {
      "text/plain": [
       "[5,\n",
       " 8,\n",
       " 4,\n",
       " 8,\n",
       " 5,\n",
       " 7,\n",
       " 6,\n",
       " 10,\n",
       " 9,\n",
       " 10,\n",
       " 10,\n",
       " 9,\n",
       " 10,\n",
       " 3,\n",
       " 8,\n",
       " 4,\n",
       " 7,\n",
       " 11,\n",
       " 8,\n",
       " 9,\n",
       " 9,\n",
       " 10,\n",
       " 6,\n",
       " 8,\n",
       " 14,\n",
       " 7,\n",
       " 9]"
      ]
     },
     "execution_count": 107,
     "metadata": {},
     "output_type": "execute_result"
    }
   ],
   "source": [
    "list(map(len, palavras))"
   ]
  },
  {
   "cell_type": "markdown",
   "metadata": {},
   "source": [
    "### Exercício 5) \n",
    "Escreva a lista `palavras` em um arquivo chamado 'palavras.txt' de modo que cada linha do arquivo contenha um elemento da lista `palavras` seguido do número de caracteres, ou seja, as linhas do arquivo devem ser da forma:\n",
    "```sys\n",
    "adeus 5\n",
    "adoravel 8\n",
    "amor 4\n",
    ":\n",
    ":\n",
    "```\n",
    "Utilize o método <font color='blue'>write</font> para escrever as linhas do arquivo."
   ]
  },
  {
   "cell_type": "code",
   "execution_count": null,
   "metadata": {},
   "outputs": [],
   "source": [
    "with open('palavras.txt','w') as f:\n",
    "    for i in palavras:\n",
    "        # escreva seu código nesta linha"
   ]
  },
  {
   "cell_type": "markdown",
   "metadata": {},
   "source": [
    "### Exercício 6)\n",
    "Repita o exercício anterior, porém, utilizando o método <font color='blue'>writelines</font> para escrever o arquivo.\n",
    "\n",
    "__Dica__: prepare uma lista onde cada elemento corresponde a uma linha do arquivo."
   ]
  },
  {
   "cell_type": "code",
   "execution_count": null,
   "metadata": {},
   "outputs": [],
   "source": []
  },
  {
   "cell_type": "markdown",
   "metadata": {},
   "source": [
    "### Exercício 7) \n",
    "Crie uma classe chamada `manipula_arquivo` para concatenar ou dividir arquivos texto. \n",
    "A classe deve possuir as seguintes características:\n",
    "- Um método chamado `concatena` que recebe o nome de dois arquivos como parâmetros e concatena os arquivos em um terceiro arquivo cujo nome também é a concatenação dos nomes enviados. O método deve retornar o nome do novo arquivo criado.\n",
    "- Um método chamado `divide_ao_meio` que recebe o nome de um arquivo como parâmetro e gera um novo arquivo com metade das linhas do arquivo original. O nome do novo arquivo deve ser o mesmo do original adicionando o número 2 no final do nome."
   ]
  },
  {
   "cell_type": "code",
   "execution_count": null,
   "metadata": {},
   "outputs": [],
   "source": [
    "class manipula_arquivo:\n",
    "    def concatena(self,arq1,arq2):\n",
    "        \n",
    "        \n",
    "    def divide_ao_meio(self,arq):\n",
    "        "
   ]
  },
  {
   "cell_type": "markdown",
   "metadata": {},
   "source": [
    "Execute as próximas duas células para gerar os aquivos 'test1.txt' e 'test2.txt'."
   ]
  },
  {
   "cell_type": "code",
   "execution_count": null,
   "metadata": {},
   "outputs": [],
   "source": [
    "%%writefile test1.txt\n",
    "conteudo do arquivo\n",
    "test1.txt para ser\n",
    "utilizado como teste para a\n",
    "classe construida"
   ]
  },
  {
   "cell_type": "code",
   "execution_count": null,
   "metadata": {},
   "outputs": [],
   "source": [
    "%%writefile test2.txt\n",
    "conteudo do arquivo\n",
    "test2.txt para ser\n",
    "utilizado como teste para a\n",
    "classe construida"
   ]
  },
  {
   "cell_type": "code",
   "execution_count": null,
   "metadata": {},
   "outputs": [],
   "source": [
    "# Utilize o código abaixo para testar sua classe\n",
    "ma = manipula_arquivo()\n",
    "ma.concatena('test1.txt','test2.txt')\n",
    "ma.divide_ao_meio('test1.txt')\n",
    "\n",
    "with open('test1test2.txt','r') as f:\n",
    "    print(f.readlines())\n",
    "        \n",
    "with open('test12.txt','r') as f:\n",
    "    print(f.readlines())       "
   ]
  },
  {
   "cell_type": "markdown",
   "metadata": {},
   "source": [
    "### Exercício 8)\n",
    "Crie uma subclasse da classe `manipula_arquivo` chamada `soma_arquivos` com as seguintes propriedades:\n",
    "- o construtor da subclasse recebe o nome de um arquivo e armazena em uma variável.\n",
    "- sobrescreva o operador <font color='blue'>+</font> (via método <font color='blue'>\\_\\_add\\_\\_</font>) para que ele concatene dois arquivos (instâncias da subclasse) utilizando o método `concatena` da superclasse `manipula_arquivo`.\n",
    "- a subclasse deve possuir o conteúdo do arquivo quando o comando print for aplicado a uma instância da subclasse.\n",
    "\n",
    "__Dica:__ Faça o método <font color='blue'>\\_\\_add\\_\\_</font> retornar uma instância da subclasse `soma_arquivos`."
   ]
  },
  {
   "cell_type": "code",
   "execution_count": null,
   "metadata": {},
   "outputs": [],
   "source": [
    "class soma_arquivos(manipula_arquivo):\n",
    "    def __init__(self,nome=''):\n",
    "        \n",
    "        \n",
    "    def __add__(self,o):\n",
    "        \n",
    "    \n",
    "    def __str__(self):\n",
    "        "
   ]
  },
  {
   "cell_type": "code",
   "execution_count": null,
   "metadata": {},
   "outputs": [],
   "source": [
    "# Utilize o código abaixo para testar sua a subclasse criada\n",
    "obj1 = soma_arquivos('test1.txt')\n",
    "obj2 = soma_arquivos('test2.txt')\n",
    "obj3 = obj1+obj2\n",
    "print(obj3)"
   ]
  },
  {
   "cell_type": "markdown",
   "metadata": {
    "id": "ot40VXRWWN4u"
   },
   "source": [
    "## <span style=\"color:blue\">Avaliação Python Parte III</span>"
   ]
  },
  {
   "cell_type": "markdown",
   "metadata": {
    "id": "OLGsvr9HWN41"
   },
   "source": [
    "### Exercício 1)\n",
    "Considere a lista `numeros` declarada na célula abaixo. Utilize o comando <font color='blue'>map</font> para gerar uma nova lista `par_impar` contendo valores <font color='blue'>True</font> ou <font color='blue'>False</font> dependendo se o elemento da lista `numeros` é par (<font color='blue'>True</font>) ou ímpar (<font color='blue'>False</font>), respectivamente. Por exemplo:\n",
    "```python\n",
    "numeros = [7, 3, 2, 13,...]\n",
    "par_impar = [False, False, True, False,...]\n",
    "```\n",
    "\n",
    "A quantidade de valores <font color='blue'>True</font> e <font color='blue'>False</font> na lista `par_impar` são:<br>\n",
    "a) True: 23, False: 27<br>\n",
    "b) <font color='red'>True: 24, False: 26</font><br>\n",
    "c) True: 25, False: 25<br> \n",
    "d) True: 21, False: 29"
   ]
  },
  {
   "cell_type": "code",
   "execution_count": null,
   "metadata": {
    "colab": {
     "base_uri": "https://localhost:8080/"
    },
    "executionInfo": {
     "elapsed": 960,
     "status": "ok",
     "timestamp": 1613313342878,
     "user": {
      "displayName": "Edesio Alcobaça",
      "photoUrl": "https://lh3.googleusercontent.com/a-/AOh14GhybDI1qzP3W03EYKTP89NWEXxwNg5z5OM5L6kdTg=s64",
      "userId": "10422480453975814446"
     },
     "user_tz": 180
    },
    "id": "aBPuHjUvWN42",
    "outputId": "1f095fe0-aa53-4ac8-b611-9abf145e4804"
   },
   "outputs": [],
   "source": [
    "numeros = [7, 3, 2, 13, 44, 3, 30, 47, 28, 10, 4, 17, 7, 37, 21, 32, 44, 2, 33, 9, 26, \n",
    "           9, 29, 9, 49, 11, 8, 42, 26, 23, 17, 16, 37, 26, 19, 26, 8, 27, 15, 10, 31, \n",
    "           41, 42, 10, 4, 9, 7, 18, 44, 12]\n",
    "\n",
    "par_impar = list(map(lambda x: x%2==0,numeros))\n",
    "print('Quantidade de True:',sum(par_impar),'Quantidade de False:',len(par_impar)-sum(par_impar))"
   ]
  },
  {
   "cell_type": "markdown",
   "metadata": {
    "id": "0X5CJb0WWN43"
   },
   "source": [
    "### Exercício 2)\n",
    "Considere a lista `num_1` declarada na célula abaixo. Utilize o comando <font color='blue'>filter</font> para gerar uma nova lista chamada `menores5` contendo somente os elementos de `num_1` que são menores ou iguais a 5. A quantidade de elementos na lista `menores5` é:<br>\n",
    "a) 4<br>\n",
    "b) 5<br>\n",
    "c) 6<br>\n",
    "d) <font color='red'>7</font><br>"
   ]
  },
  {
   "cell_type": "code",
   "execution_count": 1,
   "metadata": {
    "colab": {
     "base_uri": "https://localhost:8080/"
    },
    "executionInfo": {
     "elapsed": 1244,
     "status": "ok",
     "timestamp": 1613067184377,
     "user": {
      "displayName": "Andre Marcos Perez",
      "photoUrl": "https://lh3.googleusercontent.com/a-/AOh14GhHuUOFQZqm5dBQn9kV-xXfsDp5LVNUwCjGLlBU=s64",
      "userId": "10601481038862842422"
     },
     "user_tz": 180
    },
    "id": "99XJEoJdWN44",
    "outputId": "39b40424-1382-4ce0-da05-363fb0327b8a"
   },
   "outputs": [
    {
     "name": "stdout",
     "output_type": "stream",
     "text": [
      "[3, 5, 2, 4, 2, 1, 3] 7\n"
     ]
    }
   ],
   "source": [
    "num_1 = [7, 3, 13, 44, 13, 30, 47, 8, 15, 14, 22, 17, 32, 5, 32, 44, 21, 36, 19, 26, \n",
    "           12, 6, 29, 36, 49, 11, 8, 42, 26, 20, 6, 16, 38, 2, 19, 26, 8, 22, 14, 10, 30, \n",
    "           41, 42, 10, 4, 9, 2, 1, 44, 12, 13, 36, 11, 6, 45, 3, 10, 7, 9, 21]\n",
    "\n",
    "menores5 = list(filter(lambda x: x<=5,num_1))\n",
    "print(menores5, len(menores5))"
   ]
  },
  {
   "cell_type": "markdown",
   "metadata": {
    "id": "QedRh0OTWN45"
   },
   "source": [
    "### Exercício 3)\n",
    "Considere a lista `num_2` abaixo. Utilize uma combinação dos comandos \n",
    "<font color='blue'>reduce</font> e <font color='blue'>filter</font> para somar todos os elementos da lista que são menores ou iguais a 10. O valor da soma será:<br>\n",
    "a) 101<br>\n",
    "b) 111<br>\n",
    "c) 120<br>\n",
    "d) <font color='red'>126</font>\n",
    "    "
   ]
  },
  {
   "cell_type": "code",
   "execution_count": 2,
   "metadata": {
    "colab": {
     "base_uri": "https://localhost:8080/"
    },
    "executionInfo": {
     "elapsed": 1240,
     "status": "ok",
     "timestamp": 1613067184378,
     "user": {
      "displayName": "Andre Marcos Perez",
      "photoUrl": "https://lh3.googleusercontent.com/a-/AOh14GhHuUOFQZqm5dBQn9kV-xXfsDp5LVNUwCjGLlBU=s64",
      "userId": "10601481038862842422"
     },
     "user_tz": 180
    },
    "id": "gdLTUMHnWN45",
    "outputId": "f4b6fd0b-d47c-4b84-89cb-196387a647bb"
   },
   "outputs": [
    {
     "name": "stdout",
     "output_type": "stream",
     "text": [
      "A soma será: 126\n"
     ]
    }
   ],
   "source": [
    "from functools import reduce\n",
    "\n",
    "num_2 = [9, 3, 13, 44, 13, 30, 47, 8, 15, 14, 22, 17, 32, 5, 32, 44, 21, 36, 19, 26, \n",
    "           12, 6, 29, 36, 49, 11, 8, 42, 26, 20, 6, 16, 38, 2, 19, 26, 8, 22, 14, 10, 30, \n",
    "           41, 42, 10, 4, 9, 2, 1, 44, 12, 13, 36, 11, 6, 45, 3, 10, 7, 9, 21]\n",
    "\n",
    "soma_menores_10 = reduce(lambda x,y: x+y,list(filter(lambda x: x<=10,num_2)))\n",
    "print('A soma será:',soma_menores_10)"
   ]
  },
  {
   "cell_type": "markdown",
   "metadata": {
    "id": "12JHpGqVWN45"
   },
   "source": [
    "### Exercício 4)\n",
    "Assinale a alternativa que melhor explica o que significa `x` e `i` na declaração `x(i)` que está dentro do comando <font color='blue'>map</font> no código abaixo:<br>\n",
    "\n",
    "a) <font color='red'>`x` corresponde a um dos elementos da lista `func` e `i` é um número da lista [0,1,2,3,4].</font><br>\n",
    "b) `x` corresponde a lista `func` e `i` é um dos elementos desta lista.<br>\n",
    "c) `x` corresponde a lista de números [0,1,2,3,4] e `i` é um dos elementos da lista.<br>\n",
    "d)  `x` corresponde a `func` e `i` é um dos elementos de `func`.<br>"
   ]
  },
  {
   "cell_type": "code",
   "execution_count": 3,
   "metadata": {
    "colab": {
     "base_uri": "https://localhost:8080/"
    },
    "executionInfo": {
     "elapsed": 1235,
     "status": "ok",
     "timestamp": 1613067184378,
     "user": {
      "displayName": "Andre Marcos Perez",
      "photoUrl": "https://lh3.googleusercontent.com/a-/AOh14GhHuUOFQZqm5dBQn9kV-xXfsDp5LVNUwCjGLlBU=s64",
      "userId": "10601481038862842422"
     },
     "user_tz": 180
    },
    "id": "a7yWWRVEWN46",
    "outputId": "e9988cde-466c-45bf-dfeb-8615555c4cf6"
   },
   "outputs": [
    {
     "name": "stdout",
     "output_type": "stream",
     "text": [
      "[0, 0]\n",
      "[1, 1]\n",
      "[4, 8]\n",
      "[9, 27]\n",
      "[16, 64]\n"
     ]
    }
   ],
   "source": [
    "def quadrado(x):\n",
    "    return(x**2)\n",
    "\n",
    "def cubo(x):\n",
    "    return(x**3)\n",
    "\n",
    "funcs = [quadrado, cubo]\n",
    "for i in range(5):\n",
    "    res = map(lambda x: x(i),funcs)  # declaração de x(i)\n",
    "    print(list(res))"
   ]
  },
  {
   "cell_type": "markdown",
   "metadata": {
    "id": "EM5UBhWBt1u1"
   },
   "source": [
    "### Exercício 5)\n",
    "No arquivo <font color='blue'>`roda-viva.txt`</font> (gerado na célula abaixo), temos o refrão incompleto da música Roda Viva de Chico Buarque. O código abaixo deveria adicionar o verso <font color='blue'>`Nas voltas do meu coracao`</font> no final do arquivo para completar o refrão, mas está sobreescrevendo todo o texto. Qual o valor que a variável <font color='blue'>`mode`</font> deve assumir para que o código cumpra o objetivo descrito:\n",
    "\n",
    "a) 'r+'<br>\n",
    "<font color='red'>b) 'a' </font><br>\n",
    "c) 'wb'<br>\n",
    "d) 'w+'<br>"
   ]
  },
  {
   "cell_type": "code",
   "execution_count": null,
   "metadata": {
    "colab": {
     "base_uri": "https://localhost:8080/"
    },
    "executionInfo": {
     "elapsed": 1231,
     "status": "ok",
     "timestamp": 1613067184379,
     "user": {
      "displayName": "Andre Marcos Perez",
      "photoUrl": "https://lh3.googleusercontent.com/a-/AOh14GhHuUOFQZqm5dBQn9kV-xXfsDp5LVNUwCjGLlBU=s64",
      "userId": "10601481038862842422"
     },
     "user_tz": 180
    },
    "id": "1HAPHihnuKXq",
    "outputId": "32142f34-eec8-4aee-f0a5-2ca143dc6cbf"
   },
   "outputs": [],
   "source": [
    "%%writefile roda-viva.txt \n",
    "Roda mundo, roda-gigante\n",
    "Roda moinho, roda piao\n",
    "O tempo rodou num instante"
   ]
  },
  {
   "cell_type": "code",
   "execution_count": null,
   "metadata": {
    "id": "iAPlVRedt6za"
   },
   "outputs": [],
   "source": [
    "mode = 'a'\n",
    "with open(file='roda-viva.txt', mode=mode) as fp:\n",
    "  verso = 'Nas voltas do meu coracao'\n",
    "  fp.write(verso)"
   ]
  },
  {
   "cell_type": "markdown",
   "metadata": {},
   "source": [
    "## <span style=\"color:blue\">Numpy Parte I</span>"
   ]
  },
  {
   "cell_type": "markdown",
   "metadata": {},
   "source": [
    "__Conteúdo:__\n",
    "\n",
    "- Numpy - Parte I:\n",
    "  - Visão geral\n",
    "  - Básico de arrays\n",
    "  - Manipulação das dimensões\n",
    "  - Iterar e repartir\n",
    "  - Indexação estilosa\n",
    "  - Cópias e visualizações\n",
    "- I/O com Numpy\n",
    "  - Leitura e escrita de arrays\n",
    "  \n",
    "__Referencias:__\n",
    "\n",
    "[Numpy Tutorial](https://www.python-course.eu/numpy.php)\n",
    "\n",
    "---"
   ]
  },
  {
   "cell_type": "markdown",
   "metadata": {},
   "source": [
    "## Numpy \n",
    "<font color='blue'>Numpy</font> é um pacote Python para processamento matricial (computação orientada a matriz) onde:\n",
    "- as classes e métodos são majoritariamente escrito em C, garantindo eficiência computacional\n",
    "- possui muitos recursos para computação científica e problemas de álgebra linear\n",
    "\n",
    "Vários outros pacotes do Python dependem fortemente do <font color='blue'>numpy</font> , como por exemplo:\n",
    "- pandas\n",
    "- matplotlib\n",
    "- sklearn"
   ]
  },
  {
   "cell_type": "markdown",
   "metadata": {},
   "source": [
    "Numpy é um pacote, precisa portanto ser importado. A forma típica de importar o <font color='blue'>numpy</font> é\n",
    "```python\n",
    "import numpy as np\n",
    "```\n",
    "porém, outras formas também podem ser utilizadas, como por exemplo:\n",
    "```python\n",
    "import numpy\n",
    "from numpy import *\n",
    "```\n",
    "\n",
    "A estruta de dados base do <font color='blue'>numpy</font> são os `arrays`, que funcionam de forma semelhante às listas em Python, no entanto:\n",
    "- Todos os elementos em um array deve ser do mesmo tipo, tipicamente um tipo numérico como <font color='blue'>float</font> ou <font color='blue'>int</font>\n",
    "- Os arrays viabilizam a realização eficiente de operações numéricas envolvendo grandes quantidades de dados, sendo para este fim, muito mais eficientes que as listas.\n",
    "- Cada dimensão de um array é chamada de eixo (_axis_)\n",
    "- Os eixos são numerados a partir de $0$\n",
    "- Os elementos são acessados utilizando colchetes <font color='blue'>[]</font> (semelhante às listas do Python)"
   ]
  },
  {
   "cell_type": "markdown",
   "metadata": {},
   "source": [
    "### Construindo arrays\n",
    "Arrays podem ser construidos de muitas formas diferentes:\n",
    "- convertendo listas\n",
    "- via métodos do <font color='blue'>numpy</font>\n",
    "- convertendo DataFrames"
   ]
  },
  {
   "cell_type": "code",
   "execution_count": 2,
   "metadata": {},
   "outputs": [
    {
     "name": "stdout",
     "output_type": "stream",
     "text": [
      "1D array ----- \n",
      "\n",
      "[ 1  3  5  7  9 10]\n",
      "[1, 3, 5, 7, 9, 10]\n"
     ]
    }
   ],
   "source": [
    "import numpy as np\n",
    "\n",
    "# criando um array unidimensional a partir de uma lista\n",
    "print(\"1D array\",5*'-','\\n')\n",
    "\n",
    "lst = [1,3,5,7,9,10]\n",
    "a1d = np.array(lst)\n",
    "print(a1d)\n",
    "\n",
    "# note que na impressão de um array, as vírgulas entre elementos não aparecem como no caso de listas\n",
    "print(lst)"
   ]
  },
  {
   "cell_type": "code",
   "execution_count": 3,
   "metadata": {},
   "outputs": [
    {
     "name": "stdout",
     "output_type": "stream",
     "text": [
      "b1d= [0. 0. 0. 0. 0. 0. 0. 0.]\n",
      "c1d= [1. 1. 1. 1. 1. 1. 1. 1. 1. 1.]\n",
      "d1d= [0 1 2 3 4 5 6 7 8 9]\n",
      "e1d= [1.   1.25 1.5  1.75 2.  ]\n"
     ]
    }
   ],
   "source": [
    "# Criando arrays unidimensionais a partir de métodos do numpy\n",
    "b1d = np.zeros((8))  # array com oito elementos iguais a zero\n",
    "print('b1d=',b1d)\n",
    "\n",
    "c1d = np.ones((10))  # array com oito elementos iguais a um\n",
    "print('c1d=',c1d)\n",
    "\n",
    "d1d = np.arange(10)  # array com numeros entre 0 e 9\n",
    "print('d1d=',d1d)\n",
    "\n",
    "e1d = np.linspace(1,2,5) #array com 5 números igualmente espaçados no intervalo entre 1 e 2 \n",
    "print('e1d=',e1d)"
   ]
  },
  {
   "cell_type": "code",
   "execution_count": 4,
   "metadata": {},
   "outputs": [
    {
     "name": "stdout",
     "output_type": "stream",
     "text": [
      "\n",
      " 2D array ----- \n",
      "\n",
      "a2d=\n",
      " [[ 1  3  5  7  9 11]\n",
      " [ 2  4  6  8 10 12]\n",
      " [ 0  1  2  3  4  5]]\n"
     ]
    }
   ],
   "source": [
    "# Criando array bidimensional (matriz) a partir de uma lista de listas\n",
    "print(\"\\n 2D array\",5*'-','\\n')\n",
    "a2d = np.array([[1,3,5,7,9,11],\n",
    "                  [2,4,6,8,10,12],\n",
    "                  [0,1,2,3,4,5]])\n",
    "print('a2d=\\n',a2d)"
   ]
  },
  {
   "cell_type": "code",
   "execution_count": 5,
   "metadata": {},
   "outputs": [
    {
     "name": "stdout",
     "output_type": "stream",
     "text": [
      "b2d=\n",
      " [[0. 0. 0.]\n",
      " [0. 0. 0.]\n",
      " [0. 0. 0.]\n",
      " [0. 0. 0.]\n",
      " [0. 0. 0.]]\n",
      "c2d=\n",
      " [[1. 1. 1. 1. 1. 1. 1. 1. 1. 1.]\n",
      " [1. 1. 1. 1. 1. 1. 1. 1. 1. 1.]\n",
      " [1. 1. 1. 1. 1. 1. 1. 1. 1. 1.]\n",
      " [1. 1. 1. 1. 1. 1. 1. 1. 1. 1.]\n",
      " [1. 1. 1. 1. 1. 1. 1. 1. 1. 1.]]\n",
      "d2d=\n",
      " [[1. 0. 0.]\n",
      " [0. 1. 0.]\n",
      " [0. 0. 1.]]\n"
     ]
    }
   ],
   "source": [
    "# Criando arrays ubidimensionais a partir de métodos do numpy\n",
    "b2d = np.zeros((5,3))  # criando matriz 5X3 de zeros\n",
    "print('b2d=\\n',b2d)\n",
    "\n",
    "c2d = np.ones((5,10))  # criando matriz 5X10 de uns\n",
    "print('c2d=\\n',c2d)\n",
    "\n",
    "d2d = np.identity(3) # criando matrix identidade 3X3\n",
    "print('d2d=\\n',d2d)"
   ]
  },
  {
   "cell_type": "markdown",
   "metadata": {},
   "source": [
    "Numpy arrays são objetos chamados _ndarrays_ e possuem diversos atributos \n",
    "- ndarray.ndim - número de eixos (dimensões) do array\n",
    "- ndarray.shape - uma tupla de inteiros indicando o tamanho do array em cada dimensão\n",
    "- ndarray.size - o número total de elementos do array\n",
    "- ndarray.dtype - tipo dos elementos no array\n",
    "- ndarray.itemsize - o tamanho em bytes de cada elemento do array\n",
    "- ndarray.data - o buffer de memória contendo os elementos do array"
   ]
  },
  {
   "cell_type": "code",
   "execution_count": 6,
   "metadata": {},
   "outputs": [
    {
     "name": "stdout",
     "output_type": "stream",
     "text": [
      " ndim: numero de eixos dos arrays\n",
      "a1d.ndim = 1\n",
      "b1d.ndim = 1\n",
      "a2d.ndim = 2\n",
      "c2d.ndim = 2\n",
      "\n",
      " shape: tamanho do array em cada dimensao\n",
      "a1d.shape = (6,)\n",
      "b1d.shape = (8,)\n",
      "a2d.shape = (3, 6)\n",
      "c2d.shape = (5, 10)\n"
     ]
    }
   ],
   "source": [
    "# considere os arrays 'a1d', 'b1d', 'a2d', 'b2d' e 'c2d' criados nas células anteriores\n",
    "print(\" ndim: numero de eixos dos arrays\")\n",
    "print('a1d.ndim =',a1d.ndim)\n",
    "print('b1d.ndim =',b1d.ndim)\n",
    "print('a2d.ndim =',a2d.ndim)\n",
    "print('c2d.ndim =',c2d.ndim)\n",
    "\n",
    "print(\"\\n shape: tamanho do array em cada dimensao\")\n",
    "print('a1d.shape =',a1d.shape)\n",
    "print('b1d.shape =',b1d.shape)\n",
    "print('a2d.shape =',a2d.shape)\n",
    "print('c2d.shape =',c2d.shape)"
   ]
  },
  {
   "cell_type": "code",
   "execution_count": 7,
   "metadata": {},
   "outputs": [
    {
     "name": "stdout",
     "output_type": "stream",
     "text": [
      "\n",
      " size: numero total de elementos\n",
      "a1d.size = 6\n",
      "b1d.size = 8\n",
      "a2d.size = 18\n",
      "c2d.size = 50\n",
      "\n",
      " dtype: tipo dos elementos\n",
      "a1d.dtype = int64\n",
      "b1d.dtype = float64\n",
      "a2d.dtype = int64\n",
      "c2d.dtype = float64\n"
     ]
    }
   ],
   "source": [
    "print(\"\\n size: numero total de elementos\")\n",
    "print('a1d.size =',a1d.size)\n",
    "print('b1d.size =',b1d.size)\n",
    "print('a2d.size =',a2d.size)\n",
    "print('c2d.size =',c2d.size)\n",
    "\n",
    "print(\"\\n dtype: tipo dos elementos\")\n",
    "print('a1d.dtype =',a1d.dtype)\n",
    "print('b1d.dtype =',b1d.dtype)\n",
    "print('a2d.dtype =',a2d.dtype)\n",
    "print('c2d.dtype =',c2d.dtype)"
   ]
  },
  {
   "cell_type": "code",
   "execution_count": 8,
   "metadata": {},
   "outputs": [
    {
     "name": "stdout",
     "output_type": "stream",
     "text": [
      "\n",
      " itemsize: tamanho em bytes de cada elemento\n",
      "a1d.itemsize = 8\n",
      "b1d.itemsize = 8\n",
      "a2d.itemsize = 8\n",
      "c2d.itemsize = 8\n",
      "\n",
      " data: buffer contendo os elementos do array\n",
      "a1d.data = <memory at 0x113a31a00>\n",
      "b1d.data = <memory at 0x113a31a00>\n",
      "a2d.data = <memory at 0x113bf76c0>\n",
      "c2d.data = <memory at 0x113bf76c0>\n"
     ]
    }
   ],
   "source": [
    "print(\"\\n itemsize: tamanho em bytes de cada elemento\")\n",
    "print('a1d.itemsize =',a1d.itemsize)\n",
    "print('b1d.itemsize =',b1d.itemsize)\n",
    "print('a2d.itemsize =',a2d.itemsize)\n",
    "print('c2d.itemsize =',c2d.itemsize)\n",
    "\n",
    "print(\"\\n data: buffer contendo os elementos do array\")\n",
    "print('a1d.data =',a1d.data)\n",
    "print('b1d.data =',b1d.data)\n",
    "print('a2d.data =',a2d.data)\n",
    "print('c2d.data =',c2d.data)"
   ]
  },
  {
   "cell_type": "markdown",
   "metadata": {},
   "source": [
    "**Importante:** Arrays unidimensionais podem ter uma das dimensões livres. "
   ]
  },
  {
   "cell_type": "code",
   "execution_count": 9,
   "metadata": {},
   "outputs": [
    {
     "name": "stdout",
     "output_type": "stream",
     "text": [
      "a.shape =  (5,)\n",
      "b.shape =  (5, 1)\n",
      "a.ndim =  1\n",
      "b.ndim =  2\n"
     ]
    }
   ],
   "source": [
    "a = np.zeros((5))\n",
    "b = np.zeros((5,1))\n",
    "print('a.shape = ',a.shape)\n",
    "print('b.shape = ',b.shape)\n",
    "print('a.ndim = ',a.ndim)\n",
    "print('b.ndim = ',b.ndim)"
   ]
  },
  {
   "cell_type": "markdown",
   "metadata": {},
   "source": [
    "Note que o array cujo <font color='blue'>shape</font> é (5,) possui apenas 1 eixo, enquanto que o array com <font color='blue'>shape</font> (5,1) possui 2 eixos (ndim =2). Este último corresponde a uma matrix com 5 linhas e 1 coluna."
   ]
  },
  {
   "cell_type": "markdown",
   "metadata": {},
   "source": [
    "### Acessando os elementos de um array\n",
    "Como no caso de sequências, os índices de um array variam de 0 a $k_i-1$, onde $k_i$ é o número de elementos na dimensão $ i $"
   ]
  },
  {
   "cell_type": "code",
   "execution_count": 15,
   "metadata": {},
   "outputs": [
    {
     "name": "stdout",
     "output_type": "stream",
     "text": [
      "[ 1  3  5  7  9 10]\n",
      "elemento 0 =  1\n",
      "elemento de indice 3 =  7\n",
      "ultimo elemento do array =  10\n",
      "-----\n",
      "[[ 1  3  5  7  9 11]\n",
      " [ 2  4  6  8 10 12]\n",
      " [ 0  1  2  3  4  5]]\n",
      "linha de indice 1 =  [ 2  4  6  8 10 12]\n",
      "elemento na linha 0 coluna 1 =  3\n",
      "elemento na linha 1 coluna 2 =  6\n",
      "elemento na ultima linha e ultima coluna =  5\n"
     ]
    }
   ],
   "source": [
    "# Acessando elementos do array\n",
    "# Índices variam de 0 a ki-1 em cada dimensão, onde ki é o número de elementos no dimensão i\n",
    "print(a1d)\n",
    "print('elemento 0 = ',a1d[0])\n",
    "print('elemento de indice 3 = ',a1d[3])\n",
    "print('ultimo elemento do array = ',a1d[-1]) # -1 corresponde ao último elemento do array\n",
    "\n",
    "print(5*'-')\n",
    "print(a2d)\n",
    "print('linha de indice 1 = ',a2d[1]) # quando apenas um índice é fornecido \n",
    "                                     # para um array bidimensional\n",
    "                                     # o que é retornado é a linha correspondente \n",
    "                                     # ao índice fornecido\n",
    "            \n",
    "print('elemento na linha 0 coluna 1 = ',a2d[0,1])\n",
    "print('elemento na linha 1 coluna 2 = ',a2d[1,2])\n",
    "print('elemento na ultima linha e ultima coluna = ',a2d[-1,-1])"
   ]
  },
  {
   "cell_type": "markdown",
   "metadata": {},
   "source": [
    "#### Percorrendo elementos com laço <font color='blue'>for</font>\n",
    "A iteração é feita por linhas, se o que se busca são os elementos, deve-se utilizar um laço duplo ou então a versão 'flat' do array."
   ]
  },
  {
   "cell_type": "code",
   "execution_count": 18,
   "metadata": {},
   "outputs": [
    {
     "name": "stdout",
     "output_type": "stream",
     "text": [
      "linha  0  =  [ 1  3  5  7  9 11]\n",
      "linha  1  =  [ 2  4  6  8 10 12]\n",
      "linha  2  =  [0 1 2 3 4 5]\n",
      "----------  iterando o array\n",
      "elemento  0   0  =  1\n",
      "elemento  0   1  =  3\n",
      "elemento  0   2  =  5\n",
      "elemento  0   3  =  7\n",
      "elemento  0   4  =  9\n",
      "elemento  0   5  =  11\n",
      "elemento  1   0  =  2\n",
      "elemento  1   1  =  4\n",
      "elemento  1   2  =  6\n",
      "elemento  1   3  =  8\n",
      "elemento  1   4  =  10\n",
      "elemento  1   5  =  12\n",
      "elemento  2   0  =  0\n",
      "elemento  2   1  =  1\n",
      "elemento  2   2  =  2\n",
      "elemento  2   3  =  3\n",
      "elemento  2   4  =  4\n",
      "elemento  2   5  =  5\n",
      "----------  utilizando indices\n",
      "elemento  0   0  =  1\n",
      "elemento  0   1  =  3\n",
      "elemento  0   2  =  5\n",
      "elemento  0   3  =  7\n",
      "elemento  0   4  =  9\n",
      "elemento  0   5  =  11\n",
      "elemento  1   0  =  2\n",
      "elemento  1   1  =  4\n",
      "elemento  1   2  =  6\n",
      "elemento  1   3  =  8\n",
      "elemento  1   4  =  10\n",
      "elemento  1   5  =  12\n",
      "elemento  2   0  =  0\n",
      "elemento  2   1  =  1\n",
      "elemento  2   2  =  2\n",
      "elemento  2   3  =  3\n",
      "elemento  2   4  =  4\n",
      "elemento  2   5  =  5\n",
      "----------  utilizando flat\n",
      "1\n",
      "3\n",
      "5\n",
      "7\n",
      "9\n",
      "11\n",
      "2\n",
      "4\n",
      "6\n",
      "8\n",
      "10\n",
      "12\n",
      "0\n",
      "1\n",
      "2\n",
      "3\n",
      "4\n",
      "5\n"
     ]
    }
   ],
   "source": [
    "# percorrendo as linhas\n",
    "for i,r in enumerate(a2d): # o comando 'enumerate' enumera a iteração e retorna o elemento\n",
    "    print('linha ',i,' = ',r)\n",
    "    \n",
    "print(5*'--',' iterando o array')\n",
    "# percorrendo elementos\n",
    "for i,r in enumerate(a2d):\n",
    "    for j,e in enumerate(r):\n",
    "        print('elemento ',i,' ',j,' = ',e)\n",
    "        \n",
    "print(5*'--',' utilizando indices')\n",
    "# pode-se também utilizar indices diretamente\n",
    "for i in range(a2d.shape[0]):      # .shape[0] fornece numero linhas\n",
    "    for j in range(a2d.shape[1]):  # .shape[1] fornece numero colunas\n",
    "        print('elemento ',i,' ',j,' = ',a2d[i,j])\n",
    "    \n",
    "print(5*'--',' utilizando flat')\n",
    "# o atributo 'flat' coloca todos os elementos como em uma lista\n",
    "for i in a2d.flat:\n",
    "    print(i)"
   ]
  },
  {
   "cell_type": "markdown",
   "metadata": {},
   "source": [
    "#### Fatiando arrays (slicing)\n",
    "A melhor forma de se percorrer um array é por meio de 'slicing', evitando o uso de laços <font color='blue'>for</font>, que são computacionalmente muito menos eficientes.\n",
    "- Array slicing funciona como em listas, mas em múltiplas dimensões\n",
    "- Omitir um índice corresponde a recuperar toda a dimensão omitida\n",
    "- Um slice é uma \"visão\" (__VIEW__) do array original (similar a uma referencia), isto é, o dado não é copiado"
   ]
  },
  {
   "cell_type": "code",
   "execution_count": 21,
   "metadata": {},
   "outputs": [
    {
     "name": "stdout",
     "output_type": "stream",
     "text": [
      "[[ 1  3  5  7  9 11]\n",
      " [ 2  4  6  8 10 12]\n",
      " [ 0  1  2  3  4  5]]\n",
      "a2d[1,:] - Recupera a linha de indice 1 (equivalent to a2d[1])\n",
      " [ 2  4  6  8 10 12]\n",
      "a2d[:,2] - Recupera a coluna de indice 2\n",
      " [5 6 2]\n",
      "a2d[1:,2:5] - Recupera o bloco a partir da linha de indice 1 e colunas 2,3 e 4\n",
      " [[ 6  8 10]\n",
      " [ 2  3  4]]\n",
      "a2d[[0,2]] - Recupera as linhas 0 e 2\n",
      " [[ 1  3  5  7  9 11]\n",
      " [ 0  1  2  3  4  5]]\n",
      "a2d[:,[0,2,5]] - Recuperando as colunas 0,2 e 5 \n",
      " [[ 1  5 11]\n",
      " [ 2  6 12]\n",
      " [ 0  2  5]]\n",
      "a2d[[0,1,2],[0,2,5]] - Recuperando os elementos das posicoes 0,0 1,2 e 2,5 \n",
      " [1 6 5]\n"
     ]
    }
   ],
   "source": [
    "a2d = np.array([[1,3,5,7,9,11],     # criando um array bidimensional a partir de uma\n",
    "                  [2,4,6,8,10,12],  # lista de listas\n",
    "                  [0,1,2,3,4,5]])\n",
    "print(a2d)\n",
    "\n",
    "# slicing de colunas\n",
    "print('a2d[1,:] - Recupera a linha de indice 1 (equivalent to a2d[1])\\n',a2d[1,:])\n",
    "\n",
    "# slicing de linhas\n",
    "print('a2d[:,2] - Recupera a coluna de indice 2\\n',a2d[:,2])\n",
    "\n",
    "# slicing de blocos\n",
    "print('a2d[1:,2:5] - Recupera o bloco a partir da linha de indice 1 e colunas 2,3 e 4\\n',a2d[1:,2:5])\n",
    "\n",
    "print('a2d[[0,2]] - Recupera as linhas 0 e 2\\n',a2d[[0,2]]) \n",
    "                                                    # note que uma lista com o indice\n",
    "                                                    # das linhas é passada para o slicing\n",
    "\n",
    "print('a2d[:,[0,2,5]] - Recuperando as colunas 0,2 e 5 \\n',a2d[:,[0,2,5]]) \n",
    "                                                    # note que uma lista com o indice\n",
    "                                                    # das colunas é passada para o slicing\n",
    "\n",
    "print('a2d[[0,1,2],[0,2,5]] - Recuperando os elementos das posicoes 0,0 1,2 e 2,5 \\n',a2d[[0,1,2],[0,2,5]])\n",
    "# quando duas listas, uma com indices de linhas e outra com indices de colunas, são passadas\n",
    "# para o slicing, elementos dos pares de posicoes são recuperados. As duas listas devem\n",
    "# conter o mesmo número de elementos (indices)"
   ]
  },
  {
   "cell_type": "code",
   "execution_count": 26,
   "metadata": {},
   "outputs": [
    {
     "name": "stdout",
     "output_type": "stream",
     "text": [
      "a: matrix 3x3\n",
      "Quando uma linha ou coluna é fixada o slicing gera um array unidimensional (segunda dimensão livre)\n",
      "[:2,1] (2,)\n",
      "[:,-1] (3,)\n",
      "[2] (3,)\n",
      "[2,:] (3,)\n",
      "Quando os símbolo \":\" é utilizado o slicing fixa a segunda dimensão livre\n",
      "[2:,:] (1, 3)\n",
      "[:2,1:] (2, 2)\n",
      "[:2,-1:] (2, 1)\n",
      "[:,-1:] (3, 1)\n"
     ]
    }
   ],
   "source": [
    "a = np.ones((3,3))\n",
    "print('a: matrix 3x3')\n",
    "\n",
    "# Quando uma linha ou coluna é fixada\n",
    "# o slicing gera um array unidimensional (secunda dimensão livre)\n",
    "print('Quando uma linha ou coluna é fixada o slicing gera um array unidimensional (segunda dimensão livre)')\n",
    "print('[:2,1]',a[:2,1].shape) \n",
    "print('[:,-1]',a[:,-1].shape)\n",
    "print('[2]',a[2].shape)\n",
    "print('[2,:]',a[2,:].shape)\n",
    "\n",
    "# Quando os símbolo ':' é utilizado\n",
    "# o slicing fixa a dimensão \n",
    "print('Quando os símbolo \":\" é utilizado o slicing fixa a segunda dimensão livre')\n",
    "print('[2:,:]',a[2:,:].shape)\n",
    "print('[:2,1:]',a[:2,1:].shape)\n",
    "print('[:2,-1:]',a[:2,-1:].shape)\n",
    "print('[:,-1:]',a[:,-1:].shape)"
   ]
  },
  {
   "cell_type": "markdown",
   "metadata": {},
   "source": [
    "### Métodos <font color='blue'>flatten</font> , <font color='blue'>ravel</font> e <font color='blue'>reshape</font>\n",
    "O método <font color='blue'>reshape</font> permite reformatar o array modificando o número de linhas e colunas, porém, a nova 'shape' tem que possuir o mesmo número de elementos do array original.\n",
    "\n",
    "O método <font color='blue'>ravel</font> concatena as linhas da matriz em um array unidimensional. \n",
    "\n",
    "O método <font color='blue'>flatten</font> também concatena as linhas da matriz em um array unidimensional, porém, faz uma cópia dos elementos. O método <font color='blue'>ravel</font> gera uma __view__, portanto se algum elemento for modificado, o array original também é modificado."
   ]
  },
  {
   "cell_type": "code",
   "execution_count": 29,
   "metadata": {},
   "outputs": [
    {
     "name": "stdout",
     "output_type": "stream",
     "text": [
      "a:\n",
      " [[0 1 2]\n",
      " [3 4 5]\n",
      " [6 7 8]]\n",
      "\n",
      "b = a.ravel():\n",
      " [0 1 2 3 4 5 6 7 8]\n",
      "\n",
      "b[2] modificado : [ 0  1 -2  3  4  5  6  7  8]\n",
      "\n",
      "elemento a[0,2] é afetado quand b[2] foi alterado\n",
      "[[ 0  1 -2]\n",
      " [ 3  4  5]\n",
      " [ 6  7  8]]\n"
     ]
    }
   ],
   "source": [
    "# Criando um array randomico on números entre 0 e 8 e \n",
    "# reformatando para a forma de uma matrix 3x3\n",
    "a = np.arange(9).reshape((3,3))\n",
    "print('a:\\n',a)\n",
    "\n",
    "# concatenando as linhas de a (ravel não faz cópia)\n",
    "b = a.ravel()  \n",
    "print('\\nb = a.ravel():\\n',b)\n",
    "\n",
    "# modificando elemento b[2]\n",
    "b[2] = -2 \n",
    "print('\\nb[2] modificado :',b)\n",
    "\n",
    "# elemento a[0,2] é afetado pela modificacao de b[2]\n",
    "print('\\nelemento a[0,2] é afetado quando b[2] foi alterado, pois \"ravel nao faz copia')\n",
    "print(a)"
   ]
  },
  {
   "cell_type": "code",
   "execution_count": 33,
   "metadata": {},
   "outputs": [
    {
     "name": "stdout",
     "output_type": "stream",
     "text": [
      "a:\n",
      " [[0 1 2]\n",
      " [3 4 5]\n",
      " [6 7 8]]\n",
      "\n",
      "c = a.flatten():\n",
      " [0 1 2 3 4 5 6 7 8]\n",
      "\n",
      "elemento c[2] alterado\n",
      " [ 0  1 -1  3  4  5  6  7  8]\n",
      "\n",
      "elemento a[0,2] NAO e afetado quando c[2] foi alterado, pois \"flatten faz copia\n",
      "[[0 1 2]\n",
      " [3 4 5]\n",
      " [6 7 8]]\n"
     ]
    }
   ],
   "source": [
    "# Criando um array randomico on números entre 0 e 8 e \n",
    "# reformatando para a forma de uma matrix 3x3\n",
    "a = np.arange(9).reshape((3,3))\n",
    "print('a:\\n',a)\n",
    "\n",
    "# concatenando as linhas de 'a' com flatten()\n",
    "# uma cópia dos elementos de 'a' é feita\n",
    "c = a.flatten()\n",
    "print('\\nc = a.flatten():\\n',c)\n",
    "\n",
    "\n",
    "# alterando elemento c[2]\n",
    "c[2] = -1\n",
    "print('\\nelemento c[2] alterado\\n',c)\n",
    "\n",
    "# elemento a[0,2] NÃO é afetado pela modificacao de c[2]\n",
    "print('\\nelemento a[0,2] NAO e afetado quando c[2] foi alterado, pois \"flatten faz copia')\n",
    "print(a)"
   ]
  },
  {
   "cell_type": "markdown",
   "metadata": {},
   "source": [
    "### Transposta de uma matriz\n",
    "A transposta de uma matriz pode ser calculada simplesmente invocando o atributo <font color='blue'>.T</font> do objeto 'ndarray'."
   ]
  },
  {
   "cell_type": "code",
   "execution_count": 37,
   "metadata": {},
   "outputs": [
    {
     "name": "stdout",
     "output_type": "stream",
     "text": [
      "[[1. 1. 1.]\n",
      " [1. 1. 1.]\n",
      " [1. 1. 1.]\n",
      " [1. 1. 1.]\n",
      " [1. 1. 1.]]\n",
      "(5, 3)\n",
      "\n",
      "Obtendo a transposta\n",
      "[[1. 1. 1. 1. 1.]\n",
      " [1. 1. 1. 1. 1.]\n",
      " [1. 1. 1. 1. 1.]]\n",
      "(3, 5)\n"
     ]
    }
   ],
   "source": [
    "a = np.ones((5,3)) # matriz 5x3 com valores 1\n",
    "print(a)\n",
    "print(a.shape)\n",
    "\n",
    "print('\\nObtendo a transposta')\n",
    "a_transposta = a.T\n",
    "print(a_transposta)\n",
    "print(a_transposta.shape)"
   ]
  },
  {
   "cell_type": "markdown",
   "metadata": {},
   "source": [
    "### Máscara booleanas\n",
    "Um array de valores booleanos (máscara booleana) pode ser usado para selecionar elementos em um array.\n",
    "\n",
    "Máscaras boolenas também podem ser empregadas para fazer atribuições de maneira eficiente e elegante.\n"
   ]
  },
  {
   "cell_type": "code",
   "execution_count": 40,
   "metadata": {},
   "outputs": [
    {
     "name": "stdout",
     "output_type": "stream",
     "text": [
      "[[ 0  1  2  3  4  5]\n",
      " [ 6  7  8  9 10 11]\n",
      " [12 13 14 15 16 17]]\n",
      "\n",
      "Mascara booleana da matriz para valores maiores que 7\n",
      "[[False False False False False False]\n",
      " [False False  True  True  True  True]\n",
      " [ True  True  True  True  True  True]]\n",
      "\n",
      "Recuperando apenas os elementos maiores que 7\n",
      "[ 8  9 10 11 12 13 14 15 16 17]\n",
      "\n",
      "Modificando apenas os elementos maiores que 7\n",
      "[[0 1 2 3 4 5]\n",
      " [6 7 0 0 0 0]\n",
      " [0 0 0 0 0 0]]\n"
     ]
    }
   ],
   "source": [
    "# gerando numeros entre 0 e 17 e reformatando em uma matriz 3x6\n",
    "x = np.arange(18).reshape(3,6)\n",
    "print(x)\n",
    "\n",
    "# calculando uma máscara booleana onde o valor True \n",
    "# corresponde aos elementos maiores que 7\n",
    "mask = (x > 7)\n",
    "\n",
    "print('\\nMascara booleana da matriz para valores maiores que 7')\n",
    "print(mask)\n",
    "\n",
    "print('\\nRecuperando apenas os elementos maiores que 7')\n",
    "print(x[mask])\n",
    "\n",
    "print('\\nModificando apenas os elementos maiores que 7')\n",
    "x[mask]=0\n",
    "print(x)"
   ]
  },
  {
   "cell_type": "markdown",
   "metadata": {},
   "source": [
    "### Visualizações  (__view__)\n",
    "Como visto anteriormente, slicing cria uma __view__ de um array, não uma cópia\n",
    "- Uma __view__ é criada ao fatiar (slicing) o array\n",
    "- Uma __view__ é uma referência a uma parte de um array\n",
    "- Alterar elementos da __view__ afeta o array original\n",
    "- Se necessário, você pode explicitamente fazer uma cópia utilizando o método <font color='blue'>copy</font>\n"
   ]
  },
  {
   "cell_type": "code",
   "execution_count": 43,
   "metadata": {},
   "outputs": [
    {
     "name": "stdout",
     "output_type": "stream",
     "text": [
      "Matrix original\n",
      " [[9 6 9 4 4 1]\n",
      " [1 2 8 0 0 2]\n",
      " [0 0 8 4 5 8]]\n",
      "\n",
      "View consistindo das linhas 1 e 2 e das colunas 0,1 e 2\n",
      " [[1 2 8]\n",
      " [0 0 8]]\n",
      "\n",
      "Modificando um elemento da view também afeta o array original\n",
      "\n",
      "Elemento [1,1] da view modificado para -1\n",
      "\n",
      "[[ 1  2  8]\n",
      " [ 0 -1  8]]\n",
      "\n",
      "Matriz original também é afetada\n",
      "\n",
      "[[ 9  6  9  4  4  1]\n",
      " [ 1  2  8  0  0  2]\n",
      " [ 0 -1  8  4  5  8]]\n"
     ]
    }
   ],
   "source": [
    "# gerando 18 números randomicamente entre 0 e 10\n",
    "# e reformatando em uma matriz 3x6\n",
    "x = np.random.randint(0,10,18).reshape(3,6)\n",
    "\n",
    "# criando uma view do bloco consistindo das linhas 1 e 2 e das colunas 0,1 e 2\n",
    "y = x[1:,:3] # y é um view de x\n",
    "print('Matrix original\\n',x)\n",
    "\n",
    "print('\\nView consistindo das linhas 1 e 2 e das colunas 0,1 e 2\\n',y)\n",
    "\n",
    "# modificando um elemento da view\n",
    "y[1,1] = -1\n",
    "\n",
    "print('\\nModificando um elemento da view também afeta o array original')\n",
    "print('\\nElemento [1,1] da view modificado para -1\\n')\n",
    "print(y)\n",
    "\n",
    "print('\\nMatriz original também é afetada\\n')\n",
    "print(x)"
   ]
  },
  {
   "cell_type": "code",
   "execution_count": 48,
   "metadata": {},
   "outputs": [
    {
     "name": "stdout",
     "output_type": "stream",
     "text": [
      "Matrix original\n",
      " [[0 0 2 8 2 3]\n",
      " [6 4 0 0 9 8]\n",
      " [2 7 1 6 9 4]]\n",
      "\n",
      " Copia das linhas 1 e 2 e das colunas 0,1 e 2\n",
      " [[6 4 0]\n",
      " [2 7 1]]\n",
      "\n",
      "Modificando um elemento da copia NAO afeta o array original\n",
      "\n",
      "Elemento [1,1] da copia modificado para -1\n",
      "\n",
      "[[ 6  4  0]\n",
      " [ 2 -1  1]]\n",
      "\n",
      "Matriz original NAO é afetada\n",
      "\n",
      "[[0 0 2 8 2 3]\n",
      " [6 4 0 0 9 8]\n",
      " [2 7 1 6 9 4]]\n"
     ]
    }
   ],
   "source": [
    "# gerando 18 números randomicamente entre 0 e 10\n",
    "# e reformatando em uma matriz 3x6\n",
    "x = np.random.randint(0,10,18).reshape(3,6)\n",
    "\n",
    "# criando uma copia do bloco consistindo das linhas 1 e 2 e das colunas 0,1 e 2\n",
    "y = np.copy(x[1:,:3]) # y é uma copia do bloco de x\n",
    "print('Matrix original\\n',x)\n",
    "\n",
    "print('\\n Copia das linhas 1 e 2 e das colunas 0,1 e 2\\n',y)\n",
    "\n",
    "# modificando um elemento da copia\n",
    "y[1,1] = -1\n",
    "\n",
    "print('\\nModificando um elemento da copia NAO afeta o array original')\n",
    "print('\\nElemento [1,1] da copia modificado para -1\\n')\n",
    "print(y)\n",
    "\n",
    "print('\\nMatriz original NAO é afetada\\n')\n",
    "print(x)"
   ]
  },
  {
   "cell_type": "markdown",
   "metadata": {},
   "source": [
    "## I/O com <font color='blue'>numpy</font>\n",
    "Numpy fornece métodos para ler e escrever arrays em arquivos. A sintaxe básica para leitura de array a partir de arquivo é:\n",
    "```python\n",
    "nome_array = np.loadtxt('nome_do_arquivo') # carregando array a partir de um arquivo\n",
    "```\n",
    "Os valores no arquivo devem estar separados por espaços e cada linha do arquivo se torna uma linha do array resultante. Vários parâmetros podem ser especificados, veja a documentação do método [loadtxt]()\n",
    "\n",
    "A sintaxe básica para escrita de array em arquivo é:\n",
    "```python\n",
    "nome_array = np.savetxt('nome_do_arquivo',ndarray) # escrevendo array em arquivo\n",
    "```\n",
    "Vários parâmetros podem ser especificados, veja a documentação do método [savetxt](https://docs.scipy.org/doc/numpy/reference/generated/numpy.savetxt.html)"
   ]
  },
  {
   "cell_type": "code",
   "execution_count": 52,
   "metadata": {},
   "outputs": [],
   "source": [
    "# gerando 18 números randomicos entre 0 e 10\n",
    "# e reformatando em uma matriz 3x6\n",
    "x = np.random.randint(0,10,18).reshape(3,6)\n",
    "\n",
    "# salvando a matriz x em um arquivo chamado 'exemplo_escrita.txt'\n",
    "np.savetxt('exemplo_escrita.txt',x,fmt='%d') \n",
    "\n",
    "# utilize um editor de texto para verificar o conteudo\n",
    "# do arquivo 'exemplo_escrita.txt'"
   ]
  },
  {
   "cell_type": "code",
   "execution_count": 55,
   "metadata": {},
   "outputs": [
    {
     "name": "stdout",
     "output_type": "stream",
     "text": [
      "[[2 3 6 0 7 7]\n",
      " [0 6 3 4 8 9]\n",
      " [4 5 9 9 7 2]]\n",
      "\n",
      "elementos da matriz são do tipo \"float\"\n",
      "\n",
      "[[2. 3. 6. 0. 7. 7.]\n",
      " [0. 6. 3. 4. 8. 9.]\n",
      " [4. 5. 9. 9. 7. 2.]]\n"
     ]
    }
   ],
   "source": [
    "# carregando o arquivo 'exemplo_escrita.txt'\n",
    "x = np.loadtxt('exemplo_escrita.txt',dtype=int) # o parâmetro 'dtype=int' força que os \n",
    "                                                # elementos da matriz sejam números inteiros\n",
    "    \n",
    "print(x)\n",
    "\n",
    "x = np.loadtxt('exemplo_escrita.txt') # veja o que acontece 'dtype' não é especificado\n",
    "print('\\nelementos da matriz são do tipo \"float\"\\n')\n",
    "print(x)"
   ]
  },
  {
   "cell_type": "markdown",
   "metadata": {},
   "source": [
    "## <span style=\"color:blue\">Numpy Parte I - Exercícios</span>"
   ]
  },
  {
   "cell_type": "code",
   "execution_count": 2,
   "metadata": {},
   "outputs": [],
   "source": [
    "import numpy as np"
   ]
  },
  {
   "cell_type": "markdown",
   "metadata": {},
   "source": [
    "### Exercício 1)\n",
    "Utilize comprehension para gerar a lista de todos os números interios entre 0 e 19. Converta a lista em um <font color='blue'>numpy</font> array bidimensional (matriz) com 4 linhas e 5 colunas."
   ]
  },
  {
   "cell_type": "code",
   "execution_count": 37,
   "metadata": {},
   "outputs": [
    {
     "name": "stdout",
     "output_type": "stream",
     "text": [
      "[[ 0  1  2  3  4]\n",
      " [ 5  6  7  8  9]\n",
      " [10 11 12 13 14]\n",
      " [15 16 17 18 19]]\n"
     ]
    }
   ],
   "source": [
    "l = [i for i in range(20)]\n",
    "A = np.array(l).reshape(4,5)\n",
    "print(A)"
   ]
  },
  {
   "cell_type": "markdown",
   "metadata": {},
   "source": [
    "### Exercício 2)\n",
    "Construa um array unidimensional com 30 números inteiros escolhidos de forma randômica no intervalo entre 0 e 20. Reformate o array para que se torne uma matriz `A` com 5 linhas e 6 colunas."
   ]
  },
  {
   "cell_type": "code",
   "execution_count": 4,
   "metadata": {},
   "outputs": [
    {
     "name": "stdout",
     "output_type": "stream",
     "text": [
      "[[14 17 17  8  0  7]\n",
      " [13  2 15  3 11  9]\n",
      " [ 0 17  1 11  7  7]\n",
      " [10 10 19  9 17  2]\n",
      " [18 15  5 10  4 17]]\n"
     ]
    }
   ],
   "source": [
    "A = np.random.randint(0,20,30).reshape(5,6)\n",
    "print(A)"
   ]
  },
  {
   "cell_type": "markdown",
   "metadata": {},
   "source": [
    "### Exercício 3)\n",
    "Crie uma __view__ da matriz `A` gerada na célula anterior contendo:\n",
    "- as linhas de `A` com índices 0,1 e 3\n",
    "- as linhas de `A` com índice 1 e 2 e as colunas com índice 0,2 e 4\n",
    "- as linhas de `A` com índice 1 e 3 e as colunas com índice 1 e 3"
   ]
  },
  {
   "cell_type": "code",
   "execution_count": 16,
   "metadata": {},
   "outputs": [
    {
     "name": "stdout",
     "output_type": "stream",
     "text": [
      "Matriz A:\n",
      "[[ 0  1  2  3  4]\n",
      " [ 5  6  7  8  9]\n",
      " [10 11 12 13 14]\n",
      " [15 16 17 18 19]] \n",
      "\n",
      "linhas de `A` com indices 0,1 e 3\n",
      "[[ 0  1  2  3  4]\n",
      " [ 5  6  7  8  9]\n",
      " [15 16 17 18 19]] \n",
      "\n",
      "linhas de `A` com indice 1 e 2 e colunas com indice 0,2 e 4\n",
      "[[ 5  7  9]\n",
      " [10 12 14]] \n",
      "\n",
      "linhas de `A` com indice 1 e 3 e colunas com indice 1 e 3\n",
      "[[ 6  8]\n",
      " [16 18]]\n"
     ]
    }
   ],
   "source": [
    "print('Matriz A:')\n",
    "print(A,'\\n')\n",
    "\n",
    "A0 = A[[0,1,3]] # linhas de `A` com índices 0,1 e 3\n",
    "print(\"linhas de `A` com indices 0,1 e 3\")\n",
    "print(A0,'\\n')\n",
    "\n",
    "A1 = A[1:3,[0,2,4]] # linhas de `A` com índice 1 e 2 e as colunas com índice 0,2 e 4\n",
    "print(\"linhas de `A` com indice 1 e 2 e colunas com indice 0,2 e 4\")\n",
    "print(A1,'\\n')\n",
    "\n",
    "A2 = A[[1,3]][:,[1,3]] #linhas de `A` com índice 1 e 3 e as colunas com índice 1 e 3\n",
    "print(\"linhas de `A` com indice 1 e 3 e colunas com indice 1 e 3\")\n",
    "print(A2)"
   ]
  },
  {
   "cell_type": "markdown",
   "metadata": {},
   "source": [
    "### Exercício 4)\n",
    "Construa um array `A` bidimensional 5x6 com 30 números inteiros escolhidos de forma randômica no intervalo entre 0 e 20. \n",
    "- faça uma cópia do array `A` criado, chamando a cópia de `Ac`\n",
    "- Substitua todos os elementos do array `A` que sejam maiores que 10 pelo valor -1 \n",
    "- Substitua todos os elementos do array `Ac` que sejam maiores que 7 e menores que 15 pelo valor -1 \n",
    "\n",
    "__Dica:__ Gere máscaras booleanas para realizar as modificações nos arrays."
   ]
  },
  {
   "cell_type": "code",
   "execution_count": 25,
   "metadata": {},
   "outputs": [
    {
     "name": "stdout",
     "output_type": "stream",
     "text": [
      "A original\n",
      "[[13 16  3  6 13 18]\n",
      " [ 6 19  1  1  1  9]\n",
      " [18  4 17 11  7  2]\n",
      " [ 2 19  8  7  8 19]\n",
      " [19  1  3  5 12 17]]\n",
      "\n",
      "A modificada com -1 para elementos maiores que 10\n",
      "[[-1 -1  3  6 -1 -1]\n",
      " [ 6 -1  1  1  1  9]\n",
      " [-1  4 -1 -1  7  2]\n",
      " [ 2 -1  8  7  8 -1]\n",
      " [-1  1  3  5 -1 -1]]\n",
      "\n",
      "Ac modificada com -1 para elementos maiores que 7 e menores que 15\n",
      "[[-1 16  3  6 -1 18]\n",
      " [ 6 19  1  1  1 -1]\n",
      " [18  4 17 -1  7  2]\n",
      " [ 2 19 -1  7 -1 19]\n",
      " [19  1  3  5 -1 17]]\n"
     ]
    }
   ],
   "source": [
    "A = np.random.randint(0,20,30).reshape(5,6)\n",
    "print('A original')\n",
    "print(A)\n",
    "\n",
    "Ac = np.copy(A)  # copia de A\n",
    "\n",
    "maskA = (A > 10)\n",
    "A[maskA]  = -1\n",
    "print('\\nA modificada com -1 para elementos maiores que 10')\n",
    "print(A)\n",
    "\n",
    "maskAc = ((Ac > 7) & (Ac < 15))\n",
    "Ac[maskAc] = -1\n",
    "print('\\nAc modificada com -1 para elementos maiores que 7 e menores que 15')\n",
    "print(Ac)"
   ]
  },
  {
   "cell_type": "markdown",
   "metadata": {},
   "source": [
    "### Exercício 5)\n",
    "Construa um array `A` com 20 linhas e 10 colunas onde os elementos são os números interios de  1 até 200.\n",
    "- Crie uma __view__ de `A` chamada `A_lpares` contendo apenas as linhas de `A` com índice par. \n",
    "- Crie uma __view__ de `A` chamada `A_lpares_cimpares` contendo as linhas `A` com índice par e colunas com índice ímpar. "
   ]
  },
  {
   "cell_type": "code",
   "execution_count": 2,
   "metadata": {},
   "outputs": [
    {
     "name": "stdout",
     "output_type": "stream",
     "text": [
      "[[  1   2   3   4   5   6   7   8   9  10]\n",
      " [ 11  12  13  14  15  16  17  18  19  20]\n",
      " [ 21  22  23  24  25  26  27  28  29  30]\n",
      " [ 31  32  33  34  35  36  37  38  39  40]\n",
      " [ 41  42  43  44  45  46  47  48  49  50]\n",
      " [ 51  52  53  54  55  56  57  58  59  60]\n",
      " [ 61  62  63  64  65  66  67  68  69  70]\n",
      " [ 71  72  73  74  75  76  77  78  79  80]\n",
      " [ 81  82  83  84  85  86  87  88  89  90]\n",
      " [ 91  92  93  94  95  96  97  98  99 100]\n",
      " [101 102 103 104 105 106 107 108 109 110]\n",
      " [111 112 113 114 115 116 117 118 119 120]\n",
      " [121 122 123 124 125 126 127 128 129 130]\n",
      " [131 132 133 134 135 136 137 138 139 140]\n",
      " [141 142 143 144 145 146 147 148 149 150]\n",
      " [151 152 153 154 155 156 157 158 159 160]\n",
      " [161 162 163 164 165 166 167 168 169 170]\n",
      " [171 172 173 174 175 176 177 178 179 180]\n",
      " [181 182 183 184 185 186 187 188 189 190]\n",
      " [191 192 193 194 195 196 197 198 199 200]]\n",
      "A_lpares\n",
      "[[  1   2   3   4   5   6   7   8   9  10]\n",
      " [ 21  22  23  24  25  26  27  28  29  30]\n",
      " [ 41  42  43  44  45  46  47  48  49  50]\n",
      " [ 61  62  63  64  65  66  67  68  69  70]\n",
      " [ 81  82  83  84  85  86  87  88  89  90]\n",
      " [101 102 103 104 105 106 107 108 109 110]\n",
      " [121 122 123 124 125 126 127 128 129 130]\n",
      " [141 142 143 144 145 146 147 148 149 150]\n",
      " [161 162 163 164 165 166 167 168 169 170]\n",
      " [181 182 183 184 185 186 187 188 189 190]]\n",
      "\n",
      "A_lpares_cimpares\n",
      "[[  2   4   6   8  10]\n",
      " [ 22  24  26  28  30]\n",
      " [ 42  44  46  48  50]\n",
      " [ 62  64  66  68  70]\n",
      " [ 82  84  86  88  90]\n",
      " [102 104 106 108 110]\n",
      " [122 124 126 128 130]\n",
      " [142 144 146 148 150]\n",
      " [162 164 166 168 170]\n",
      " [182 184 186 188 190]]\n"
     ]
    }
   ],
   "source": [
    "import numpy as np\n",
    "\n",
    "A = np.arange(1,201).reshape(20,10)\n",
    "print(A)\n",
    "\n",
    "A_lpares = A[np.arange(0,A.shape[0],2)]\n",
    "print('A_lpares')\n",
    "print(A_lpares)\n",
    "\n",
    "print('\\nA_lpares_cimpares')\n",
    "A_lpares_cimpares = A[np.arange(0,A.shape[0],2)][:,np.arange(1,A.shape[1],2)]\n",
    "print(A_lpares_cimpares)"
   ]
  },
  {
   "cell_type": "markdown",
   "metadata": {},
   "source": [
    "### Exercício 6)\n",
    "Substitua os elememtos do array `A` do exercício anterior por -1 quando pelo menos um dos índices do elemento é par. \n",
    "\n",
    "__Dica:__ Construa uma máscara booleana"
   ]
  },
  {
   "cell_type": "code",
   "execution_count": 3,
   "metadata": {},
   "outputs": [
    {
     "name": "stdout",
     "output_type": "stream",
     "text": [
      "[[ -1  -1  -1  -1  -1  -1  -1  -1  -1  -1]\n",
      " [ -1  12  -1  14  -1  16  -1  18  -1  20]\n",
      " [ -1  -1  -1  -1  -1  -1  -1  -1  -1  -1]\n",
      " [ -1  32  -1  34  -1  36  -1  38  -1  40]\n",
      " [ -1  -1  -1  -1  -1  -1  -1  -1  -1  -1]\n",
      " [ -1  52  -1  54  -1  56  -1  58  -1  60]\n",
      " [ -1  -1  -1  -1  -1  -1  -1  -1  -1  -1]\n",
      " [ -1  72  -1  74  -1  76  -1  78  -1  80]\n",
      " [ -1  -1  -1  -1  -1  -1  -1  -1  -1  -1]\n",
      " [ -1  92  -1  94  -1  96  -1  98  -1 100]\n",
      " [ -1  -1  -1  -1  -1  -1  -1  -1  -1  -1]\n",
      " [ -1 112  -1 114  -1 116  -1 118  -1 120]\n",
      " [ -1  -1  -1  -1  -1  -1  -1  -1  -1  -1]\n",
      " [ -1 132  -1 134  -1 136  -1 138  -1 140]\n",
      " [ -1  -1  -1  -1  -1  -1  -1  -1  -1  -1]\n",
      " [ -1 152  -1 154  -1 156  -1 158  -1 160]\n",
      " [ -1  -1  -1  -1  -1  -1  -1  -1  -1  -1]\n",
      " [ -1 172  -1 174  -1 176  -1 178  -1 180]\n",
      " [ -1  -1  -1  -1  -1  -1  -1  -1  -1  -1]\n",
      " [ -1 192  -1 194  -1 196  -1 198  -1 200]]\n"
     ]
    }
   ],
   "source": [
    "mask = [(i%2==0) or (j%2==0) for i in range(A.shape[0]) for j in range(A.shape[1])]\n",
    "mask = np.array(mask).reshape(A.shape[0],A.shape[1])\n",
    "A[mask] = -1\n",
    "\n",
    "print(A)"
   ]
  },
  {
   "cell_type": "markdown",
   "metadata": {},
   "source": [
    "### Exercício 7)\n",
    "Considere o array `X` de números tipo <font color='blue'>float</font> gerado a partir de uma distribuição uniforme no intervalo entre 0 e 1. Escreva um código para encontrar os três menores valores do array.\n",
    "\n",
    "__Dica:__ Converta o array em uma lista e ordene."
   ]
  },
  {
   "cell_type": "code",
   "execution_count": 43,
   "metadata": {},
   "outputs": [
    {
     "name": "stdout",
     "output_type": "stream",
     "text": [
      "[[0.94748436 0.12077873 0.84379874 0.50442844 0.17350562]\n",
      " [0.24090184 0.49661223 0.34987579 0.65687144 0.71152296]\n",
      " [0.25611281 0.88350259 0.34793285 0.86249615 0.29025411]\n",
      " [0.89750685 0.00630518 0.07010046 0.80715441 0.46074591]\n",
      " [0.64143342 0.09910184 0.91231711 0.61800674 0.82763288]\n",
      " [0.95331726 0.61571514 0.90530625 0.36655696 0.52327298]]\n",
      "Os tres menores valores:  [0.006305182092773309, 0.07010045904101359, 0.09910183739383205]\n"
     ]
    }
   ],
   "source": [
    "X = np.random.uniform(0,1,30).reshape(6,5)\n",
    "print(X)\n",
    "\n",
    "X_sorted = sorted(X.ravel())\n",
    "print('Os tres menores valores: ',X_sorted[0:3])"
   ]
  },
  {
   "cell_type": "markdown",
   "metadata": {},
   "source": [
    "### Exercício 8)\n",
    "Escreva uma função chamada `troca_colunas` que recebe um array e o índice de duas colunas como parâmetros e retorna o array com as colunas trocadas. Por exemplo:\n",
    "```python\n",
    "X = np.array([[0, 1, 2, 3, 4, 5], \n",
    "              [0, 1, 2, 3, 4, 5], \n",
    "              [0, 1, 2, 3, 4, 5]])\n",
    "\n",
    "X = troca_colunas(X,1,3)\n",
    "print(X)\n",
    "```\n",
    "deve resultar em\n",
    "```python\n",
    "[[0 3 2 1 4 5]\n",
    " [0 3 2 1 4 5]\n",
    " [0 3 2 1 4 5]]\n",
    "```\n"
   ]
  },
  {
   "cell_type": "code",
   "execution_count": 13,
   "metadata": {},
   "outputs": [
    {
     "name": "stdout",
     "output_type": "stream",
     "text": [
      "[[0 1 2 3 4 5]\n",
      " [0 1 2 3 4 5]\n",
      " [0 1 2 3 4 5]]\n",
      "[[0 3 2 1 4 5]\n",
      " [0 3 2 1 4 5]\n",
      " [0 3 2 1 4 5]]\n"
     ]
    }
   ],
   "source": [
    "def troca_colunas(A,i,j):\n",
    "    aux = np.copy(A[:,i])\n",
    "    A[:,i] = A[:,j]\n",
    "    A[:,j] = aux\n",
    "    return(A)\n",
    "\n",
    "X = np.array([[0, 1, 2, 3, 4, 5], [0, 1, 2, 3, 4, 5], [0, 1, 2, 3, 4, 5]])\n",
    "print(X)\n",
    "\n",
    "X = troca_colunas(X,1,3)\n",
    "print(X)"
   ]
  },
  {
   "cell_type": "markdown",
   "metadata": {},
   "source": [
    "### Exercício 9)\n",
    "Os métodos <font color='blue'>vstack</font> e <font color='blue'>hstack</font> do <font color='blue'>numpy</font> empilha matrizes na vertical e horizontal, respectivamente. Por exemplo:\n",
    "```python\n",
    "A = np.array([[1.0, 1.0, 1.0], [1.0, 1.0, 1.0]])\n",
    "B = np.array([[2.0, 2.0, 2.0], [2.0, 2.0, 2.0]])\n",
    "\n",
    "C = np.vstack((A,B))\n",
    "print(C)\n",
    "```\n",
    "resulta em\n",
    "```python\n",
    "[[1. 1. 1.]\n",
    " [1. 1. 1.]\n",
    " [2. 2. 2.]\n",
    " [2. 2. 2.]]\n",
    "```\n",
    "Escreva um código para gerar duas matrizes `A` e `B` de números inteiros randômicos no intervalo entre 0 e 10, onde:\n",
    "- A matriz `A` é 5x6\n",
    "- A matriz `B` é 5x3\n",
    "\n",
    "Utilize o método <font color='blue'>hstack</font> para empilhar as matrizes\n",
    "\n",
    "O que acontece se tentar utilizar o método <font color='blue'>vstack</font>? Explique o motivo da mensagem gerada."
   ]
  },
  {
   "cell_type": "code",
   "execution_count": 20,
   "metadata": {},
   "outputs": [
    {
     "name": "stdout",
     "output_type": "stream",
     "text": [
      "[[6 1 9 7 8 2]\n",
      " [3 5 8 5 3 1]\n",
      " [0 9 9 2 2 3]\n",
      " [5 8 9 8 6 4]\n",
      " [8 2 0 4 9 6]]\n",
      "[[-5 -9 -4]\n",
      " [-6 -3 -5]\n",
      " [-6 -5 -2]\n",
      " [-7 -1 -4]\n",
      " [-7 -9 -8]]\n",
      "[[ 6  1  9  7  8  2 -5 -9 -4]\n",
      " [ 3  5  8  5  3  1 -6 -3 -5]\n",
      " [ 0  9  9  2  2  3 -6 -5 -2]\n",
      " [ 5  8  9  8  6  4 -7 -1 -4]\n",
      " [ 8  2  0  4  9  6 -7 -9 -8]]\n"
     ]
    }
   ],
   "source": [
    "A = np.random.randint(0,10,30).reshape(5,6)\n",
    "B = -1*np.random.randint(0,10,15).reshape(5,3)\n",
    "print(A)\n",
    "print(B)\n",
    "\n",
    "C = np.hstack((A,B))\n",
    "print(C)\n",
    "\n",
    "# o método vstack nao pode ser utilizado pois o número de colunas \n",
    "# não é o mesmo nas duas matrizes, somente o número de linhas coincide"
   ]
  },
  {
   "cell_type": "markdown",
   "metadata": {},
   "source": [
    "### Exercício 10)\n",
    "Escreva um código para, data uma matriz, zerar todos os elementos abaixo da diagonal principal da matriz. Por exemplo:\n",
    "```python\n",
    "[[2 8 3 4 8]\n",
    " [4 8 7 7 3]\n",
    " [8 2 3 1 4]\n",
    " [8 6 3 8 1]\n",
    " [6 4 4 6 1]]\n",
    "```\n",
    "deve resultar em\n",
    "```python\n",
    "[[2 8 3 4 8]\n",
    " [0 8 7 7 3]\n",
    " [0 0 3 1 4]\n",
    " [0 0 0 8 1]\n",
    " [0 0 0 0 1]]\n",
    "```"
   ]
  },
  {
   "cell_type": "code",
   "execution_count": 29,
   "metadata": {},
   "outputs": [
    {
     "name": "stdout",
     "output_type": "stream",
     "text": [
      "[[False False False False False]\n",
      " [ True False False False False]\n",
      " [ True  True False False False]\n",
      " [ True  True  True False False]\n",
      " [ True  True  True  True False]]\n",
      "[[7 4 4 9 3]\n",
      " [0 8 4 5 4]\n",
      " [0 0 9 4 7]\n",
      " [0 0 0 8 7]\n",
      " [0 0 0 0 2]]\n",
      "[[2 8 3 4 8]\n",
      " [4 8 7 7 3]\n",
      " [8 2 3 1 4]\n",
      " [8 6 3 8 1]\n",
      " [6 4 4 6 1]]\n",
      "[[2 8 3 4 8]\n",
      " [0 8 7 7 3]\n",
      " [0 0 3 1 4]\n",
      " [0 0 0 8 1]\n",
      " [0 0 0 0 1]]\n"
     ]
    }
   ],
   "source": [
    "A = np.random.randint(1,10,25).reshape(5,5)\n",
    "\n",
    "mask = [True if i>j else False for i in range(A.shape[0]) for j in range(A.shape[1])]\n",
    "mask = np.array(mask).reshape(A.shape[0],A.shape[1])\n",
    "print(mask)\n",
    "\n",
    "A[mask] = 0\n",
    "print(A)\n",
    "\n",
    "# uma alternativa é utilizar o método 'triu' do numpy\n",
    "A = np.random.randint(1,10,25).reshape(5,5)\n",
    "print(A)\n",
    "A = np.triu(A)\n",
    "print(A)"
   ]
  },
  {
   "cell_type": "markdown",
   "metadata": {},
   "source": [
    "## <font color=\"blue\">Numpy Parte I - Avaliação</font>"
   ]
  },
  {
   "cell_type": "code",
   "execution_count": null,
   "metadata": {},
   "outputs": [],
   "source": [
    "import numpy as np"
   ]
  },
  {
   "cell_type": "markdown",
   "metadata": {},
   "source": [
    "### Exercício 1)\n",
    "Considere o array `X` como descrito abaixo:\n",
    "```python\n",
    "[[0  1  2  3  4]\n",
    " [5  6  7  8  9]\n",
    " [10 11 12 13 14]\n",
    " [15 16 17 18 19]]\n",
    "```\n",
    "Qual dos códigos abaixo retorna uma __view__ contendo a submatriz\n",
    "```python\n",
    "[[6  7]\n",
    " [11 12]]\n",
    "```\n",
    "\n",
    "\n",
    "a) print(X[1,2])<br>\n",
    "b) print(X[[2,2,3,3],[2,3,2,3]]) <br>\n",
    "c) print(X[:,[2,3,1])<br>\n",
    "d) print(X[1:3,1:3])"
   ]
  },
  {
   "cell_type": "code",
   "execution_count": null,
   "metadata": {},
   "outputs": [],
   "source": [
    "#Solucao"
   ]
  },
  {
   "cell_type": "markdown",
   "metadata": {},
   "source": [
    "### Exercício 2)\n",
    "Considerando o array `X` do exercício 1). Qual dos códigos abaixo retorna a __view__ \n",
    "```python\n",
    "[[ 5  7  8]\n",
    " [10 12 13]]\n",
    "\n",
    "```\n",
    "a) print(X[1:3,0:2:3]])<br>\n",
    "b) print(X[1:3,[0,2,3]])<br>\n",
    "c) print(X[1:3,:3])<br>\n",
    "d) print(X[[1,2,3],[0,2,3]])"
   ]
  },
  {
   "cell_type": "code",
   "execution_count": null,
   "metadata": {},
   "outputs": [],
   "source": [
    "#Solucao"
   ]
  },
  {
   "cell_type": "markdown",
   "metadata": {},
   "source": [
    "### Exercício 3)\n",
    "Considere o array `A` definido na célua abaixo.\n",
    "Qual das alternativas abaixo imprime o número de dimensões, o número de entradas em cada dimensão e ao número de elementos no array, respectivamente?\n",
    "\n",
    "a) print(A.itemsize, A.shape, A.ndim)<br>\n",
    "b) print(A.ndim, A.itemsize, A.shape)<br>\n",
    "c) print(A.shape, A.dtype, A.size)<br>\n",
    "d) print(A.ndim, A.shape, A.size)"
   ]
  },
  {
   "cell_type": "code",
   "execution_count": null,
   "metadata": {},
   "outputs": [],
   "source": [
    "A = np.array([[ 2, 19, 16,  1, 12,  7,  1],\n",
    "              [ 5, 19, 18, 17,  9,  3, 11],\n",
    "              [16,  4,  5, 11,  4,  2, 20],\n",
    "              [ 6,  2, 18, 14, 15, 15,  3],\n",
    "              [ 4,  8,  1, 14,  1, 13, 36]])\n"
   ]
  },
  {
   "cell_type": "markdown",
   "metadata": {},
   "source": [
    "### Exercício 4) \n",
    "Considere o numpy array `A` do exercício 3). Escreva um código para criar uma máscara booleana para selecionar todos os elementos **estritamente maiores**  que 10 no array e armazena-los em um novo array unidimensional `B`. O resultado do comando\n",
    "```python\n",
    "print(B.size)\n",
    "```\n",
    "será:<br>\n",
    "a) 13<br>\n",
    "b) 14<br>\n",
    "c) 16<br>\n",
    "d) 17"
   ]
  },
  {
   "cell_type": "code",
   "execution_count": null,
   "metadata": {},
   "outputs": [],
   "source": [
    "mask =  # escreva o código para criar a máscara\n"
   ]
  },
  {
   "cell_type": "markdown",
   "metadata": {},
   "source": [
    "### Exercício 5)\n",
    "Ainda considerando o array `A` do exercício 3), que alternativa melhor explica o que o código abaixo está realizando:\n",
    "```python\n",
    "l_mask = [(i%2==0) and (j%3==0) for i in range(A.shape[0]) for j in range(A.shape[1])]\n",
    "mask = np.array(l_mask).reshape(A.shape)\n",
    "A[mask] = -1\n",
    "```\n",
    "a) insere -1 nos elementos das linhas pares e colunas ímpares de `A`<br>\n",
    "b) insere -1 nas nas linhas pares ou colunas ímpares de `A` utilizando uma máscara booleana<br>\n",
    "c) insere -1 nos elementos de `A` cujo índice da linha é par e o índice da coluna é ímpar<br>\n",
    "d) insere -1 nos elementos de `A` cujo índice da linha é múltiplo de 2 e o índice da coluna é múltiplo de 3"
   ]
  },
  {
   "cell_type": "code",
   "execution_count": null,
   "metadata": {},
   "outputs": [],
   "source": [
    "l_mask = [(i%2==0) and (j%3==0) for i in range(A.shape[0]) for j in range(A.shape[1])]\n",
    "mask = np.array(l_mask).reshape(A.shape)\n",
    "A[mask] = -1\n",
    "print(A)"
   ]
  },
  {
   "cell_type": "markdown",
   "metadata": {},
   "source": [
    "## <span style=\"color:blue\">Numpy Parte II e Matplotlib</span>"
   ]
  },
  {
   "cell_type": "markdown",
   "metadata": {},
   "source": [
    "## Numpy - Parte II\n",
    "- *\"Broadcasting\"* (extensão) e funções aritméticas\n",
    "- Comparações\n",
    "- Operações Avançadas: Reduções, Ordenação, Aritmética vetorial,...\n",
    "\n",
    "__References:__<br>\n",
    "[https://www.datacamp.com/community/tutorials/python-numpy-tutorial](https://www.datacamp.com/community/tutorials/python-numpy-tutorial)\n",
    "\n",
    "### Matplotlib\n",
    "- Introdução\n",
    "- Componentes\n",
    "- Texto\n",
    "- Anotações\n",
    "- Legendas\n",
    "- Outros plots\n",
    "\n",
    "__Referencias:__<br>\n",
    "[https://www.datacamp.com/community/tutorials/matplotlib-tutorial-python](https://www.datacamp.com/community/tutorials/matplotlib-tutorial-python)<br>\n",
    "[http://matplotlib.org/Matplotlib.pdf](http://matplotlib.org/Matplotlib.pdf)"
   ]
  },
  {
   "cell_type": "markdown",
   "metadata": {},
   "source": [
    "---\n",
    "## Numpy - Parte II"
   ]
  },
  {
   "cell_type": "markdown",
   "metadata": {},
   "source": [
    "### Broadcasting\n",
    "Para garantir eficiência computacional na realização de operações entre arrays o <font color='blue'>numpy</font> utiliza um mecanismo de extensão de arrays chamado \"broadcasting\". Com o uso de broadcasting:\n",
    "- as operações aritméticas com arrays (soma, subtração, multiplicação e divisão) são feitas elemento a elemento (*\"element-wise\"*)\n",
    "- o __broadcasting__ transforma os arrays envolvidos nas operações aritméticas de modo que tenham as mesmas dimensões, possibilitando assim que as operações possam ser realizada elemento a elemento"
   ]
  },
  {
   "cell_type": "markdown",
   "metadata": {},
   "source": [
    "#### Broadcasting e operações entre um array e um escalar"
   ]
  },
  {
   "cell_type": "markdown",
   "metadata": {},
   "source": [
    "Quando somamos um escalar a um array, o <font color='blue'>numpy</font> primeiro replica o escalar em um array com o mesma dimensão do array envolvido na operação. No examplo baixo, a matriz `A` é somada com o escalar 3. O __broadcasting__ replica o escalar um array 5x5 e então os dois arrays são somados elemento a elemento.\n",
    "```python\n",
    "A = np.arange(25).reshape(5,5) # matriz 5x5\n",
    "s = 3                          # escalar\n",
    "B = s+A                        # matriz 5x5\n",
    "```\n",
    "$$\n",
    "B = s + A = \\left[\\begin{array}{ccccc}\n",
    "3 & 3 & 3 & 3 & 3\\\\\n",
    "3 & 3 & 3 & 3 & 3\\\\\n",
    "3 & 3 & 3 & 3 & 3\\\\\n",
    "3 & 3 & 3 & 3 & 3\\\\\n",
    "3 & 3 & 3 & 3 & 3\n",
    "\\end{array}\\right] + \n",
    "\\left[\\begin{array}{ccccc} \n",
    "0  & 1 & 2 & 3 & 4 \\\\\n",
    "5  & 6 & 7 & 8 & 9\\\\\n",
    "10 & 11 & 12 & 13 & 14\\\\\n",
    "15 & 16 & 17 & 18 & 19\\\\\n",
    "20 & 21 & 22 & 23 & 24\n",
    "\\end{array}\\right]\n",
    "$$"
   ]
  },
  {
   "cell_type": "code",
   "execution_count": 2,
   "metadata": {},
   "outputs": [
    {
     "name": "stdout",
     "output_type": "stream",
     "text": [
      "[[ 0  1  2  3  4]\n",
      " [ 5  6  7  8  9]\n",
      " [10 11 12 13 14]\n",
      " [15 16 17 18 19]\n",
      " [20 21 22 23 24]] \n",
      "\n",
      "[[ 3  4  5  6  7]\n",
      " [ 8  9 10 11 12]\n",
      " [13 14 15 16 17]\n",
      " [18 19 20 21 22]\n",
      " [23 24 25 26 27]]\n"
     ]
    }
   ],
   "source": [
    "import numpy as np\n",
    "\n",
    "# Cria uma matriz 5x5 com números aleatórios\n",
    "A = np.arange(25).reshape(5,5)\n",
    "\n",
    "# define um escalar\n",
    "s = 3\n",
    "\n",
    "# O opeador \"+\" é aplicado elemento por elemento (caso contrário não seria definido)\n",
    "B = s + A\n",
    "\n",
    "print(A,'\\n')\n",
    "print(B)"
   ]
  },
  {
   "cell_type": "markdown",
   "metadata": {},
   "source": [
    "#### Broadcasting e operações entre arrays\n",
    "Broadcasting tambem é aplicado quando operações aritméticas são aplicadas em pares de arrays, porém algumas restrições devem ser respeitadas:\n",
    "- Os dois arrays devem possuir dimensões compatíveis em algum(s) dos eixos\n",
    "- O broadcasting é aplicado nos demais eixos para que ambos os arrays tenham as mesmas dimensões\n",
    "```python\n",
    "A = np.arange(25).reshape(5,5) # matriz 5x5\n",
    "v = np.arange(5)               # array com 5 elementos\n",
    "B = v*A                        # matriz 5x5\n",
    "```\n",
    "$$\n",
    "B = v * A \n",
    "$$\n",
    "\n",
    "$$\n",
    "\\downarrow\n",
    "$$\n",
    "\n",
    "$$\n",
    "\\left[\\begin{array}{ccccc}\n",
    "0  & 1 & 2 & 3 & 4\n",
    "\\end{array}\\right] * \n",
    "\\left[\\begin{array}{ccccc} \n",
    "0  & 1 & 2 & 3 & 4 \\\\\n",
    "5  & 6 & 7 & 8 & 9\\\\\n",
    "10 & 11 & 12 & 13 & 14\\\\\n",
    "15 & 16 & 17 & 18 & 19\\\\\n",
    "20 & 21 & 22 & 23 & 24\n",
    "\\end{array}\\right] \n",
    "$$\n",
    "\n",
    "$$\n",
    "\\downarrow\n",
    "$$\n",
    "\n",
    "$$\n",
    "\\left[\\begin{array}{ccccc}\n",
    "0  & 1 & 2 & 3 & 4\\\\\n",
    "0  & 1 & 2 & 3 & 4\\\\\n",
    "0  & 1 & 2 & 3 & 4\\\\\n",
    "0  & 1 & 2 & 3 & 4\\\\\n",
    "0  & 1 & 2 & 3 & 4\n",
    "\\end{array}\\right] * \n",
    "\\left[\\begin{array}{ccccc} \n",
    "0  & 1 & 2 & 3 & 4 \\\\\n",
    "5  & 6 & 7 & 8 & 9\\\\\n",
    "10 & 11 & 12 & 13 & 14\\\\\n",
    "15 & 16 & 17 & 18 & 19\\\\\n",
    "20 & 21 & 22 & 23 & 24\n",
    "\\end{array}\\right]\n",
    "$$\n",
    "\n",
    "__Cuidado__: A operação <font color='blue'>*</font> corresponde a uma multiplicação elemento por elemento, e não uma multiplicação matricial."
   ]
  },
  {
   "cell_type": "code",
   "execution_count": 10,
   "metadata": {},
   "outputs": [
    {
     "name": "stdout",
     "output_type": "stream",
     "text": [
      "Matriz \"A\" possui  5  linhas e  5  colunas\n",
      "Array \"v\" possui  5  elementos \n",
      "Note que a segunda dimensão de \"v\" não é especificada  (5,)\n",
      "---------------\n",
      "v = \n",
      " [0 1 2 3 4]\n",
      "A = \n",
      " [[ 0  1  2  3  4]\n",
      " [ 5  6  7  8  9]\n",
      " [10 11 12 13 14]\n",
      " [15 16 17 18 19]\n",
      " [20 21 22 23 24]]\n",
      "B = \n",
      " [[ 0  1  4  9 16]\n",
      " [ 0  6 14 24 36]\n",
      " [ 0 11 24 39 56]\n",
      " [ 0 16 34 54 76]\n",
      " [ 0 21 44 69 96]]\n"
     ]
    }
   ],
   "source": [
    "A = np.arange(25).reshape(5,5) # matriz 5x5\n",
    "print('Matriz \"A\" possui ', A.shape[0], ' linhas e ',A.shape[1],' colunas')\n",
    "\n",
    "\n",
    "v = np.arange(5)  # array com 5 elementos\n",
    "                  # como a segunda dimensão não foi especificada, \"v\" é interpretado \n",
    "                  # como um sendo 1x5 (uma linha e 5 colunas)\n",
    "        \n",
    "print('Array \"v\" possui ', v.shape[0], ' elementos ')\n",
    "print('Note que a segunda dimensão de \"v\" não é especificada ',v.shape)\n",
    "\n",
    "# A operação \"*\" é realizada elemento a elemento, broadcasting o array \"v\" para gerar novas linhas\n",
    "B = v * A\n",
    "\n",
    "print(5*'---')\n",
    "print('v = \\n',v)\n",
    "print('A = \\n',A)\n",
    "print('B = \\n',B)"
   ]
  },
  {
   "cell_type": "markdown",
   "metadata": {},
   "source": [
    "O __broadcasting__ é feito nas colunas quando o array `v` é um array coluna\n",
    "```python\n",
    "v = np.arange(5).reshape(5,1) # array com 5 elementos \n",
    "                              # como a segunda dimensão foi especificada, \"v\" é um array \n",
    "                              # com 5 linhas e uma coluna\n",
    "```\n",
    "$$\n",
    "B = v * A \n",
    "$$\n",
    "\n",
    "$$\n",
    "\\downarrow\n",
    "$$\n",
    "\n",
    "$$\n",
    "\\left[\\begin{array}{c}\n",
    "0  \\\\ 1 \\\\ 2 \\\\ 3 \\\\ 4\n",
    "\\end{array}\\right] * \n",
    "\\left[\\begin{array}{ccccc} \n",
    "0  & 1 & 2 & 3 & 4 \\\\\n",
    "5  & 6 & 7 & 8 & 9\\\\\n",
    "10 & 11 & 12 & 13 & 14\\\\\n",
    "15 & 16 & 17 & 18 & 19\\\\\n",
    "20 & 21 & 22 & 23 & 24\n",
    "\\end{array}\\right] \n",
    "$$\n",
    "\n",
    "$$\n",
    "\\downarrow\n",
    "$$\n",
    "\n",
    "$$\n",
    "\\left[\\begin{array}{ccccc}\n",
    "0  & 0 & 0 & 0 & 0\\\\\n",
    "1  & 1 & 1 & 1 & 1\\\\\n",
    "2  & 2 & 2 & 2 & 2\\\\\n",
    "3  & 3 & 3 & 3 & 3\\\\\n",
    "4  & 4 & 4 & 4 & 4\n",
    "\\end{array}\\right] * \n",
    "\\left[\\begin{array}{ccccc} \n",
    "0  & 1 & 2 & 3 & 4 \\\\\n",
    "5  & 6 & 7 & 8 & 9\\\\\n",
    "10 & 11 & 12 & 13 & 14\\\\\n",
    "15 & 16 & 17 & 18 & 19\\\\\n",
    "20 & 21 & 22 & 23 & 24\n",
    "\\end{array}\\right]\n",
    "$$"
   ]
  },
  {
   "cell_type": "code",
   "execution_count": 3,
   "metadata": {},
   "outputs": [
    {
     "name": "stdout",
     "output_type": "stream",
     "text": [
      "(5, 5)\n",
      "(5, 1)\n",
      "[[0]\n",
      " [1]\n",
      " [2]\n",
      " [3]\n",
      " [4]] \n",
      "\n",
      "[[ 0  1  2  3  4]\n",
      " [ 5  6  7  8  9]\n",
      " [10 11 12 13 14]\n",
      " [15 16 17 18 19]\n",
      " [20 21 22 23 24]] \n",
      "\n",
      "[[ 0  0  0  0  0]\n",
      " [ 5  6  7  8  9]\n",
      " [20 22 24 26 28]\n",
      " [45 48 51 54 57]\n",
      " [80 84 88 92 96]]\n"
     ]
    }
   ],
   "source": [
    "A = np.arange(25).reshape(5,5) # matriz 5x5\n",
    "print(A.shape)\n",
    "\n",
    "v = np.arange(5).reshape(5,1) # array com 5 elementos \n",
    "                              # como a segunda dimensão foi especificada, \"v\" é um array com 5 linhas e uma coluna\n",
    "print(v.shape)\n",
    "\n",
    "# A operação \"*\" é feita elemento por elemento, broadcasting \"v\" para gerar novas colunas\n",
    "# Agora \"v\" é um vetor coluna\n",
    "B =  v * A\n",
    "\n",
    "print(v,'\\n')\n",
    "print(A,'\\n')\n",
    "print(B)"
   ]
  },
  {
   "cell_type": "markdown",
   "metadata": {},
   "source": [
    "Broadcasting também é realizado quando os dois operandos são arrays unidimensionais, sendo um deles array linha e o outro array coluna. Neste caso, __Broadcasting__ é aplicado em ambos:\n",
    "```python\n",
    "v = np.arange(5)  # array com 5 elementos\n",
    "                  # como a segunda dimensão não foi especificada, \"v\" é interpretado \n",
    "                  # como um sendo 1x5 (uma linha e 5 colunas)\n",
    "\n",
    "w = np.arange(3).reshape(3,1) # array com 3 elementos \n",
    "                              # como a segunda dimensão foi especificada,  \n",
    "                              # \"v\" é um array com 3 linhas e uma coluna\n",
    "```\n",
    "$$\n",
    "Z = v + w\n",
    "$$\n",
    "\n",
    "$$\n",
    "\\downarrow\n",
    "$$\n",
    "\n",
    "$$\n",
    "\\left[\\begin{array}{ccccc}\n",
    "0  & 1 & 2 & 3 & 4\n",
    "\\end{array}\\right] + \n",
    "\\left[\\begin{array}{c} \n",
    "0  \\\\\n",
    "1 \\\\\n",
    "2\n",
    "\\end{array}\\right] \n",
    "$$\n",
    "\n",
    "$$\n",
    "\\downarrow\n",
    "$$\n",
    "\n",
    "$$\n",
    "\\left[\\begin{array}{ccccc}\n",
    "0  & 1 & 2 & 3 & 4\\\\\n",
    "0  & 1 & 2 & 3 & 4\\\\\n",
    "0  & 1 & 2 & 3 & 4\n",
    "\\end{array}\\right] + \n",
    "\\left[\\begin{array}{ccccc} \n",
    "0 & 0 & 0 & 0 & 0 \\\\\n",
    "1 & 1 & 1 & 1 & 1\\\\\n",
    "2 & 2 & 2 & 2 & 2\n",
    "\\end{array}\\right]\n",
    "$$"
   ]
  },
  {
   "cell_type": "code",
   "execution_count": 8,
   "metadata": {},
   "outputs": [
    {
     "name": "stdout",
     "output_type": "stream",
     "text": [
      "(5,)\n",
      "(3, 1)\n",
      "array v:\n",
      " [0 1 2 3 4] \n",
      "\n",
      "array w:\n",
      " [[0]\n",
      " [1]\n",
      " [2]] \n",
      "\n",
      "array Z = v+w\n",
      " [[0 1 2 3 4]\n",
      " [1 2 3 4 5]\n",
      " [2 3 4 5 6]]\n",
      "(3, 5)\n"
     ]
    }
   ],
   "source": [
    "v = np.arange(5)  # array com 5 elementos\n",
    "                  # como a segunda dimensão não foi especificada, \"v\" é interpretado \n",
    "                  # como um sendo 1x5 (uma linha e 5 colunas)\n",
    "print(v.shape)\n",
    "\n",
    "w = np.arange(3).reshape(3,1) # array com 3 elementos \n",
    "                              # como a segunda dimensão foi especificada, \"v\" é um array \n",
    "                              # com 3 linhas e uma coluna\n",
    "print(w.shape)\n",
    "\n",
    "# A operação \"+\" é feita elemento por elemento, broadcasting \"v\" e \"w\" simultaneamente\n",
    "# Neste caso \"w\" é um vetor coluna e \"v\" é tratado como vetor linha\n",
    "Z =  v + w\n",
    "\n",
    "print('array v:\\n',v,'\\n')\n",
    "print('array w:\\n',w,'\\n')\n",
    "print('array Z = v+w\\n',Z)  \n",
    "print(Z.shape) # note que o resultado é uma matriz 3x5"
   ]
  },
  {
   "cell_type": "markdown",
   "metadata": {},
   "source": [
    "Broadcasting também é usado em atribuiçoes"
   ]
  },
  {
   "cell_type": "code",
   "execution_count": 10,
   "metadata": {},
   "outputs": [
    {
     "name": "stdout",
     "output_type": "stream",
     "text": [
      "[[-1. -2. -3.]\n",
      " [-1. -2. -3.]\n",
      " [-1. -2. -3.]\n",
      " [ 0.  0.  0.]\n",
      " [ 0.  0.  0.]]\n"
     ]
    }
   ],
   "source": [
    "A = np.zeros((5,3)) # matriz 5x3 de zeros\n",
    "\n",
    "A[:3] = [-1,-2,-3] # a lista [-1,-2,-3] é estendida para uma matriz 3x3, criando novas linhas \n",
    "                   # note que apenas parte da matriz 'A' é alterada\n",
    "print(A)"
   ]
  },
  {
   "cell_type": "markdown",
   "metadata": {},
   "source": [
    "Pode-se forçar que o Broadcasting em um dos eixos"
   ]
  },
  {
   "cell_type": "code",
   "execution_count": 14,
   "metadata": {},
   "outputs": [
    {
     "name": "stdout",
     "output_type": "stream",
     "text": [
      "[[0. 0. 0.]\n",
      " [1. 1. 1.]\n",
      " [2. 2. 2.]\n",
      " [3. 3. 3.]\n",
      " [4. 4. 4.]]\n",
      "[[0. 0. 0.]\n",
      " [1. 1. 1.]\n",
      " [2. 2. 2.]\n",
      " [3. 3. 3.]\n",
      " [4. 4. 4.]]\n"
     ]
    }
   ],
   "source": [
    "A = np.zeros((5,3)) # matriz 5x3 de zeros\n",
    "v = np.arange(5)    # array com 5 elementos, segunda dimensão não foi especificada\n",
    "\n",
    "# o comando np.newaxis transform v em um vetor coluna, \n",
    "# realizando o broadcasting em v nas colunas\n",
    "A[:] = v[:,np.newaxis]\n",
    "print(A)\n",
    "\n",
    "# o comando acima é equivalente a\n",
    "A[:] = v.reshape(5,1)\n",
    "print(A)"
   ]
  },
  {
   "cell_type": "markdown",
   "metadata": {},
   "source": [
    "### Comparações\n",
    "Comparações usando `==`, `>`,`<`,`>=`,`<=`, e `!=` também são feitas elemento por elemento."
   ]
  },
  {
   "cell_type": "code",
   "execution_count": 22,
   "metadata": {},
   "outputs": [
    {
     "name": "stdout",
     "output_type": "stream",
     "text": [
      "[[0 1]\n",
      " [2 3]] \n",
      "\n",
      "[[6 5]\n",
      " [4 3]] \n",
      "\n",
      "[[False False]\n",
      " [False  True]]\n"
     ]
    }
   ],
   "source": [
    "A = np.arange(4).reshape(2,2)      # matriz 2x2\n",
    "B = np.arange(6,2,-1).reshape(2,2) # matriz 2x2\n",
    "\n",
    "M = (B == A)\n",
    "\n",
    "print(A,'\\n')\n",
    "print(B,'\\n')\n",
    "print(M)"
   ]
  },
  {
   "cell_type": "markdown",
   "metadata": {},
   "source": [
    "Para verificar se dois arrays são iguais (todos elementos são iguais) deve-se utilizar o método <font color='blue'>array_equal</font>."
   ]
  },
  {
   "cell_type": "code",
   "execution_count": 16,
   "metadata": {},
   "outputs": [
    {
     "name": "stdout",
     "output_type": "stream",
     "text": [
      "False\n",
      "True\n",
      "False\n"
     ]
    }
   ],
   "source": [
    "A = np.arange(4).reshape(2,2)      # matrix 2x2\n",
    "B = np.arange(6,2,-1).reshape(2,2) # matrix 2x2\n",
    "C = np.copy(A)\n",
    "\n",
    "# A resposta é apenas um valor booleano\n",
    "print(np.array_equal(A,B))\n",
    "print(np.array_equal(A,C))\n",
    "\n",
    "# np.array_equal(A,B) é equivalente a:\n",
    "D = (A==B)\n",
    "print(np.all(D))"
   ]
  },
  {
   "cell_type": "markdown",
   "metadata": {},
   "source": [
    "### Reduções\n",
    "O <font color='blue'>numpy</font> possui métodos de redução como  <font color='blue'>sum</font>, <font color='blue'>max</font>, <font color='blue'>min</font>, <font color='blue'>argmax</font> e <font color='blue'>argmin</font>. Tais métodos podem ser aplicados ao array como um todo ou somente às linhas ou colunas.\n",
    "O que controla a forma de aplicação é o parâmetro 'axis'. Quando o parâmetro 'axis' não é especificado, a redução é aplicada ao array todo. \n",
    "- 'axis' não especificado: retorna um valor único\n",
    "- 'axis=0' restringe a redução às colunas (percorre as linhas): retorna um array com número de elementos igual ao número de colunas\n",
    "- 'axis=1' restringe a redução às linhas (percorre as colunas): retorna um array com número de elementos igual ao número de linhas"
   ]
  },
  {
   "cell_type": "code",
   "execution_count": 26,
   "metadata": {},
   "outputs": [
    {
     "name": "stdout",
     "output_type": "stream",
     "text": [
      "[[0. 1. 2. 3. 4.]\n",
      " [0. 1. 2. 3. 4.]\n",
      " [0. 1. 2. 3. 4.]\n",
      " [0. 1. 2. 3. 4.]\n",
      " [0. 1. 2. 3. 4.]] \n",
      "\n",
      "Soma de todos os valores:  50.0\n",
      "Soma dos valores das colunas:  [ 0.  5. 10. 15. 20.]\n",
      "Soma dos valores das linnhas:  [10. 10. 10. 10. 10.]\n"
     ]
    }
   ],
   "source": [
    "A = np.zeros((5,5))  # matriz 5x5 de zeros\n",
    "A[:] = np.arange(5)  # broadcasting o array [0,1,2,3,4] nas linhas\n",
    "\n",
    "print(A,'\\n')\n",
    "\n",
    "print('Soma de todos os valores: ', np.sum(A)) # todos os elementos\n",
    "print('Soma dos valores das colunas: ', np.sum(A,axis=0)) # soma os valores das colunas\n",
    "print('Soma dos valores das linnhas: ', np.sum(A,axis=1)) # soma os valores das linhas"
   ]
  },
  {
   "cell_type": "code",
   "execution_count": 19,
   "metadata": {},
   "outputs": [
    {
     "name": "stdout",
     "output_type": "stream",
     "text": [
      "[[19  8 21  1 26]\n",
      " [12 15 15  2 20]\n",
      " [ 8  4 21 22  6]\n",
      " [17 14  4 20  5]\n",
      " [14  2 29  7 26]] \n",
      "\n",
      "Maior valor dentre todos na matriz:  29\n",
      "Posição do maior valor dentre todos na matriz:  22\n",
      "Maior valor em cada coluna:  [19 15 29 22 26]\n",
      "Posição do maior valor em cada coluna:  [0 1 4 2 0]\n"
     ]
    }
   ],
   "source": [
    "A = np.random.randint(low=0,high=30,size=(5,5)) # matriz 5x5 com números inteiros \n",
    "                                                # randomicos no intervalor entre 0 e 30\n",
    "print(A,'\\n')\n",
    "\n",
    "# todos os elementos\n",
    "print('Maior valor dentre todos na matriz: ',np.max(A))    # maior valor da matriz\n",
    "print('Posição do maior valor dentre todos na matriz: ',np.argmax(A)) # lineariza a matriz com A.ravel() e \n",
    "                                                                      # retorna a posicão do maior valor\n",
    "\n",
    "# Por coluna\n",
    "print('Maior valor em cada coluna: ',np.max(A,axis=0))  # maior valor em cada coluna\n",
    "print('Posição do maior valor em cada coluna: ',np.argmax(A,axis=0)) # posição do maior valor em cada coluna"
   ]
  },
  {
   "cell_type": "markdown",
   "metadata": {},
   "source": [
    "Reduções estatísticas como:\n",
    "- <font color='blue'>mean</font>: média aritmética\n",
    "- <font color='blue'>median</font>: mediana \n",
    "- <font color='blue'>std</font>: desvio padrão\n",
    "\n",
    "funcionam da mesma forma, ou seja, podem ser aplicados ao array como um todo ou somente às linhas e colunas utilizando o parâmetro 'axis'."
   ]
  },
  {
   "cell_type": "code",
   "execution_count": 33,
   "metadata": {},
   "outputs": [
    {
     "name": "stdout",
     "output_type": "stream",
     "text": [
      "[[ 3.  9. 15. 21.  8.]\n",
      " [ 8. 20. 26. 27. 29.]\n",
      " [21. 28. 12. 29.  2.]\n",
      " [25. 13. 22.  9. 10.]\n",
      " [13. 29. 20. 14.  5.]] \n",
      "\n",
      "Media de todos os valores:  16.72\n",
      "Media por coluna:  [14.  19.8 19.  20.  10.8]\n",
      "Media por linha:  [11.2 22.  18.4 15.8 16.2]\n"
     ]
    }
   ],
   "source": [
    "A = np.random.randint(low=0,high=30,size=(5,5)).astype(float)\n",
    "print(A,'\\n')\n",
    "\n",
    "print('Media de todos os valores: ',np.mean(A))   # média de todos os valores\n",
    "print('Media por coluna: ',np.mean(A,axis=0))     # média por coluna\n",
    "print('Media por linha: ',np.mean(A,axis=1))      # média por linha"
   ]
  },
  {
   "cell_type": "markdown",
   "metadata": {},
   "source": [
    "#### Redução lógica\n",
    "O métodos \n",
    "- <font color='blue'>all</font>: verifica se todos os elementos do array satisfazem a condição (True)\n",
    "- <font color='blue'>any</font>: verifica se algum elemento do array satisfaz a condição (True)\n",
    "\n",
    "também podem ser aplicados ao array como um todo ou somente às linhas e colunas utilizando o parâmetro 'axis'."
   ]
  },
  {
   "cell_type": "code",
   "execution_count": 40,
   "metadata": {},
   "outputs": [
    {
     "name": "stdout",
     "output_type": "stream",
     "text": [
      "[[ 0  1  2  3  4]\n",
      " [ 5  6  7  8  9]\n",
      " [10 11 12 13 14]\n",
      " [15 16 17 18 19]\n",
      " [20 21 22 23 24]] \n",
      "\n",
      "[[False  True  True  True  True]\n",
      " [ True  True  True  True  True]\n",
      " [ True  True  True  True  True]\n",
      " [ True  True  True  True  True]\n",
      " [ True  True  True  True  True]] \n",
      "\n",
      "Todos os elementos são TRUE?  False\n",
      "Algum elemento é TRUE?  True\n",
      "Todos os elementos de cada coluna são TRUE?  [False  True  True  True  True]\n",
      "Algum elemento de cada linha é TRUE?  [ True  True  True  True  True]\n"
     ]
    }
   ],
   "source": [
    "A = np.arange(25).reshape(5,5)\n",
    "print(A,'\\n')\n",
    "\n",
    "M = A > 0\n",
    "print(M,'\\n')\n",
    "\n",
    "print('Todos os elementos são TRUE? ', np.all(M))\n",
    "print('Algum elemento é TRUE? ',np.any(M))\n",
    "\n",
    "print('Todos os elementos de cada coluna são TRUE? ',np.all(M,axis=0))\n",
    "print('Algum elemento de cada linha é TRUE? ',np.any(M,axis=1))"
   ]
  },
  {
   "cell_type": "markdown",
   "metadata": {},
   "source": [
    "### Ordenação \n",
    "#### <font color='blue'>sort</font>\n",
    "O método <font color='blue'>sort</font> do <font color='blue'>numpy</font> ordena os elementos do array. \n",
    "- Quando o método <font color='blue'>sort</font> é invocado utilizando a própria variável, a ordenação é feita diretamente no array (inplace). Por exemplo:\n",
    "```python\n",
    "A = np.random.randint(low=0,high=30,size=(5,5))\n",
    "A.sort()  # modifica o array original\n",
    "```\n",
    "- Quando o método <font color='blue'>sort</font> é invocado pelo <font color='blue'>numpy</font> uma cópia ordenada do array é gerada (o array original não é modificado).\n",
    "```python\n",
    "A = np.random.randint(low=0,high=30,size=(5,5))\n",
    "B = np.sort(A)  # `B` é uma cópia de `A` com linhas ordenas (`A` não é afetado)\n",
    "```\n",
    "\n",
    "Por padrão a ordenação é feita em cada linha (`axis=1` é o valor padrão do parâmetro 'axis' no comando <font color='blue'>sort</font>) "
   ]
  },
  {
   "cell_type": "code",
   "execution_count": 20,
   "metadata": {},
   "outputs": [
    {
     "name": "stdout",
     "output_type": "stream",
     "text": [
      "Array original \"A\": \n",
      " [[22  5 29 27  1]\n",
      " [21  8  1 17 26]\n",
      " [21  3  4  1 22]\n",
      " [19 19 24  4 18]\n",
      " [19  3  5 24 19]] \n",
      "\n",
      "\"B\" é cópia de \"A\" com valores das linhas ordenados. Array \"A\" não é alterado:\n",
      "B = \n",
      " [[ 1  5 22 27 29]\n",
      " [ 1  8 17 21 26]\n",
      " [ 1  3  4 21 22]\n",
      " [ 4 18 19 19 24]\n",
      " [ 3  5 19 19 24]] \n",
      "\n",
      "A = \n",
      " [[22  5 29 27  1]\n",
      " [21  8  1 17 26]\n",
      " [21  3  4  1 22]\n",
      " [19 19 24  4 18]\n",
      " [19  3  5 24 19]] \n",
      "\n"
     ]
    }
   ],
   "source": [
    "A = np.random.randint(low=0,high=30,size=(5,5))\n",
    "print('Array original \"A\": \\n',A,'\\n')\n",
    "\n",
    "B = np.sort(A) # `B` é uma cópia de `A` com linhas ordenas\n",
    "print('\"B\" é cópia de \"A\" com valores das linhas ordenados. Array \"A\" não é alterado:')\n",
    "print('B = \\n',B,'\\n')\n",
    "print('A = \\n',A,'\\n')"
   ]
  },
  {
   "cell_type": "code",
   "execution_count": 21,
   "metadata": {},
   "outputs": [
    {
     "name": "stdout",
     "output_type": "stream",
     "text": [
      "Os valores das linhas do array \"A\" são ordenados: \n",
      " A =\n",
      " [[ 1  5 22 27 29]\n",
      " [ 1  8 17 21 26]\n",
      " [ 1  3  4 21 22]\n",
      " [ 4 18 19 19 24]\n",
      " [ 3  5 19 19 24]] \n",
      "\n",
      "Os valores das colunas são ordenadas:  \n",
      " A =\n",
      " [[ 1  3  4 19 22]\n",
      " [ 1  5 17 19 24]\n",
      " [ 1  5 19 21 24]\n",
      " [ 3  8 19 21 26]\n",
      " [ 4 18 22 27 29]] \n",
      "\n"
     ]
    }
   ],
   "source": [
    "A.sort()  # as linhas de `A` são ordenadas modificando o array original\n",
    "print('Os valores das linhas do array \"A\" são ordenados: \\n A =\\n',A,'\\n')\n",
    "\n",
    "A.sort(axis=0) # as COLUNAS de `A` são ordenadas modificando o array original\n",
    "print('Os valores das colunas são ordenadas:  \\n A =\\n',A,'\\n')"
   ]
  },
  {
   "cell_type": "markdown",
   "metadata": {},
   "source": [
    "#### <font color='blue'>argsort</font>\n",
    "O método <font color='blue'>argsort</font> retorna um array contendo os índicies dos elementos ordenados nas linhas. O parâmetro 'axis=0' pode ser utilizado para que a ordenação seja aplicada às colunas.   "
   ]
  },
  {
   "cell_type": "code",
   "execution_count": 60,
   "metadata": {},
   "outputs": [
    {
     "name": "stdout",
     "output_type": "stream",
     "text": [
      "[[12.  1. 26.]\n",
      " [23.  0.  7.]\n",
      " [10. 19. 21.]] \n",
      "\n",
      "[[1 0 2]\n",
      " [1 2 0]\n",
      " [0 1 2]] \n",
      "\n",
      "Indices dos elementos ordenados na linha  0 :  [1 0 2]\n",
      "Linha 0 :            [12.  1. 26.]\n",
      "Linha  0  ordenada:  [ 1. 12. 26.] \n",
      "\n",
      "Indices dos elementos ordenados na linha  1 :  [1 2 0]\n",
      "Linha 1 :            [23.  0.  7.]\n",
      "Linha  1  ordenada:  [ 0.  7. 23.] \n",
      "\n",
      "Indices dos elementos ordenados na linha  2 :  [0 1 2]\n",
      "Linha 2 :            [10. 19. 21.]\n",
      "Linha  2  ordenada:  [10. 19. 21.] \n",
      "\n"
     ]
    }
   ],
   "source": [
    "A = np.array([[12.0,  1.0, 26.0],\n",
    "              [23.0,  0.0,  7.0],\n",
    "              [10.0,  19.0, 21.0]])\n",
    "print(A,'\\n')\n",
    "\n",
    "I = np.argsort(A)  # fornece os indices dos elementos ordenados em cada linha\n",
    "print(I,'\\n')\n",
    "\n",
    "for i in range(A.shape[0]):\n",
    "    print('Indices dos elementos ordenados na linha ',i,': ',I[i])\n",
    "    print('Linha',i,': '+10*' ',A[i])\n",
    "    print('Linha ',i,' ordenada: ',A[i,I[i]],'\\n')"
   ]
  },
  {
   "cell_type": "markdown",
   "metadata": {},
   "source": [
    "### Aritmétrica vetorial e matricial\n",
    "A multiplicação matriz e vetor (ou matriz e matriz) como definida na álgebra matricial é feita utilizando o método <font color='blue'>dot</font>.\n",
    "\n",
    "__Atenção:__ As dimensões devem ser compatíveis"
   ]
  },
  {
   "cell_type": "markdown",
   "metadata": {},
   "source": [
    "$$\n",
    "b1 = \\left[\\begin{array}{cc}\n",
    "           1 & 1 \\\\\n",
    "           2 & 2\n",
    "    \\end{array}\\right]\\cdot\n",
    "    \\left[\\begin{array}{c}\n",
    "           1  \\\\\n",
    "           2 \n",
    "    \\end{array}\\right] = \\left[\\begin{array}{c}\n",
    "           3  \\\\\n",
    "           6 \n",
    "    \\end{array}\\right]\n",
    "$$\n",
    "\n",
    "$$\n",
    "b2 = \\left[\\begin{array}{cc}\n",
    "           1 & 2 \n",
    "    \\end{array}\\right]\\cdot\n",
    "\\left[\\begin{array}{cc}\n",
    "           1 & 1 \\\\\n",
    "           2 & 2\n",
    "    \\end{array}\\right]\\cdot\n",
    "     = \\left[\\begin{array}{cc}\n",
    "           5 & 5\n",
    "    \\end{array}\\right]\n",
    "$$"
   ]
  },
  {
   "cell_type": "code",
   "execution_count": 62,
   "metadata": {},
   "outputs": [
    {
     "name": "stdout",
     "output_type": "stream",
     "text": [
      "Matriz 2x2 A:\n",
      " [[1. 1.]\n",
      " [2. 2.]]\n",
      "Vetor 2x1 v:\n",
      " [[1]\n",
      " [2]]\n",
      "\n",
      " Multiplicando a matriz A pelo vetor v resulta em um vetor 2x1\n",
      "[[3.]\n",
      " [6.]] (2, 1)\n",
      "\n",
      " Multiplicando o vetor transposto v.T pela matriz A pelo resulta em um vetor 1x2\n",
      "[[5. 5.]] (1, 2)\n"
     ]
    }
   ],
   "source": [
    "A = np.zeros((2,2))      # matrix 2x2 de zeros  \n",
    "v = np.array([1,2]).reshape(2,1) # array 2x1\n",
    "A[:] = v                # broadcasting o array 2x1 nas colunas da matriz 'A'\n",
    "\n",
    "print('Matriz 2x2 A:\\n',A)\n",
    "print('Vetor 2x1 v:\\n',v)\n",
    "\n",
    "print('\\n Multiplicando a matriz A pelo vetor v resulta em um vetor 2x1')\n",
    "b1 = np.dot(A,v)   # v e b1 são vetores colunas \n",
    "print(b1,b1.shape)\n",
    "\n",
    "#### Atenção ####\n",
    "# O produto np.dot(v,A) não é válido, pois as dimensões não são compatíveis \n",
    "# (produto de vetor 2x1 com matriz 2x2 não existe tente gerar o produto e veja a mensagem de erro)\n",
    "\n",
    "# Para compadibilizarmos as dimensão precisamos transpor o vetor v\n",
    "# (produto de vetor 1x2 com matriz 2x2 é bem definido e resulta em um vetor 1x2\n",
    "print('\\n Multiplicando o vetor transposto v.T pela matriz A pelo resulta em um vetor 1x2')\n",
    "b2 = np.dot(v.T,A) # v.T é um vetor linha, assim como b2\n",
    "print(b2,b2.shape)"
   ]
  },
  {
   "cell_type": "markdown",
   "metadata": {},
   "source": [
    "## Muito mais...\n",
    "- `numpy.linalg` biblioteca de algebra linear\n",
    "   - resolução de sistema\n",
    "   - decomposição em eigen vetores\n",
    "- numpy.polynomial\n",
    "   - aritmétrica polynomial\n",
    "   - estimativa polynomial \n",
    "   - interpolação polynomial\n",
    "- numpy.fft\n",
    "   - transformação de Fourier \n",
    "- ...\n"
   ]
  },
  {
   "cell_type": "markdown",
   "metadata": {},
   "source": [
    "---\n",
    "## Matplotlib\n",
    "###  Introdução\n",
    "O <font color='blue'>matplotlib</font> é um pacote do python destinado a geração de gráficos. O <font color='blue'>matplotlib</font> possui vários submódulos, sendo o <font color='blue'>pyplot</font> um dos mais utilizados para construção de gráficos. A forma mais comum de importar o <font color='blue'>pyplot</font> é:\n",
    "```python\n",
    "import matplotlib.pyplot as plt  \n",
    "```\n",
    "O <font color='blue'>matplotlib</font> utiliza o <font color='blue'>numpy</font> como base, garantindo um bom desempenho computacional. Assim, os parâmetros empregados nos métodos do <font color='blue'>matplotlib</font> são arrays do <font color='blue'>numpy</font>. Se outros tipos, como listas e tuplas, forem enviadas como parâmetro, o  <font color='blue'>matplotlib</font> as converte internamente para arrays.\n",
    "\n",
    "\n",
    "Um tutorial sobre os métodos do <font color='blue'>pyplot</font> pode ser encontrado em  [https://matplotlib.org/users/pyplot_tutorial.html](https://matplotlib.org/users/pyplot_tutorial.html)"
   ]
  },
  {
   "cell_type": "markdown",
   "metadata": {},
   "source": [
    "### Plot\n",
    "O método <font color='blue'>plot</font> gera gráficos a partir de dois arrays de valores, um correspondendo às coordenadas no eixo horizontal e outro às coordenadas no eixo vertical.\n",
    "- supõe que os arrays enviados como parâmetros correspondem a valores discretos para os eixos horizontal e vertical\n",
    "    - se apenas um array é fornecido, o método automaticamente supõe valores inteiros igualmente espaçados no eixo horizontal\n",
    "- como todos os métodos do <font color='blue'>pyplot</font>, o método <font color='blue'>plot</font> admite um número grande de parâmetros que permitem personalizar o gráfico"
   ]
  },
  {
   "cell_type": "code",
   "execution_count": 22,
   "metadata": {},
   "outputs": [
    {
     "data": {
      "text/plain": [
       "[<matplotlib.lines.Line2D at 0x11357f390>]"
      ]
     },
     "execution_count": 22,
     "metadata": {},
     "output_type": "execute_result"
    },
    {
     "data": {
      "image/png": "[encoded data removed]",
      "text/plain": [
       "<Figure size 432x288 with 1 Axes>"
      ]
     },
     "metadata": {
      "needs_background": "light"
     },
     "output_type": "display_data"
    }
   ],
   "source": [
    "import numpy as np\n",
    "import matplotlib.pyplot as plt\n",
    "\n",
    "%matplotlib inline  \n",
    "         # o comando \"%matplotlib inline\" faz com que os gráficos fiquem \"embutidos\" no notebook, sem ele uma nova\n",
    "         # janela é criada para cada gráfico.\n",
    "\n",
    "x = np.linspace(-1,1,20) # array com 20 pontos igualmente espaçados no intervalo 0 e 1\n",
    "y = x**2                # valores elevados ao quadrado\n",
    "plt.plot(x,y)           # gera o gráfico dos valores (x,x**2)"
   ]
  },
  {
   "cell_type": "code",
   "execution_count": 23,
   "metadata": {},
   "outputs": [
    {
     "data": {
      "text/plain": [
       "[<matplotlib.lines.Line2D at 0x113681358>]"
      ]
     },
     "execution_count": 23,
     "metadata": {},
     "output_type": "execute_result"
    },
    {
     "data": {
      "image/png": "[encoded data removed]",
      "text/plain": [
       "<Figure size 432x288 with 1 Axes>"
      ]
     },
     "metadata": {
      "needs_background": "light"
     },
     "output_type": "display_data"
    }
   ],
   "source": [
    "# parâmetros podem ser fornecidos para controlar a cor (color), expessura (linewidth) e \n",
    "# estilo da linha (linestyle) no gráfico\n",
    "plt.plot(x,y,color='red',linewidth = 5, linestyle = '--')"
   ]
  },
  {
   "cell_type": "code",
   "execution_count": 24,
   "metadata": {},
   "outputs": [
    {
     "data": {
      "text/plain": [
       "[<matplotlib.lines.Line2D at 0x1136ed5c0>]"
      ]
     },
     "execution_count": 24,
     "metadata": {},
     "output_type": "execute_result"
    },
    {
     "data": {
      "image/png": "[encoded data removed]",
      "text/plain": [
       "<Figure size 432x288 with 1 Axes>"
      ]
     },
     "metadata": {
      "needs_background": "light"
     },
     "output_type": "display_data"
    }
   ],
   "source": [
    "# pode-se incluir marcadores (marker) para identificar os pares de valores fornecidos\n",
    "plt.plot(x,y,color='red', linestyle = '--',marker='o')"
   ]
  },
  {
   "cell_type": "code",
   "execution_count": 26,
   "metadata": {},
   "outputs": [
    {
     "data": {
      "text/plain": [
       "[None, None, None]"
      ]
     },
     "execution_count": 26,
     "metadata": {},
     "output_type": "execute_result"
    },
    {
     "data": {
      "image/png": "[encoded data removed]",
      "text/plain": [
       "<Figure size 432x288 with 1 Axes>"
      ]
     },
     "metadata": {
      "needs_background": "light"
     },
     "output_type": "display_data"
    }
   ],
   "source": [
    "# Pode-se incluir diversos gráficos\n",
    "line_2_3 = plt.plot(x,y,x,x**4) # gera dois gráficos simultaneamente\n",
    "                                # um com os valores (x,y) e outro com (x,x**3)\n",
    "                                # armazenando o resultado em uma variável\n",
    "        \n",
    "plt.setp(line_2_3,color='red',linewidth = 2, linestyle = '--') # o comando \"setp\" especifica o estilo para todos\n",
    "                                                               # os gráficos referenciados pela variável criada\n",
    "\n",
    "line_4 = plt.plot(x,x**3)     # mais um gráfico é gerado\n",
    "plt.setp(line_4,color='orange',linewidth = 5, linestyle = ':') # com estilo diferente dos dois anteriores"
   ]
  },
  {
   "cell_type": "markdown",
   "metadata": {},
   "source": [
    "### Subplots\n",
    "O método <font color='blue'>subplot</font> possibilita organizar diversos gráficos em uma matriz de gráficos.\n",
    "Os parâmetros do método <font color='blue'>subplot</font> são:\n",
    "- 'num_rows': número de linhas na matriz de gráficos\n",
    "- 'num_cols': número de colunas na matriz de gráficos\n",
    "- 'subplot_number': índice do subplot na matriz linearizada"
   ]
  },
  {
   "cell_type": "code",
   "execution_count": 29,
   "metadata": {},
   "outputs": [
    {
     "data": {
      "text/plain": [
       "[<matplotlib.lines.Line2D at 0x1137bdcc0>]"
      ]
     },
     "execution_count": 29,
     "metadata": {},
     "output_type": "execute_result"
    },
    {
     "data": {
      "image/png": "[encoded data removed]",
      "text/plain": [
       "<Figure size 432x288 with 4 Axes>"
      ]
     },
     "metadata": {
      "needs_background": "light"
     },
     "output_type": "display_data"
    }
   ],
   "source": [
    "import numpy as np\n",
    "import matplotlib.pyplot as plt\n",
    "%matplotlib inline  \n",
    "\n",
    "def f(t):\n",
    "    return(np.exp(-t) * np.cos(2.0*np.pi*t))\n",
    "\n",
    "t2 = np.linspace(0.0, 5.0, 100)\n",
    "\n",
    "plt.subplot(2, 2, 1)  # gera uma matriz 2x2 onde os gráficos serão exibidos e \n",
    "                      # ativa o elemento 1 (elemento superior esquerdo da matriz)\n",
    "                      # para que o gráfico seja gerado nele\n",
    "plt.plot(t2, f(t2), color='black', marker = 'o')\n",
    "\n",
    "plt.subplot(2, 2, 2)  # ativa o elemento 2 (elemento superior direito da matriz)\n",
    "                      # para que o gráfico seja gerado nele\n",
    "plt.plot(t2, np.cos(2.0*np.pi*t2), color='red', linestyle = '--')\n",
    "\n",
    "plt.subplot(2, 2, 3)  # ativa o elemento 3 (elemento inferior esquerdo da matriz)\n",
    "                      # para que o gráfico seja gerado nele\n",
    "plt.plot(t2, t2)\n",
    "\n",
    "plt.subplot(2, 2, 4)  # ativa o elemento 4 (elemento inferior direito da matriz)\n",
    "                      # para que o gráfico seja gerado nele\n",
    "plt.plot(t2, t2**2,marker='s',markersize=1)"
   ]
  },
  {
   "cell_type": "markdown",
   "metadata": {},
   "source": [
    "### Texto\n",
    "O método <font color='blue'>text</font> permite adicionar texto a um gráfico\n",
    "- Texto pode ser adicionado em qualquer local da figura\n",
    "- Características podem ser customizadas através dos parâmetros ou utilizando o método <font color='blue'>setp</font>\n",
    "- Os seguintes métodos são úteis para incluir e organizar textos em um gráfico:\n",
    "    - text() - adiciona texto  em uma localização expecífica\n",
    "    - xlabel() - adiciona um rótulo ao eixo horizontal\n",
    "    - ylabel() - adiciona um rótulo ao eixo vertical\n",
    "    - title() - adiciona um título ao gráfico\n",
    "    - annotate() - adiciona uma anotação (com uma seta opcional) \n",
    "- Várias [outras propriedades](https://matplotlib.org/api/text_api.html)"
   ]
  },
  {
   "cell_type": "code",
   "execution_count": 31,
   "metadata": {},
   "outputs": [
    {
     "data": {
      "image/png": "[encoded data removed]",
      "text/plain": [
       "<Figure size 432x288 with 1 Axes>"
      ]
     },
     "metadata": {
      "needs_background": "light"
     },
     "output_type": "display_data"
    }
   ],
   "source": [
    "import numpy as np\n",
    "import matplotlib.pyplot as plt\n",
    "\n",
    "mu, sigma = 10.0, 1.0\n",
    "x = np.random.normal(mu,sigma,size=10000) # gera 10 mil números a partir de uma distribuição Gaussiana\n",
    "\n",
    "# gera um histograma de x\n",
    "plt.hist(x,50,density=1,facecolor='g',alpha=0.75) # o método\"hist\" gera um gráfico de histograma\n",
    "plt.xlabel('Smarts')         # rótulo do eixo horizontal\n",
    "plt.ylabel('Probability')    # rótulo do eixo vertical\n",
    "plt.title('Histogram of x')  # título da figura\n",
    "\n",
    "# posiciona o texto na posição (6.0, 0.35)\n",
    "plt.text(6.0, 0.35, 'mu=10, sigma=1.0')\n",
    "# define o intervalo de valores apresentados no eixo horizontal e vertical\n",
    "plt.axis([5, 15, 0, 0.5])\n",
    "\n",
    "# coloca uma grade no fundo da figura\n",
    "plt.grid(True)"
   ]
  },
  {
   "cell_type": "code",
   "execution_count": 83,
   "metadata": {},
   "outputs": [
    {
     "data": {
      "text/plain": [
       "Text(3, 1.3, 'max local')"
      ]
     },
     "execution_count": 83,
     "metadata": {},
     "output_type": "execute_result"
    },
    {
     "data": {
      "image/png": "[encoded data removed]",
      "text/plain": [
       "<Figure size 432x288 with 1 Axes>"
      ]
     },
     "metadata": {
      "needs_background": "light"
     },
     "output_type": "display_data"
    }
   ],
   "source": [
    "import numpy as np\n",
    "import matplotlib.pyplot as plt\n",
    "\n",
    "#ax = plt.subplot(111)\n",
    "t = np.arange(0.0, 5.0, 0.01)\n",
    "s = np.cos(2*np.pi*t)\n",
    "\n",
    "plt.plot(t, s)   # gera o plot da funcao \n",
    "plt.axis([0.0, 5.0, -1.0, 1.5])  # define o intervalo de valores apresentados no eixo horizontal e vertical\n",
    "\n",
    "plt.annotate('max local', xy=(2.05,1.05), xytext=(3,1.3), # gera uma anotação\n",
    "             arrowprops=dict(facecolor='black'))"
   ]
  },
  {
   "cell_type": "markdown",
   "metadata": {},
   "source": [
    "### Legenda\n",
    "Legendas podem ser geradas de forma bastante simples com o métodos <font color='blue'>legend</font>"
   ]
  },
  {
   "cell_type": "code",
   "execution_count": 63,
   "metadata": {},
   "outputs": [
    {
     "data": {
      "text/plain": [
       "<matplotlib.legend.Legend at 0x115f37128>"
      ]
     },
     "execution_count": 63,
     "metadata": {},
     "output_type": "execute_result"
    },
    {
     "data": {
      "image/png": "[encoded data removed]",
      "text/plain": [
       "<Figure size 432x288 with 1 Axes>"
      ]
     },
     "metadata": {
      "needs_background": "light"
     },
     "output_type": "display_data"
    }
   ],
   "source": [
    "import numpy as np\n",
    "import matplotlib.pyplot as plt\n",
    "\n",
    "plt.plot([1,2,3],'o', label=\"label1\")\n",
    "plt.plot([4,3,2], label=\"label2\")\n",
    "\n",
    "plt.legend()"
   ]
  },
  {
   "cell_type": "markdown",
   "metadata": {},
   "source": [
    "__Outros plots úteis:__\n",
    "- bar()\n",
    "- scatter()\n",
    "- stackplot()\n",
    "- matshow()\n",
    "\n",
    "[Mais informações](https://realpython.com/python-matplotlib-guide/)"
   ]
  },
  {
   "cell_type": "markdown",
   "metadata": {},
   "source": [
    "## <span style=\"color:blue\">Numpy Parte II e Matplotlib - Exercícios</span>"
   ]
  },
  {
   "cell_type": "code",
   "execution_count": 1,
   "metadata": {},
   "outputs": [],
   "source": [
    "import numpy as np"
   ]
  },
  {
   "cell_type": "markdown",
   "metadata": {},
   "source": [
    "### Exercício 1)\n",
    "Crie uma matriz com <font color='blue'>numpy</font> denominada `A` com 6 linhas e 3 colunas  broadcasting o array [1 2 3 4 5 6].\n",
    "\n",
    "__Dica:__ Construa primeiro uma matriz com dimensões 6x3 e depois emprege broadcasting"
   ]
  },
  {
   "cell_type": "code",
   "execution_count": 2,
   "metadata": {},
   "outputs": [
    {
     "name": "stdout",
     "output_type": "stream",
     "text": [
      "[[1. 1. 1.]\n",
      " [2. 2. 2.]\n",
      " [3. 3. 3.]\n",
      " [4. 4. 4.]\n",
      " [5. 5. 5.]\n",
      " [6. 6. 6.]]\n"
     ]
    }
   ],
   "source": [
    "A = np.zeros((6,3))\n",
    "A[:] = np.array([1, 2, 3, 4, 5, 6]).reshape(6,1)\n",
    "\n",
    "print(A)"
   ]
  },
  {
   "cell_type": "markdown",
   "metadata": {},
   "source": [
    "### Exercício 2)\n",
    "Construa uma matriz \n",
    "```python\n",
    "[[0 1 2 3 4 5]\n",
    " [1 2 3 4 5 6]\n",
    " [2 3 4 5 6 7]\n",
    " [3 4 5 6 7 8]\n",
    " [4 5 6 7 8 9]]\n",
    "```\n",
    "partir dos arrays [0 1 2 3 4] e [0 1 2 3 4 5] utilizando broadcasting."
   ]
  },
  {
   "cell_type": "code",
   "execution_count": 3,
   "metadata": {},
   "outputs": [
    {
     "name": "stdout",
     "output_type": "stream",
     "text": [
      "[[0 1 2 3 4 5]\n",
      " [1 2 3 4 5 6]\n",
      " [2 3 4 5 6 7]\n",
      " [3 4 5 6 7 8]\n",
      " [4 5 6 7 8 9]]\n"
     ]
    }
   ],
   "source": [
    "a = np.arange(5).reshape(5,1)\n",
    "b = np.arange(6) \n",
    "\n",
    "B = a+b\n",
    "print(B)"
   ]
  },
  {
   "cell_type": "markdown",
   "metadata": {},
   "source": [
    "### Exercício 3)\n",
    "Construa uma matriz 10x10 com números randômicos gerados no intervalo entre 0 e 1. Some os valores de cada coluna e encontre a coluna com o maior soma de seus elementos. "
   ]
  },
  {
   "cell_type": "code",
   "execution_count": 8,
   "metadata": {},
   "outputs": [
    {
     "name": "stdout",
     "output_type": "stream",
     "text": [
      "Matriz randomica:\n",
      " [[0.97478248 0.79558423 0.81366071 0.03238776 0.02561238 0.23769449\n",
      "  0.68473438 0.368783   0.21420512 0.54074947]\n",
      " [0.30612198 0.54162015 0.53490248 0.39623183 0.33736151 0.89408716\n",
      "  0.75798575 0.02930693 0.07788693 0.31594074]\n",
      " [0.3804475  0.08813605 0.34807371 0.97883617 0.93729957 0.23267329\n",
      "  0.49672797 0.24271026 0.84295208 0.66196252]\n",
      " [0.52705187 0.61645888 0.00137657 0.18091548 0.55853471 0.67421585\n",
      "  0.16798999 0.44985071 0.17356702 0.80865485]\n",
      " [0.51335644 0.38484171 0.88645159 0.78261966 0.94389511 0.41558278\n",
      "  0.71768331 0.89956657 0.63704247 0.24336042]\n",
      " [0.21404687 0.42682063 0.43579913 0.2384023  0.20440081 0.52564965\n",
      "  0.00682101 0.87087043 0.06550271 0.0573214 ]\n",
      " [0.37991575 0.56298115 0.12434275 0.05339542 0.80539994 0.30666662\n",
      "  0.56728126 0.42120391 0.45443437 0.0685598 ]\n",
      " [0.73927224 0.83480457 0.73470461 0.39241592 0.96516273 0.03911162\n",
      "  0.54999391 0.94031874 0.52235598 0.48272963]\n",
      " [0.07126608 0.27511987 0.74054824 0.46604099 0.15372107 0.65455874\n",
      "  0.27149153 0.38884166 0.74999845 0.49067552]\n",
      " [0.23476222 0.96374057 0.02890548 0.33689464 0.34122237 0.52494812\n",
      "  0.86067735 0.32287828 0.66076372 0.07361175]]\n",
      "As somas das colunas é:\n",
      " [4.34102343 5.4901078  4.64876527 3.85814016 5.27261021 4.5051883\n",
      " 5.08138646 4.9343305  4.39870884 3.74356611]\n",
      "A coluna com maior some é a  1\n"
     ]
    }
   ],
   "source": [
    "X = np.random.uniform(0,1,100).reshape(10,10)\n",
    "print('Matriz randomica:\\n',X)\n",
    "\n",
    "soma_colunas = np.sum(X,axis=0)\n",
    "print('As somas das colunas é:\\n',soma_colunas)\n",
    "\n",
    "print('A coluna com maior some é a ',np.argmax(soma_colunas))"
   ]
  },
  {
   "cell_type": "markdown",
   "metadata": {},
   "source": [
    "### Exercício 4)\n",
    "Considere uma matriz `A` $n\\times n,\\, n\\geq 2$ . Por exemplo, para $n=4$:\n",
    "$$\n",
    "A=\\left(\\begin{array}[cccc]\\\\\n",
    "1 & 3 & 2 & 6 \\\\\n",
    "3 & 5 & 1 & {7} \\\\\n",
    "{0} & 4 & {2} & {6} \\\\\n",
    "6 & 1 & 3 & {1} \n",
    "\\end{array}\\right)\n",
    "$$\n",
    "Crie uma matriz `B`  2$\\times$2 onde a primeira linha corresponde aos valores mínimo e máximo da soma das linhas da matriz `A` e a segunda linha de `B` corresponde aos valores mínimo e máximo da soma das colunas. Considerando a matriz `A` acima, a matriz `B` resultante seria:\n",
    "\n",
    "$$\n",
    "B=\\left(\\begin{array}[cc]\\\\\n",
    "11 & 16\\\\\n",
    "8 & 20\n",
    "\\end{array}\\right)\n",
    "$$\n",
    "\n",
    "A sua solução deve funcionar para qualquer matriz $n\\times n,\\, n\\geq 2$.<br>"
   ]
  },
  {
   "cell_type": "code",
   "execution_count": 17,
   "metadata": {},
   "outputs": [
    {
     "name": "stdout",
     "output_type": "stream",
     "text": [
      "[[34.60927816 63.89729896]\n",
      " [38.26760295 66.85802324]]\n"
     ]
    }
   ],
   "source": [
    "# A = np.array([[1,3,2,6],[3,5,1,7],[0,4,2,6],[6,1,3,1]])\n",
    "A = np.random.uniform(0,10,100).reshape(10,10)\n",
    "\n",
    "soma_linhas = np.sum(A,axis=1)\n",
    "soma_colunas = np.sum(A,axis=0)\n",
    "B = np.array([[np.min(soma_linhas), np.max(soma_linhas)],\n",
    "             [np.min(soma_colunas), np.max(soma_colunas)]])\n",
    "print(B)"
   ]
  },
  {
   "cell_type": "markdown",
   "metadata": {},
   "source": [
    "### Exercício 5)\n",
    "Construa uma função chamada `ordena_linhas` que recebe uma matriz como parâmetro e troque as linhas de posição para que fiquem ordenadas de acordo com a primeira coluna. Por exemplo:\n",
    "```python\n",
    "A = np.array([[20, 26, 12], \n",
    "              [8, 3, 26], \n",
    "              [3, 10, 4]])\n",
    "print(ordena_linhas(A))\n",
    "```\n",
    "deve resultar em\n",
    "```python\n",
    "[[ 3 10  4]\n",
    " [ 8  3 26]\n",
    " [20 26 12]]\n",
    "```"
   ]
  },
  {
   "cell_type": "code",
   "execution_count": 39,
   "metadata": {},
   "outputs": [
    {
     "name": "stdout",
     "output_type": "stream",
     "text": [
      "[[20, 26, 12], [8, 3, 26], [3, 10, 4]]\n",
      "[[ 3 10  4]\n",
      " [ 8  3 26]\n",
      " [20 26 12]]\n"
     ]
    }
   ],
   "source": [
    "def ordena_linhas(A):\n",
    "    indices_coluna0 = np.argsort(A,axis=0)[:,0]\n",
    "    A = A[indices_coluna0]\n",
    "    return(A)\n",
    "    \n",
    "X = np.random.randint(0,30,9).reshape(3,3)\n",
    "print(ordena_linhas(X))"
   ]
  },
  {
   "cell_type": "markdown",
   "metadata": {},
   "source": [
    "### Exercício 6)\n",
    "O método <font color='blue'>bar</font> do <font color='blue'>matplotlib.pyplot</font> gera um gráfico de barras a partir de um array com as coordenadas horizontais das barras e um array com as alturas das barras, ambos enviados como parâmetros (veja documentação [aqui](https://matplotlib.org/3.1.1/gallery/statistics/barchart_demo.html#sphx-glr-gallery-statistics-barchart-demo-py)). Gere um array de números randômicos no intervalo entre 0 e 1 e utilize o método <font color='blue'>bar</font> para visualizar os valores do array."
   ]
  },
  {
   "cell_type": "code",
   "execution_count": 41,
   "metadata": {},
   "outputs": [
    {
     "data": {
      "text/plain": [
       "<BarContainer object of 9 artists>"
      ]
     },
     "execution_count": 41,
     "metadata": {},
     "output_type": "execute_result"
    },
    {
     "data": {
      "image/png": "[encoded data removed]",
      "text/plain": [
       "<Figure size 432x288 with 1 Axes>"
      ]
     },
     "metadata": {
      "needs_background": "light"
     },
     "output_type": "display_data"
    }
   ],
   "source": [
    "import matplotlib.pyplot as plt\n",
    "%matplotlib inline\n",
    "\n",
    "X = np.random.uniform(0,30,9)\n",
    "plt.bar(np.arange(X.shape[0]),X)"
   ]
  },
  {
   "cell_type": "markdown",
   "metadata": {},
   "source": [
    "### Exercício 7)\n",
    "Melhore o gráfico de barras gerado no exercício anterior adicionando um asterisco vermelho no topo da barra mais alta.\n",
    "\n",
    "__Dica:__ Utilize o método <font color='blue'>scatter</font> do <font color='blue'>matplotlib.pyplot</font> para mostrar o asterisco."
   ]
  },
  {
   "cell_type": "code",
   "execution_count": 44,
   "metadata": {},
   "outputs": [
    {
     "data": {
      "text/plain": [
       "<matplotlib.collections.PathCollection at 0x11a1e0cf8>"
      ]
     },
     "execution_count": 44,
     "metadata": {},
     "output_type": "execute_result"
    },
    {
     "data": {
      "image/png": "[encoded data removed]",
      "text/plain": [
       "<Figure size 432x288 with 1 Axes>"
      ]
     },
     "metadata": {
      "needs_background": "light"
     },
     "output_type": "display_data"
    }
   ],
   "source": [
    "X = np.random.uniform(0,30,9)\n",
    "\n",
    "mais_alta = np.argmax(X)\n",
    "plt.bar(np.arange(X.shape[0]),X)\n",
    "plt.scatter(mais_alta,X[mais_alta]+1, marker='*',color='red')"
   ]
  },
  {
   "cell_type": "markdown",
   "metadata": {},
   "source": [
    "### Exercício 8)\n",
    "Dado um conjunto de pontos $(x_0,y_0),(x_1,y_1),\\ldots,(x_n,y_n)$, podemos ajustar uma reta $y=\\alpha_0+\\alpha_1 x$ a esses pontos resolvendo o sistema linear:\n",
    "\n",
    "$$\n",
    "\\left(A^\\top A\\right)\\alpha = A^\\top b\n",
    "$$\n",
    "\n",
    "onde a matriz de $A$ e o vetor $b$ são definidos como:\n",
    "\n",
    "$$\n",
    "A=\\left(\\begin{array}{cc}\n",
    "1 & x_0 \\\\\n",
    "1 & x_1 \\\\\n",
    "\\vdots & \\vdots \\\\\n",
    "1 & x_n \n",
    "\\end{array}\\right),\n",
    "\\qquad\n",
    "\\alpha = \\left(\\begin{array}{c}\n",
    "\\alpha_0 \\\\\n",
    "\\alpha_1 \n",
    "\\end{array}\\right),\n",
    "\\qquad\n",
    "b = \\left(\\begin{array}{c}\n",
    "y_0 \\\\\n",
    "y_1 \\\\\n",
    "\\vdots \\\\\n",
    "y_n\n",
    "\\end{array}\\right)\n",
    "$$\n",
    "sendo $A^\\top$ a transposta da matriz de $A$.\n",
    "\n",
    "Suponha que os pontos $(x_i,y_i)$ são gerados pelo código:\n",
    "\n",
    "```python\n",
    "x = np.random.uniform(0,1,100)\n",
    "y = 1.0-x+np.random.uniform(-0.3,0.3,100)\n",
    "```\n",
    "\n",
    "a) Construa uma função que receba o array `x` como parâmtros e retorna a matriz `A` como definida acima.\n",
    "\n",
    "b)  Resolva o sistema linear $\\left(A^\\top A\\right)\\alpha = A^\\top b$ utilizando o métodos \"numpy.linalg.solve\" e imprima o resultado obtido (valores de $\\alpha_0$ e $\\alpha_1$ da reta)."
   ]
  },
  {
   "cell_type": "code",
   "execution_count": 24,
   "metadata": {},
   "outputs": [
    {
     "name": "stdout",
     "output_type": "stream",
     "text": [
      "[ 1.00144564 -0.9940121 ]\n"
     ]
    }
   ],
   "source": [
    "def gera_A(x):\n",
    "    n = x.shape[0]\n",
    "    A = np.ones((n,2))\n",
    "    A[:,1] = x\n",
    "    return(A)\n",
    "\n",
    "x = np.random.uniform(0,1,100)\n",
    "y = 1.0-x+np.random.uniform(-0.3,0.3,100)\n",
    "\n",
    "A = gera_A(x)\n",
    "AtA = np.dot(A.T,A)  # calcula o produto A transposta vezes A\n",
    "Atb = np.dot(A.T,y)  # calcula o produto A transposta vezes b \n",
    "alphas = np.linalg.solve(AtA,Atb)\n",
    "print(alphas)"
   ]
  },
  {
   "cell_type": "markdown",
   "metadata": {},
   "source": [
    "### Exercício 9)\n",
    "Utilizando os valores $\\alpha_0$ e $\\alpha_1$ calculados na questão anterior, faça um gráfico os pontos $(x_i,y_i)$ e da reta encontrada. O seu código deve produzir um gráfico semelhante ao apresentado abaixo: \n",
    "\n",
    "![IMAGEM](linefit.png)\n",
    "\n",
    "__Obs.__ A imagem \"linefit.png\" deve estar no mesmo diretório desse notebook.\n",
    "\n",
    "__Dica:__ Utilize o método <font color='blue'>scatter</font> do <font color='blue'>pyplot</font>"
   ]
  },
  {
   "cell_type": "code",
   "execution_count": 25,
   "metadata": {},
   "outputs": [
    {
     "data": {
      "text/plain": [
       "[<matplotlib.lines.Line2D at 0x118944518>]"
      ]
     },
     "execution_count": 25,
     "metadata": {},
     "output_type": "execute_result"
    },
    {
     "data": {
      "image/png": "[encoded data removed]",
      "text/plain": [
       "<Figure size 432x288 with 1 Axes>"
      ]
     },
     "metadata": {
      "needs_background": "light"
     },
     "output_type": "display_data"
    }
   ],
   "source": [
    "import matplotlib.pyplot as plt\n",
    "%matplotlib inline\n",
    "\n",
    "plt.scatter(x,y,marker='*')\n",
    "linex = np.array([0,1])\n",
    "liney = alphas[0]+alphas[1]*linex\n",
    "plt.plot(linex,liney,color='orange')"
   ]
  },
  {
   "cell_type": "markdown",
   "metadata": {},
   "source": [
    "### Exercício 10)\n",
    "Melhore o gráfico gerado no exercício anterior incorporando uma legenda e uma anotação na indicando a linha ajustada."
   ]
  },
  {
   "cell_type": "code",
   "execution_count": 33,
   "metadata": {},
   "outputs": [
    {
     "data": {
      "text/plain": [
       "Text(0.2, 0.2, 'Reta Ajustada')"
      ]
     },
     "execution_count": 33,
     "metadata": {},
     "output_type": "execute_result"
    },
    {
     "data": {
      "image/png": "[encoded data removed]",
      "text/plain": [
       "<Figure size 432x288 with 1 Axes>"
      ]
     },
     "metadata": {
      "needs_background": "light"
     },
     "output_type": "display_data"
    }
   ],
   "source": [
    "plt.scatter(x,y,marker='*',label=\"Pontos\")\n",
    "linex = np.array([0,1])\n",
    "liney = alphas[0]+alphas[1]*linex\n",
    "plt.plot(linex,liney,color='orange', label=\"Reta ajustada\")\n",
    "plt.legend()\n",
    "\n",
    "plt.annotate('Reta Ajustada', xy=(0.45,0.55), xytext=(0.2,0.2), # gera uma anotação\n",
    "             arrowprops=dict(facecolor='black'))"
   ]
  },
  {
   "cell_type": "markdown",
   "metadata": {},
   "source": [
    "## <font color=\"blue\">Numpy Parte II e Matplotlib - Avaliação</font>"
   ]
  },
  {
   "cell_type": "code",
   "execution_count": null,
   "metadata": {},
   "outputs": [],
   "source": [
    "import numpy as np\n",
    "import matplotlib.pyplot as plt"
   ]
  },
  {
   "cell_type": "markdown",
   "metadata": {},
   "source": [
    "### Exercício 1)\n",
    "Qual dos códigos abaixo utiliza corretamente broadcasting para somar o vetor `v` em cada **linha** da matriz `A`, sendo que `v` e `A` são definidos como:\n",
    "```python\n",
    "A = np.zeros((4,4))\n",
    "v = np.arange(4)\n",
    "```\n",
    "\n",
    "a) A[:]+v[:]<br>\n",
    "b) A + v<br>\n",
    "c) A = A + v.reshape(1,-1)<br>\n",
    "d) Todas as alternativas estão corretas"
   ]
  },
  {
   "cell_type": "code",
   "execution_count": null,
   "metadata": {},
   "outputs": [],
   "source": [
    "A = np.zeros((4,4))\n",
    "v = np.arange(4)\n"
   ]
  },
  {
   "cell_type": "markdown",
   "metadata": {},
   "source": [
    "### Exercício 2)\n",
    "Qual das alternativas explica corretamente como o array `W` está sendo calculado no código abaixo?\n",
    "```python\n",
    "u = np.random.randint(0,30,7)\n",
    "v = np.random.randint(0,30,10).reshape(10,1)\n",
    "\n",
    "W = v + u\n",
    "```\n",
    "\n",
    "a) O array `W` possui 10 elementos como resultado da soma dos arrays `u` e `v`, onde `u` é complementado com zeros durante o broadcasting.<br>\n",
    "b) O array `W` possui 7 elementos como resultado da soma dos arrays `u` e `v`, onde os três útlimos elementos de `v` são descartados no broadcasting.<br>\n",
    "c) O array `W` é uma matriz com 7 linhas e 10 colunas gerado a partir da soma das matriz obtidas do broadcasting do array `v` em 7 linhas e o array `u` em 10 linhas.<br>\n",
    "d) O array `W` é uma matriz com 10 linhas e 7 colunas gerado a partir da soma das matriz obtidas do broadcasting do array `v` em 7 colunas e do array `u` em 10 linhas.<br>"
   ]
  },
  {
   "cell_type": "code",
   "execution_count": null,
   "metadata": {},
   "outputs": [],
   "source": [
    "u = np.random.randint(0,30,7)\n",
    "v = np.random.randint(0,30,10).reshape(10,1)\n"
   ]
  },
  {
   "cell_type": "markdown",
   "metadata": {},
   "source": [
    "### Exercício 3)\n",
    "Considere a matriz abaixo. Utilizando redução por média, encontre o **índice da coluna** que possui a menor média dos elementos.\n",
    "```python\n",
    "A = np.array([[5, 2, 3, 6, 1, 5, 7, 7, 8, 9], [8, 8, 3, 5, 0, 1, 4, 8, 3, 7], \n",
    "              [8, 0, 0, 4, 2, 0, 2, 6, 0, 3], [5, 0, 0, 4, 4, 3, 5, 8, 0, 0], \n",
    "              [2, 4, 2, 5, 3, 4, 9, 8, 0, 0], [6, 7, 4, 8, 5, 1, 3, 5, 4, 1], \n",
    "              [6, 8, 0, 5, 2, 9, 3, 6, 1, 6], [5, 5, 2, 9, 0, 5, 5, 8, 2, 4], \n",
    "              [8, 8, 1, 8, 4, 1, 8, 9, 7, 6], [5, 6, 0, 9, 0, 4, 9, 0, 2, 0]])\n",
    "```\n",
    "a) coluna de índice 2<br>\n",
    "b) coluna de índice 0<br>\n",
    "c) coluna de índice 5<br>\n",
    "d) coluna de índice 9"
   ]
  },
  {
   "cell_type": "code",
   "execution_count": null,
   "metadata": {},
   "outputs": [],
   "source": [
    "A = np.array([[5, 2, 3, 6, 1, 5, 7, 7, 8, 9], [8, 8, 3, 5, 0, 1, 4, 8, 3, 7], \n",
    "              [8, 0, 0, 4, 2, 0, 2, 6, 0, 3], [5, 0, 0, 4, 4, 3, 5, 8, 0, 0], \n",
    "              [2, 4, 2, 5, 3, 4, 9, 8, 0, 0], [6, 7, 4, 8, 5, 1, 3, 5, 4, 1], \n",
    "              [6, 8, 0, 5, 2, 9, 3, 6, 1, 6], [5, 5, 2, 9, 0, 5, 5, 8, 2, 4], \n",
    "              [8, 8, 1, 8, 4, 1, 8, 9, 7, 6], [5, 6, 0, 9, 0, 4, 9, 0, 2, 0]])\n"
   ]
  },
  {
   "cell_type": "markdown",
   "metadata": {},
   "source": [
    "### Exercício 4) \n",
    "Considerando a matriz `A` do exercício anterior, qual o **índice da linha** que possui a menor soma de valores?\n",
    "\n",
    "a) linha 8<br>\n",
    "b) linha 2<br>\n",
    "c) linha 3<br>\n",
    "d) linha 9"
   ]
  },
  {
   "cell_type": "code",
   "execution_count": null,
   "metadata": {},
   "outputs": [],
   "source": [
    "# Solucao"
   ]
  },
  {
   "cell_type": "markdown",
   "metadata": {},
   "source": [
    "### Exercício 5)\n",
    "Suponha que a variável `A` no código abaixo é uma matriz com $n$ linhas e $m$ colunas. O que o código está realizando?\n",
    "```python\n",
    "Aargs = np.argsort(A)\n",
    "A[np.arange(A.shape[0]),Aargs[:,-1]] = -1\n",
    "```\n",
    "a) Substituindo o maior valor de cada coluna por -1<br>\n",
    "b) Substituindo o maior valor de cada linha por -1<br>\n",
    "c) Substituindo o menor valor de cada linha por -1<br>\n",
    "d) Substituindo o menor valor de cada coluna por -1"
   ]
  },
  {
   "cell_type": "code",
   "execution_count": null,
   "metadata": {},
   "outputs": [],
   "source": [
    "Aargs = np.argsort(A)\n",
    "A[np.arange(A.shape[0]),Aargs[:,-1]] = -1"
   ]
  },
  {
   "cell_type": "markdown",
   "metadata": {
    "id": "THAV2r_aFY6t"
   },
   "source": [
    "## <font color=blue>Pandas Parte I</font>"
   ]
  },
  {
   "cell_type": "markdown",
   "metadata": {
    "id": "GSejz044FY6z"
   },
   "source": [
    "__Conteúdo:__\n",
    "\n",
    "- Pandas - Part I:\n",
    "  - Séries\n",
    "  - DataFrame\n",
    "- I/O com Pandas\n",
    "  \n",
    "__Referencias:__\n",
    "\n",
    "[Introduction to Pandas](https://www.ritchieng.com/pandas-introduction/)"
   ]
  },
  {
   "cell_type": "markdown",
   "metadata": {
    "id": "9C8r8s6QFY6z"
   },
   "source": [
    "---\n",
    "## Pandas - Parte I"
   ]
  },
  {
   "cell_type": "markdown",
   "metadata": {
    "id": "9H14tUosFY6z"
   },
   "source": [
    "<font color='blue'>Pandas</font> é um pacote python construído com base no <font color='blue'>numpy</font> e <font color='blue'>matplotlib</font> que busca organizar dados no formato de tabela, atribuindo rótulos às linhas e colunas. O pacote <font color='blue'>pandas</font> fornece ainda um conjunto de funcionalidades que premite processar as informações de tabelas de forma bastante eficiente, implementando métodos fundamentais para fins de tratamento de dados.\n",
    "\n",
    "O <font color='blue'>pandas</font> organiza os dados em três tipos de estruturas:\n",
    "- Series (Séries)\n",
    "- DataFrame\n",
    "- Panel (Paineis não serão abordados neste curso)"
   ]
  },
  {
   "cell_type": "markdown",
   "metadata": {
    "id": "51hmIbMGFY60"
   },
   "source": [
    "### <font color='blue'>Series</font>\n",
    "A estrutura de representação tipo <font color='blue'>series</font> do <font color='blue'>pandas</font> é semelhante a um array unidimensional, porém os elementos podem ser indexados por números inteiros (como em um array do <font color='blue'>numpy</font>) ou por meio de rótulos (labels) que não precisam ser únicos e podem ser organizados de forma hierárquica.\n",
    "- Quando os índices ou rótulos não são informados explicitamente, <font color='blue'>pandas</font> cria uma indexação com números inteiros automaticamente, variando os índices de $0$ (zero) a $n-1$, onde $n$ é o número de elementos na série.\n",
    "- Os rótulos são usados para realizar buscas rápidas, alinhamento de dados e operações de junção de dados."
   ]
  },
  {
   "cell_type": "markdown",
   "metadata": {
    "id": "2TJsYYFNFY60"
   },
   "source": [
    "#### Criando séries com <font color='blue'>pandas</font>\n",
    "Séries podem ser criadas no <font color='blue'>pandas</font> de diferentes formas, a partir de:\n",
    "- listas\n",
    "- arrays\n",
    "- dicionários\n",
    "- DataFrames"
   ]
  },
  {
   "cell_type": "code",
   "execution_count": null,
   "metadata": {
    "id": "16lukQjKFY61"
   },
   "outputs": [],
   "source": [
    "import pandas as pd"
   ]
  },
  {
   "cell_type": "markdown",
   "metadata": {
    "id": "-_TjTSbrGccG"
   },
   "source": [
    "**Criando Séries a partir de listas**"
   ]
  },
  {
   "cell_type": "code",
   "execution_count": null,
   "metadata": {
    "id": "Q9rQb3qoFY61",
    "outputId": "9e7146be-a635-4b36-c7ad-b1e6cde899ba"
   },
   "outputs": [
    {
     "name": "stdout",
     "output_type": "stream",
     "text": [
      "0    a\n",
      "1    b\n",
      "2    c\n",
      "3    d\n",
      "4    e\n",
      "dtype: object\n"
     ]
    }
   ],
   "source": [
    "# Criando uma série a partir de uma lista. Neste caso os índices (ou rótulos) não são fornecidos,\n",
    "# então o pandas cria os índices automaticamente\n",
    "\n",
    "lst = ['a','b','c','d','e']\n",
    "series = pd.Series(lst)\n",
    "print(series)"
   ]
  },
  {
   "cell_type": "code",
   "execution_count": null,
   "metadata": {
    "id": "mNERCegEFY62",
    "outputId": "f3f03aa2-6f5f-49c8-8d73-4911c463b367"
   },
   "outputs": [
    {
     "name": "stdout",
     "output_type": "stream",
     "text": [
      "id0    a\n",
      "id1    b\n",
      "id2    c\n",
      "id3    d\n",
      "id4    e\n",
      "dtype: object\n"
     ]
    }
   ],
   "source": [
    "# indices pondem ser informados utilizando o parâmetro index\n",
    "\n",
    "lst = ['a','b','c','d','e']\n",
    "indices = ['id'+str(i) for i in range(len(lst))]  # criando rótulos no formato id0, id1, etc..\n",
    "series = pd.Series(lst,index=indices)\n",
    "print(series)"
   ]
  },
  {
   "cell_type": "markdown",
   "metadata": {
    "id": "59sEsobeGk1A"
   },
   "source": [
    "**Criando Séries a partir de dicionários**"
   ]
  },
  {
   "cell_type": "code",
   "execution_count": null,
   "metadata": {
    "id": "OFWon897FY62",
    "outputId": "fa6231e1-d98e-4515-9a80-102ff2252e51"
   },
   "outputs": [
    {
     "name": "stdout",
     "output_type": "stream",
     "text": [
      "A    50\n",
      "B    10\n",
      "C    80\n",
      "D    33\n",
      "dtype: int64\n"
     ]
    }
   ],
   "source": [
    "# Criando uma série a partir de um dicionário. As chaves do dicionário se tornam os rótulos e\n",
    "# os valores os elementos da série\n",
    "\n",
    "dct = {'A' : 50, 'B' : 10, 'C' : 80, 'D' : 33} \n",
    "series = pd.Series(dct)\n",
    "print(series)"
   ]
  },
  {
   "cell_type": "markdown",
   "metadata": {
    "id": "ZJ1X2oJWFY63"
   },
   "source": [
    "#### Acessando os elementos de uma série\n",
    "Os elementos de uma série podem ser acessados:\n",
    "- informando o índice (ou rótulo) dos elementos desejados (pode ser uma lista)\n",
    "- via fatiamente (slicing) semelhante ao <font color='blue'>numpy</font> array\n",
    "  - o fatiamento pode ser feito utilizando os índices como números inteiros ou os rótulos\n",
    "  - **CUIDADO:** quando o slicing é feito com rótulos, o último elemento é retornado na subsérie\n",
    "- via máscara booleana"
   ]
  },
  {
   "cell_type": "code",
   "execution_count": null,
   "metadata": {
    "colab": {
     "base_uri": "https://localhost:8080/"
    },
    "executionInfo": {
     "elapsed": 757,
     "status": "ok",
     "timestamp": 1614607509931,
     "user": {
      "displayName": "Luis Gustavo Nonato",
      "photoUrl": "",
      "userId": "16109025348268293164"
     },
     "user_tz": 180
    },
    "id": "-n_5GbUjFY63",
    "outputId": "1d27d792-4666-43dc-8750-322b76eb1b75"
   },
   "outputs": [
    {
     "name": "stdout",
     "output_type": "stream",
     "text": [
      "Elemento \"A\":  50\n",
      "Elementos \"C\" e \"D\":\n",
      " C    80\n",
      "D    33\n",
      "dtype: int64\n"
     ]
    }
   ],
   "source": [
    "# Criando uma série a partir de um dicionário.\n",
    "dct = {'A' : 50, 'B' : 10, 'C' : 80, 'D' : 33} \n",
    "series = pd.Series(dct)\n",
    "\n",
    "print('Elemento \"A\": ',series['A']) # acessando o elemento com rótulo 'A'\n",
    "print('Elementos \"C\" e \"D\":\\n',series[['C','D']]) # acessando elementos com rótulo 'C','D' a partir de lista de rótulos\n",
    "                                                  # quando se utiliza uma lista de rótulos, uma subsérie é retornada\n",
    "                                                  # e não somente os valores"
   ]
  },
  {
   "cell_type": "code",
   "execution_count": null,
   "metadata": {
    "id": "Qn5a5KZIFY63",
    "outputId": "1c56ab9c-8ec7-4c19-ec84-eb2f59da1f0d"
   },
   "outputs": [
    {
     "name": "stdout",
     "output_type": "stream",
     "text": [
      "Elemento de indice 0:  50\n",
      "Elementos com indice entre 0 e 2:\n",
      " A    50\n",
      "B    10\n",
      "C    80\n",
      "dtype: int64\n",
      "Elementos com rótulo entre \"B\" e \"D\":\n",
      " B    10\n",
      "C    80\n",
      "D    33\n",
      "dtype: int64\n"
     ]
    }
   ],
   "source": [
    "# fatiamento (slicing) com índices e rótulos (ambos podem ser utilizados)\n",
    "\n",
    "print('Elemento de indice 0: ',series[0])    # retornando o elemento de índice 0\n",
    "\n",
    "print('Elementos com indice entre 0 e 2:\\n',series[0:3])  # slicing dos elementos com \n",
    "                                                    # índice 0 entre 2 (uma subsérie é retornada)\n",
    "\n",
    "print('Elementos com rótulo entre \"B\" e \"D\":\\n',series['B':'D']) \n",
    "                                            # slicing com rótulos (uma subsérie é retornada)\n",
    "                                            \n",
    "# CUIDADO: quando o slicing é feito com rótulos, o último elemento é retornado na subsérie"
   ]
  },
  {
   "cell_type": "code",
   "execution_count": null,
   "metadata": {
    "id": "IsQSnD0iFY64",
    "outputId": "7a69fc84-b3f0-4f6e-f413-5352d2182ffc"
   },
   "outputs": [
    {
     "name": "stdout",
     "output_type": "stream",
     "text": [
      "A    50\n",
      "B    10\n",
      "C    80\n",
      "D    33\n",
      "dtype: int64\n",
      "A     True\n",
      "B    False\n",
      "C     True\n",
      "D     True\n",
      "dtype: bool\n",
      "A    50\n",
      "C    80\n",
      "D    33\n",
      "dtype: int64\n"
     ]
    }
   ],
   "source": [
    "# máscaras booleanas podem ser utilizadas para recuperar elementos da série que correspondem ao valor True da máscara\n",
    "\n",
    "mask = (series>=30)\n",
    "print(series)\n",
    "print(mask)\n",
    "print(series[mask])"
   ]
  },
  {
   "cell_type": "markdown",
   "metadata": {
    "id": "WFOrg8z9FY64"
   },
   "source": [
    "#### Reindexação\n",
    "O método <font color='blue'>reindex</font> permite reindexar a série (modifica a ordem dos elementos). \n",
    "- Caso um novo rótulo que não esteja presente na série original seja fornecido para o comando <font color='blue'>reindex</font>, um valor `NaN` (significa que o dado está faltando) é utilizado como valor para o novo rótulo."
   ]
  },
  {
   "cell_type": "code",
   "execution_count": null,
   "metadata": {
    "colab": {
     "base_uri": "https://localhost:8080/"
    },
    "executionInfo": {
     "elapsed": 914,
     "status": "ok",
     "timestamp": 1614607943106,
     "user": {
      "displayName": "Luis Gustavo Nonato",
      "photoUrl": "",
      "userId": "16109025348268293164"
     },
     "user_tz": 180
    },
    "id": "GUbUHQd8FY64",
    "outputId": "557a5634-6182-4519-ee2d-75df90a69745"
   },
   "outputs": [
    {
     "name": "stdout",
     "output_type": "stream",
     "text": [
      "série original\n",
      "0    0\n",
      "1    1\n",
      "3    2\n",
      "dtype: int64\n",
      "\n",
      "reindexado\n",
      "4    NaN\n",
      "3    2.0\n",
      "2    NaN\n",
      "1    1.0\n",
      "0    0.0\n",
      "dtype: float64\n"
     ]
    }
   ],
   "source": [
    "import numpy as np\n",
    "\n",
    "indice=[0,1,3] # rótulos para serem utilizados na série\n",
    "valores = np.arange(3)\n",
    "s = pd.Series(valores,index=indice) # cria uma série a partir de um array com rótulos 0, 1 e 3\n",
    "print('série original')\n",
    "print(s)\n",
    "\n",
    "print('\\nreindexado')   \n",
    "s_nan = s.reindex([4,3,2,1,0])  # gera uma nova ordem para os elementos. Note que os rótulos 4 e 2\n",
    "                                # não estavam presentes na série original. 'NaN' é atribuido como valores \n",
    "                                # associados aos novos rótulos \n",
    "                                # ATENÇÃO: uma nova série é gerada, a original não é afetada\n",
    "print(s_nan)\n"
   ]
  },
  {
   "cell_type": "markdown",
   "metadata": {
    "id": "w2ExTHz3FY65"
   },
   "source": [
    "#### Tratando valores faltantes"
   ]
  },
  {
   "cell_type": "markdown",
   "metadata": {
    "id": "VoGV7dVuFY65"
   },
   "source": [
    "Valores faltantes em uma série podem ser identificados através do método <font color='blue'>isna</font>, \n",
    "o qual gera uma máscara booleana."
   ]
  },
  {
   "cell_type": "code",
   "execution_count": null,
   "metadata": {
    "colab": {
     "base_uri": "https://localhost:8080/"
    },
    "executionInfo": {
     "elapsed": 1255,
     "status": "ok",
     "timestamp": 1614607951207,
     "user": {
      "displayName": "Luis Gustavo Nonato",
      "photoUrl": "",
      "userId": "16109025348268293164"
     },
     "user_tz": 180
    },
    "id": "nMh_VtnRFY65",
    "outputId": "c2c0e5bf-963c-44eb-cb6b-0e95559a08c2"
   },
   "outputs": [
    {
     "name": "stdout",
     "output_type": "stream",
     "text": [
      "4    NaN\n",
      "3    2.0\n",
      "2    NaN\n",
      "1    1.0\n",
      "0    0.0\n",
      "dtype: float64\n",
      "4     True\n",
      "3    False\n",
      "2     True\n",
      "1    False\n",
      "0    False\n",
      "dtype: bool\n",
      "4   -1.0\n",
      "3    2.0\n",
      "2   -1.0\n",
      "1    1.0\n",
      "0    0.0\n",
      "dtype: float64\n"
     ]
    }
   ],
   "source": [
    "s_nan = s.reindex([4,3,2,1,0]) # reindexação insere valores faltantes na série\n",
    "print(s_nan)\n",
    "\n",
    "s_mask_nan = pd.isna(s_nan)    # identifica os valores faltantes\n",
    "print(s_mask_nan)\n",
    "\n",
    "s_nan[s_mask_nan] = -1     # substitui os valores faltantes por -1\n",
    "print(s_nan)"
   ]
  },
  {
   "cell_type": "markdown",
   "metadata": {
    "id": "1ExIERJKFY65"
   },
   "source": [
    "Valores faltantes no processo de reindexação (`NaN`) podem ser preenchidos atribuindo um valor por meio do parâmetro `fill_value`."
   ]
  },
  {
   "cell_type": "code",
   "execution_count": null,
   "metadata": {
    "id": "LoWo4q_7FY66",
    "outputId": "588d10b9-742c-46b6-9c13-2601fde97639"
   },
   "outputs": [
    {
     "name": "stdout",
     "output_type": "stream",
     "text": [
      "4   -1\n",
      "3    2\n",
      "2   -1\n",
      "1    1\n",
      "0    0\n",
      "dtype: int64\n"
     ]
    }
   ],
   "source": [
    "# reindexado e tratando valores faltantes\n",
    "s_fvalue = s.reindex([4,3,2,1,0], fill_value=-1)  # valores faltantes são substituídos por -1\n",
    "print(s_fvalue)"
   ]
  },
  {
   "cell_type": "markdown",
   "metadata": {
    "id": "mQT3iYlhFY66"
   },
   "source": [
    "#### Operações aritméticas com séries \n",
    "Operações aritméticas entre séries são realizadas de acordo com os rótulos, ou seja, quando os rótulos nas duas séries envolvidas na operação são iguais, a operação é realizada, caso contrário um valor `NaN` é gerado."
   ]
  },
  {
   "cell_type": "code",
   "execution_count": null,
   "metadata": {
    "id": "tSChNW-aFY66",
    "outputId": "0b8a20ae-e027-489c-fc74-b221fe74dba9"
   },
   "outputs": [
    {
     "name": "stdout",
     "output_type": "stream",
     "text": [
      "s1\n",
      " id3    3\n",
      "id8    8\n",
      "id0    0\n",
      "id4    4\n",
      "id5    5\n",
      "dtype: int64\n",
      "s2\n",
      " id3    3\n",
      "id9    9\n",
      "id8    8\n",
      "id5    5\n",
      "dtype: int64\n",
      "id0     NaN\n",
      "id3     6.0\n",
      "id4     NaN\n",
      "id5    10.0\n",
      "id8    16.0\n",
      "id9     NaN\n",
      "dtype: float64\n"
     ]
    }
   ],
   "source": [
    "values_s1 = [3,8,0,4,5]       # criando os valores da série s1\n",
    "index_s1 = ['id'+str(i) for i in values_s1]  # criando os rótulos da série s1\n",
    "s1 = pd.Series(values_s1, index=index_s1)   # criando a série s1\n",
    "\n",
    "values_s2 = [3,9,8,5]         # criando os valores da série s2\n",
    "index_s2 = ['id'+str(i) for i in values_s2]  # criando os rótulos da série s2\n",
    "s2 = pd.Series(values_s2, index=index_s2)   # criando a série s2\n",
    "\n",
    "print('s1\\n',s1) \n",
    "print('s2\\n',s2) \n",
    "print(s1+s2)     # apenas os valores dos rótulos que são iguais nas \n",
    "                 # séries s1 e s2 são somados\n",
    "\n",
    "# Note que apenas os valores cujos rótulos aparecem nas duas séries são somados\n",
    "# se o rótulo aparece em apenas uma série um valor NaN é inserido\n",
    "# No exemplo acima, id0 e id4 aparecem apenas na série s1\n",
    "# id9 aparece apenas na série s2                 "
   ]
  },
  {
   "cell_type": "markdown",
   "metadata": {
    "id": "0oXRILrmFY66"
   },
   "source": [
    "#### Ordenação dos elementos de uma série\n",
    "O <font color='blue'>pandas</font> possui métodos para ordenar uma série pelos seus valores ou rótulos: \n",
    "- <font color='blue'>sort_index</font> ordena pelos rótulos\n",
    "- <font color='blue'>sort_values</font> ordena pelos valores"
   ]
  },
  {
   "cell_type": "code",
   "execution_count": null,
   "metadata": {
    "id": "vTXH2EltFY67",
    "outputId": "b191da79-ab4c-4b41-a664-2ab92ed48adb"
   },
   "outputs": [
    {
     "name": "stdout",
     "output_type": "stream",
     "text": [
      "d    9\n",
      "a    9\n",
      "b    6\n",
      "c    2\n",
      "dtype: int64\n",
      "a    9\n",
      "b    6\n",
      "c    2\n",
      "d    9\n",
      "dtype: int64\n",
      "c    2\n",
      "b    6\n",
      "d    9\n",
      "a    9\n",
      "dtype: int64\n"
     ]
    }
   ],
   "source": [
    "r = pd.Series(np.random.randint(0,10,4), index=['d','a','b','c']) # gerando a série com 4 valores inteiros gerados de forma randômica\n",
    "                                                                  # cujos rótulos são ['d','a','b','c']\n",
    "print(r)\n",
    "\n",
    "print(r.sort_index())  # ordena pelos rótulos retornando uma nova série ordenada (a série original não é modificada)\n",
    "\n",
    "print(r.sort_values()) # ordena pelos valores retornando uma nova série ordenada (a série original não é modificada)"
   ]
  },
  {
   "cell_type": "markdown",
   "metadata": {
    "id": "a4MAzj9xFY67"
   },
   "source": [
    "#### Rótulos repetidos\n",
    "Séries podem possuir rótulos repetidos, o que facilita recuperar partes da série de forma simples. "
   ]
  },
  {
   "cell_type": "code",
   "execution_count": null,
   "metadata": {
    "id": "w8zKHMWbFY67",
    "outputId": "7141ab1f-87bd-4f8e-aed3-160a3298e286"
   },
   "outputs": [
    {
     "name": "stdout",
     "output_type": "stream",
     "text": [
      "a    0\n",
      "b    1\n",
      "a    2\n",
      "b    3\n",
      "c    4\n",
      "d    5\n",
      "a    6\n",
      "dtype: int64\n",
      "Recuperando subserie de rótulos \"a\":\n",
      "a    0\n",
      "a    2\n",
      "a    6\n",
      "dtype: int64\n",
      "Recuperando subserie de rótulos \"b\":\n",
      "b    1\n",
      "b    3\n",
      "dtype: int64\n"
     ]
    }
   ],
   "source": [
    "s = pd.Series(range(7), index=list('ababcda'))  # gerando uma série com valores de 0 a 6 com rótulos dados por ['a','b','a','b','c','d','a']\n",
    "print(s)\n",
    "\n",
    "print('Recuperando subserie de rótulos \"a\":')\n",
    "print(s['a']) # recuperando a subsérie dos rótulos 'a'\n",
    "print('Recuperando subserie de rótulos \"b\":')\n",
    "print(s['b']) # recuperando a subsérie dos rótulos 'b'"
   ]
  },
  {
   "cell_type": "markdown",
   "metadata": {
    "id": "KEaHrW1IFY67"
   },
   "source": [
    "#### Outros métodos\n",
    "Existem muitos métodos implementados para operar sobre os valores. Alguns exemplos são:\n",
    "- <font color='blue'>unique</font> -      recupera os valores únicos da série\n",
    "- <font color='blue'>value_counts</font> - conta o número de ocorrências de cada valor\n",
    "- <font color='blue'>isin</font> -        verifica onde os valores indicados aparecem na série\n",
    "- ...(muito mais)"
   ]
  },
  {
   "cell_type": "code",
   "execution_count": null,
   "metadata": {
    "id": "2DlRyusEFY68",
    "outputId": "05269560-c8d7-4191-8e7f-5304a66d5a0f"
   },
   "outputs": [
    {
     "name": "stdout",
     "output_type": "stream",
     "text": [
      "Valores únicos da série:\n",
      "\n",
      " ['c' 'a' 'd' 'b']\n",
      "\n",
      "Contagem do número de ocorrências de cada valor:\n",
      "\n",
      " a    3\n",
      "c    3\n",
      "b    2\n",
      "d    1\n",
      "dtype: int64\n",
      "\n",
      "Verifica onde os valores ocorrem na série:\n",
      "\n",
      " 0    False\n",
      "1    False\n",
      "2     True\n",
      "3    False\n",
      "4    False\n",
      "5     True\n",
      "6     True\n",
      "7    False\n",
      "8    False\n",
      "dtype: bool\n"
     ]
    }
   ],
   "source": [
    "s = pd.Series(['c','a','d','a','a','b','b','c','c']) # rótulos gerados automaticamente \n",
    "\n",
    "print('Valores únicos da série:\\n\\n',s.unique())\n",
    "print('\\nContagem do número de ocorrências de cada valor:\\n\\n',s.value_counts()) # retorna uma nova série cujo rótulo é o elemento e o \n",
    "                                                                                 # valor o número de vezes que o elemento aparece na série\n",
    "\n",
    "print('\\nVerifica onde os valores ocorrem na série:\\n\\n',s.isin(['b','d'])) # retorna uma série máscara booleana com True na posição onde o valor ocorre"
   ]
  },
  {
   "cell_type": "markdown",
   "metadata": {
    "id": "hGft8uHbFY68"
   },
   "source": [
    "### <font color='blue'>DataFrames</font>\n",
    "<font color='blue'>DataFrame</font> é uma estrutura de dados do <font color='blue'>pandas</font> semelhante a uma planilha (como uma planilha excel). Em um <font color='blue'>DataFrame</font> tanto as linhas como as colunas são indexadas por rótulos. "
   ]
  },
  {
   "cell_type": "markdown",
   "metadata": {
    "id": "-LQ-mE-fFY68"
   },
   "source": [
    "Dataframes podem ser criados de muitas maneiras diferentes:\n",
    "- __2-D NumPy array:__ Uma matriz de dados, podendo especificar os rótulos de linhas e colunas\n",
    "- __Dicionário de arrays, listas, ou tuplas:__ Cada sequência se torna uma coluna. As sequências devem ter o mesmo número de elementos\n",
    "- __Dicionário de séries:__ Cada séries se torna uma coluna. Os rótulos de cada séries são unidos para formar os rótulos das linhas\n",
    "- __Dicionário de dicionário:__ Cada dicionário se torna uma coluna. Chaves dos dicionários se unem para formar os rótulos das linhas\n",
    "- __Lista de dicionários ou séries:__ Cada elemento da lista se torna uma linha no DataFrame. A união das chaves (para dicionário) ou rótulos (para séries) gera os rótulos das colunas\n",
    "- __Lista de listas or tuplas:__ Similar a uma matriz do numpy\n",
    "- __DataFrame:__ O índice do DataFrame é mantido a não ser que um novo seja fornecido "
   ]
  },
  {
   "cell_type": "code",
   "execution_count": null,
   "metadata": {
    "colab": {
     "base_uri": "https://localhost:8080/"
    },
    "executionInfo": {
     "elapsed": 1484,
     "status": "ok",
     "timestamp": 1614609252153,
     "user": {
      "displayName": "Luis Gustavo Nonato",
      "photoUrl": "",
      "userId": "16109025348268293164"
     },
     "user_tz": 180
    },
    "id": "E55WCrbVFY69",
    "outputId": "03609372-4c80-455b-e70e-0acc438da230"
   },
   "outputs": [
    {
     "name": "stdout",
     "output_type": "stream",
     "text": [
      "  state  year   pop\n",
      "0    FL  2010  18.8\n",
      "1    FL  2011  19.1\n",
      "2    GA  2008   9.7\n",
      "3    GA  2010   9.7\n",
      "4    GA  2011   9.8\n",
      "5    FL  2013   7.1\n",
      "6    FL  2009   8.3\n"
     ]
    }
   ],
   "source": [
    "# Criando um DataFrame a partir de um dicionário de listas\n",
    "# as chave se tornam os rótulos das colunas \n",
    "# as listas devem possuir o mesmo número de elementos\n",
    "d = {'state' : ['FL', 'FL', 'GA', 'GA', 'GA','FL','FL'],    \n",
    "     'year' :  [2010, 2011, 2008, 2010, 2011, 2013, 2009],    \n",
    "     'pop' :   [18.8, 19.1, 9.7, 9.7, 9.8, 7.1, 8.3]}\n",
    "\n",
    "df_d = pd.DataFrame(d)  # como os rótulos das linhas não foram especificados, pandas os gera automaticamente\n",
    "print(df_d)"
   ]
  },
  {
   "cell_type": "markdown",
   "metadata": {
    "id": "T2XkXAFuFY69"
   },
   "source": [
    "**Atenção:** Dois métodos são muito úteis para analisar rapidamente um DataFrame: <font color='blue'>head</font> e <font color='blue'>dtypes</font>\n",
    "- <font color='blue'>head</font> - mostra as 5 primeiras linhas do DataFrame.\n",
    "- <font color='blue'>dtypes</font> - mostra o tipo de dado em cada coluna"
   ]
  },
  {
   "cell_type": "code",
   "execution_count": null,
   "metadata": {
    "id": "4vpSpZh7FY69",
    "outputId": "ae7fd3ca-7a79-4eaa-8abb-a2186d2db47e"
   },
   "outputs": [
    {
     "data": {
      "text/html": [
       "<div>\n",
       "<style scoped>\n",
       "    .dataframe tbody tr th:only-of-type {\n",
       "        vertical-align: middle;\n",
       "    }\n",
       "\n",
       "    .dataframe tbody tr th {\n",
       "        vertical-align: top;\n",
       "    }\n",
       "\n",
       "    .dataframe thead th {\n",
       "        text-align: right;\n",
       "    }\n",
       "</style>\n",
       "<table border=\"1\" class=\"dataframe\">\n",
       "  <thead>\n",
       "    <tr style=\"text-align: right;\">\n",
       "      <th></th>\n",
       "      <th>state</th>\n",
       "      <th>year</th>\n",
       "      <th>pop</th>\n",
       "    </tr>\n",
       "  </thead>\n",
       "  <tbody>\n",
       "    <tr>\n",
       "      <td>0</td>\n",
       "      <td>FL</td>\n",
       "      <td>2010</td>\n",
       "      <td>18.8</td>\n",
       "    </tr>\n",
       "    <tr>\n",
       "      <td>1</td>\n",
       "      <td>FL</td>\n",
       "      <td>2011</td>\n",
       "      <td>19.1</td>\n",
       "    </tr>\n",
       "    <tr>\n",
       "      <td>2</td>\n",
       "      <td>GA</td>\n",
       "      <td>2008</td>\n",
       "      <td>9.7</td>\n",
       "    </tr>\n",
       "    <tr>\n",
       "      <td>3</td>\n",
       "      <td>GA</td>\n",
       "      <td>2010</td>\n",
       "      <td>9.7</td>\n",
       "    </tr>\n",
       "    <tr>\n",
       "      <td>4</td>\n",
       "      <td>GA</td>\n",
       "      <td>2011</td>\n",
       "      <td>9.8</td>\n",
       "    </tr>\n",
       "  </tbody>\n",
       "</table>\n",
       "</div>"
      ],
      "text/plain": [
       "  state  year   pop\n",
       "0    FL  2010  18.8\n",
       "1    FL  2011  19.1\n",
       "2    GA  2008   9.7\n",
       "3    GA  2010   9.7\n",
       "4    GA  2011   9.8"
      ]
     },
     "execution_count": 26,
     "metadata": {
      "tags": []
     },
     "output_type": "execute_result"
    }
   ],
   "source": [
    "df_d.head() # mostra as 5 primeiras linhas do DataFrame."
   ]
  },
  {
   "cell_type": "code",
   "execution_count": null,
   "metadata": {
    "id": "bdp4mL81FY6-",
    "outputId": "f6a2efcc-4b5d-4617-e9da-418a87bc5ed7"
   },
   "outputs": [
    {
     "data": {
      "text/plain": [
       "state     object\n",
       "year       int64\n",
       "pop      float64\n",
       "dtype: object"
      ]
     },
     "execution_count": 27,
     "metadata": {
      "tags": []
     },
     "output_type": "execute_result"
    }
   ],
   "source": [
    "df_d.dtypes # mostra o tipo de dado de cada coluna"
   ]
  },
  {
   "cell_type": "code",
   "execution_count": null,
   "metadata": {
    "id": "dj0OidZKFY6-",
    "outputId": "c9169e47-c947-4554-9011-0d08b1dcdde1"
   },
   "outputs": [
    {
     "name": "stdout",
     "output_type": "stream",
     "text": [
      "        FL   GA\n",
      "2008   NaN  9.7\n",
      "2010  18.1  9.7\n",
      "2011  19.1  9.8\n"
     ]
    }
   ],
   "source": [
    "# Criando um dataframe a partir de um dicionário de dicionários\n",
    "dod = {'FL' : {2010:18.1, 2011:19.1},            # as chaves do \"primeiro\" dicionário se tornam os rótulos das colunas\n",
    "       'GA' : {2008: 9.7, 2010: 9.7, 2011:9.8}}  # as chaves dos dicionários internos (valores do primeiro dicionário)\n",
    "                                                 # se tornam os rótulos das linhas\n",
    "\n",
    "df_dod = pd.DataFrame(dod)   # criando o DataFrame\n",
    "\n",
    "print(df_dod)                  # quando um valor não aparece como chave de um dicionário interno, 'NaN' é inserido\n",
    "                               # como valor"
   ]
  },
  {
   "cell_type": "markdown",
   "metadata": {
    "id": "4_FnNQo1FY6-"
   },
   "source": [
    "#### **Manipulando e Acessando Colunas**\n",
    "Colunas podem ser acessadas:\n",
    "  - via seus rótulos dentro de colchetes [ ]\n",
    "  - utilizando rótulo como atributo (não recomendado acessar desta forma, pois existem restrições)\n",
    "  - via lista de rótulos dentro de colchetes [ ] (acessa várias colunas)"
   ]
  },
  {
   "cell_type": "code",
   "execution_count": null,
   "metadata": {
    "colab": {
     "base_uri": "https://localhost:8080/"
    },
    "executionInfo": {
     "elapsed": 808,
     "status": "ok",
     "timestamp": 1614609482584,
     "user": {
      "displayName": "Luis Gustavo Nonato",
      "photoUrl": "",
      "userId": "16109025348268293164"
     },
     "user_tz": 180
    },
    "id": "g_4d3KQUFY6-",
    "outputId": "0b18d530-c126-446e-e9ad-7708aa162bee"
   },
   "outputs": [
    {
     "name": "stdout",
     "output_type": "stream",
     "text": [
      "Rótulos das colunas: ['state' 'year' 'pop']\n",
      "-----\n",
      "Coluna \"pop\":\n",
      " 0    18.8\n",
      "1    19.1\n",
      "2     9.7\n",
      "3     9.7\n",
      "4     9.8\n",
      "Name: pop, dtype: float64\n",
      "-----\n",
      "Coluna \"year\":\n",
      " 0    2010\n",
      "1    2011\n",
      "2    2008\n",
      "3    2010\n",
      "4    2011\n",
      "Name: year, dtype: int64\n",
      "-----\n",
      "Coluna \"pop\" e \"year\":\n",
      "     pop  year\n",
      "0  18.8  2010\n",
      "1  19.1  2011\n",
      "2   9.7  2008\n",
      "3   9.7  2010\n",
      "4   9.8  2011\n"
     ]
    }
   ],
   "source": [
    "d = {'state' : ['FL', 'FL', 'GA', 'GA', 'GA'],    # dicionário de listas\n",
    "     'year' :  [2010, 2011, 2008, 2010, 2011],    \n",
    "     'pop' :   [18.8, 19.1, 9.7, 9.7, 9.8]}\n",
    "\n",
    "df_d = pd.DataFrame(d)   # construindo o DataFrame a partir do dicionário de listas\n",
    "\n",
    "print('Rótulos das colunas:',df_d.columns.values)  # imprime o nome das colunas\n",
    "print(5*'-')\n",
    "print('Coluna \"pop\":\\n',df_d['pop'])   # acessando a coluna 'pop' (o resultado é uma série)\n",
    "print(5*'-')\n",
    "print('Coluna \"year\":\\n',df_d.year)    # acessando a coluna 'year' como atributo, não recomendado acessar desta forma, \n",
    "                                       # pois existem restrições, (o resultado é uma série)\n",
    "                                       \n",
    "print(5*'-')\n",
    "print('Coluna \"pop\" e \"year\":\\n',df_d[['pop','year']]) # acessando simultaneamente as colunas 'pop' e 'year' (o resultado é um DataFrame)"
   ]
  },
  {
   "cell_type": "markdown",
   "metadata": {
    "id": "C1c5OXHFFY6_"
   },
   "source": [
    "#### Busca com expressões booleanas\n",
    "O método <font color='blue'>query</font> permite recuperar elementos utilizando uma expressão booleana fornecida como uma string. A string é interpretada, se o conteúdo da string contém rótulos das colunas, tal coluna é utilizada na comparação."
   ]
  },
  {
   "cell_type": "code",
   "execution_count": null,
   "metadata": {
    "id": "wzMaP7eBFY6_",
    "outputId": "7e547770-6e72-46d7-b07e-a00dd7528d64"
   },
   "outputs": [
    {
     "name": "stdout",
     "output_type": "stream",
     "text": [
      "Buscando valores na coluna \"pop\" menores que 10\n",
      "\n",
      "  state  year  pop\n",
      "2    GA  2008  9.7\n",
      "3    GA  2010  9.7\n",
      "4    GB  2011  9.8\n",
      "\n",
      "Buscando valores na coluna \"pop\" menores que 10 e valores diferentes de GB coluna \"state\"\n",
      "\n",
      "  state  year  pop\n",
      "2    GA  2008  9.7\n",
      "3    GA  2010  9.7\n"
     ]
    }
   ],
   "source": [
    "d = {'state' : ['FL', 'FL', 'GA', 'GA', 'GB'],    # dicionário de listas\n",
    "     'year' :  [2010, 2011, 2008, 2010, 2011],    \n",
    "     'pop' :   [18.8, 19.1, 9.7, 9.7, 9.8]}\n",
    "\n",
    "df_d = pd.DataFrame(d)   # construindo o DataFrame a partir do dicionário de listas\n",
    "\n",
    "print('Buscando valores na coluna \"pop\" menores que 10\\n')\n",
    "print(df_d.query('pop < 10')) # recupera as linhas do DataFrame cujos elementos da coluna 'pop' sejam menores que 10\n",
    "                              # retorna um novo DataFrame\n",
    "\n",
    "print('\\nBuscando valores na coluna \"pop\" menores que 10 e valores diferentes de GB na coluna \"state\"\\n')\n",
    "print(df_d.query('pop < 10 & state != \"GB\"'))  # recupera as linhas do DataFrame cujos elementos da coluna 'pop' são menores que 10 e da coluna 'state' sejam diferentes de \"GB\"\n",
    "                                               # retorna um novo DataFrame"
   ]
  },
  {
   "cell_type": "code",
   "execution_count": null,
   "metadata": {
    "colab": {
     "base_uri": "https://localhost:8080/"
    },
    "executionInfo": {
     "elapsed": 1070,
     "status": "ok",
     "timestamp": 1614609797902,
     "user": {
      "displayName": "Luis Gustavo Nonato",
      "photoUrl": "",
      "userId": "16109025348268293164"
     },
     "user_tz": 180
    },
    "id": "qq_iw720FY6_",
    "outputId": "5eeb3fe9-eb80-4914-92b5-36645ed50b1a"
   },
   "outputs": [
    {
     "name": "stdout",
     "output_type": "stream",
     "text": [
      "     co0  co1  co2  co3  co4\n",
      "li0    8   15   10   21    0\n",
      "li1    0   10   15   21    4\n",
      "li2   23   11   21   28   24\n",
      "li3   16    0    5   15   15\n",
      "li4   11   13    9   29   21\n",
      "df_a[\"co1\"] < 20\n",
      "li0    True\n",
      "li1    True\n",
      "li2    True\n",
      "li3    True\n",
      "li4    True\n",
      "li5    True\n",
      "li6    True\n",
      "Name: co1, dtype: bool\n",
      "\n",
      "(df_a[\"co2\"] > 10) & (df_a[\"co4\"] < 20)\n",
      "li0    False\n",
      "li1     True\n",
      "li2    False\n",
      "li3    False\n",
      "li4    False\n",
      "li5     True\n",
      "li6    False\n",
      "dtype: bool\n",
      "\n",
      "(df_a[\"co2\"] > 10) | (df_a[\"co4\"] < 20)\n",
      "li0     True\n",
      "li1     True\n",
      "li2     True\n",
      "li3     True\n",
      "li4    False\n",
      "li5     True\n",
      "li6     True\n",
      "dtype: bool\n"
     ]
    }
   ],
   "source": [
    "# Criando um DataFrame a partir de um array bidimensional e especificando os rótulos de linhas e colunas\n",
    "A = np.random.randint(0,30,35).reshape(7,5)\n",
    "rotulo_linhas  = ['li'+str(i) for i in range(A.shape[0])]\n",
    "rotulo_colunas = ['co'+str(i) for i in range(A.shape[1])]\n",
    "\n",
    "df_a = pd.DataFrame(A,index=rotulo_linhas,columns=rotulo_colunas) # criando o DataFrame e especificando os rótulos\n",
    "                                                                  # das linhas e colunas\n",
    "print(df_a.head())  # mostrando as primeiras 5 linhas\n",
    "\n",
    "# retornando uma série tipo 'mascara booleana'\n",
    "print('df_a[\"co1\"] < 20')\n",
    "print(df_a['co1'] < 20)   # retorna uma serie como máscara booleanos\n",
    "\n",
    "print('\\n(df_a[\"co2\"] > 10) & (df_a[\"co4\"] < 20)')\n",
    "print((df_a[\"co2\"] > 10) & (df_a[\"co4\"] < 20))   # combinando expressões booleanas com o operador & (AND)\n",
    "\n",
    "print('\\n(df_a[\"co2\"] > 10) | (df_a[\"co4\"] < 20)')\n",
    "print((df_a[\"co2\"] > 10) | (df_a[\"co4\"] < 20))   # combinando expressões booleanas com o operador | (OR)"
   ]
  },
  {
   "cell_type": "markdown",
   "metadata": {
    "id": "VXeCYIo3FY6_"
   },
   "source": [
    "#### Criando e removendo colunas\n",
    "- Colunas podem ser criadas simplesmente atribuindo um novo rótulo ao DataFrame e especificando os elementos da coluna\n",
    "- Colunas podem ser removidas utilizando os métodos <font color='blue'>drop</font> ou <font color='blue'>del</font>"
   ]
  },
  {
   "cell_type": "code",
   "execution_count": null,
   "metadata": {
    "colab": {
     "base_uri": "https://localhost:8080/"
    },
    "executionInfo": {
     "elapsed": 1104,
     "status": "ok",
     "timestamp": 1614609924760,
     "user": {
      "displayName": "Luis Gustavo Nonato",
      "photoUrl": "",
      "userId": "16109025348268293164"
     },
     "user_tz": 180
    },
    "id": "VVxaA1DNFY6_",
    "outputId": "cd633c03-03d3-4068-d294-2d578453d6d4"
   },
   "outputs": [
    {
     "name": "stdout",
     "output_type": "stream",
     "text": [
      "  state  year   pop\n",
      "0    FL  2010  18.8\n",
      "1    FL  2011  19.1\n",
      "2    GA  2008   9.7\n",
      "3    GA  2010   9.7\n",
      "4    GB  2011   9.8\n",
      "\n",
      "   state  year   pop  new_col\n",
      "0    FL  2010  18.8      0.0\n",
      "1    FL  2011  19.1      0.0\n",
      "2    GA  2008   9.7      0.0\n",
      "3    GA  2010   9.7      0.0\n",
      "4    GB  2011   9.8      0.0\n"
     ]
    }
   ],
   "source": [
    "d = {'state' : ['FL', 'FL', 'GA', 'GA', 'GB'],    # dicionário de listas\n",
    "     'year' :  [2010, 2011, 2008, 2010, 2011],    \n",
    "     'pop' :   [18.8, 19.1, 9.7, 9.7, 9.8]}\n",
    "\n",
    "df_d = pd.DataFrame(d)   # construindo o DataFrame a partir do dicionário de listas\n",
    "print(df_d)\n",
    "\n",
    "# criando uma nova coluna com o rótulo 'new_col' onde todos os elementos são zero\n",
    "df_d['new_col'] = np.zeros((df_d.shape[0])) # o comando shape funciona como no numpy e indica o \n",
    "                                            # número de linhas (shape[0]) e colunas (shape[1]) no DataFrame\n",
    "print('\\n',df_d)"
   ]
  },
  {
   "cell_type": "code",
   "execution_count": null,
   "metadata": {
    "id": "5aJfFvynFY6_",
    "outputId": "b98b694b-7b80-4cd6-ca85-a1b8fb174043"
   },
   "outputs": [
    {
     "name": "stdout",
     "output_type": "stream",
     "text": [
      "  state  year   pop\n",
      "0    FL  2010  18.8\n",
      "1    FL  2011  19.1\n",
      "2    GA  2008   9.7\n",
      "3    GA  2010   9.7\n",
      "4    GA  2011   9.8\n"
     ]
    }
   ],
   "source": [
    "# removendo a coluna 'new_col' criada na célula anterior do notebook\n",
    "df_d = df_d.drop(['new_col'], axis=1) # o parêmetro axis=1 indica que se está removendo coluna\n",
    "                                      # pois o método drop pode ser utilizado para remover linhas\n",
    "print(df_d)\n",
    "\n",
    "# A coluna também poderia ser removida com o comando 'del'\n",
    "# del df_d['new_col']"
   ]
  },
  {
   "cell_type": "markdown",
   "metadata": {
    "id": "qzJhrkneFY7A"
   },
   "source": [
    "#### **Manipulando e Acessando Linhas**\n",
    "As linhas de um DataFrame podem ser acessadas utilizando os métodos:\n",
    "- <font color='blue'>iloc</font> - manipula o DataFrame como uma matriz com índices inteiros, como se fosse um array\n",
    "- <font color='blue'>loc</font> - seleciona linhas pelos rótulos (ou índices) ou por máscara booleana"
   ]
  },
  {
   "cell_type": "code",
   "execution_count": null,
   "metadata": {
    "id": "FnrWYspuFY7A",
    "outputId": "7b9df640-7f65-49a0-e146-3382469e60cb"
   },
   "outputs": [
    {
     "name": "stdout",
     "output_type": "stream",
     "text": [
      "     co0  co1  co2  co3  co4\n",
      "li0   10    2   10   21   24\n",
      "li1    0    2    3    4    1\n",
      "li2   17   25   17   27    3\n",
      "li3   23   28   26   29    0\n",
      "li4   29    4   24   11   20\n",
      "li5    3   21   13    4    0\n",
      "li6   27   13   23   16    0\n",
      "\n",
      "Acessando linha de indice 2:\n",
      "co0    17\n",
      "co1    25\n",
      "co2    17\n",
      "co3    27\n",
      "co4     3\n",
      "Name: li2, dtype: int64\n",
      "\n",
      "Acessando as linhas com indice 2 e 3 e colunas a partir do indice 1:\n",
      "     co1  co2  co3  co4\n",
      "li2   25   17   27    3\n",
      "li3   28   26   29    0\n"
     ]
    }
   ],
   "source": [
    "import numpy as np\n",
    "\n",
    "# Exemplos do uso de 'iloc'\n",
    "# Criando um DataFrame a partir de um array e especificando os rótulos de linhas e colunas\n",
    "A = np.random.randint(0,30,35).reshape(7,5)\n",
    "rotulo_linhas  = ['li'+str(i) for i in range(A.shape[0])]\n",
    "rotulo_colunas = ['co'+str(i) for i in range(A.shape[1])]\n",
    "\n",
    "df_a = pd.DataFrame(A,index=rotulo_linhas,columns=rotulo_colunas) # criando o DataFrame e especificando os rótulos\n",
    "                                                                  # das linhas e colunas\n",
    "\n",
    "print(df_a)\n",
    "\n",
    "print('\\nAcessando linha de indice 2:')\n",
    "print(df_a.iloc[2])  # retorna a linha como uma série \n",
    "                     # (rótulos das colunas se tornan os rótulos das linhas)\n",
    "\n",
    "print('\\nAcessando as linhas com indice 2 e 3 e todas as colunas a partir do indice 1:')\n",
    "print(df_a.iloc[2:4,1:]) # slicing o DataFrame\n",
    "                         # o resutlado do slicing é um DataFrame (como um view do numpy)"
   ]
  },
  {
   "cell_type": "code",
   "execution_count": null,
   "metadata": {
    "id": "Q8Lm_b-6FY7A",
    "outputId": "275c0149-1ffb-465f-8c92-c60a32bec683"
   },
   "outputs": [
    {
     "name": "stdout",
     "output_type": "stream",
     "text": [
      "     co0  co1  co2  co3  co4\n",
      "li0   10    2   10   21   24\n",
      "li1    0    2    3    4    1\n",
      "li2   17   25   17   27    3\n",
      "li3   23   28   26   29    0\n",
      "li4   29    4   24   11   20\n",
      "li5    3   21   13    4    0\n",
      "li6   27   13   23   16    0\n",
      "\n",
      "Acessando a linha com rótulo \"li2\"\n",
      "co0    17\n",
      "co1    25\n",
      "co2    17\n",
      "co3    27\n",
      "co4     3\n",
      "Name: li2, dtype: int64\n",
      "\n",
      "Acessando as linhas com rótulo \"li1\" e \"li3\"\n",
      "     co0  co1  co2  co3  co4\n",
      "li1    0    2    3    4    1\n",
      "li3   23   28   26   29    0\n",
      "\n",
      "Acessando as linhas entre os rótulos \"li1\" e \"li4\" na coluna \"co3\"\n",
      "li1     4\n",
      "li2    27\n",
      "li3    29\n",
      "li4    11\n",
      "Name: co3, dtype: int64\n"
     ]
    }
   ],
   "source": [
    "# Exemplos do uso de 'loc'\n",
    "\n",
    "print(df_a) # imprimindo o DataFrame criado no exemplo anterior\n",
    "\n",
    "print('\\nAcessando a linha com rótulo \"li2\"')\n",
    "print(df_a.loc['li2']) # retorna a linha como uma série \n",
    "                       # (rótulos das colunas se tornan os rótulos das linhas)\n",
    "\n",
    "print('\\nAcessando as linhas com rótulo \"li1\" e \"li3\"')\n",
    "print(df_a.loc[['li1','li3']]) # acessando múltiplas linhas via lista de rótulos\n",
    "                               # o resultado é um DataFrame\n",
    "    \n",
    "print('\\nAcessando as linhas entre os rótulos \"li1\" e \"li4\" na coluna \"co3\"')\n",
    "print(df_a.loc['li1':'li4','co3']) # acessando múltiplas linhas via slicing\n",
    "                                   # note que o metodo loc inclui o último elemento \n",
    "                                   # ('li4' também é retornado)"
   ]
  },
  {
   "cell_type": "markdown",
   "metadata": {
    "id": "-EPdlvwYFY7A"
   },
   "source": [
    "O método <font color='blue'>loc</font> aceita expressões booleanas "
   ]
  },
  {
   "cell_type": "code",
   "execution_count": null,
   "metadata": {
    "id": "CbQoPKThFY7A",
    "outputId": "dba442bd-4858-4899-b401-e673a9701e7c"
   },
   "outputs": [
    {
     "name": "stdout",
     "output_type": "stream",
     "text": [
      "     co0  co1  co2  co3  co4\n",
      "li0   10   24   28   24    7\n",
      "li1    3    5   15    0   27\n",
      "li2   13   16   23   22   27\n",
      "li6   12   24   15    4   18\n"
     ]
    }
   ],
   "source": [
    "# O método loc aceita expressoes booleanas\n",
    "print(df_a.loc[df_a['co2'] >= 15]) # retorna todas as linhas onde o valor da coluna 'co2' é maior ou igual a 15\n",
    "                                   # o resultado é um novo DataFrame"
   ]
  },
  {
   "cell_type": "markdown",
   "metadata": {
    "id": "2hOG6c1RFY7A"
   },
   "source": [
    "#### Ordenando um DataFrame\n",
    "Assim como nas séries, é possível ordernar pelos rótulos das linhas, mas ao ordernar por valor é necessário definir a coluna."
   ]
  },
  {
   "cell_type": "code",
   "execution_count": null,
   "metadata": {
    "id": "sMbQoGhYFY7B",
    "outputId": "26917bd2-e7c5-432a-a61a-b9c3027a0ed8"
   },
   "outputs": [
    {
     "data": {
      "text/html": [
       "<div>\n",
       "<style scoped>\n",
       "    .dataframe tbody tr th:only-of-type {\n",
       "        vertical-align: middle;\n",
       "    }\n",
       "\n",
       "    .dataframe tbody tr th {\n",
       "        vertical-align: top;\n",
       "    }\n",
       "\n",
       "    .dataframe thead th {\n",
       "        text-align: right;\n",
       "    }\n",
       "</style>\n",
       "<table border=\"1\" class=\"dataframe\">\n",
       "  <thead>\n",
       "    <tr style=\"text-align: right;\">\n",
       "      <th></th>\n",
       "      <th>co0</th>\n",
       "      <th>co1</th>\n",
       "      <th>co2</th>\n",
       "      <th>co3</th>\n",
       "      <th>co4</th>\n",
       "    </tr>\n",
       "  </thead>\n",
       "  <tbody>\n",
       "    <tr>\n",
       "      <th>li4</th>\n",
       "      <td>26</td>\n",
       "      <td>4</td>\n",
       "      <td>7</td>\n",
       "      <td>1</td>\n",
       "      <td>15</td>\n",
       "    </tr>\n",
       "    <tr>\n",
       "      <th>li1</th>\n",
       "      <td>3</td>\n",
       "      <td>5</td>\n",
       "      <td>15</td>\n",
       "      <td>0</td>\n",
       "      <td>27</td>\n",
       "    </tr>\n",
       "    <tr>\n",
       "      <th>li5</th>\n",
       "      <td>4</td>\n",
       "      <td>10</td>\n",
       "      <td>13</td>\n",
       "      <td>13</td>\n",
       "      <td>19</td>\n",
       "    </tr>\n",
       "    <tr>\n",
       "      <th>li2</th>\n",
       "      <td>13</td>\n",
       "      <td>16</td>\n",
       "      <td>23</td>\n",
       "      <td>22</td>\n",
       "      <td>27</td>\n",
       "    </tr>\n",
       "    <tr>\n",
       "      <th>li0</th>\n",
       "      <td>10</td>\n",
       "      <td>24</td>\n",
       "      <td>28</td>\n",
       "      <td>24</td>\n",
       "      <td>7</td>\n",
       "    </tr>\n",
       "    <tr>\n",
       "      <th>li6</th>\n",
       "      <td>12</td>\n",
       "      <td>24</td>\n",
       "      <td>15</td>\n",
       "      <td>4</td>\n",
       "      <td>18</td>\n",
       "    </tr>\n",
       "    <tr>\n",
       "      <th>li3</th>\n",
       "      <td>26</td>\n",
       "      <td>29</td>\n",
       "      <td>11</td>\n",
       "      <td>27</td>\n",
       "      <td>9</td>\n",
       "    </tr>\n",
       "  </tbody>\n",
       "</table>\n",
       "</div>"
      ],
      "text/plain": [
       "     co0  co1  co2  co3  co4\n",
       "li4   26    4    7    1   15\n",
       "li1    3    5   15    0   27\n",
       "li5    4   10   13   13   19\n",
       "li2   13   16   23   22   27\n",
       "li0   10   24   28   24    7\n",
       "li6   12   24   15    4   18\n",
       "li3   26   29   11   27    9"
      ]
     },
     "execution_count": 61,
     "metadata": {
      "tags": []
     },
     "output_type": "execute_result"
    }
   ],
   "source": [
    "df_a.sort_values('co1')  # ordena as linhas de acordo com a coluna 'co1'"
   ]
  },
  {
   "cell_type": "markdown",
   "metadata": {
    "id": "xeeJ9eIFFY7B"
   },
   "source": [
    "**Atenção:** sort_values, gera uma cópia. Para modificar o DataFrame, deve-se passar o parâmetro `inplace = True`"
   ]
  },
  {
   "cell_type": "code",
   "execution_count": null,
   "metadata": {
    "id": "rmiBXXlcFY7B",
    "outputId": "d7a5a376-8491-4b8a-ffbc-84e0c60a382a"
   },
   "outputs": [
    {
     "name": "stdout",
     "output_type": "stream",
     "text": [
      "     co0  co1  co2  co3  co4\n",
      "li0    0   11   21    3    5\n",
      "li6    0   16   27   16    2\n",
      "li2    2    2   28    4   13\n",
      "li1    9   18   27   16   23\n",
      "li4   13   23   28   16   27\n",
      "li3   16   26    5   19    1\n",
      "li5   19   15    7   25   27\n",
      "\n",
      "DataFrame original não é afetado\n",
      "     co0  co1  co2  co3  co4\n",
      "li0    0   11   21    3    5\n",
      "li1    9   18   27   16   23\n",
      "li2    2    2   28    4   13\n",
      "li3   16   26    5   19    1\n",
      "li4   13   23   28   16   27\n",
      "li5   19   15    7   25   27\n",
      "li6    0   16   27   16    2\n",
      "\n",
      "Parâmetro \"inplace=True\" modifica o DataFrame original\n",
      "     co0  co1  co2  co3  co4\n",
      "li0    0   11   21    3    5\n",
      "li6    0   16   27   16    2\n",
      "li2    2    2   28    4   13\n",
      "li1    9   18   27   16   23\n",
      "li4   13   23   28   16   27\n",
      "li3   16   26    5   19    1\n",
      "li5   19   15    7   25   27\n"
     ]
    }
   ],
   "source": [
    "print(df_a.sort_values('co0')) # a ordenação não modifica o DataFrame original\n",
    "\n",
    "print('\\nDataFrame original não é afetado')\n",
    "print(df_a)\n",
    "\n",
    "df_a.sort_values('co0',inplace=True) # o parâmetro 'inplace=True' modifica o DataFrame original \n",
    "                                     # (porém não retorna um outro DataFrame)\n",
    "\n",
    "print('\\nParâmetro \"inplace=True\" modifica o DataFrame original')    \n",
    "print(df_a)"
   ]
  },
  {
   "cell_type": "markdown",
   "metadata": {
    "id": "fFJKhcrQFY7B"
   },
   "source": [
    "### Recuperando apenas os valores do DataFrame\n",
    "O atributo <font color='blue'>values</font> converte o contéudo de um DataFrame em um <font color='blue'>numpy</font> array."
   ]
  },
  {
   "cell_type": "code",
   "execution_count": null,
   "metadata": {
    "colab": {
     "base_uri": "https://localhost:8080/"
    },
    "executionInfo": {
     "elapsed": 1003,
     "status": "ok",
     "timestamp": 1614610451711,
     "user": {
      "displayName": "Luis Gustavo Nonato",
      "photoUrl": "",
      "userId": "16109025348268293164"
     },
     "user_tz": 180
    },
    "id": "w0fKDsZ3FY7B",
    "outputId": "07aba9db-8cbe-4f8d-8cbe-6e0cab9d2a3e"
   },
   "outputs": [
    {
     "name": "stdout",
     "output_type": "stream",
     "text": [
      "     co0  co1  co2  co3  co4\n",
      "li0    8   15   10   21    0\n",
      "li1    0   10   15   21    4\n",
      "li2   23   11   21   28   24\n",
      "li3   16    0    5   15   15\n",
      "li4   11   13    9   29   21\n",
      "li5   16    0   19   24    2\n",
      "li6   21    1   24   15   23\n",
      "----------\n",
      "[[ 8 15 10 21  0]\n",
      " [ 0 10 15 21  4]\n",
      " [23 11 21 28 24]\n",
      " [16  0  5 15 15]\n",
      " [11 13  9 29 21]\n",
      " [16  0 19 24  2]\n",
      " [21  1 24 15 23]]\n",
      "<class 'numpy.ndarray'>\n"
     ]
    }
   ],
   "source": [
    "print(df_a)\n",
    "print(5*'--')\n",
    "print(df_a.values) # recuperando somente o conteúdo do DataFrame \n",
    "print(type(df_a.values))  #  o resultado é um array do numpy"
   ]
  },
  {
   "cell_type": "markdown",
   "metadata": {
    "id": "atLBDx2cFY7B"
   },
   "source": [
    "## Carregando arquivos\n",
    "Pandas permite carregar (e escrever) arquivos de diversos formatos:\n",
    "- Arquivos de texto\n",
    "- Dados estruturados (JSON, XML, HTML, CSV)\n",
    "- Excel (depende das biblitoecas xlrd e  openpyxl)\n",
    "- Direto de base de dados\n",
    "  - pandas.io.sql  (read_frame)"
   ]
  },
  {
   "cell_type": "markdown",
   "metadata": {
    "id": "mjE44eODFY7C"
   },
   "source": [
    "A célula abaixo irá criar um arquivo tipo '.csv' onde os elementos das colunas são separados por vírgula (padrão para arquivos '.csv')"
   ]
  },
  {
   "cell_type": "code",
   "execution_count": null,
   "metadata": {
    "colab": {
     "base_uri": "https://localhost:8080/"
    },
    "executionInfo": {
     "elapsed": 738,
     "status": "ok",
     "timestamp": 1614610523566,
     "user": {
      "displayName": "Luis Gustavo Nonato",
      "photoUrl": "",
      "userId": "16109025348268293164"
     },
     "user_tz": 180
    },
    "id": "Q-KmHqc-FY7C",
    "outputId": "d5f1c8b8-af08-4fe0-ba1f-3e6be948e37d"
   },
   "outputs": [
    {
     "name": "stdout",
     "output_type": "stream",
     "text": [
      "Writing simple.csv\n"
     ]
    }
   ],
   "source": [
    "%%writefile simple.csv  \n",
    "a,b,c,d,message\n",
    "1,2,3,4,hello\n",
    "5,6,7,8,world\n",
    "9,10,11,12,foo"
   ]
  },
  {
   "cell_type": "code",
   "execution_count": null,
   "metadata": {
    "colab": {
     "base_uri": "https://localhost:8080/",
     "height": 176
    },
    "executionInfo": {
     "elapsed": 768,
     "status": "ok",
     "timestamp": 1614610525673,
     "user": {
      "displayName": "Luis Gustavo Nonato",
      "photoUrl": "",
      "userId": "16109025348268293164"
     },
     "user_tz": 180
    },
    "id": "Rrx_oqzVFY7C",
    "outputId": "82aba66e-3f8c-4a23-9eda-bf67ee21c33e"
   },
   "outputs": [
    {
     "name": "stdout",
     "output_type": "stream",
     "text": [
      "Rotulos das colunas\n",
      "['a' 'b' 'c' 'd' 'message']\n"
     ]
    },
    {
     "data": {
      "text/html": [
       "<div>\n",
       "<style scoped>\n",
       "    .dataframe tbody tr th:only-of-type {\n",
       "        vertical-align: middle;\n",
       "    }\n",
       "\n",
       "    .dataframe tbody tr th {\n",
       "        vertical-align: top;\n",
       "    }\n",
       "\n",
       "    .dataframe thead th {\n",
       "        text-align: right;\n",
       "    }\n",
       "</style>\n",
       "<table border=\"1\" class=\"dataframe\">\n",
       "  <thead>\n",
       "    <tr style=\"text-align: right;\">\n",
       "      <th></th>\n",
       "      <th>a</th>\n",
       "      <th>b</th>\n",
       "      <th>c</th>\n",
       "      <th>d</th>\n",
       "      <th>message</th>\n",
       "    </tr>\n",
       "  </thead>\n",
       "  <tbody>\n",
       "    <tr>\n",
       "      <th>0</th>\n",
       "      <td>1</td>\n",
       "      <td>2</td>\n",
       "      <td>3</td>\n",
       "      <td>4</td>\n",
       "      <td>hello</td>\n",
       "    </tr>\n",
       "    <tr>\n",
       "      <th>1</th>\n",
       "      <td>5</td>\n",
       "      <td>6</td>\n",
       "      <td>7</td>\n",
       "      <td>8</td>\n",
       "      <td>world</td>\n",
       "    </tr>\n",
       "    <tr>\n",
       "      <th>2</th>\n",
       "      <td>9</td>\n",
       "      <td>10</td>\n",
       "      <td>11</td>\n",
       "      <td>12</td>\n",
       "      <td>foo</td>\n",
       "    </tr>\n",
       "  </tbody>\n",
       "</table>\n",
       "</div>"
      ],
      "text/plain": [
       "   a   b   c   d message\n",
       "0  1   2   3   4   hello\n",
       "1  5   6   7   8   world\n",
       "2  9  10  11  12     foo"
      ]
     },
     "execution_count": 18,
     "metadata": {
      "tags": []
     },
     "output_type": "execute_result"
    }
   ],
   "source": [
    "# Carregar um CSV é bastante simples\n",
    "import pandas as pd # importando o pacote pandas\n",
    "\n",
    "\n",
    "df = pd.read_csv('simple.csv')  # o método read_csv carrega um arquivo no formato '.csv'\n",
    "                                # a primeira linha do arquivo se torna os rótulos das colunas\n",
    "                                # como os indices das linhas não foram especificados, são criados automaticamente\n",
    "\n",
    "print('Rotulos das colunas')\n",
    "print(df.columns.values)    # imprime o nome dos rótulos das colunas\n",
    "df.head()  # mostrando as 5 primeiras linhas"
   ]
  },
  {
   "cell_type": "code",
   "execution_count": null,
   "metadata": {
    "colab": {
     "base_uri": "https://localhost:8080/",
     "height": 173
    },
    "executionInfo": {
     "elapsed": 886,
     "status": "ok",
     "timestamp": 1614610635012,
     "user": {
      "displayName": "Luis Gustavo Nonato",
      "photoUrl": "",
      "userId": "16109025348268293164"
     },
     "user_tz": 180
    },
    "id": "fOzQHEC5FY7C",
    "outputId": "a89488f7-73b0-487b-bd6d-ce484f96e0e2"
   },
   "outputs": [
    {
     "data": {
      "text/html": [
       "<div>\n",
       "<style scoped>\n",
       "    .dataframe tbody tr th:only-of-type {\n",
       "        vertical-align: middle;\n",
       "    }\n",
       "\n",
       "    .dataframe tbody tr th {\n",
       "        vertical-align: top;\n",
       "    }\n",
       "\n",
       "    .dataframe thead th {\n",
       "        text-align: right;\n",
       "    }\n",
       "</style>\n",
       "<table border=\"1\" class=\"dataframe\">\n",
       "  <thead>\n",
       "    <tr style=\"text-align: right;\">\n",
       "      <th></th>\n",
       "      <th>c0</th>\n",
       "      <th>c1</th>\n",
       "      <th>c2</th>\n",
       "      <th>c3</th>\n",
       "      <th>c4</th>\n",
       "    </tr>\n",
       "  </thead>\n",
       "  <tbody>\n",
       "    <tr>\n",
       "      <th>0</th>\n",
       "      <td>a</td>\n",
       "      <td>b</td>\n",
       "      <td>c</td>\n",
       "      <td>d</td>\n",
       "      <td>message</td>\n",
       "    </tr>\n",
       "    <tr>\n",
       "      <th>1</th>\n",
       "      <td>1</td>\n",
       "      <td>2</td>\n",
       "      <td>3</td>\n",
       "      <td>4</td>\n",
       "      <td>hello</td>\n",
       "    </tr>\n",
       "    <tr>\n",
       "      <th>2</th>\n",
       "      <td>5</td>\n",
       "      <td>6</td>\n",
       "      <td>7</td>\n",
       "      <td>8</td>\n",
       "      <td>world</td>\n",
       "    </tr>\n",
       "    <tr>\n",
       "      <th>3</th>\n",
       "      <td>9</td>\n",
       "      <td>10</td>\n",
       "      <td>11</td>\n",
       "      <td>12</td>\n",
       "      <td>foo</td>\n",
       "    </tr>\n",
       "  </tbody>\n",
       "</table>\n",
       "</div>"
      ],
      "text/plain": [
       "  c0  c1  c2  c3       c4\n",
       "0  a   b   c   d  message\n",
       "1  1   2   3   4    hello\n",
       "2  5   6   7   8    world\n",
       "3  9  10  11  12      foo"
      ]
     },
     "execution_count": 19,
     "metadata": {
      "tags": []
     },
     "output_type": "execute_result"
    }
   ],
   "source": [
    "# Pode-se especificar os nomes das colunas, fazendo com que a primeira linha do arquivo seja parte dos dados\n",
    "df = pd.read_csv('simple.csv',\n",
    "                 names=['c0','c1','c2','c3','c4'])\n",
    "\n",
    "df.head()"
   ]
  },
  {
   "cell_type": "code",
   "execution_count": null,
   "metadata": {
    "id": "3xT-9JOZFY7C",
    "outputId": "2e9fcaa2-1eae-47b7-9a0a-155c4298992c"
   },
   "outputs": [
    {
     "data": {
      "text/html": [
       "<div>\n",
       "<style scoped>\n",
       "    .dataframe tbody tr th:only-of-type {\n",
       "        vertical-align: middle;\n",
       "    }\n",
       "\n",
       "    .dataframe tbody tr th {\n",
       "        vertical-align: top;\n",
       "    }\n",
       "\n",
       "    .dataframe thead th {\n",
       "        text-align: right;\n",
       "    }\n",
       "</style>\n",
       "<table border=\"1\" class=\"dataframe\">\n",
       "  <thead>\n",
       "    <tr style=\"text-align: right;\">\n",
       "      <th></th>\n",
       "      <th>c0</th>\n",
       "      <th>c1</th>\n",
       "      <th>c2</th>\n",
       "      <th>c3</th>\n",
       "    </tr>\n",
       "    <tr>\n",
       "      <th>c4</th>\n",
       "      <th></th>\n",
       "      <th></th>\n",
       "      <th></th>\n",
       "      <th></th>\n",
       "    </tr>\n",
       "  </thead>\n",
       "  <tbody>\n",
       "    <tr>\n",
       "      <th>message</th>\n",
       "      <td>a</td>\n",
       "      <td>b</td>\n",
       "      <td>c</td>\n",
       "      <td>d</td>\n",
       "    </tr>\n",
       "    <tr>\n",
       "      <th>hello</th>\n",
       "      <td>1</td>\n",
       "      <td>2</td>\n",
       "      <td>3</td>\n",
       "      <td>4</td>\n",
       "    </tr>\n",
       "    <tr>\n",
       "      <th>world</th>\n",
       "      <td>5</td>\n",
       "      <td>6</td>\n",
       "      <td>7</td>\n",
       "      <td>8</td>\n",
       "    </tr>\n",
       "    <tr>\n",
       "      <th>foo</th>\n",
       "      <td>9</td>\n",
       "      <td>10</td>\n",
       "      <td>11</td>\n",
       "      <td>12</td>\n",
       "    </tr>\n",
       "  </tbody>\n",
       "</table>\n",
       "</div>"
      ],
      "text/plain": [
       "        c0  c1  c2  c3\n",
       "c4                    \n",
       "message  a   b   c   d\n",
       "hello    1   2   3   4\n",
       "world    5   6   7   8\n",
       "foo      9  10  11  12"
      ]
     },
     "execution_count": 71,
     "metadata": {
      "tags": []
     },
     "output_type": "execute_result"
    }
   ],
   "source": [
    "# Pode-se fazer com que uma das colunas se torne os rótulos das linhas utilizando o parâmetro 'index_col'\n",
    "df = pd.read_csv('simple.csv',\n",
    "                 names=['c0','c1','c2','c3','c4'],\n",
    "                 index_col='c4')  # coluna 'c4' se torna rótulo das linhas\n",
    "df.head()"
   ]
  },
  {
   "cell_type": "markdown",
   "metadata": {
    "id": "A1aJKCMRFY7D"
   },
   "source": [
    "`read_csv` possui muitos outros parâmetros, veja documentação no link abaixo:\n",
    "\n",
    "[https://pandas.pydata.org/pandas-docs/stable/generated/pandas.read_csv.html](https://pandas.pydata.org/pandas-docs/stable/generated/pandas.read_csv.html)"
   ]
  },
  {
   "cell_type": "markdown",
   "metadata": {
    "id": "O_CzZGTgTK3X"
   },
   "source": [
    "## <font color=\"blue\">Pandas Parte I - Solução dos Exercícios</font>"
   ]
  },
  {
   "cell_type": "markdown",
   "metadata": {
    "id": "ygWe_VCGTK3n"
   },
   "source": [
    "Os exercícios a seguir farão uso do arquivo <font style=\"font-family: monaco\">WorldCups.csv</font> disponível para download no moodle.\n",
    "\n",
    "O arquivo <font style=\"font-family: monaco\">WorldCups.csv</font> possui as seguintes colunas:\n",
    "- **Year**: ano da copa\n",
    "- **Country**: país sede\n",
    "- **Winner**: campeão\n",
    "- **RunnersUp**: disputou a final com o campeão\n",
    "- **Third**: terceiro colocado\n",
    "- **Fourth**: quarto colocado\n",
    "- **GoalsScored**: número de gols na copa\n",
    "- **QualifiedTeams**: número de times que disputaram a copa\n",
    "- **MatchesPlayed**: número de jogos\n",
    "- **Attendance**: número de espectadores (público)"
   ]
  },
  {
   "cell_type": "code",
   "execution_count": 1,
   "metadata": {
    "executionInfo": {
     "elapsed": 844,
     "status": "ok",
     "timestamp": 1614903808222,
     "user": {
      "displayName": "Jadson Jose Monteiro Oliveira",
      "photoUrl": "https://lh3.googleusercontent.com/a-/AOh14GhnrvK-RlBvBwndoMVGBdxTMnpnps2pKXZW3hmplA=s64",
      "userId": "14751585488257197569"
     },
     "user_tz": 180
    },
    "id": "igvhUlp4TK3n"
   },
   "outputs": [],
   "source": [
    "import numpy as np\n",
    "import pandas as pd"
   ]
  },
  {
   "cell_type": "markdown",
   "metadata": {
    "id": "ylkygqTWTK3x"
   },
   "source": [
    "### Exercício 1) \n",
    "Utilizando o <font color='blue'>pandas</font>, leia o arquivo <font style=\"font-family: monaco\">WorldCups.csv</font>, definindo a coluna 'Year' como índice das linhas, e armazene-o em uma variável tipo DataFrame. \n",
    "- Exiba as 5 primeiras linhas do DataFrame\n",
    "- Exiba o tipo de dado de cada coluna\n",
    "- Imprima o número de linhas do DataFrame?"
   ]
  },
  {
   "cell_type": "code",
   "execution_count": 2,
   "metadata": {
    "colab": {
     "base_uri": "https://localhost:8080/",
     "height": 272
    },
    "executionInfo": {
     "elapsed": 841,
     "status": "ok",
     "timestamp": 1614903811947,
     "user": {
      "displayName": "Jadson Jose Monteiro Oliveira",
      "photoUrl": "https://lh3.googleusercontent.com/a-/AOh14GhnrvK-RlBvBwndoMVGBdxTMnpnps2pKXZW3hmplA=s64",
      "userId": "14751585488257197569"
     },
     "user_tz": 180
    },
    "id": "3M1F6JM-TK3x",
    "outputId": "b57960c5-5d36-441a-94cc-5550c0b37e3b"
   },
   "outputs": [
    {
     "data": {
      "text/html": [
       "<div>\n",
       "<style scoped>\n",
       "    .dataframe tbody tr th:only-of-type {\n",
       "        vertical-align: middle;\n",
       "    }\n",
       "\n",
       "    .dataframe tbody tr th {\n",
       "        vertical-align: top;\n",
       "    }\n",
       "\n",
       "    .dataframe thead th {\n",
       "        text-align: right;\n",
       "    }\n",
       "</style>\n",
       "<table border=\"1\" class=\"dataframe\">\n",
       "  <thead>\n",
       "    <tr style=\"text-align: right;\">\n",
       "      <th></th>\n",
       "      <th>Country</th>\n",
       "      <th>Winner</th>\n",
       "      <th>RunnersUp</th>\n",
       "      <th>Third</th>\n",
       "      <th>Fourth</th>\n",
       "      <th>GoalsScored</th>\n",
       "      <th>QualifiedTeams</th>\n",
       "      <th>MatchesPlayed</th>\n",
       "      <th>Attendance</th>\n",
       "    </tr>\n",
       "    <tr>\n",
       "      <th>Year</th>\n",
       "      <th></th>\n",
       "      <th></th>\n",
       "      <th></th>\n",
       "      <th></th>\n",
       "      <th></th>\n",
       "      <th></th>\n",
       "      <th></th>\n",
       "      <th></th>\n",
       "      <th></th>\n",
       "    </tr>\n",
       "  </thead>\n",
       "  <tbody>\n",
       "    <tr>\n",
       "      <th>1930</th>\n",
       "      <td>Uruguay</td>\n",
       "      <td>Uruguay</td>\n",
       "      <td>Argentina</td>\n",
       "      <td>USA</td>\n",
       "      <td>Yugoslavia</td>\n",
       "      <td>70</td>\n",
       "      <td>13</td>\n",
       "      <td>18</td>\n",
       "      <td>590549</td>\n",
       "    </tr>\n",
       "    <tr>\n",
       "      <th>1934</th>\n",
       "      <td>Italy</td>\n",
       "      <td>Italy</td>\n",
       "      <td>Czechoslovakia</td>\n",
       "      <td>Germany</td>\n",
       "      <td>Austria</td>\n",
       "      <td>70</td>\n",
       "      <td>16</td>\n",
       "      <td>17</td>\n",
       "      <td>363000</td>\n",
       "    </tr>\n",
       "    <tr>\n",
       "      <th>1938</th>\n",
       "      <td>France</td>\n",
       "      <td>Italy</td>\n",
       "      <td>Hungary</td>\n",
       "      <td>Brazil</td>\n",
       "      <td>Sweden</td>\n",
       "      <td>84</td>\n",
       "      <td>15</td>\n",
       "      <td>18</td>\n",
       "      <td>375700</td>\n",
       "    </tr>\n",
       "    <tr>\n",
       "      <th>1950</th>\n",
       "      <td>Brazil</td>\n",
       "      <td>Uruguay</td>\n",
       "      <td>Brazil</td>\n",
       "      <td>Sweden</td>\n",
       "      <td>Spain</td>\n",
       "      <td>88</td>\n",
       "      <td>13</td>\n",
       "      <td>22</td>\n",
       "      <td>1045246</td>\n",
       "    </tr>\n",
       "    <tr>\n",
       "      <th>1954</th>\n",
       "      <td>Switzerland</td>\n",
       "      <td>Germany FR</td>\n",
       "      <td>Hungary</td>\n",
       "      <td>Austria</td>\n",
       "      <td>Uruguay</td>\n",
       "      <td>140</td>\n",
       "      <td>16</td>\n",
       "      <td>26</td>\n",
       "      <td>768607</td>\n",
       "    </tr>\n",
       "  </tbody>\n",
       "</table>\n",
       "</div>"
      ],
      "text/plain": [
       "          Country      Winner  ... MatchesPlayed Attendance\n",
       "Year                           ...                         \n",
       "1930      Uruguay     Uruguay  ...            18     590549\n",
       "1934        Italy       Italy  ...            17     363000\n",
       "1938       France       Italy  ...            18     375700\n",
       "1950       Brazil     Uruguay  ...            22    1045246\n",
       "1954  Switzerland  Germany FR  ...            26     768607\n",
       "\n",
       "[5 rows x 9 columns]"
      ]
     },
     "execution_count": 2,
     "metadata": {
      "tags": []
     },
     "output_type": "execute_result"
    }
   ],
   "source": [
    "# SOLUÇÃO\n",
    "\n",
    "copas = pd.read_csv('WorldCups.csv', index_col = 'Year')\n",
    "copas.head() #  5 primeiras linhas"
   ]
  },
  {
   "cell_type": "code",
   "execution_count": 3,
   "metadata": {
    "colab": {
     "base_uri": "https://localhost:8080/"
    },
    "executionInfo": {
     "elapsed": 848,
     "status": "ok",
     "timestamp": 1614903814755,
     "user": {
      "displayName": "Jadson Jose Monteiro Oliveira",
      "photoUrl": "https://lh3.googleusercontent.com/a-/AOh14GhnrvK-RlBvBwndoMVGBdxTMnpnps2pKXZW3hmplA=s64",
      "userId": "14751585488257197569"
     },
     "user_tz": 180
    },
    "id": "YXWv65R1TK3z",
    "outputId": "3d990052-0c32-4f7d-9599-b7954e1decf1"
   },
   "outputs": [
    {
     "data": {
      "text/plain": [
       "Country           object\n",
       "Winner            object\n",
       "RunnersUp         object\n",
       "Third             object\n",
       "Fourth            object\n",
       "GoalsScored        int64\n",
       "QualifiedTeams     int64\n",
       "MatchesPlayed      int64\n",
       "Attendance         int64\n",
       "dtype: object"
      ]
     },
     "execution_count": 3,
     "metadata": {
      "tags": []
     },
     "output_type": "execute_result"
    }
   ],
   "source": [
    "# tipo de dado de cada coluna\n",
    "\n",
    "copas.dtypes"
   ]
  },
  {
   "cell_type": "code",
   "execution_count": 4,
   "metadata": {
    "colab": {
     "base_uri": "https://localhost:8080/"
    },
    "executionInfo": {
     "elapsed": 879,
     "status": "ok",
     "timestamp": 1614903817279,
     "user": {
      "displayName": "Jadson Jose Monteiro Oliveira",
      "photoUrl": "https://lh3.googleusercontent.com/a-/AOh14GhnrvK-RlBvBwndoMVGBdxTMnpnps2pKXZW3hmplA=s64",
      "userId": "14751585488257197569"
     },
     "user_tz": 180
    },
    "id": "vOw_V9E0TK38",
    "outputId": "4cfa7537-4be4-4c44-947a-5c8403145b5f"
   },
   "outputs": [
    {
     "name": "stdout",
     "output_type": "stream",
     "text": [
      "20\n"
     ]
    }
   ],
   "source": [
    "# numero de linhas\n",
    "\n",
    "print(copas.shape[0])"
   ]
  },
  {
   "cell_type": "markdown",
   "metadata": {
    "id": "qGXVMMhETK39"
   },
   "source": [
    "### Exercício 2) \n",
    "Remova as colunas 'QualifiedTeams' e 'MatchesPlayed' do DataFrame."
   ]
  },
  {
   "cell_type": "code",
   "execution_count": 5,
   "metadata": {
    "executionInfo": {
     "elapsed": 544,
     "status": "ok",
     "timestamp": 1614903817635,
     "user": {
      "displayName": "Jadson Jose Monteiro Oliveira",
      "photoUrl": "https://lh3.googleusercontent.com/a-/AOh14GhnrvK-RlBvBwndoMVGBdxTMnpnps2pKXZW3hmplA=s64",
      "userId": "14751585488257197569"
     },
     "user_tz": 180
    },
    "id": "SjBxPeOaTK39"
   },
   "outputs": [],
   "source": [
    "# SOLUÇÃO\n",
    "\n",
    "del copas['QualifiedTeams']\n",
    "del copas['MatchesPlayed']"
   ]
  },
  {
   "cell_type": "markdown",
   "metadata": {
    "id": "e9OIHB2DTK3-"
   },
   "source": [
    "### Exercício 3) \n",
    "Exiba os países sede da copa entre os anos 1954 e 1982 (inclusive)"
   ]
  },
  {
   "cell_type": "code",
   "execution_count": 6,
   "metadata": {
    "colab": {
     "base_uri": "https://localhost:8080/"
    },
    "executionInfo": {
     "elapsed": 839,
     "status": "ok",
     "timestamp": 1614903822974,
     "user": {
      "displayName": "Jadson Jose Monteiro Oliveira",
      "photoUrl": "https://lh3.googleusercontent.com/a-/AOh14GhnrvK-RlBvBwndoMVGBdxTMnpnps2pKXZW3hmplA=s64",
      "userId": "14751585488257197569"
     },
     "user_tz": 180
    },
    "id": "ux5ZhpOwTK3-",
    "outputId": "0807bc33-207a-43cf-f98f-3b2d74770a94"
   },
   "outputs": [
    {
     "name": "stdout",
     "output_type": "stream",
     "text": [
      "Year\n",
      "1954    Switzerland\n",
      "1958         Sweden\n",
      "1962          Chile\n",
      "1966        England\n",
      "1970         Mexico\n",
      "1974        Germany\n",
      "1978      Argentina\n",
      "1982          Spain\n",
      "Name: Country, dtype: object\n",
      "Year\n",
      "1954    Switzerland\n",
      "1958         Sweden\n",
      "1962          Chile\n",
      "1966        England\n",
      "1970         Mexico\n",
      "1974        Germany\n",
      "1978      Argentina\n",
      "1982          Spain\n",
      "Name: Country, dtype: object\n",
      "['Switzerland' 'Sweden' 'Chile' 'England' 'Mexico' 'Germany' 'Argentina'\n",
      " 'Spain']\n"
     ]
    }
   ],
   "source": [
    "# SOLUÇÃO\n",
    "print(copas.loc[1954:1982]['Country']) # extraindo apenas a coluna 'Country' do slicing [1954:1982]\n",
    "\n",
    "# SOLUÇÃO ALTERNATIVA \n",
    "print(copas['Country'].loc[1954:1982]) # restringindo o slicing a coluna 'Country'\n",
    "\n",
    "# Se quiser imprimir somente o nome dos países, extraia o conteudo via atributo 'value'\n",
    "print(copas.loc[1954:1982]['Country'].values) "
   ]
  },
  {
   "cell_type": "markdown",
   "metadata": {
    "id": "wIQMr1qqTK4I"
   },
   "source": [
    "### Exercício 4) \n",
    "Encontre e imprima:\n",
    "- os anos em que o Brasil ganhou a copa \n",
    "- os anos em que o Brasil jogou uma final (a final é dada pelas colunas 'Winner' e 'RunnersUp') \n",
    "- a proporção de vitórias do Brasil em finais"
   ]
  },
  {
   "cell_type": "code",
   "execution_count": 7,
   "metadata": {
    "colab": {
     "base_uri": "https://localhost:8080/"
    },
    "executionInfo": {
     "elapsed": 953,
     "status": "ok",
     "timestamp": 1614903825798,
     "user": {
      "displayName": "Jadson Jose Monteiro Oliveira",
      "photoUrl": "https://lh3.googleusercontent.com/a-/AOh14GhnrvK-RlBvBwndoMVGBdxTMnpnps2pKXZW3hmplA=s64",
      "userId": "14751585488257197569"
     },
     "user_tz": 180
    },
    "id": "GHQD0NWFTK4I",
    "outputId": "3bc81e62-6de0-4a2f-8f8e-809cda285f2a"
   },
   "outputs": [
    {
     "name": "stdout",
     "output_type": "stream",
     "text": [
      "ganhou: [1958 1962 1970 1994 2002]\n",
      "final: [1950 1958 1962 1970 1994 1998 2002]\n",
      "proporção: 0.7142857142857143\n"
     ]
    }
   ],
   "source": [
    "# SOLUÇÃO\n",
    "\n",
    "# as buscas abaixo retornam um DataFrame contendo as linhas do DataFrame original onde a expressão booleana é verdadeira\n",
    "ganhou = copas.query('Winner == \"Brazil\"')\n",
    "participou = copas.query('Winner == \"Brazil\" | RunnersUp == \"Brazil\"')\n",
    "\n",
    "# para verificar somente os anos, podemos imprimir somente os rótulos dos DataFrames acima\n",
    "print('ganhou:', ganhou.index.values)    # anos em que o Brasil venceu\n",
    "print('final:', participou.index.values) # anos em que o Brasil disputou uma final\n",
    "\n",
    "print('proporção:', ganhou.shape[0] / participou.shape[0]) # para calcular a proporção de vitórias na final\n",
    "                                                   # basta dividirmos o número de vitórias na final \n",
    "                                                    # pelo número de disputas"
   ]
  },
  {
   "cell_type": "code",
   "execution_count": 8,
   "metadata": {
    "colab": {
     "base_uri": "https://localhost:8080/"
    },
    "executionInfo": {
     "elapsed": 1004,
     "status": "ok",
     "timestamp": 1614903828822,
     "user": {
      "displayName": "Jadson Jose Monteiro Oliveira",
      "photoUrl": "https://lh3.googleusercontent.com/a-/AOh14GhnrvK-RlBvBwndoMVGBdxTMnpnps2pKXZW3hmplA=s64",
      "userId": "14751585488257197569"
     },
     "user_tz": 180
    },
    "id": "1dvBOAfrTK4J",
    "outputId": "476c4c6e-a30f-4f7e-8525-419b35df98d8"
   },
   "outputs": [
    {
     "name": "stdout",
     "output_type": "stream",
     "text": [
      "ganhou: [1958 1962 1970 1994 2002]\n",
      "final: [1950 1958 1962 1970 1994 1998 2002]\n",
      "proporção: 0.7142857142857143\n"
     ]
    }
   ],
   "source": [
    "# SOLUÇÃO ALTERNATIVA utilizando loc\n",
    "\n",
    "ganhou = copas.loc[copas['Winner'] == 'Brazil']\n",
    "participou = copas.loc[(copas['Winner'] == 'Brazil') | (copas['RunnersUp'] == 'Brazil')]\n",
    "\n",
    "print('ganhou:', ganhou.index.values)    \n",
    "print('final:', participou.index.values) \n",
    "\n",
    "print('proporção:', ganhou.shape[0] / participou.shape[0])"
   ]
  },
  {
   "cell_type": "markdown",
   "metadata": {
    "id": "JZ62gTnUTK4K"
   },
   "source": [
    "### Exercício 5) \n",
    "Quais foram as 5 copas com mais gols? \n",
    "\n",
    "__Dica:__ Ordene o DataFrame"
   ]
  },
  {
   "cell_type": "code",
   "execution_count": 9,
   "metadata": {
    "colab": {
     "base_uri": "https://localhost:8080/",
     "height": 235
    },
    "executionInfo": {
     "elapsed": 846,
     "status": "ok",
     "timestamp": 1614903840496,
     "user": {
      "displayName": "Jadson Jose Monteiro Oliveira",
      "photoUrl": "https://lh3.googleusercontent.com/a-/AOh14GhnrvK-RlBvBwndoMVGBdxTMnpnps2pKXZW3hmplA=s64",
      "userId": "14751585488257197569"
     },
     "user_tz": 180
    },
    "id": "68ZKecEQTK4K",
    "outputId": "d518200f-5b68-45e3-8a87-cf797743d02c"
   },
   "outputs": [
    {
     "data": {
      "text/html": [
       "<div>\n",
       "<style scoped>\n",
       "    .dataframe tbody tr th:only-of-type {\n",
       "        vertical-align: middle;\n",
       "    }\n",
       "\n",
       "    .dataframe tbody tr th {\n",
       "        vertical-align: top;\n",
       "    }\n",
       "\n",
       "    .dataframe thead th {\n",
       "        text-align: right;\n",
       "    }\n",
       "</style>\n",
       "<table border=\"1\" class=\"dataframe\">\n",
       "  <thead>\n",
       "    <tr style=\"text-align: right;\">\n",
       "      <th></th>\n",
       "      <th>Country</th>\n",
       "      <th>Winner</th>\n",
       "      <th>RunnersUp</th>\n",
       "      <th>Third</th>\n",
       "      <th>Fourth</th>\n",
       "      <th>GoalsScored</th>\n",
       "      <th>Attendance</th>\n",
       "    </tr>\n",
       "    <tr>\n",
       "      <th>Year</th>\n",
       "      <th></th>\n",
       "      <th></th>\n",
       "      <th></th>\n",
       "      <th></th>\n",
       "      <th></th>\n",
       "      <th></th>\n",
       "      <th></th>\n",
       "    </tr>\n",
       "  </thead>\n",
       "  <tbody>\n",
       "    <tr>\n",
       "      <th>1982</th>\n",
       "      <td>Spain</td>\n",
       "      <td>Italy</td>\n",
       "      <td>Germany FR</td>\n",
       "      <td>Poland</td>\n",
       "      <td>France</td>\n",
       "      <td>146</td>\n",
       "      <td>2109723</td>\n",
       "    </tr>\n",
       "    <tr>\n",
       "      <th>2006</th>\n",
       "      <td>Germany</td>\n",
       "      <td>Italy</td>\n",
       "      <td>France</td>\n",
       "      <td>Germany</td>\n",
       "      <td>Portugal</td>\n",
       "      <td>147</td>\n",
       "      <td>3359439</td>\n",
       "    </tr>\n",
       "    <tr>\n",
       "      <th>2002</th>\n",
       "      <td>Korea/Japan</td>\n",
       "      <td>Brazil</td>\n",
       "      <td>Germany</td>\n",
       "      <td>Turkey</td>\n",
       "      <td>Korea Republic</td>\n",
       "      <td>161</td>\n",
       "      <td>2705197</td>\n",
       "    </tr>\n",
       "    <tr>\n",
       "      <th>1998</th>\n",
       "      <td>France</td>\n",
       "      <td>France</td>\n",
       "      <td>Brazil</td>\n",
       "      <td>Croatia</td>\n",
       "      <td>Netherlands</td>\n",
       "      <td>171</td>\n",
       "      <td>2785100</td>\n",
       "    </tr>\n",
       "    <tr>\n",
       "      <th>2014</th>\n",
       "      <td>Brazil</td>\n",
       "      <td>Germany</td>\n",
       "      <td>Argentina</td>\n",
       "      <td>Netherlands</td>\n",
       "      <td>Brazil</td>\n",
       "      <td>171</td>\n",
       "      <td>3386810</td>\n",
       "    </tr>\n",
       "  </tbody>\n",
       "</table>\n",
       "</div>"
      ],
      "text/plain": [
       "          Country   Winner   RunnersUp  ...          Fourth GoalsScored  Attendance\n",
       "Year                                    ...                                        \n",
       "1982        Spain    Italy  Germany FR  ...          France         146     2109723\n",
       "2006      Germany    Italy      France  ...        Portugal         147     3359439\n",
       "2002  Korea/Japan   Brazil     Germany  ...  Korea Republic         161     2705197\n",
       "1998       France   France      Brazil  ...     Netherlands         171     2785100\n",
       "2014       Brazil  Germany   Argentina  ...          Brazil         171     3386810\n",
       "\n",
       "[5 rows x 7 columns]"
      ]
     },
     "execution_count": 9,
     "metadata": {
      "tags": []
     },
     "output_type": "execute_result"
    }
   ],
   "source": [
    "# SOLUÇÃO\n",
    "\n",
    "copas_ordenado = copas.sort_values('GoalsScored') # ordenando o DataFrame com base na coluna 'GoalsScored'\n",
    "copas_ordenado.iloc[-5:]   # imprimindo as 5 copas com mais gols (são as 5 últimas linhas do DataFrame ordenado)"
   ]
  },
  {
   "cell_type": "markdown",
   "metadata": {
    "id": "j52iAhtNTK4L"
   },
   "source": [
    "### Exercício 6) \n",
    "Utilize o método <font color='blue'>value_counts</font> para encontrar o número de vezes que cada país ganhou a copa."
   ]
  },
  {
   "cell_type": "code",
   "execution_count": 10,
   "metadata": {
    "colab": {
     "base_uri": "https://localhost:8080/"
    },
    "executionInfo": {
     "elapsed": 838,
     "status": "ok",
     "timestamp": 1614903843724,
     "user": {
      "displayName": "Jadson Jose Monteiro Oliveira",
      "photoUrl": "https://lh3.googleusercontent.com/a-/AOh14GhnrvK-RlBvBwndoMVGBdxTMnpnps2pKXZW3hmplA=s64",
      "userId": "14751585488257197569"
     },
     "user_tz": 180
    },
    "id": "TZAUHRjLTK4M",
    "outputId": "2900a07a-b818-446a-9509-c71f84a50a70"
   },
   "outputs": [
    {
     "name": "stdout",
     "output_type": "stream",
     "text": [
      "Brazil        5\n",
      "Italy         4\n",
      "Germany FR    3\n",
      "Uruguay       2\n",
      "Argentina     2\n",
      "Spain         1\n",
      "England       1\n",
      "France        1\n",
      "Germany       1\n",
      "Name: Winner, dtype: int64\n"
     ]
    }
   ],
   "source": [
    "# SOLUÇÃO\n",
    "\n",
    "n_campeao = copas['Winner'].value_counts()\n",
    "\n",
    "print(n_campeao)"
   ]
  },
  {
   "cell_type": "markdown",
   "metadata": {
    "id": "lk-MhThzTK4N"
   },
   "source": [
    "### Exercício 7)\n",
    "Quais foram as 5 copas com maior público? Imprima penas o ano, o país e o público."
   ]
  },
  {
   "cell_type": "code",
   "execution_count": 11,
   "metadata": {
    "colab": {
     "base_uri": "https://localhost:8080/"
    },
    "executionInfo": {
     "elapsed": 664,
     "status": "ok",
     "timestamp": 1614903844609,
     "user": {
      "displayName": "Jadson Jose Monteiro Oliveira",
      "photoUrl": "https://lh3.googleusercontent.com/a-/AOh14GhnrvK-RlBvBwndoMVGBdxTMnpnps2pKXZW3hmplA=s64",
      "userId": "14751585488257197569"
     },
     "user_tz": 180
    },
    "id": "0CK7pNizTK4O",
    "outputId": "8f1f6c56-ddb4-46ad-a6d5-56f91646fc15"
   },
   "outputs": [
    {
     "name": "stdout",
     "output_type": "stream",
     "text": [
      "           Country  Attendance\n",
      "Year                          \n",
      "1998        France     2785100\n",
      "2010  South Africa     3178856\n",
      "2006       Germany     3359439\n",
      "2014        Brazil     3386810\n",
      "1994           USA     3587538\n"
     ]
    }
   ],
   "source": [
    "df_publico = copas[['Country','Attendance']].sort_values('Attendance')\n",
    "\n",
    "print(df_publico.iloc[-5:])"
   ]
  },
  {
   "cell_type": "markdown",
   "metadata": {
    "id": "Ou18yCcgTK4O"
   },
   "source": [
    "### Exercício 8)\n",
    "Construa um dicionário onde as chaves são os países que já participaram de uma final e os valores são o número de vezes que o país participou da final."
   ]
  },
  {
   "cell_type": "code",
   "execution_count": 12,
   "metadata": {
    "colab": {
     "base_uri": "https://localhost:8080/"
    },
    "executionInfo": {
     "elapsed": 901,
     "status": "ok",
     "timestamp": 1614903849576,
     "user": {
      "displayName": "Jadson Jose Monteiro Oliveira",
      "photoUrl": "https://lh3.googleusercontent.com/a-/AOh14GhnrvK-RlBvBwndoMVGBdxTMnpnps2pKXZW3hmplA=s64",
      "userId": "14751585488257197569"
     },
     "user_tz": 180
    },
    "id": "0sNcQ0C-TK4P",
    "outputId": "70806c52-8090-4ab2-b198-c82073329b6a"
   },
   "outputs": [
    {
     "name": "stdout",
     "output_type": "stream",
     "text": [
      "Países que participaram de uma final:\n",
      "\n",
      "Uruguay :  2\n",
      "Argentina :  5\n",
      "Italy :  6\n",
      "Czechoslovakia :  2\n",
      "Hungary :  2\n",
      "Brazil :  7\n",
      "Germany FR :  6\n",
      "Sweden :  1\n",
      "England :  1\n",
      "Netherlands :  3\n",
      "France :  2\n",
      "Germany :  2\n",
      "Spain :  1\n"
     ]
    }
   ],
   "source": [
    "# SOLUÇÃO\n",
    "\n",
    "dic_finalista = {}\n",
    "for i in range(copas.shape[0]):       # percorre todas as linhas do DataFrame\n",
    "    pais1 = copas['Winner'].iloc[i]     # Campeão\n",
    "    pais2 = copas['RunnersUp'].iloc[i]  # Vice\n",
    "    \n",
    "    if pais1 in dic_finalista:      # verifica se o campeao já está no dicionario\n",
    "        dic_finalista[pais1] += 1\n",
    "    else:\n",
    "        dic_finalista[pais1] = 1\n",
    "        \n",
    "    if pais2 in dic_finalista:      # verifica se o vice já está no dicionario\n",
    "        dic_finalista[pais2] += 1\n",
    "    else:\n",
    "        dic_finalista[pais2] = 1\n",
    "\n",
    "print('Países que participaram de uma final:\\n')       \n",
    "for c,v in dic_finalista.items():\n",
    "  print(c,': ',v)"
   ]
  },
  {
   "cell_type": "markdown",
   "metadata": {
    "id": "6A1T4YEnTK4Q"
   },
   "source": [
    "### Exercício 9) \n",
    "Construa um dicionário com todos os países que já participaram de uma semi-final de copa (os quatro finalistas), onde a chave é o país e o valor corresponde ao número de vezes que o país foi um semi-finalista."
   ]
  },
  {
   "cell_type": "code",
   "execution_count": 13,
   "metadata": {
    "colab": {
     "base_uri": "https://localhost:8080/"
    },
    "executionInfo": {
     "elapsed": 883,
     "status": "ok",
     "timestamp": 1614903853411,
     "user": {
      "displayName": "Jadson Jose Monteiro Oliveira",
      "photoUrl": "https://lh3.googleusercontent.com/a-/AOh14GhnrvK-RlBvBwndoMVGBdxTMnpnps2pKXZW3hmplA=s64",
      "userId": "14751585488257197569"
     },
     "user_tz": 180
    },
    "id": "bdbogr8BTK4Q",
    "outputId": "0c908c68-fbc0-4c38-da5f-b14f0ad31f9e"
   },
   "outputs": [
    {
     "name": "stdout",
     "output_type": "stream",
     "text": [
      "{'Brazil': 11, 'Italy': 8, 'Germany FR': 8, 'Uruguay': 5, 'Argentina': 5, 'Spain': 2, 'England': 2, 'France': 5, 'Germany': 5, 'Netherlands': 5, 'Czechoslovakia': 2, 'Hungary': 2, 'Sweden': 4, 'Poland': 2, 'USA': 1, 'Turkey': 1, 'Chile': 1, 'Portugal': 2, 'Austria': 2, 'Croatia': 1, 'Yugoslavia': 2, 'Korea Republic': 1, 'Soviet Union': 1, 'Bulgaria': 1, 'Belgium': 1}\n"
     ]
    }
   ],
   "source": [
    "# SOLUÇÃO\n",
    "\n",
    "# A solução poderia ser semelhante ao exercicio anterior, \n",
    "# mas considerando também os paises nas colunas 'Third' e 'Fourth'. \n",
    "# Vamos porém fazer uma solução diferente, utilizando o método \"value_counts\"\n",
    "\n",
    "campeoes = copas['Winner'].value_counts()\n",
    "vices = copas['RunnersUp'].value_counts()\n",
    "terceiros = copas['Third'].value_counts()\n",
    "quartos = copas['Fourth'].value_counts()\n",
    "\n",
    "# as variáveis 'campeoes', 'vices', 'terceiros' e 'quartos' são series onde o rótulo são os países\n",
    "# se somarmos as series, teremos o resultado desejado.\n",
    "# Porém, somar as series gera NaN quando os indices não coincidem\n",
    "# Para contornar, geramos uma serie onde os indices sao todos os paises e entao\n",
    "# realizamos a soma.\n",
    "\n",
    "lfinalistas = [campeoes,vices,terceiros,quartos]\n",
    "dic_finalista = {}\n",
    "for s in lfinalistas:\n",
    "    for index,value in s.items():\n",
    "        if index in dic_finalista:\n",
    "            dic_finalista[index] += value\n",
    "        else:\n",
    "            dic_finalista[index] = value\n",
    "            \n",
    "print(dic_finalista)"
   ]
  },
  {
   "cell_type": "markdown",
   "metadata": {},
   "source": [
    "## <font color=\"blue\">Pandas Parte I - Avaliação</font>"
   ]
  },
  {
   "cell_type": "markdown",
   "metadata": {},
   "source": [
    "As questões a seguir farão uso do arquivo <font style=\"font-family: monaco\">WorldCupMatches.csv</font>, disponível para download no moodle. Baixe o arquivo no seu diretório de trabalho para responder as questões.\n",
    "\n",
    "O arquivo <font style=\"font-family: monaco\">WorldCupMatches.csv</font> contém informações sobre todas as partidas de copas do mundo entre 1930 e 2014, ou seja, cada linha no arquivo corresponde a uma partida de futebol em copa do mundo.\n",
    "\n",
    "Algumas das colunas que serão importantes para resolver as questões são:\n",
    "- __Year__: indica o ano da copa\n",
    "- __Stage__: em qual fase da copa a partida aconteceu\n",
    "- __HomeTeamName__: nome do time anfitrião da partida\n",
    "- __AwayTeamName__: nome do time adversário na partida\n",
    "- __Attendance__: número de espectadores da partida\n",
    "- __Stadium__: estádio onde a partida foi realizada\n",
    "- __HalfTimeHomeGoals__: número de gols do time anfitrião no primeiro tempo\n",
    "- __HalfTimeAwayGoals__: número de gols do time adversário no primeiro tempo"
   ]
  },
  {
   "cell_type": "code",
   "execution_count": 1,
   "metadata": {},
   "outputs": [],
   "source": [
    "import pandas as pd\n",
    "import numpy as np"
   ]
  },
  {
   "cell_type": "markdown",
   "metadata": {},
   "source": [
    "### Exercício 1) \n",
    "Leia o arquivo <font style=\"font-family: monaco\">WorldCupMatches.csv</font>, armazene em uma variável do tipo DataFrame chamada `copa_partidas`. Quantas linhas e quantas colunas o DataFrame possui?\n",
    "\n",
    "a) 117, 21<br>\n",
    "b) 518, 18<br>\n",
    "c) 720, 31<br>\n",
    "d) 836, 20"
   ]
  },
  {
   "cell_type": "code",
   "execution_count": 2,
   "metadata": {},
   "outputs": [],
   "source": [
    "# Solucao"
   ]
  },
  {
   "cell_type": "markdown",
   "metadata": {
    "jp-MarkdownHeadingCollapsed": true,
    "tags": []
   },
   "source": [
    "### O Exercício 2 foi anulado pois o enunciado continha a palavra \"Semi-final\" no lugar de \"Quartas-de-final\" em algumas ocorrências. Responda com qualquer alternativa no formulário\n",
    "### <s>Exercício 2)\n",
    "<s>O comando abaixo extrai quais são as 'strings' contidas na coluna `Stage`:\n",
    "```python\n",
    "copa_partidas['Stage'].unique()\n",
    "```\n",
    "<s>Dentre as strings resultantes, 'Quarter-finals' indica que a linha corresponde a uma partida de semi-final de uma copa.\n",
    "\n",
    "<s>Utilizando o método <font color='blue'>query</font>, encontre as linhas contendo as partidas de quartas-de-final das copas. Construa uma lista contendo os nomes dos times que disputaram a semi-final da copa de 1994. \n",
    "\n",
    "<s>Qual o time da lista obtida que possui o nome com mais caracteres:\n",
    "\n",
    "<s>a) Korea Republic<br>\n",
    "<s>b) Czechoslovakia<br>\n",
    "<s>c) Netherlands<br>\n",
    "<s>c) Bulgaria<br>\n",
    "\n",
    "<s>__DICA:__ Utilize o método <font color='blue'>query</font> duas vezes, a primeira para obter um DataFrame com os times nas quartas-de-final e a segunda para obter um DataFrame com os times nas quartas-de-final da copa de 1994. Os nomes dos times nas quartas-de-final estão nas colunas `HomeTeamNam` e `AwayTeamName`. </s>\n",
    "    \n",
    "    \n"
   ]
  },
  {
   "cell_type": "code",
   "execution_count": null,
   "metadata": {},
   "outputs": [],
   "source": [
    "# SOLUÇÃO\n"
   ]
  },
  {
   "cell_type": "markdown",
   "metadata": {},
   "source": [
    "### Exercício 3) \n",
    "Quantas vezes o Brasil jogou contra a Itália em copas do mundo?\n",
    "\n",
    "a) 7<br>\n",
    "b) 6<br>\n",
    "c) 5<br>\n",
    "d) 4\n",
    "\n",
    "__Dica:__ Utilize o método <font color='blue'>query</font> combinando <font color='blue'>&</font> (AND) e <font color='blue'>|</font> (OR). Os nomes do Brasil e da Itália no dataset são \"Brazil\" e \"Italy\", respectivamente."
   ]
  },
  {
   "cell_type": "code",
   "execution_count": null,
   "metadata": {},
   "outputs": [],
   "source": [
    "# SOLUÇÃO\n"
   ]
  },
  {
   "cell_type": "markdown",
   "metadata": {},
   "source": [
    "### Exercício 4)\n",
    "Qual foi a partida em copa do mundo com o maio número gols do time adversário no primeiro tempo?\n",
    "\n",
    "a) Mexico X Paraguay em 1986<br>\n",
    "b) Uruguay X Brazil em 1950<br>\n",
    "c) Brazil X Germany em 2014<br>\n",
    "d) Argentina X England em 1986\n",
    "\n",
    "<s>__DICA:__ Ordene o DataFrame pela coluna `Attendance` </s>\n",
    "\n",
    "__ERRATA__: \n",
    "a DICA correta deveria ser \"Ordene o DataFrame pela coluna `HalfTimeAwayGoals`\""
   ]
  },
  {
   "cell_type": "code",
   "execution_count": null,
   "metadata": {},
   "outputs": [],
   "source": [
    "# SOLUÇÃO\n"
   ]
  },
  {
   "cell_type": "markdown",
   "metadata": {},
   "source": [
    "### Exercício 5)\n",
    "Qual foi o estádio com o maior número de partidas?\n",
    "\n",
    "a) Nacional<br>\n",
    "b) Jalisco<br>\n",
    "c) Maracana<br>\n",
    "d) Estadio Azteca\n",
    "\n",
    "__Dica:__ Construa um dicionário onde a chave é o nome do estádio e o valor o número de partidas disputadas naquele estádio. Busque pela tupla (chave,valor) onde o valor é máximo."
   ]
  },
  {
   "cell_type": "code",
   "execution_count": null,
   "metadata": {},
   "outputs": [],
   "source": [
    "# Solucao"
   ]
  },
  {
   "cell_type": "markdown",
   "metadata": {
    "id": "6GUWTEKQe44l"
   },
   "source": [
    "## <font color=\"blue\">Pandas Parte II</font>"
   ]
  },
  {
   "cell_type": "markdown",
   "metadata": {
    "id": "E_UuTDbwe44m"
   },
   "source": [
    "__Conteúdo:__\n",
    "\n",
    "- Dados faltantes\n",
    "- Processando dados\n",
    "- Combinando e transformando\n",
    "- Estatísticas\n",
    "\n",
    "__Referências__ <br>\n",
    "- [Pandas: powerful Python data analysis toolkit: Wes McKinney & PyData Devel. Team](https://pandas.pydata.org/pandas-docs/stable/pandas.pdf)\n",
    "- [http://pandas.pydata.org/pandas-docs/stable/index.html](http://pandas.pydata.org/pandas-docs/stable/index.html)"
   ]
  },
  {
   "cell_type": "markdown",
   "metadata": {
    "id": "vHtSkzYRe44m"
   },
   "source": [
    "## Relembrando\n",
    "Pandas permite estruturar dados como:\n",
    "\n",
    "__Series__\n",
    "- Objeto similar a um array unidimensional, contendo dados e rótulos (indice de linhas)\n",
    "\n",
    "__DataFrame__\n",
    "- Similar a uma planilha, contendo dados com rótulos para linhas e colunas"
   ]
  },
  {
   "cell_type": "markdown",
   "metadata": {
    "id": "KhUunSt7e44n"
   },
   "source": [
    "## Dados faltantes\n",
    "Dados faltantes são muito comuns em aplicações reais, ou seja, valores dos elementos não são fornecidos para algumas entradas de uma Série ou DataFrame. Dados faltantes são representados pelo <font color='blue'>pandas</font> com o símbolo 'NaN'.\n",
    "\n",
    "Pandas fornece diversas funcionalidades para lidar com dados faltantes, por exemplo:\n",
    "- detectar dados faltantes com os métodos <font color='blue'>isnull</font> e <font color='blue'>notnull</font>\n",
    "- remover linhas que contenham dados faltantes utilizando o método <font color='blue'>dropna</font>\n",
    "   - linhas faltando qualquer elemento \n",
    "   - linhas faltando todos os dados\n",
    "   - linhas faltando um número específico de dados\n",
    "- Substituir os valores faltantes (NaN) por um valor específico utilizando o método  <font color='blue'>fillna</font>\n",
    "- Especificar valores para substituir dados faltantes em operações aritmétricas"
   ]
  },
  {
   "cell_type": "markdown",
   "metadata": {
    "id": "ufcFZ7WIe44n"
   },
   "source": [
    "A célula abaixo gera um arquivo chamado <font style=\"font-family: monaco\">missing.csv</font> com vários dados faltantes."
   ]
  },
  {
   "cell_type": "code",
   "execution_count": 1,
   "metadata": {
    "executionInfo": {
     "elapsed": 685,
     "status": "ok",
     "timestamp": 1615469654062,
     "user": {
      "displayName": "Moisés Rocha dos Santos",
      "photoUrl": "https://lh3.googleusercontent.com/a-/AOh14GibTBRTi_dNo8fVn5eJmxJxxTCqGLtdRIwf_lD2=s64",
      "userId": "12530905896628174712"
     },
     "user_tz": 180
    },
    "id": "Eooo3t4Xe44n"
   },
   "outputs": [],
   "source": [
    "import pandas as pd"
   ]
  },
  {
   "cell_type": "code",
   "execution_count": 2,
   "metadata": {
    "colab": {
     "base_uri": "https://localhost:8080/"
    },
    "executionInfo": {
     "elapsed": 621,
     "status": "ok",
     "timestamp": 1615469656597,
     "user": {
      "displayName": "Moisés Rocha dos Santos",
      "photoUrl": "https://lh3.googleusercontent.com/a-/AOh14GibTBRTi_dNo8fVn5eJmxJxxTCqGLtdRIwf_lD2=s64",
      "userId": "12530905896628174712"
     },
     "user_tz": 180
    },
    "id": "vqr29zYRe44o",
    "outputId": "84dbdb70-944c-4aa5-e98e-804d96b61eee"
   },
   "outputs": [
    {
     "name": "stdout",
     "output_type": "stream",
     "text": [
      "Writing missing.csv\n"
     ]
    }
   ],
   "source": [
    "%%writefile missing.csv\n",
    "Colorado,,,,\n",
    "Ohio,3,5,6,9\n",
    "Oregon,,,,\n",
    "Texas,9,12,,\n",
    "Utah,,,,"
   ]
  },
  {
   "cell_type": "code",
   "execution_count": 3,
   "metadata": {
    "colab": {
     "base_uri": "https://localhost:8080/"
    },
    "executionInfo": {
     "elapsed": 644,
     "status": "ok",
     "timestamp": 1615469662549,
     "user": {
      "displayName": "Moisés Rocha dos Santos",
      "photoUrl": "https://lh3.googleusercontent.com/a-/AOh14GibTBRTi_dNo8fVn5eJmxJxxTCqGLtdRIwf_lD2=s64",
      "userId": "12530905896628174712"
     },
     "user_tz": 180
    },
    "id": "Rq4tspaie44o",
    "outputId": "02ddc851-890c-4932-c126-a71b0160303a"
   },
   "outputs": [
    {
     "name": "stdout",
     "output_type": "stream",
     "text": [
      "          0    1     2    3    4\n",
      "0  Colorado  NaN   NaN  NaN  NaN\n",
      "1      Ohio  3.0   5.0  6.0  9.0\n",
      "2    Oregon  NaN   NaN  NaN  NaN\n",
      "3     Texas  9.0  12.0  NaN  NaN\n",
      "4      Utah  NaN   NaN  NaN  NaN\n"
     ]
    }
   ],
   "source": [
    "df = pd.read_csv('missing.csv',header=None) # carregando o arquivo 'missing.csv'\n",
    "                                            # como o arquivo não possui rótulos para as\n",
    "                                            # colunas, o comando 'header=None' cria os \n",
    "                                            # rótulos automaticamente com valores de 0 até n-1\n",
    "                                            # onde n é o número de colunas\n",
    "print(df)"
   ]
  },
  {
   "cell_type": "markdown",
   "metadata": {
    "id": "wiQtfkY2e44o"
   },
   "source": [
    "### <font color='blue'>isnull</font>\n",
    "O método <font color='blue'>isnull</font> cria uma máscara booleana onde os valores `True` correspondem às entradas com dados faltantes"
   ]
  },
  {
   "cell_type": "code",
   "execution_count": 4,
   "metadata": {
    "colab": {
     "base_uri": "https://localhost:8080/"
    },
    "executionInfo": {
     "elapsed": 636,
     "status": "ok",
     "timestamp": 1615469702732,
     "user": {
      "displayName": "Moisés Rocha dos Santos",
      "photoUrl": "https://lh3.googleusercontent.com/a-/AOh14GibTBRTi_dNo8fVn5eJmxJxxTCqGLtdRIwf_lD2=s64",
      "userId": "12530905896628174712"
     },
     "user_tz": 180
    },
    "id": "EjvkEWk2e44p",
    "outputId": "67719574-8707-485a-a85e-6c9e613e1df8"
   },
   "outputs": [
    {
     "name": "stdout",
     "output_type": "stream",
     "text": [
      "       0      1      2      3      4\n",
      "0  False   True   True   True   True\n",
      "1  False  False  False  False  False\n",
      "2  False   True   True   True   True\n",
      "3  False  False  False   True   True\n",
      "4  False   True   True   True   True\n"
     ]
    }
   ],
   "source": [
    "# o método 'isnull' cria uma máscara booleana onde os valores True \n",
    "# correspondem às entradas com dados faltantes\n",
    "\n",
    "print(df.isnull())"
   ]
  },
  {
   "cell_type": "markdown",
   "metadata": {
    "id": "e2haNTkXe44p"
   },
   "source": [
    "### <font color='blue'>dropna</font>\n",
    "O método <font color='blue'>dropna</font> remove todas as linhas onde dados faltantes aparecem."
   ]
  },
  {
   "cell_type": "code",
   "execution_count": 5,
   "metadata": {
    "colab": {
     "base_uri": "https://localhost:8080/"
    },
    "executionInfo": {
     "elapsed": 625,
     "status": "ok",
     "timestamp": 1615469711625,
     "user": {
      "displayName": "Moisés Rocha dos Santos",
      "photoUrl": "https://lh3.googleusercontent.com/a-/AOh14GibTBRTi_dNo8fVn5eJmxJxxTCqGLtdRIwf_lD2=s64",
      "userId": "12530905896628174712"
     },
     "user_tz": 180
    },
    "id": "f8c2xRcee44p",
    "outputId": "a1d2edb6-fcf7-4677-e481-d889f0e16ab8"
   },
   "outputs": [
    {
     "name": "stdout",
     "output_type": "stream",
     "text": [
      "      0    1    2    3    4\n",
      "1  Ohio  3.0  5.0  6.0  9.0\n"
     ]
    }
   ],
   "source": [
    "# o método 'dropna' remove todas as linhas onde existem dados faltantes;\n",
    "# como apenas a linha de índice 1 não possui dados faltantes, o resultado é\n",
    "# um DataFrame com apenas uma linha\n",
    "\n",
    "print(df.dropna())"
   ]
  },
  {
   "cell_type": "code",
   "execution_count": 8,
   "metadata": {
    "colab": {
     "base_uri": "https://localhost:8080/"
    },
    "executionInfo": {
     "elapsed": 632,
     "status": "ok",
     "timestamp": 1615469932373,
     "user": {
      "displayName": "Moisés Rocha dos Santos",
      "photoUrl": "https://lh3.googleusercontent.com/a-/AOh14GibTBRTi_dNo8fVn5eJmxJxxTCqGLtdRIwf_lD2=s64",
      "userId": "12530905896628174712"
     },
     "user_tz": 180
    },
    "id": "dtDgxFp2e44p",
    "outputId": "cd99d0fb-ce0e-4071-faf9-4b65d8deaa78"
   },
   "outputs": [
    {
     "name": "stdout",
     "output_type": "stream",
     "text": [
      "          0    1     2    3    4\n",
      "0  Colorado  NaN   NaN  NaN  NaN\n",
      "1      Ohio  3.0   5.0  6.0  9.0\n",
      "2    Oregon  NaN   NaN  NaN  NaN\n",
      "3     Texas  9.0  12.0  NaN  NaN\n",
      "4      Utah  NaN   NaN  NaN  NaN\n",
      "          0\n",
      "0  Colorado\n",
      "1      Ohio\n",
      "2    Oregon\n",
      "3     Texas\n",
      "4      Utah\n"
     ]
    }
   ],
   "source": [
    "# o método parâmetro 'how' permite especificar se apenas as linhas com todos \n",
    "# os dados faltantes devem ser removidas (how='all') ou se linhas que contenham \n",
    "# algum dado faltante deve ser removida (how='any')\n",
    "\n",
    "print(df.dropna(how='all'))  # remove linhas onde todos os dados estejam faltando\n",
    "\n",
    "\n",
    "# o parâmetro 'axis' pode ser especificado para que, ao invés de linhas, colunas \n",
    "# com dados faltantes serão removidas\n",
    "\n",
    "print(df.dropna(how='any',axis=1)) # remove colunas que contenham algum dado faltante,\n",
    "                                   # neste exemplo, apenas a coluna de índice 0\n",
    "                                   # não contém dados faltantes"
   ]
  },
  {
   "cell_type": "code",
   "execution_count": 16,
   "metadata": {
    "colab": {
     "base_uri": "https://localhost:8080/"
    },
    "executionInfo": {
     "elapsed": 663,
     "status": "ok",
     "timestamp": 1615469988975,
     "user": {
      "displayName": "Moisés Rocha dos Santos",
      "photoUrl": "https://lh3.googleusercontent.com/a-/AOh14GibTBRTi_dNo8fVn5eJmxJxxTCqGLtdRIwf_lD2=s64",
      "userId": "12530905896628174712"
     },
     "user_tz": 180
    },
    "id": "wDqGyVRAe44q",
    "outputId": "00e929e7-6c50-4528-8ff5-0fdab64ea08e"
   },
   "outputs": [
    {
     "name": "stdout",
     "output_type": "stream",
     "text": [
      "       0    1     2    3    4\n",
      "1   Ohio  3.0   5.0  6.0  9.0\n",
      "3  Texas  9.0  12.0  NaN  NaN\n"
     ]
    }
   ],
   "source": [
    "# o parâmetro 'thresh' remove linhas com k+1 ou mais dados faltantes, ou seja,\n",
    "# para que uma linha não seja removida, ela precisa ter no máximo k dados faltantes\n",
    "\n",
    "print(df.dropna(thresh=2)) # remove linhas com 3 ou mais dados faltantes"
   ]
  },
  {
   "cell_type": "markdown",
   "metadata": {
    "id": "p9-xG0aie44q"
   },
   "source": [
    "### <font color='blue'>fillna</font>\n",
    "O método <font color='blue'>fillna</font> permite substituir dados faltantes por algum valor especificado."
   ]
  },
  {
   "cell_type": "code",
   "execution_count": 17,
   "metadata": {
    "colab": {
     "base_uri": "https://localhost:8080/"
    },
    "executionInfo": {
     "elapsed": 649,
     "status": "ok",
     "timestamp": 1615470159077,
     "user": {
      "displayName": "Moisés Rocha dos Santos",
      "photoUrl": "https://lh3.googleusercontent.com/a-/AOh14GibTBRTi_dNo8fVn5eJmxJxxTCqGLtdRIwf_lD2=s64",
      "userId": "12530905896628174712"
     },
     "user_tz": 180
    },
    "id": "Rj0zAALSe44q",
    "outputId": "d0cfce2f-f82e-4092-8212-ad37eb9ca1fb"
   },
   "outputs": [
    {
     "name": "stdout",
     "output_type": "stream",
     "text": [
      "\n",
      "DataFrame original\n",
      "          0    1     2    3    4\n",
      "0  Colorado  NaN   NaN  NaN  NaN\n",
      "1      Ohio  3.0   5.0  6.0  9.0\n",
      "2    Oregon  NaN   NaN  NaN  NaN\n",
      "3     Texas  9.0  12.0  NaN  NaN\n",
      "4      Utah  NaN   NaN  NaN  NaN\n",
      "DataFrame com valores faltantes substituidos por 0\n",
      "          0    1     2    3    4\n",
      "0  Colorado  0.0   0.0  0.0  0.0\n",
      "1      Ohio  3.0   5.0  6.0  9.0\n",
      "2    Oregon  0.0   0.0  0.0  0.0\n",
      "3     Texas  9.0  12.0  0.0  0.0\n",
      "4      Utah  0.0   0.0  0.0  0.0\n"
     ]
    }
   ],
   "source": [
    "print('\\nDataFrame original')\n",
    "print(df)\n",
    "\n",
    "df1 = df.fillna(0) # Substitui valores faltantes por zero e guarda em um novo DataFrame \n",
    "                   # O DataFrame original não é afetado\n",
    "print('DataFrame com valores faltantes substituidos por 0')\n",
    "print(df1)\n"
   ]
  },
  {
   "cell_type": "code",
   "execution_count": 18,
   "metadata": {
    "colab": {
     "base_uri": "https://localhost:8080/"
    },
    "executionInfo": {
     "elapsed": 648,
     "status": "ok",
     "timestamp": 1615470161773,
     "user": {
      "displayName": "Moisés Rocha dos Santos",
      "photoUrl": "https://lh3.googleusercontent.com/a-/AOh14GibTBRTi_dNo8fVn5eJmxJxxTCqGLtdRIwf_lD2=s64",
      "userId": "12530905896628174712"
     },
     "user_tz": 180
    },
    "id": "tWG4kLQFe44q",
    "outputId": "024fdd4e-3db9-421b-8078-bbc9583f00ed"
   },
   "outputs": [
    {
     "name": "stdout",
     "output_type": "stream",
     "text": [
      "          0    1     2    3    4\n",
      "0  Colorado -1.0   NaN  0.0  1.0\n",
      "1      Ohio  3.0   5.0  6.0  9.0\n",
      "2    Oregon -1.0   NaN  0.0  1.0\n",
      "3     Texas  9.0  12.0  0.0  1.0\n",
      "4      Utah -1.0   NaN  0.0  1.0\n"
     ]
    }
   ],
   "source": [
    "# pode-se utilizar um dicionário para empregar um valor diferente para cada coluna\n",
    "# a chave do dicionário deve ser o rótulo da coluna e o valor correspondente é\n",
    "# o valor que substituirá o dado faltante na coluna\n",
    "\n",
    "print(df.fillna({1:-1,3:0,4:1})) # substitui o valor faltante da coluna 1 por -1\n",
    "                                 # da coluna 3 por 0 e da coluna 4 por 1"
   ]
  },
  {
   "cell_type": "markdown",
   "metadata": {
    "id": "JbRUwFTxe44r"
   },
   "source": [
    "## Processando os dados\n",
    "<font color='blue'>Pandas</font> fornece diversos mecanismos para manipular um DataFrame (ou Série). Exemplos de métodos são:\n",
    "\n",
    "- <font color='blue'>duplicated</font> e <font color='blue'>drop_duplicates</font>: encontra e remove linhas duplicadas, respectivamente\n",
    "- <font color='blue'>map</font>: transforma valores ou adiciona novas colunas com valores processados a partir de outras colunas\n",
    "- <font color='blue'>replace</font> substitui um valor específico\n",
    "- <font color='blue'>rename</font> modifica os rótulos das linhas ou colunas"
   ]
  },
  {
   "cell_type": "code",
   "execution_count": 19,
   "metadata": {
    "executionInfo": {
     "elapsed": 622,
     "status": "ok",
     "timestamp": 1615470165998,
     "user": {
      "displayName": "Moisés Rocha dos Santos",
      "photoUrl": "https://lh3.googleusercontent.com/a-/AOh14GibTBRTi_dNo8fVn5eJmxJxxTCqGLtdRIwf_lD2=s64",
      "userId": "12530905896628174712"
     },
     "user_tz": 180
    },
    "id": "7x2Q-BDfe44r"
   },
   "outputs": [],
   "source": [
    "import pandas as pd"
   ]
  },
  {
   "cell_type": "code",
   "execution_count": 20,
   "metadata": {
    "colab": {
     "base_uri": "https://localhost:8080/"
    },
    "executionInfo": {
     "elapsed": 633,
     "status": "ok",
     "timestamp": 1615470168116,
     "user": {
      "displayName": "Moisés Rocha dos Santos",
      "photoUrl": "https://lh3.googleusercontent.com/a-/AOh14GibTBRTi_dNo8fVn5eJmxJxxTCqGLtdRIwf_lD2=s64",
      "userId": "12530905896628174712"
     },
     "user_tz": 180
    },
    "id": "ScJCCDjre44r",
    "outputId": "60292329-6348-4b2f-b3fc-6a21cbe77adf"
   },
   "outputs": [
    {
     "name": "stdout",
     "output_type": "stream",
     "text": [
      "    c0  c1\n",
      "0  one   1\n",
      "1  one   1\n",
      "2  one   2\n",
      "3  two   3\n",
      "4  two   3\n",
      "5  two   4\n",
      "6  two   4\n"
     ]
    }
   ],
   "source": [
    "df = pd.DataFrame({'c0':['one','one','one','two','two','two','two'],\n",
    "                   'c1':[1,1,2,3,3,4,4]})  # gerando um DataFrame a partir \n",
    "                                           # de um dicionário\n",
    "print(df)"
   ]
  },
  {
   "cell_type": "markdown",
   "metadata": {
    "id": "boX2Vraje44r"
   },
   "source": [
    "###  <font color='blue'>duplicated</font> e <font color='blue'>drop_duplicates</font>"
   ]
  },
  {
   "cell_type": "code",
   "execution_count": 21,
   "metadata": {
    "colab": {
     "base_uri": "https://localhost:8080/"
    },
    "executionInfo": {
     "elapsed": 636,
     "status": "ok",
     "timestamp": 1615470186727,
     "user": {
      "displayName": "Moisés Rocha dos Santos",
      "photoUrl": "https://lh3.googleusercontent.com/a-/AOh14GibTBRTi_dNo8fVn5eJmxJxxTCqGLtdRIwf_lD2=s64",
      "userId": "12530905896628174712"
     },
     "user_tz": 180
    },
    "id": "yFdq6UQCe44s",
    "outputId": "7a0a4b48-2c84-4164-f1e1-0f68894768b9"
   },
   "outputs": [
    {
     "name": "stdout",
     "output_type": "stream",
     "text": [
      "0    False\n",
      "1     True\n",
      "2    False\n",
      "3    False\n",
      "4     True\n",
      "5    False\n",
      "6     True\n",
      "dtype: bool\n",
      "    c0  c1\n",
      "0  one   1\n",
      "2  one   2\n",
      "3  two   3\n",
      "5  two   4\n"
     ]
    }
   ],
   "source": [
    "# detecta linhas duplicadas\n",
    "print(df.duplicated())  # gera uma série booleana onde os valores True correspondem\n",
    "                        # às linhas do DataFrame que estão duplicadas\n",
    "\n",
    "print(df.drop_duplicates())  # remove todas as linhas duplicadas"
   ]
  },
  {
   "cell_type": "markdown",
   "metadata": {
    "id": "AV9gvViBe44s"
   },
   "source": [
    "### <font color='blue'>map</font>\n",
    "O método <font color='blue'>map</font> assume como parâmetro uma regra, que pode ser uma função ou um dicionário, a fim de transformar os valores de uma coluna com base na regra ou no dicionário."
   ]
  },
  {
   "cell_type": "code",
   "execution_count": 22,
   "metadata": {
    "colab": {
     "base_uri": "https://localhost:8080/"
    },
    "executionInfo": {
     "elapsed": 679,
     "status": "ok",
     "timestamp": 1615470213204,
     "user": {
      "displayName": "Moisés Rocha dos Santos",
      "photoUrl": "https://lh3.googleusercontent.com/a-/AOh14GibTBRTi_dNo8fVn5eJmxJxxTCqGLtdRIwf_lD2=s64",
      "userId": "12530905896628174712"
     },
     "user_tz": 180
    },
    "id": "m0r8f3Dze44s",
    "outputId": "7b2322a7-6ef8-4a97-efc0-d0b3ae7a4fc5"
   },
   "outputs": [
    {
     "name": "stdout",
     "output_type": "stream",
     "text": [
      "     food  ounces   type\n",
      "0   Bread       4  grain\n",
      "1   Apple       3  fruit\n",
      "2  Cheese      12  dairy\n"
     ]
    }
   ],
   "source": [
    "dt = {'food': ['Bread','Apple','Cheese'],  # construindo um DataFrame a partir de um dicionário\n",
    "      'ounces': [4,3,12],\n",
    "      'type':['grain','fruit','dairy']\n",
    "     }\n",
    "\n",
    "df = pd.DataFrame(dt)\n",
    "print(df)"
   ]
  },
  {
   "cell_type": "code",
   "execution_count": 24,
   "metadata": {
    "colab": {
     "base_uri": "https://localhost:8080/"
    },
    "executionInfo": {
     "elapsed": 628,
     "status": "ok",
     "timestamp": 1615470264849,
     "user": {
      "displayName": "Moisés Rocha dos Santos",
      "photoUrl": "https://lh3.googleusercontent.com/a-/AOh14GibTBRTi_dNo8fVn5eJmxJxxTCqGLtdRIwf_lD2=s64",
      "userId": "12530905896628174712"
     },
     "user_tz": 180
    },
    "id": "Iw7EuOkGe44s",
    "outputId": "4f2edc2b-8a68-4f0e-856f-006345e782f2"
   },
   "outputs": [
    {
     "name": "stdout",
     "output_type": "stream",
     "text": [
      "     food  ounces   type\n",
      "0   Bread       4  GRAIN\n",
      "1   Apple       3  FRUIT\n",
      "2  Cheese      12  DAIRY\n"
     ]
    }
   ],
   "source": [
    "# modificando os valores da coluna 'type' para que fiquem em letras maiusculas\n",
    "df['type'] = df['type'].map(lambda x: x.upper())\n",
    "print(df)"
   ]
  },
  {
   "cell_type": "code",
   "execution_count": 25,
   "metadata": {
    "colab": {
     "base_uri": "https://localhost:8080/"
    },
    "executionInfo": {
     "elapsed": 796,
     "status": "ok",
     "timestamp": 1615470311475,
     "user": {
      "displayName": "Moisés Rocha dos Santos",
      "photoUrl": "https://lh3.googleusercontent.com/a-/AOh14GibTBRTi_dNo8fVn5eJmxJxxTCqGLtdRIwf_lD2=s64",
      "userId": "12530905896628174712"
     },
     "user_tz": 180
    },
    "id": "cT9DMaLBe44s",
    "outputId": "018116b1-1607-4656-effb-0c806855b91f"
   },
   "outputs": [
    {
     "name": "stdout",
     "output_type": "stream",
     "text": [
      "     food  ounces   type calories\n",
      "0   Bread       4  GRAIN     high\n",
      "1   Apple       3  FRUIT      low\n",
      "2  Cheese      12  DAIRY     high\n"
     ]
    }
   ],
   "source": [
    "# O resultado da transformação pode ser atribuído a uma nova coluna no DataFrame\n",
    "\n",
    "calories_by_type = {'Cheese':'high','Apple':'low','Bread':'high'} # a chave do dicionário\n",
    "                                                        # corresponde ao valor da coluna\n",
    "                                                        # que será mapeado. O valor associado\n",
    "                                                        # à chave é o resultado do mapeamento\n",
    "\n",
    "df['calories'] = df['food'].map(calories_by_type) # uma nova coluna é criada pelo mapeamento\n",
    "print(df)"
   ]
  },
  {
   "cell_type": "markdown",
   "metadata": {
    "id": "JktJyo36e44t"
   },
   "source": [
    "### <font color='blue'>replace</font>\n",
    "O método <font color='blue'>replace</font> permite:\n",
    "- substituir valores no DataFrame todo \n",
    "   - para isso o parâmetro passado para o 'replace' deve ser um dicionário ou duas listas \n",
    "- substituir valores em colunas específicas\n",
    "   - neste caso o parâmetro deve ser um dicionário de dicionários"
   ]
  },
  {
   "cell_type": "code",
   "execution_count": 26,
   "metadata": {
    "colab": {
     "base_uri": "https://localhost:8080/"
    },
    "executionInfo": {
     "elapsed": 781,
     "status": "ok",
     "timestamp": 1615470355564,
     "user": {
      "displayName": "Moisés Rocha dos Santos",
      "photoUrl": "https://lh3.googleusercontent.com/a-/AOh14GibTBRTi_dNo8fVn5eJmxJxxTCqGLtdRIwf_lD2=s64",
      "userId": "12530905896628174712"
     },
     "user_tz": 180
    },
    "id": "lkCrtp11e44t",
    "outputId": "0ce47eb7-2a20-4bf4-8af8-9cce4849920d"
   },
   "outputs": [
    {
     "name": "stdout",
     "output_type": "stream",
     "text": [
      "   c1  c2   c3   c4\n",
      "0   1   2  bla  cla\n",
      "1   2   4  cla  bla\n",
      "2   3   6  dla  fla\n",
      "3   4   8  ela  ela\n",
      "4   5  10  fla  dla\n"
     ]
    }
   ],
   "source": [
    "# criando um DataFrame a partir de um dicionário\n",
    "dfr = pd.DataFrame({'c1':[1,2,3,4,5],'c2':[2,4,6,8,10],'c3':['bla','cla','dla','ela','fla'],\n",
    "                   'c4':['cla','bla','fla','ela','dla']})\n",
    "print(dfr)"
   ]
  },
  {
   "cell_type": "markdown",
   "metadata": {
    "id": "7wL4Wocae44t"
   },
   "source": [
    "**Substituindo valores no DataFrame todo utilizando duas listas**"
   ]
  },
  {
   "cell_type": "code",
   "execution_count": 27,
   "metadata": {
    "colab": {
     "base_uri": "https://localhost:8080/",
     "height": 204
    },
    "executionInfo": {
     "elapsed": 658,
     "status": "ok",
     "timestamp": 1615470432136,
     "user": {
      "displayName": "Moisés Rocha dos Santos",
      "photoUrl": "https://lh3.googleusercontent.com/a-/AOh14GibTBRTi_dNo8fVn5eJmxJxxTCqGLtdRIwf_lD2=s64",
      "userId": "12530905896628174712"
     },
     "user_tz": 180
    },
    "id": "mbimUn2Re44u",
    "outputId": "bdcc06ff-ca8e-4086-b783-a320b00a7295"
   },
   "outputs": [
    {
     "data": {
      "text/html": [
       "<div>\n",
       "<style scoped>\n",
       "    .dataframe tbody tr th:only-of-type {\n",
       "        vertical-align: middle;\n",
       "    }\n",
       "\n",
       "    .dataframe tbody tr th {\n",
       "        vertical-align: top;\n",
       "    }\n",
       "\n",
       "    .dataframe thead th {\n",
       "        text-align: right;\n",
       "    }\n",
       "</style>\n",
       "<table border=\"1\" class=\"dataframe\">\n",
       "  <thead>\n",
       "    <tr style=\"text-align: right;\">\n",
       "      <th></th>\n",
       "      <th>c1</th>\n",
       "      <th>c2</th>\n",
       "      <th>c3</th>\n",
       "      <th>c4</th>\n",
       "    </tr>\n",
       "  </thead>\n",
       "  <tbody>\n",
       "    <tr>\n",
       "      <th>0</th>\n",
       "      <td>1</td>\n",
       "      <td>-2</td>\n",
       "      <td>bla</td>\n",
       "      <td>clam</td>\n",
       "    </tr>\n",
       "    <tr>\n",
       "      <th>1</th>\n",
       "      <td>-2</td>\n",
       "      <td>4</td>\n",
       "      <td>clam</td>\n",
       "      <td>bla</td>\n",
       "    </tr>\n",
       "    <tr>\n",
       "      <th>2</th>\n",
       "      <td>3</td>\n",
       "      <td>6</td>\n",
       "      <td>dla</td>\n",
       "      <td>fla</td>\n",
       "    </tr>\n",
       "    <tr>\n",
       "      <th>3</th>\n",
       "      <td>4</td>\n",
       "      <td>8</td>\n",
       "      <td>ela</td>\n",
       "      <td>ela</td>\n",
       "    </tr>\n",
       "    <tr>\n",
       "      <th>4</th>\n",
       "      <td>5</td>\n",
       "      <td>10</td>\n",
       "      <td>fla</td>\n",
       "      <td>dla</td>\n",
       "    </tr>\n",
       "  </tbody>\n",
       "</table>\n",
       "</div>"
      ],
      "text/plain": [
       "   c1  c2    c3    c4\n",
       "0   1  -2   bla  clam\n",
       "1  -2   4  clam   bla\n",
       "2   3   6   dla   fla\n",
       "3   4   8   ela   ela\n",
       "4   5  10   fla   dla"
      ]
     },
     "execution_count": 27,
     "metadata": {
      "tags": []
     },
     "output_type": "execute_result"
    }
   ],
   "source": [
    "# substituindo valores no DataFrame todo utilizando duas listas:\n",
    "# a primeira lista corresponde aos valores que serão modificados\n",
    "# a segunda lista contém os novos valores;\n",
    "# no exemplo abaixo, 2 será substituido por -2 e 'cla' por 'clam'\n",
    "\n",
    "dfr.replace([2,'cla'],[-2,'clam'])"
   ]
  },
  {
   "cell_type": "markdown",
   "metadata": {
    "id": "Ab9DLnn7e44u"
   },
   "source": [
    "**Substituindo valores no DataFrame todo utilizando um dicionário**"
   ]
  },
  {
   "cell_type": "code",
   "execution_count": 28,
   "metadata": {
    "colab": {
     "base_uri": "https://localhost:8080/"
    },
    "executionInfo": {
     "elapsed": 636,
     "status": "ok",
     "timestamp": 1615470464295,
     "user": {
      "displayName": "Moisés Rocha dos Santos",
      "photoUrl": "https://lh3.googleusercontent.com/a-/AOh14GibTBRTi_dNo8fVn5eJmxJxxTCqGLtdRIwf_lD2=s64",
      "userId": "12530905896628174712"
     },
     "user_tz": 180
    },
    "id": "-VUrO92me44u",
    "outputId": "80636a5d-70b6-4ac7-d4d2-32511562bb98"
   },
   "outputs": [
    {
     "name": "stdout",
     "output_type": "stream",
     "text": [
      "   c1  c2    c3    c4\n",
      "0   1   2   bla   cla\n",
      "1   2  -4   cla   bla\n",
      "2   3   6   dla  palm\n",
      "3  -4   8   ela   ela\n",
      "4   5  10  palm   dla\n"
     ]
    }
   ],
   "source": [
    "# um dicionário pode ser utilizado como parâmetro para método 'replace', onde\n",
    "# as chaves correspondem aos valores que serão modificados e os valores\n",
    "# correspondentes são os novos valores\n",
    "# no exemplo abaixo 4 será substituido por -4 e 'fla' por 'palm'\n",
    "\n",
    "print(dfr.replace({4:-4,'fla':'palm'}))"
   ]
  },
  {
   "cell_type": "markdown",
   "metadata": {
    "id": "c9coTtJ0e44u"
   },
   "source": [
    "**Substituindo valores em colunas do DataFrame utilizando dicionário de dicionários**"
   ]
  },
  {
   "cell_type": "code",
   "execution_count": 29,
   "metadata": {
    "colab": {
     "base_uri": "https://localhost:8080/"
    },
    "executionInfo": {
     "elapsed": 623,
     "status": "ok",
     "timestamp": 1615470495050,
     "user": {
      "displayName": "Moisés Rocha dos Santos",
      "photoUrl": "https://lh3.googleusercontent.com/a-/AOh14GibTBRTi_dNo8fVn5eJmxJxxTCqGLtdRIwf_lD2=s64",
      "userId": "12530905896628174712"
     },
     "user_tz": 180
    },
    "id": "nBn-kFi4e44u",
    "outputId": "7868bb7b-4d0f-40b3-c03d-6461ead9a314"
   },
   "outputs": [
    {
     "name": "stdout",
     "output_type": "stream",
     "text": [
      "   c1  c2    c3   c4\n",
      "0   1   2   bla  cla\n",
      "1  -2   4   cla  bla\n",
      "2   3   6   dla  fla\n",
      "3  -4   8  eles  ela\n",
      "4   5  10   fla  dla\n"
     ]
    }
   ],
   "source": [
    "# um dicionário de dicionários pode ser utilizado como parâmetro para substituir\n",
    "# valores em colunas específicas;\n",
    "# as chaves do dicionário principal correspondem aos rótulos das colunas que serão modificadas \n",
    "# os pares (chave, valor) dos dicionários \"secundários\" correspondem aos valores que serão modificados\n",
    "# e ao novo valor, respectivamente;\n",
    "# no exemplo abaixo, na coluna 'c1' o valor 4 será substituido por -4 e 2 por -2\n",
    "# na coluna 'c3' a string 'ela' será substituida por 'eles'\n",
    "\n",
    "print(dfr.replace({'c1':{4:-4,2:-2},'c3':{'ela':'eles'}}))"
   ]
  },
  {
   "cell_type": "markdown",
   "metadata": {
    "id": "sK3Fjzc4e44v"
   },
   "source": [
    "### <font color='blue'>rename</font>\n",
    "<font color='blue'>rename</font> pode ser utilizado para renomear os rótulos de linhas ou colunas. Uma função deve ser empregada para mapear os rótulos utilizando os parâmetros 'index' e 'columns'. A sintaxe do método é:\n",
    "```python\n",
    "DataFrame.rename(index=nome_func_renomeia_rotulos_linhas,columns=nome_func_renomeia_rotulos_linhas)\n",
    "```\n",
    "onde `nome_func_renomeia_rotulos_linhas` e `nome_func_renomeia_rotulos_linhas` são funções que recebem um rótulo como parâmetro e retorna o novo rótulo (tipicamente são definidas como funções <font color='blue'>lambda</font>) ou um dicionário onde as chaves e valores correspondem aos rótulos antigos e novos respectivamente. "
   ]
  },
  {
   "cell_type": "code",
   "execution_count": 30,
   "metadata": {
    "colab": {
     "base_uri": "https://localhost:8080/"
    },
    "executionInfo": {
     "elapsed": 655,
     "status": "ok",
     "timestamp": 1615470761369,
     "user": {
      "displayName": "Moisés Rocha dos Santos",
      "photoUrl": "https://lh3.googleusercontent.com/a-/AOh14GibTBRTi_dNo8fVn5eJmxJxxTCqGLtdRIwf_lD2=s64",
      "userId": "12530905896628174712"
     },
     "user_tz": 180
    },
    "id": "UtWk5Tw_e44v",
    "outputId": "3a6f9a0d-d308-4ddc-bd9f-9c2c53664117"
   },
   "outputs": [
    {
     "name": "stdout",
     "output_type": "stream",
     "text": [
      "DataFrame com rótulos originais\n",
      "   c1  c2   c3   c4\n",
      "0   1   2  bla  cla\n",
      "1   2   4  cla  bla\n",
      "2   3   6  dla  fla\n",
      "3   4   8  ela  ela\n",
      "4   5  10  fla  dla\n",
      "Rótulos das linhas: [0 1 2 3 4]\n",
      "Rótulos das colunas: ['c1' 'c2' 'c3' 'c4']\n",
      "\n",
      "DataFrame com rótulos modificados\n",
      "    C1  C2   C3   C4\n",
      "0a   1   2  bla  cla\n",
      "1a   2   4  cla  bla\n",
      "2a   3   6  dla  fla\n",
      "3a   4   8  ela  ela\n",
      "4a   5  10  fla  dla\n",
      "Rótulos das linhas: ['0a' '1a' '2a' '3a' '4a']\n",
      "Rótulos das colunas: ['C1' 'C2' 'C3' 'C4']\n"
     ]
    }
   ],
   "source": [
    "# criando um DataFrame a partir de um dicionário\n",
    "dfr = pd.DataFrame({'c1':[1,2,3,4,5],'c2':[2,4,6,8,10],'c3':['bla','cla','dla','ela','fla'],\n",
    "                   'c4':['cla','bla','fla','ela','dla']})\n",
    "\n",
    "print('DataFrame com rótulos originais')\n",
    "print(dfr)\n",
    "print('Rótulos das linhas:',dfr.index.values)\n",
    "print('Rótulos das colunas:',dfr.columns.values)\n",
    "\n",
    "print('\\nDataFrame com rótulos modificados')\n",
    "# o comando abaixo adiciona o caracter 'a' aos rótulos das linhas e torna\n",
    "# os caracteres dos rótulos das colunas maiúsculos\n",
    "dfr_modificado = dfr.rename(index=lambda x: str(x)+'a', columns=lambda x: x.upper())\n",
    "print(dfr_modificado)\n",
    "print('Rótulos das linhas:',dfr_modificado.index.values)\n",
    "print('Rótulos das colunas:',dfr_modificado.columns.values)"
   ]
  },
  {
   "cell_type": "markdown",
   "metadata": {
    "id": "2-cdBGhEe44v"
   },
   "source": [
    "## Combinando e transformando\n",
    "<font color='blue'>Pandas</font> fornece um conjunto de métodos para combinar DataFrames, o que é extremamente útil em cenários envolvendo múltiplas fontes de dados. Em particular, os métodos:\n",
    "- <font color='blue'>merge</font> combina DataFrames com base nos rótulos das linhas ou valores das colunas\n",
    "- <font color='blue'>concatenate</font> combina DataFrames a partir de um eixo específico\n",
    "- <font color='blue'>reshaping</font> transforma as linhas/colunas"
   ]
  },
  {
   "cell_type": "code",
   "execution_count": 31,
   "metadata": {
    "executionInfo": {
     "elapsed": 637,
     "status": "ok",
     "timestamp": 1615470854152,
     "user": {
      "displayName": "Moisés Rocha dos Santos",
      "photoUrl": "https://lh3.googleusercontent.com/a-/AOh14GibTBRTi_dNo8fVn5eJmxJxxTCqGLtdRIwf_lD2=s64",
      "userId": "12530905896628174712"
     },
     "user_tz": 180
    },
    "id": "Vclj97TDe44w"
   },
   "outputs": [],
   "source": [
    "import pandas as pd"
   ]
  },
  {
   "cell_type": "markdown",
   "metadata": {
    "id": "TnY2Yqu8e44w"
   },
   "source": [
    "### <font color='blue'>merge</font>  \n",
    "O método <font color='blue'>merge</font> \"funde\" dois DataFrames, duas séries, ou uma série com um DataFrame.\n",
    "\n",
    "A fuzão pode ser feita com base nos:\n",
    "- valores de duas colunas específicas, uma em cada DataFrame \n",
    "- valores de uma coluna em um dos DataFrame e rótulos das linhas no outro\n",
    "- valores dos rótulos das linhas em ambos os DataFrames (ou Séries)"
   ]
  },
  {
   "cell_type": "markdown",
   "metadata": {
    "id": "ybCINqgLe44w"
   },
   "source": [
    "#### Merge baseado nos valores de duas colunas"
   ]
  },
  {
   "cell_type": "code",
   "execution_count": 32,
   "metadata": {
    "colab": {
     "base_uri": "https://localhost:8080/"
    },
    "executionInfo": {
     "elapsed": 635,
     "status": "ok",
     "timestamp": 1615470860255,
     "user": {
      "displayName": "Moisés Rocha dos Santos",
      "photoUrl": "https://lh3.googleusercontent.com/a-/AOh14GibTBRTi_dNo8fVn5eJmxJxxTCqGLtdRIwf_lD2=s64",
      "userId": "12530905896628174712"
     },
     "user_tz": 180
    },
    "id": "zL9mvLwde44w",
    "outputId": "ba1c6316-263f-426e-d8f3-93fc493b060b"
   },
   "outputs": [
    {
     "name": "stdout",
     "output_type": "stream",
     "text": [
      "  key  data1\n",
      "0   b      0\n",
      "1   b      1\n",
      "2   a      2\n",
      "3   c      3\n",
      "4   a      4\n",
      "5   a      5\n",
      "6   b      6\n",
      "  key  data2\n",
      "0   a      0\n",
      "1   b      1\n",
      "2   d      2\n",
      "3   b      3\n",
      "4   d      4\n"
     ]
    }
   ],
   "source": [
    "# construindo dois DataFrames que serão fundidos com o método 'merge'\n",
    "df1 = pd.DataFrame({'key': ['b','b','a','c','a','a','b'], \n",
    "                   'data1': range(7)})\n",
    "\n",
    "df2 = pd.DataFrame({'key': ['a','b','d','b','d'], \n",
    "                   'data2': range(5)})\n",
    "\n",
    "print(df1)\n",
    "print(df2)"
   ]
  },
  {
   "cell_type": "code",
   "execution_count": 34,
   "metadata": {
    "colab": {
     "base_uri": "https://localhost:8080/",
     "height": 328
    },
    "executionInfo": {
     "elapsed": 764,
     "status": "ok",
     "timestamp": 1615471198870,
     "user": {
      "displayName": "Moisés Rocha dos Santos",
      "photoUrl": "https://lh3.googleusercontent.com/a-/AOh14GibTBRTi_dNo8fVn5eJmxJxxTCqGLtdRIwf_lD2=s64",
      "userId": "12530905896628174712"
     },
     "user_tz": 180
    },
    "id": "UHKwMmN7e44w",
    "outputId": "d4b549af-ff29-4f6e-abd3-f415e7d00074"
   },
   "outputs": [
    {
     "data": {
      "text/html": [
       "<div>\n",
       "<style scoped>\n",
       "    .dataframe tbody tr th:only-of-type {\n",
       "        vertical-align: middle;\n",
       "    }\n",
       "\n",
       "    .dataframe tbody tr th {\n",
       "        vertical-align: top;\n",
       "    }\n",
       "\n",
       "    .dataframe thead th {\n",
       "        text-align: right;\n",
       "    }\n",
       "</style>\n",
       "<table border=\"1\" class=\"dataframe\">\n",
       "  <thead>\n",
       "    <tr style=\"text-align: right;\">\n",
       "      <th></th>\n",
       "      <th>key</th>\n",
       "      <th>data1</th>\n",
       "      <th>data2</th>\n",
       "    </tr>\n",
       "  </thead>\n",
       "  <tbody>\n",
       "    <tr>\n",
       "      <th>0</th>\n",
       "      <td>b</td>\n",
       "      <td>0</td>\n",
       "      <td>1</td>\n",
       "    </tr>\n",
       "    <tr>\n",
       "      <th>1</th>\n",
       "      <td>b</td>\n",
       "      <td>0</td>\n",
       "      <td>3</td>\n",
       "    </tr>\n",
       "    <tr>\n",
       "      <th>2</th>\n",
       "      <td>b</td>\n",
       "      <td>1</td>\n",
       "      <td>1</td>\n",
       "    </tr>\n",
       "    <tr>\n",
       "      <th>3</th>\n",
       "      <td>b</td>\n",
       "      <td>1</td>\n",
       "      <td>3</td>\n",
       "    </tr>\n",
       "    <tr>\n",
       "      <th>4</th>\n",
       "      <td>b</td>\n",
       "      <td>6</td>\n",
       "      <td>1</td>\n",
       "    </tr>\n",
       "    <tr>\n",
       "      <th>5</th>\n",
       "      <td>b</td>\n",
       "      <td>6</td>\n",
       "      <td>3</td>\n",
       "    </tr>\n",
       "    <tr>\n",
       "      <th>6</th>\n",
       "      <td>a</td>\n",
       "      <td>2</td>\n",
       "      <td>0</td>\n",
       "    </tr>\n",
       "    <tr>\n",
       "      <th>7</th>\n",
       "      <td>a</td>\n",
       "      <td>4</td>\n",
       "      <td>0</td>\n",
       "    </tr>\n",
       "    <tr>\n",
       "      <th>8</th>\n",
       "      <td>a</td>\n",
       "      <td>5</td>\n",
       "      <td>0</td>\n",
       "    </tr>\n",
       "  </tbody>\n",
       "</table>\n",
       "</div>"
      ],
      "text/plain": [
       "  key  data1  data2\n",
       "0   b      0      1\n",
       "1   b      0      3\n",
       "2   b      1      1\n",
       "3   b      1      3\n",
       "4   b      6      1\n",
       "5   b      6      3\n",
       "6   a      2      0\n",
       "7   a      4      0\n",
       "8   a      5      0"
      ]
     },
     "execution_count": 34,
     "metadata": {
      "tags": []
     },
     "output_type": "execute_result"
    }
   ],
   "source": [
    "# Como ambos os DataFrames possuem uma coluna chamada 'key', pode-se fundir com base nos\n",
    "# valores de tal coluna. Neste caso a sintaxe é:\n",
    "\n",
    "pd.merge(df1,df2,on='key')  # Note que apenas os valores que aparencem em \n",
    "                            # ambos DataFrames são utilizados no 'merge'\n",
    "                            # No exemplo, apenas os valores 'b' e 'a' aparencem\n",
    "                            # na coluna 'key' de ambos DataFrames df1 e df2"
   ]
  },
  {
   "cell_type": "code",
   "execution_count": 35,
   "metadata": {
    "colab": {
     "base_uri": "https://localhost:8080/",
     "height": 421
    },
    "executionInfo": {
     "elapsed": 654,
     "status": "ok",
     "timestamp": 1615471204701,
     "user": {
      "displayName": "Moisés Rocha dos Santos",
      "photoUrl": "https://lh3.googleusercontent.com/a-/AOh14GibTBRTi_dNo8fVn5eJmxJxxTCqGLtdRIwf_lD2=s64",
      "userId": "12530905896628174712"
     },
     "user_tz": 180
    },
    "id": "_3xqB3Oge44x",
    "outputId": "e165d202-7d23-48aa-8433-649893864c7d"
   },
   "outputs": [
    {
     "data": {
      "text/html": [
       "<div>\n",
       "<style scoped>\n",
       "    .dataframe tbody tr th:only-of-type {\n",
       "        vertical-align: middle;\n",
       "    }\n",
       "\n",
       "    .dataframe tbody tr th {\n",
       "        vertical-align: top;\n",
       "    }\n",
       "\n",
       "    .dataframe thead th {\n",
       "        text-align: right;\n",
       "    }\n",
       "</style>\n",
       "<table border=\"1\" class=\"dataframe\">\n",
       "  <thead>\n",
       "    <tr style=\"text-align: right;\">\n",
       "      <th></th>\n",
       "      <th>key</th>\n",
       "      <th>data1</th>\n",
       "      <th>data2</th>\n",
       "    </tr>\n",
       "  </thead>\n",
       "  <tbody>\n",
       "    <tr>\n",
       "      <th>0</th>\n",
       "      <td>b</td>\n",
       "      <td>0.0</td>\n",
       "      <td>1.0</td>\n",
       "    </tr>\n",
       "    <tr>\n",
       "      <th>1</th>\n",
       "      <td>b</td>\n",
       "      <td>0.0</td>\n",
       "      <td>3.0</td>\n",
       "    </tr>\n",
       "    <tr>\n",
       "      <th>2</th>\n",
       "      <td>b</td>\n",
       "      <td>1.0</td>\n",
       "      <td>1.0</td>\n",
       "    </tr>\n",
       "    <tr>\n",
       "      <th>3</th>\n",
       "      <td>b</td>\n",
       "      <td>1.0</td>\n",
       "      <td>3.0</td>\n",
       "    </tr>\n",
       "    <tr>\n",
       "      <th>4</th>\n",
       "      <td>b</td>\n",
       "      <td>6.0</td>\n",
       "      <td>1.0</td>\n",
       "    </tr>\n",
       "    <tr>\n",
       "      <th>5</th>\n",
       "      <td>b</td>\n",
       "      <td>6.0</td>\n",
       "      <td>3.0</td>\n",
       "    </tr>\n",
       "    <tr>\n",
       "      <th>6</th>\n",
       "      <td>a</td>\n",
       "      <td>2.0</td>\n",
       "      <td>0.0</td>\n",
       "    </tr>\n",
       "    <tr>\n",
       "      <th>7</th>\n",
       "      <td>a</td>\n",
       "      <td>4.0</td>\n",
       "      <td>0.0</td>\n",
       "    </tr>\n",
       "    <tr>\n",
       "      <th>8</th>\n",
       "      <td>a</td>\n",
       "      <td>5.0</td>\n",
       "      <td>0.0</td>\n",
       "    </tr>\n",
       "    <tr>\n",
       "      <th>9</th>\n",
       "      <td>c</td>\n",
       "      <td>3.0</td>\n",
       "      <td>NaN</td>\n",
       "    </tr>\n",
       "    <tr>\n",
       "      <th>10</th>\n",
       "      <td>d</td>\n",
       "      <td>NaN</td>\n",
       "      <td>2.0</td>\n",
       "    </tr>\n",
       "    <tr>\n",
       "      <th>11</th>\n",
       "      <td>d</td>\n",
       "      <td>NaN</td>\n",
       "      <td>4.0</td>\n",
       "    </tr>\n",
       "  </tbody>\n",
       "</table>\n",
       "</div>"
      ],
      "text/plain": [
       "   key  data1  data2\n",
       "0    b    0.0    1.0\n",
       "1    b    0.0    3.0\n",
       "2    b    1.0    1.0\n",
       "3    b    1.0    3.0\n",
       "4    b    6.0    1.0\n",
       "5    b    6.0    3.0\n",
       "6    a    2.0    0.0\n",
       "7    a    4.0    0.0\n",
       "8    a    5.0    0.0\n",
       "9    c    3.0    NaN\n",
       "10   d    NaN    2.0\n",
       "11   d    NaN    4.0"
      ]
     },
     "execution_count": 35,
     "metadata": {
      "tags": []
     },
     "output_type": "execute_result"
    }
   ],
   "source": [
    "# O parâmetro \"how='outer'\" pode ser utilizado para forçar que valores presentes\n",
    "# em apenas um dos DataFrames apareçam no resutlado do 'merge'. Neste caso, um valor\n",
    "# 'NaN' é utilizado para marcar o dado faltante em um dos DataFrames\n",
    "\n",
    "# how = 'outer' --> união entre os dados\n",
    "# how = 'inner' --> intersecção entre os dados (default, utilizado no exemplo anterior)\n",
    "\n",
    "pd.merge(df1,df2,on='key',how='outer')  # o valor 'c' aparece na coluna 'key'\n",
    "                                        # apenas em df1, enquanto o valor 'd'\n",
    "                                        # aparece apenas em df2    "
   ]
  },
  {
   "cell_type": "code",
   "execution_count": 36,
   "metadata": {
    "colab": {
     "base_uri": "https://localhost:8080/",
     "height": 421
    },
    "executionInfo": {
     "elapsed": 669,
     "status": "ok",
     "timestamp": 1615471207265,
     "user": {
      "displayName": "Moisés Rocha dos Santos",
      "photoUrl": "https://lh3.googleusercontent.com/a-/AOh14GibTBRTi_dNo8fVn5eJmxJxxTCqGLtdRIwf_lD2=s64",
      "userId": "12530905896628174712"
     },
     "user_tz": 180
    },
    "id": "XqLTxcore44x",
    "outputId": "2f2860bf-eba8-4024-e5bb-e36e69863590"
   },
   "outputs": [
    {
     "data": {
      "text/html": [
       "<div>\n",
       "<style scoped>\n",
       "    .dataframe tbody tr th:only-of-type {\n",
       "        vertical-align: middle;\n",
       "    }\n",
       "\n",
       "    .dataframe tbody tr th {\n",
       "        vertical-align: top;\n",
       "    }\n",
       "\n",
       "    .dataframe thead th {\n",
       "        text-align: right;\n",
       "    }\n",
       "</style>\n",
       "<table border=\"1\" class=\"dataframe\">\n",
       "  <thead>\n",
       "    <tr style=\"text-align: right;\">\n",
       "      <th></th>\n",
       "      <th>key1</th>\n",
       "      <th>data1</th>\n",
       "      <th>key2</th>\n",
       "      <th>data2</th>\n",
       "    </tr>\n",
       "  </thead>\n",
       "  <tbody>\n",
       "    <tr>\n",
       "      <th>0</th>\n",
       "      <td>b</td>\n",
       "      <td>0.0</td>\n",
       "      <td>b</td>\n",
       "      <td>1.0</td>\n",
       "    </tr>\n",
       "    <tr>\n",
       "      <th>1</th>\n",
       "      <td>b</td>\n",
       "      <td>0.0</td>\n",
       "      <td>b</td>\n",
       "      <td>3.0</td>\n",
       "    </tr>\n",
       "    <tr>\n",
       "      <th>2</th>\n",
       "      <td>b</td>\n",
       "      <td>1.0</td>\n",
       "      <td>b</td>\n",
       "      <td>1.0</td>\n",
       "    </tr>\n",
       "    <tr>\n",
       "      <th>3</th>\n",
       "      <td>b</td>\n",
       "      <td>1.0</td>\n",
       "      <td>b</td>\n",
       "      <td>3.0</td>\n",
       "    </tr>\n",
       "    <tr>\n",
       "      <th>4</th>\n",
       "      <td>b</td>\n",
       "      <td>6.0</td>\n",
       "      <td>b</td>\n",
       "      <td>1.0</td>\n",
       "    </tr>\n",
       "    <tr>\n",
       "      <th>5</th>\n",
       "      <td>b</td>\n",
       "      <td>6.0</td>\n",
       "      <td>b</td>\n",
       "      <td>3.0</td>\n",
       "    </tr>\n",
       "    <tr>\n",
       "      <th>6</th>\n",
       "      <td>a</td>\n",
       "      <td>2.0</td>\n",
       "      <td>a</td>\n",
       "      <td>0.0</td>\n",
       "    </tr>\n",
       "    <tr>\n",
       "      <th>7</th>\n",
       "      <td>a</td>\n",
       "      <td>4.0</td>\n",
       "      <td>a</td>\n",
       "      <td>0.0</td>\n",
       "    </tr>\n",
       "    <tr>\n",
       "      <th>8</th>\n",
       "      <td>a</td>\n",
       "      <td>5.0</td>\n",
       "      <td>a</td>\n",
       "      <td>0.0</td>\n",
       "    </tr>\n",
       "    <tr>\n",
       "      <th>9</th>\n",
       "      <td>c</td>\n",
       "      <td>3.0</td>\n",
       "      <td>NaN</td>\n",
       "      <td>NaN</td>\n",
       "    </tr>\n",
       "    <tr>\n",
       "      <th>10</th>\n",
       "      <td>NaN</td>\n",
       "      <td>NaN</td>\n",
       "      <td>d</td>\n",
       "      <td>2.0</td>\n",
       "    </tr>\n",
       "    <tr>\n",
       "      <th>11</th>\n",
       "      <td>NaN</td>\n",
       "      <td>NaN</td>\n",
       "      <td>d</td>\n",
       "      <td>4.0</td>\n",
       "    </tr>\n",
       "  </tbody>\n",
       "</table>\n",
       "</div>"
      ],
      "text/plain": [
       "   key1  data1 key2  data2\n",
       "0     b    0.0    b    1.0\n",
       "1     b    0.0    b    3.0\n",
       "2     b    1.0    b    1.0\n",
       "3     b    1.0    b    3.0\n",
       "4     b    6.0    b    1.0\n",
       "5     b    6.0    b    3.0\n",
       "6     a    2.0    a    0.0\n",
       "7     a    4.0    a    0.0\n",
       "8     a    5.0    a    0.0\n",
       "9     c    3.0  NaN    NaN\n",
       "10  NaN    NaN    d    2.0\n",
       "11  NaN    NaN    d    4.0"
      ]
     },
     "execution_count": 36,
     "metadata": {
      "tags": []
     },
     "output_type": "execute_result"
    }
   ],
   "source": [
    "# Quando os DataFrames não possuem colunas com o mesmo rótulo, é possível \n",
    "# especificar quais colunas serão utilizadas em cada DataFrame por meio\n",
    "# dos parâmetros 'left_on' e 'right_on'\n",
    "\n",
    "df1 = pd.DataFrame({'key1': ['b','b','a','c','a','a','b'], # os DataFrames df1 e df2 nao \n",
    "                   'data1': range(7)})                     # possuem colunas com mesmo rótulo\n",
    "\n",
    "df2 = pd.DataFrame({'key2': ['a','b','d','b','d'],  \n",
    "                   'data2': range(5)})\n",
    "\n",
    "pd.merge(df1, df2,left_on='key1',right_on='key2',how='outer') \n",
    "            # 'left_on' se refere a coluna do DataFrame correspondendo ao primeiro parâmetro \n",
    "            # (parâmetro da esquerda), neste exemplo, df1\n",
    "            # 'right_on' se refere a coluna do DataFrame correspondendo ao segundo parâmetro \n",
    "            # (parâmetro da direita), neste exemplo, df2\n",
    "            # Note que neste caso ambas as colunas são inseridas no DataFrame resultante"
   ]
  },
  {
   "cell_type": "markdown",
   "metadata": {
    "id": "_CxCaYOke44x"
   },
   "source": [
    "#### Merge baseado nos valores de uma coluna em um DataFrame e rótulos das linhas no outro DataFrame\n",
    "Para realizar o merging com base em colunas e rótulos, deve-se especificar os parâmetros\n",
    "'left\\_on', 'right\\_on', 'left\\_index' e 'right\\_index' de forma apropriada.\n",
    "- __left\\_on__ = nome da coluna a ser utilizada no DataFrame da esquerda (primeiro parâmetro)\n",
    "- __left\\_index__ = True indica que os rótulos das linhas no DataFrame da esquerda (primeiro parâmetro) serão utilizados \n",
    "- __right\\_on__ = nome da coluna a ser utilizada no DataFrame da direita (segundo parâmetro)\n",
    "- __right\\_index__ = True indica que os rótulos das linhas no DataFrame da direita (segundo parâmetro) serão utilizados \n",
    "\n",
    "**Obs:** Se o parâmetro __left\\_on__ for utilizando, não se pode empregrar ao mesmo tempo __left\\_index__. O mesmo vale para o uso concomitante de __right\\_on__ e __right\\_index__."
   ]
  },
  {
   "cell_type": "code",
   "execution_count": 37,
   "metadata": {
    "colab": {
     "base_uri": "https://localhost:8080/",
     "height": 515
    },
    "executionInfo": {
     "elapsed": 669,
     "status": "ok",
     "timestamp": 1615471212482,
     "user": {
      "displayName": "Moisés Rocha dos Santos",
      "photoUrl": "https://lh3.googleusercontent.com/a-/AOh14GibTBRTi_dNo8fVn5eJmxJxxTCqGLtdRIwf_lD2=s64",
      "userId": "12530905896628174712"
     },
     "user_tz": 180
    },
    "id": "tGBM0PNXe44x",
    "outputId": "e295608c-da62-4c98-b1c2-ee2e76446111"
   },
   "outputs": [
    {
     "name": "stdout",
     "output_type": "stream",
     "text": [
      "  key  value\n",
      "0   a      0\n",
      "1   b      1\n",
      "2   a      2\n",
      "3   a      3\n",
      "4   b      4\n",
      "5   c      5\n",
      "   group_val\n",
      "a        3.5\n",
      "b        7.0\n",
      "a        3.0\n"
     ]
    },
    {
     "data": {
      "text/html": [
       "<div>\n",
       "<style scoped>\n",
       "    .dataframe tbody tr th:only-of-type {\n",
       "        vertical-align: middle;\n",
       "    }\n",
       "\n",
       "    .dataframe tbody tr th {\n",
       "        vertical-align: top;\n",
       "    }\n",
       "\n",
       "    .dataframe thead th {\n",
       "        text-align: right;\n",
       "    }\n",
       "</style>\n",
       "<table border=\"1\" class=\"dataframe\">\n",
       "  <thead>\n",
       "    <tr style=\"text-align: right;\">\n",
       "      <th></th>\n",
       "      <th>key</th>\n",
       "      <th>value</th>\n",
       "      <th>group_val</th>\n",
       "    </tr>\n",
       "  </thead>\n",
       "  <tbody>\n",
       "    <tr>\n",
       "      <th>0</th>\n",
       "      <td>a</td>\n",
       "      <td>0</td>\n",
       "      <td>3.5</td>\n",
       "    </tr>\n",
       "    <tr>\n",
       "      <th>0</th>\n",
       "      <td>a</td>\n",
       "      <td>0</td>\n",
       "      <td>3.0</td>\n",
       "    </tr>\n",
       "    <tr>\n",
       "      <th>2</th>\n",
       "      <td>a</td>\n",
       "      <td>2</td>\n",
       "      <td>3.5</td>\n",
       "    </tr>\n",
       "    <tr>\n",
       "      <th>2</th>\n",
       "      <td>a</td>\n",
       "      <td>2</td>\n",
       "      <td>3.0</td>\n",
       "    </tr>\n",
       "    <tr>\n",
       "      <th>3</th>\n",
       "      <td>a</td>\n",
       "      <td>3</td>\n",
       "      <td>3.5</td>\n",
       "    </tr>\n",
       "    <tr>\n",
       "      <th>3</th>\n",
       "      <td>a</td>\n",
       "      <td>3</td>\n",
       "      <td>3.0</td>\n",
       "    </tr>\n",
       "    <tr>\n",
       "      <th>1</th>\n",
       "      <td>b</td>\n",
       "      <td>1</td>\n",
       "      <td>7.0</td>\n",
       "    </tr>\n",
       "    <tr>\n",
       "      <th>4</th>\n",
       "      <td>b</td>\n",
       "      <td>4</td>\n",
       "      <td>7.0</td>\n",
       "    </tr>\n",
       "    <tr>\n",
       "      <th>5</th>\n",
       "      <td>c</td>\n",
       "      <td>5</td>\n",
       "      <td>NaN</td>\n",
       "    </tr>\n",
       "  </tbody>\n",
       "</table>\n",
       "</div>"
      ],
      "text/plain": [
       "  key  value  group_val\n",
       "0   a      0        3.5\n",
       "0   a      0        3.0\n",
       "2   a      2        3.5\n",
       "2   a      2        3.0\n",
       "3   a      3        3.5\n",
       "3   a      3        3.0\n",
       "1   b      1        7.0\n",
       "4   b      4        7.0\n",
       "5   c      5        NaN"
      ]
     },
     "execution_count": 37,
     "metadata": {
      "tags": []
     },
     "output_type": "execute_result"
    }
   ],
   "source": [
    "df1 = pd.DataFrame({'key': ['a','b','a','a','b','c'], 'value': range(6)})\n",
    "\n",
    "df2 = pd.DataFrame({'group_val': [3.5, 7, 3.0]}, index=['a', 'b', 'a'])\n",
    "\n",
    "print(df1)\n",
    "print(df2)\n",
    "\n",
    "# Merge utilizando a coluna \"key\" de df1 e os rótulos das linhas em df2\n",
    "pd.merge(df1, df2, left_on='key', right_index=True,how='outer')"
   ]
  },
  {
   "cell_type": "code",
   "execution_count": 38,
   "metadata": {
    "colab": {
     "base_uri": "https://localhost:8080/",
     "height": 312
    },
    "executionInfo": {
     "elapsed": 709,
     "status": "ok",
     "timestamp": 1615471215627,
     "user": {
      "displayName": "Moisés Rocha dos Santos",
      "photoUrl": "https://lh3.googleusercontent.com/a-/AOh14GibTBRTi_dNo8fVn5eJmxJxxTCqGLtdRIwf_lD2=s64",
      "userId": "12530905896628174712"
     },
     "user_tz": 180
    },
    "id": "xrYZ3YL-e44x",
    "outputId": "0ff1166b-646d-4773-efe7-f66961e2a17d"
   },
   "outputs": [
    {
     "name": "stdout",
     "output_type": "stream",
     "text": [
      "   Ohio  Nevada\n",
      "a     1       2\n",
      "c     3       4\n",
      "e     5       6\n",
      "   Missouri  Alabama\n",
      "b         7        8\n",
      "c         9       10\n",
      "d        11       12\n",
      "e        13       14\n",
      "e         0        5\n"
     ]
    },
    {
     "data": {
      "text/html": [
       "<div>\n",
       "<style scoped>\n",
       "    .dataframe tbody tr th:only-of-type {\n",
       "        vertical-align: middle;\n",
       "    }\n",
       "\n",
       "    .dataframe tbody tr th {\n",
       "        vertical-align: top;\n",
       "    }\n",
       "\n",
       "    .dataframe thead th {\n",
       "        text-align: right;\n",
       "    }\n",
       "</style>\n",
       "<table border=\"1\" class=\"dataframe\">\n",
       "  <thead>\n",
       "    <tr style=\"text-align: right;\">\n",
       "      <th></th>\n",
       "      <th>Ohio</th>\n",
       "      <th>Nevada</th>\n",
       "      <th>Missouri</th>\n",
       "      <th>Alabama</th>\n",
       "    </tr>\n",
       "  </thead>\n",
       "  <tbody>\n",
       "    <tr>\n",
       "      <th>c</th>\n",
       "      <td>3</td>\n",
       "      <td>4</td>\n",
       "      <td>9</td>\n",
       "      <td>10</td>\n",
       "    </tr>\n",
       "    <tr>\n",
       "      <th>e</th>\n",
       "      <td>5</td>\n",
       "      <td>6</td>\n",
       "      <td>13</td>\n",
       "      <td>14</td>\n",
       "    </tr>\n",
       "    <tr>\n",
       "      <th>e</th>\n",
       "      <td>5</td>\n",
       "      <td>6</td>\n",
       "      <td>0</td>\n",
       "      <td>5</td>\n",
       "    </tr>\n",
       "  </tbody>\n",
       "</table>\n",
       "</div>"
      ],
      "text/plain": [
       "   Ohio  Nevada  Missouri  Alabama\n",
       "c     3       4         9       10\n",
       "e     5       6        13       14\n",
       "e     5       6         0        5"
      ]
     },
     "execution_count": 38,
     "metadata": {
      "tags": []
     },
     "output_type": "execute_result"
    }
   ],
   "source": [
    "# criando DataFrames a partir de lista de listas e especificando rótulos de linha e coluna\n",
    "df1 = pd.DataFrame([[1,2],[3,4],[5,6]], \n",
    "        index=['a','c','e'], columns=['Ohio','Nevada'])\n",
    "\n",
    "df2 = pd.DataFrame([[7,8],[9,10],[11,12],[13,14],[0,5]], \n",
    "        index=['b','c','d','e','e'],\n",
    "        columns=['Missouri','Alabama'])\n",
    "\n",
    "print(df1)\n",
    "print(df2)\n",
    "\n",
    "# merge utilizando rótulos dos dois DataFrames, \n",
    "# o parâmetro 'inner' (default, pode ser omitido) faz \n",
    "# com que apenas os rótulos que aparecem em ambos sejam considerados\n",
    "pd.merge(df1, df2, left_index=True, right_index=True, how='inner')"
   ]
  },
  {
   "cell_type": "markdown",
   "metadata": {
    "id": "OS2HHSIYe44x"
   },
   "source": [
    "### <font color='blue'>concat</font>\n",
    "O método <font color='blue'>concat</font> é utilizado para juntar DataFrames ou Séries com base em um dos eixos.\n",
    "- __axis = 0__ concatena por linhas \n",
    "- __axis = 1__ concatena por colunas. Quando empregado em um conjunto de séries resulta em um DataFrame\n",
    "\n",
    "O método assume como parâmetro uma lista de DataFrames ou Séries."
   ]
  },
  {
   "cell_type": "code",
   "execution_count": 39,
   "metadata": {
    "colab": {
     "base_uri": "https://localhost:8080/"
    },
    "executionInfo": {
     "elapsed": 637,
     "status": "ok",
     "timestamp": 1615471219470,
     "user": {
      "displayName": "Moisés Rocha dos Santos",
      "photoUrl": "https://lh3.googleusercontent.com/a-/AOh14GibTBRTi_dNo8fVn5eJmxJxxTCqGLtdRIwf_lD2=s64",
      "userId": "12530905896628174712"
     },
     "user_tz": 180
    },
    "id": "lPkNGRn6e44y",
    "outputId": "388af7f9-f0ca-4170-a909-673b0fde87cb"
   },
   "outputs": [
    {
     "name": "stdout",
     "output_type": "stream",
     "text": [
      "a    0\n",
      "b    1\n",
      "dtype: int64\n",
      "c    2\n",
      "d    3\n",
      "e    4\n",
      "dtype: int64\n",
      "a    1\n",
      "f    5\n",
      "d    6\n",
      "dtype: int64\n"
     ]
    },
    {
     "data": {
      "text/plain": [
       "a    0\n",
       "b    1\n",
       "c    2\n",
       "d    3\n",
       "e    4\n",
       "a    1\n",
       "f    5\n",
       "d    6\n",
       "dtype: int64"
      ]
     },
     "execution_count": 39,
     "metadata": {
      "tags": []
     },
     "output_type": "execute_result"
    }
   ],
   "source": [
    "# Construindo 3 séries especificando os rótulos das linhas\n",
    "s1 = pd.Series([0, 1], index=['a', 'b'])\n",
    "s2 = pd.Series([2, 3, 4], index=['c', 'd', 'e'])\n",
    "s3 = pd.Series([1,5, 6], index=['a','f', 'd']) \n",
    "print(s1)\n",
    "print(s2)\n",
    "print(s3)\n",
    "\n",
    "# Contatenando as 3 séries na vertical (axis=0 por default)\n",
    "# o resultado é uma nova séria (rótulos podem estar repetidos)\n",
    "pd.concat([s1,s2,s3])"
   ]
  },
  {
   "cell_type": "code",
   "execution_count": 40,
   "metadata": {
    "colab": {
     "base_uri": "https://localhost:8080/"
    },
    "executionInfo": {
     "elapsed": 646,
     "status": "ok",
     "timestamp": 1615471280541,
     "user": {
      "displayName": "Moisés Rocha dos Santos",
      "photoUrl": "https://lh3.googleusercontent.com/a-/AOh14GibTBRTi_dNo8fVn5eJmxJxxTCqGLtdRIwf_lD2=s64",
      "userId": "12530905896628174712"
     },
     "user_tz": 180
    },
    "id": "-m1vv-Lye44y",
    "outputId": "1078ee83-6b47-4f5c-b315-d4c1c9fc8626"
   },
   "outputs": [
    {
     "name": "stdout",
     "output_type": "stream",
     "text": [
      "     0    1    2\n",
      "a  0.0  NaN  1.0\n",
      "b  1.0  NaN  NaN\n",
      "c  NaN  2.0  NaN\n",
      "d  NaN  3.0  6.0\n",
      "e  NaN  4.0  NaN\n",
      "f  NaN  NaN  5.0\n"
     ]
    }
   ],
   "source": [
    "# concatenando as 3 séries por colunas especificando o parâmetro 'axis=1'\n",
    "# o resutado é um DataFrame\n",
    "print(pd.concat([s1,s2,s3],axis=1))"
   ]
  },
  {
   "cell_type": "markdown",
   "metadata": {
    "id": "zS9WqSSXe44y"
   },
   "source": [
    "## Estatísticas\n",
    "O <font color='blue'> pandas</font> possui vários métodos para se calcular estatísticas básicas em um DataFrame (ou série). Uma lista dos métodos estatíticos disponíveis pode ser encontrada [aqui](https://chrisalbon.com/python/data_wrangling/pandas_dataframe_descriptive_stats/) \n",
    "\n",
    "A maioria dos métodos estatísticos são agregações, isto é, produzem um escalar a partir de conjuntos de números. Quando aplicados a um DataFrame, aceitam o argumento `axis` para definir se as estatísticas serão calculadas nas linhas ou colunas (o padrão é `axis = 0`)."
   ]
  },
  {
   "cell_type": "code",
   "execution_count": 41,
   "metadata": {
    "executionInfo": {
     "elapsed": 807,
     "status": "ok",
     "timestamp": 1615471283969,
     "user": {
      "displayName": "Moisés Rocha dos Santos",
      "photoUrl": "https://lh3.googleusercontent.com/a-/AOh14GibTBRTi_dNo8fVn5eJmxJxxTCqGLtdRIwf_lD2=s64",
      "userId": "12530905896628174712"
     },
     "user_tz": 180
    },
    "id": "FHd_GLXxe44y"
   },
   "outputs": [],
   "source": [
    "import numpy as np\n",
    "import pandas as pd"
   ]
  },
  {
   "cell_type": "code",
   "execution_count": 42,
   "metadata": {
    "colab": {
     "base_uri": "https://localhost:8080/",
     "height": 359
    },
    "executionInfo": {
     "elapsed": 813,
     "status": "ok",
     "timestamp": 1615471285889,
     "user": {
      "displayName": "Moisés Rocha dos Santos",
      "photoUrl": "https://lh3.googleusercontent.com/a-/AOh14GibTBRTi_dNo8fVn5eJmxJxxTCqGLtdRIwf_lD2=s64",
      "userId": "12530905896628174712"
     },
     "user_tz": 180
    },
    "id": "tbSDZVd5e44z",
    "outputId": "a8932203-5cbd-4cc5-9f62-d852aa6fe0ae"
   },
   "outputs": [
    {
     "data": {
      "text/html": [
       "<div>\n",
       "<style scoped>\n",
       "    .dataframe tbody tr th:only-of-type {\n",
       "        vertical-align: middle;\n",
       "    }\n",
       "\n",
       "    .dataframe tbody tr th {\n",
       "        vertical-align: top;\n",
       "    }\n",
       "\n",
       "    .dataframe thead th {\n",
       "        text-align: right;\n",
       "    }\n",
       "</style>\n",
       "<table border=\"1\" class=\"dataframe\">\n",
       "  <thead>\n",
       "    <tr style=\"text-align: right;\">\n",
       "      <th></th>\n",
       "      <th>c0</th>\n",
       "      <th>c1</th>\n",
       "      <th>c2</th>\n",
       "    </tr>\n",
       "  </thead>\n",
       "  <tbody>\n",
       "    <tr>\n",
       "      <th>0</th>\n",
       "      <td>4.496732</td>\n",
       "      <td>7.793260</td>\n",
       "      <td>9.502547</td>\n",
       "    </tr>\n",
       "    <tr>\n",
       "      <th>1</th>\n",
       "      <td>0.829200</td>\n",
       "      <td>5.405365</td>\n",
       "      <td>7.209914</td>\n",
       "    </tr>\n",
       "    <tr>\n",
       "      <th>2</th>\n",
       "      <td>9.142645</td>\n",
       "      <td>5.164581</td>\n",
       "      <td>6.088182</td>\n",
       "    </tr>\n",
       "    <tr>\n",
       "      <th>3</th>\n",
       "      <td>3.240716</td>\n",
       "      <td>4.824630</td>\n",
       "      <td>8.401029</td>\n",
       "    </tr>\n",
       "    <tr>\n",
       "      <th>4</th>\n",
       "      <td>3.546542</td>\n",
       "      <td>6.224165</td>\n",
       "      <td>3.026196</td>\n",
       "    </tr>\n",
       "    <tr>\n",
       "      <th>5</th>\n",
       "      <td>4.437549</td>\n",
       "      <td>1.090673</td>\n",
       "      <td>9.665221</td>\n",
       "    </tr>\n",
       "    <tr>\n",
       "      <th>6</th>\n",
       "      <td>9.160455</td>\n",
       "      <td>7.462843</td>\n",
       "      <td>7.341343</td>\n",
       "    </tr>\n",
       "    <tr>\n",
       "      <th>7</th>\n",
       "      <td>8.031577</td>\n",
       "      <td>4.018805</td>\n",
       "      <td>3.270475</td>\n",
       "    </tr>\n",
       "    <tr>\n",
       "      <th>8</th>\n",
       "      <td>7.434698</td>\n",
       "      <td>3.460578</td>\n",
       "      <td>1.152409</td>\n",
       "    </tr>\n",
       "    <tr>\n",
       "      <th>9</th>\n",
       "      <td>8.712987</td>\n",
       "      <td>6.080305</td>\n",
       "      <td>4.779119</td>\n",
       "    </tr>\n",
       "  </tbody>\n",
       "</table>\n",
       "</div>"
      ],
      "text/plain": [
       "         c0        c1        c2\n",
       "0  4.496732  7.793260  9.502547\n",
       "1  0.829200  5.405365  7.209914\n",
       "2  9.142645  5.164581  6.088182\n",
       "3  3.240716  4.824630  8.401029\n",
       "4  3.546542  6.224165  3.026196\n",
       "5  4.437549  1.090673  9.665221\n",
       "6  9.160455  7.462843  7.341343\n",
       "7  8.031577  4.018805  3.270475\n",
       "8  7.434698  3.460578  1.152409\n",
       "9  8.712987  6.080305  4.779119"
      ]
     },
     "execution_count": 42,
     "metadata": {
      "tags": []
     },
     "output_type": "execute_result"
    }
   ],
   "source": [
    "\n",
    "D = np.random.uniform(low=0.0,high=10,size=(10,3)) # matriz 10x3 com números randômicos entre\n",
    "                                                   # 0 e 10\n",
    "\n",
    "df = pd.DataFrame(data=D,columns=['c0','c1','c2']) # constrói o DataFrame a partir do array\n",
    "                                                   # especificando o rótulo das colunas\n",
    "df"
   ]
  },
  {
   "cell_type": "code",
   "execution_count": 43,
   "metadata": {
    "colab": {
     "base_uri": "https://localhost:8080/"
    },
    "executionInfo": {
     "elapsed": 757,
     "status": "ok",
     "timestamp": 1615471288544,
     "user": {
      "displayName": "Moisés Rocha dos Santos",
      "photoUrl": "https://lh3.googleusercontent.com/a-/AOh14GibTBRTi_dNo8fVn5eJmxJxxTCqGLtdRIwf_lD2=s64",
      "userId": "12530905896628174712"
     },
     "user_tz": 180
    },
    "id": "JfxQO8Vbe44z",
    "outputId": "56eee268-723a-4b6d-ac2a-ee9366d3f089"
   },
   "outputs": [
    {
     "name": "stdout",
     "output_type": "stream",
     "text": [
      "soma colunas\n",
      "c0    59.033102\n",
      "c1    51.525204\n",
      "c2    60.436435\n",
      "dtype: float64\n",
      "\n",
      "soma linhas\n",
      "0    21.792539\n",
      "1    13.444479\n",
      "2    20.395408\n",
      "3    16.466376\n",
      "4    12.796903\n",
      "5    15.193442\n",
      "6    23.964642\n",
      "7    15.320857\n",
      "8    12.047685\n",
      "9    19.572411\n",
      "dtype: float64\n"
     ]
    }
   ],
   "source": [
    "# Somando os eixos de um DataFrame\n",
    "\n",
    "print('soma colunas')\n",
    "print(df.sum(axis=0)) # resultado é uma série onde os rótulos das linhas são os \n",
    "                      # rótulos das colunas do DataFrame\n",
    "    \n",
    "print('\\nsoma linhas')\n",
    "print(df.sum(axis=1)) # resultado é uma série com os mesmos rótulos das linhas do \n",
    "                      # DataFrame original"
   ]
  },
  {
   "cell_type": "code",
   "execution_count": 44,
   "metadata": {
    "colab": {
     "base_uri": "https://localhost:8080/"
    },
    "executionInfo": {
     "elapsed": 708,
     "status": "ok",
     "timestamp": 1615471291308,
     "user": {
      "displayName": "Moisés Rocha dos Santos",
      "photoUrl": "https://lh3.googleusercontent.com/a-/AOh14GibTBRTi_dNo8fVn5eJmxJxxTCqGLtdRIwf_lD2=s64",
      "userId": "12530905896628174712"
     },
     "user_tz": 180
    },
    "id": "JzECE5Bne44z",
    "outputId": "6cb475ab-18e6-49d0-e37e-6a4339b6abd7"
   },
   "outputs": [
    {
     "name": "stdout",
     "output_type": "stream",
     "text": [
      "media por colunas\n",
      "c0    5.903310\n",
      "c1    5.152520\n",
      "c2    6.043643\n",
      "dtype: float64\n",
      "\n",
      "media linhas\n",
      "0    7.264180\n",
      "1    4.481493\n",
      "2    6.798469\n",
      "3    5.488792\n",
      "4    4.265634\n",
      "5    5.064481\n",
      "6    7.988214\n",
      "7    5.106952\n",
      "8    4.015895\n",
      "9    6.524137\n",
      "dtype: float64\n"
     ]
    }
   ],
   "source": [
    "# Calculando a média em um eixo determinado\n",
    "\n",
    "print('media por colunas')\n",
    "print(df.mean(axis=0))  # calcula a média dos valores em cada coluna\n",
    "                        # resultado é uma série onde os rótulos das linhas são os \n",
    "                        # rótulos das colunas do DataFrame\n",
    "        \n",
    "print('\\nmedia linhas')\n",
    "print(df.mean(axis=1)) # calcula a média dos valores em cada linha\n",
    "                       # resultado é uma série com os mesmos rótulos das linhas do \n",
    "                       # DataFrame original"
   ]
  },
  {
   "cell_type": "code",
   "execution_count": 46,
   "metadata": {
    "colab": {
     "base_uri": "https://localhost:8080/",
     "height": 297
    },
    "executionInfo": {
     "elapsed": 797,
     "status": "ok",
     "timestamp": 1615471508982,
     "user": {
      "displayName": "Moisés Rocha dos Santos",
      "photoUrl": "https://lh3.googleusercontent.com/a-/AOh14GibTBRTi_dNo8fVn5eJmxJxxTCqGLtdRIwf_lD2=s64",
      "userId": "12530905896628174712"
     },
     "user_tz": 180
    },
    "id": "vKC2gIBJe44z",
    "outputId": "43c5b561-c7e3-457a-cc89-7bcc5e888ecf"
   },
   "outputs": [
    {
     "data": {
      "text/html": [
       "<div>\n",
       "<style scoped>\n",
       "    .dataframe tbody tr th:only-of-type {\n",
       "        vertical-align: middle;\n",
       "    }\n",
       "\n",
       "    .dataframe tbody tr th {\n",
       "        vertical-align: top;\n",
       "    }\n",
       "\n",
       "    .dataframe thead th {\n",
       "        text-align: right;\n",
       "    }\n",
       "</style>\n",
       "<table border=\"1\" class=\"dataframe\">\n",
       "  <thead>\n",
       "    <tr style=\"text-align: right;\">\n",
       "      <th></th>\n",
       "      <th>c0</th>\n",
       "      <th>c1</th>\n",
       "      <th>c2</th>\n",
       "    </tr>\n",
       "  </thead>\n",
       "  <tbody>\n",
       "    <tr>\n",
       "      <th>count</th>\n",
       "      <td>10.000000</td>\n",
       "      <td>10.000000</td>\n",
       "      <td>10.000000</td>\n",
       "    </tr>\n",
       "    <tr>\n",
       "      <th>mean</th>\n",
       "      <td>5.903310</td>\n",
       "      <td>5.152520</td>\n",
       "      <td>6.043643</td>\n",
       "    </tr>\n",
       "    <tr>\n",
       "      <th>std</th>\n",
       "      <td>2.951243</td>\n",
       "      <td>1.975924</td>\n",
       "      <td>2.905970</td>\n",
       "    </tr>\n",
       "    <tr>\n",
       "      <th>min</th>\n",
       "      <td>0.829200</td>\n",
       "      <td>1.090673</td>\n",
       "      <td>1.152409</td>\n",
       "    </tr>\n",
       "    <tr>\n",
       "      <th>25%</th>\n",
       "      <td>3.769294</td>\n",
       "      <td>4.220262</td>\n",
       "      <td>3.647636</td>\n",
       "    </tr>\n",
       "    <tr>\n",
       "      <th>50%</th>\n",
       "      <td>5.965715</td>\n",
       "      <td>5.284973</td>\n",
       "      <td>6.649048</td>\n",
       "    </tr>\n",
       "    <tr>\n",
       "      <th>75%</th>\n",
       "      <td>8.542634</td>\n",
       "      <td>6.188200</td>\n",
       "      <td>8.136108</td>\n",
       "    </tr>\n",
       "    <tr>\n",
       "      <th>max</th>\n",
       "      <td>9.160455</td>\n",
       "      <td>7.793260</td>\n",
       "      <td>9.665221</td>\n",
       "    </tr>\n",
       "  </tbody>\n",
       "</table>\n",
       "</div>"
      ],
      "text/plain": [
       "              c0         c1         c2\n",
       "count  10.000000  10.000000  10.000000\n",
       "mean    5.903310   5.152520   6.043643\n",
       "std     2.951243   1.975924   2.905970\n",
       "min     0.829200   1.090673   1.152409\n",
       "25%     3.769294   4.220262   3.647636\n",
       "50%     5.965715   5.284973   6.649048\n",
       "75%     8.542634   6.188200   8.136108\n",
       "max     9.160455   7.793260   9.665221"
      ]
     },
     "execution_count": 46,
     "metadata": {
      "tags": []
     },
     "output_type": "execute_result"
    }
   ],
   "source": [
    "# O método 'describe' fornece um resumo estatístico das colunas do DataFrame\n",
    "\n",
    "df.describe() # o resultado é um DataFrame onde as linhas correspondem\n",
    "              # a medidas estatísticas de cada coluna\n",
    "              # Por exemplo, a linha com rótulo '25%' informa o valor do primeiro quartil\n",
    "              # de cada coluna. A linha com rótulo 'min' o valor mínimo em cada coluna"
   ]
  },
  {
   "cell_type": "markdown",
   "metadata": {
    "id": "S3HDrqN2e2RM"
   },
   "source": [
    "## <font color=\"blue\">Pandas Parte II - Solução dos Exercícios</font>"
   ]
  },
  {
   "cell_type": "markdown",
   "metadata": {
    "id": "imHLrrGVe2RR"
   },
   "source": [
    "Os exercícios a seguir farão uso do arquivo <font style=\"font-family: monaco\">ESC2013\\_RMSP\\_CEM.csv</font> disponível para download no sistema _Moodle_. Este conjunto de dados fornece informações a respeito das escolas de ensino básico, fundamental e médio do estado de São Paulo. O significado de cada coluna pode ser encontrado no arquivo <font style=\"font-family: monaco\">DicionarioESC.pdf</font> também disponível no moodle."
   ]
  },
  {
   "cell_type": "code",
   "execution_count": 1,
   "metadata": {
    "executionInfo": {
     "elapsed": 822,
     "status": "ok",
     "timestamp": 1615471605845,
     "user": {
      "displayName": "Moisés Rocha dos Santos",
      "photoUrl": "https://lh3.googleusercontent.com/a-/AOh14GibTBRTi_dNo8fVn5eJmxJxxTCqGLtdRIwf_lD2=s64",
      "userId": "12530905896628174712"
     },
     "user_tz": 180
    },
    "id": "K-Z0sa2ne2RR"
   },
   "outputs": [],
   "source": [
    "import numpy as np\n",
    "import pandas as pd\n",
    "import matplotlib.pyplot as plt"
   ]
  },
  {
   "cell_type": "code",
   "execution_count": 2,
   "metadata": {
    "executionInfo": {
     "elapsed": 654,
     "status": "ok",
     "timestamp": 1615471610962,
     "user": {
      "displayName": "Moisés Rocha dos Santos",
      "photoUrl": "https://lh3.googleusercontent.com/a-/AOh14GibTBRTi_dNo8fVn5eJmxJxxTCqGLtdRIwf_lD2=s64",
      "userId": "12530905896628174712"
     },
     "user_tz": 180
    },
    "id": "-MPY3g9le2RR"
   },
   "outputs": [],
   "source": [
    "# Os comandos abaixo são apenas para modificar como as informações serão apresentadas\n",
    "# no jupyter notebook\n",
    "\n",
    "# mostra no máximo 50 colunas\n",
    "pd.set_option('display.max_columns', 50)\n",
    "\n",
    "# aumenta o tamanho das figuras geradas pelo matplotlib\n",
    "plt.rcParams['figure.figsize'] = (10.0, 8.0)"
   ]
  },
  {
   "cell_type": "markdown",
   "metadata": {
    "id": "eAwc2NwLe2RS"
   },
   "source": [
    "### Exercício 1)\n",
    "Carregue o arquivo <font style=\"font-family: monaco\">ESC2013\\_RMSP\\_CEM.csv</font> e armazene-o em uma variável DataFrame chamada `escolas`. Visualize as primeiras 5 linhas do DataFrame."
   ]
  },
  {
   "cell_type": "code",
   "execution_count": 3,
   "metadata": {
    "colab": {
     "base_uri": "https://localhost:8080/",
     "height": 474
    },
    "executionInfo": {
     "elapsed": 671,
     "status": "ok",
     "timestamp": 1615471998279,
     "user": {
      "displayName": "Moisés Rocha dos Santos",
      "photoUrl": "https://lh3.googleusercontent.com/a-/AOh14GibTBRTi_dNo8fVn5eJmxJxxTCqGLtdRIwf_lD2=s64",
      "userId": "12530905896628174712"
     },
     "user_tz": 180
    },
    "id": "prJTiNKhe2RS",
    "outputId": "1357b48a-11a3-4589-cdd7-83d267f1d66a"
   },
   "outputs": [
    {
     "data": {
      "text/html": [
       "<div>\n",
       "<style scoped>\n",
       "    .dataframe tbody tr th:only-of-type {\n",
       "        vertical-align: middle;\n",
       "    }\n",
       "\n",
       "    .dataframe tbody tr th {\n",
       "        vertical-align: top;\n",
       "    }\n",
       "\n",
       "    .dataframe thead th {\n",
       "        text-align: right;\n",
       "    }\n",
       "</style>\n",
       "<table border=\"1\" class=\"dataframe\">\n",
       "  <thead>\n",
       "    <tr style=\"text-align: right;\">\n",
       "      <th></th>\n",
       "      <th>ID</th>\n",
       "      <th>LONGITUDE</th>\n",
       "      <th>LATITUDE</th>\n",
       "      <th>CODESC</th>\n",
       "      <th>CODESCTX</th>\n",
       "      <th>NOMEESC</th>\n",
       "      <th>NOMEMUN</th>\n",
       "      <th>CODMUN</th>\n",
       "      <th>NOMDIST</th>\n",
       "      <th>CODDIST</th>\n",
       "      <th>COD_SC</th>\n",
       "      <th>COD_DEP</th>\n",
       "      <th>TIP_DEP</th>\n",
       "      <th>BAIRRO</th>\n",
       "      <th>CEP</th>\n",
       "      <th>END_ESC</th>\n",
       "      <th>NUM_ESC</th>\n",
       "      <th>DDD</th>\n",
       "      <th>TELEFONE</th>\n",
       "      <th>LOCALIZA</th>\n",
       "      <th>LAB_INF</th>\n",
       "      <th>QD_ESP_C</th>\n",
       "      <th>QD_ESP_D</th>\n",
       "      <th>BIBLIO</th>\n",
       "      <th>ENS_REG</th>\n",
       "      <th>...</th>\n",
       "      <th>MAT07_AF</th>\n",
       "      <th>LP07_AF</th>\n",
       "      <th>NP07_AF</th>\n",
       "      <th>MAT09_AF</th>\n",
       "      <th>LP09_AF</th>\n",
       "      <th>NP09_AF</th>\n",
       "      <th>MAT11_AF</th>\n",
       "      <th>LP11_AF</th>\n",
       "      <th>NP11_AF</th>\n",
       "      <th>MAT13_AF</th>\n",
       "      <th>LP13_AF</th>\n",
       "      <th>NP13_AF</th>\n",
       "      <th>IDEB05AF</th>\n",
       "      <th>IDEB07AF</th>\n",
       "      <th>IDEB09AF</th>\n",
       "      <th>IDEB11AF</th>\n",
       "      <th>IDEB13AF</th>\n",
       "      <th>RED_EN13</th>\n",
       "      <th>LC_EN13</th>\n",
       "      <th>MAT_EN13</th>\n",
       "      <th>CH_EN13</th>\n",
       "      <th>CN_EN13</th>\n",
       "      <th>ENEM2013</th>\n",
       "      <th>INSE_AB</th>\n",
       "      <th>INSE_CL</th>\n",
       "    </tr>\n",
       "  </thead>\n",
       "  <tbody>\n",
       "    <tr>\n",
       "      <th>0</th>\n",
       "      <td>90</td>\n",
       "      <td>-47143986</td>\n",
       "      <td>-23986886</td>\n",
       "      <td>35080548</td>\n",
       "      <td>35080548</td>\n",
       "      <td>BAIRRO DOS BARNABES RECANTO DAS ORQUIDEAS</td>\n",
       "      <td>JUQUITIBA</td>\n",
       "      <td>3526209</td>\n",
       "      <td>BARNABES</td>\n",
       "      <td>352620910.0</td>\n",
       "      <td>NaN</td>\n",
       "      <td>2</td>\n",
       "      <td>Estadual</td>\n",
       "      <td>BAIRRO DOS BARNABES</td>\n",
       "      <td>6950000.0</td>\n",
       "      <td>RUA ANTONIO FRANCISCO PEREIRA</td>\n",
       "      <td>285</td>\n",
       "      <td>11</td>\n",
       "      <td>46841502</td>\n",
       "      <td>1</td>\n",
       "      <td>0</td>\n",
       "      <td>0</td>\n",
       "      <td>1</td>\n",
       "      <td>0</td>\n",
       "      <td>1</td>\n",
       "      <td>...</td>\n",
       "      <td>NaN</td>\n",
       "      <td>NaN</td>\n",
       "      <td>NaN</td>\n",
       "      <td>NaN</td>\n",
       "      <td>NaN</td>\n",
       "      <td>NaN</td>\n",
       "      <td>NaN</td>\n",
       "      <td>NaN</td>\n",
       "      <td>NaN</td>\n",
       "      <td>NaN</td>\n",
       "      <td>NaN</td>\n",
       "      <td>NaN</td>\n",
       "      <td>NaN</td>\n",
       "      <td>NaN</td>\n",
       "      <td>NaN</td>\n",
       "      <td>NaN</td>\n",
       "      <td>NaN</td>\n",
       "      <td>NaN</td>\n",
       "      <td>NaN</td>\n",
       "      <td>NaN</td>\n",
       "      <td>NaN</td>\n",
       "      <td>NaN</td>\n",
       "      <td>NaN</td>\n",
       "      <td>50.6921</td>\n",
       "      <td>Medio Alto</td>\n",
       "    </tr>\n",
       "    <tr>\n",
       "      <th>1</th>\n",
       "      <td>398</td>\n",
       "      <td>-47145545</td>\n",
       "      <td>-23985717</td>\n",
       "      <td>35352524</td>\n",
       "      <td>35352524</td>\n",
       "      <td>MARIA CRISTINA BRESSALI CHAMA CRECHE MUNICIPAL</td>\n",
       "      <td>JUQUITIBA</td>\n",
       "      <td>3526209</td>\n",
       "      <td>BARNABES</td>\n",
       "      <td>352620910.0</td>\n",
       "      <td>NaN</td>\n",
       "      <td>3</td>\n",
       "      <td>Municipal</td>\n",
       "      <td>BARNABES</td>\n",
       "      <td>6950000.0</td>\n",
       "      <td>RUA ANTONIO SOARES GODINHO</td>\n",
       "      <td>31</td>\n",
       "      <td>11</td>\n",
       "      <td>46841666</td>\n",
       "      <td>1</td>\n",
       "      <td>0</td>\n",
       "      <td>0</td>\n",
       "      <td>0</td>\n",
       "      <td>0</td>\n",
       "      <td>1</td>\n",
       "      <td>...</td>\n",
       "      <td>NaN</td>\n",
       "      <td>NaN</td>\n",
       "      <td>NaN</td>\n",
       "      <td>NaN</td>\n",
       "      <td>NaN</td>\n",
       "      <td>NaN</td>\n",
       "      <td>NaN</td>\n",
       "      <td>NaN</td>\n",
       "      <td>NaN</td>\n",
       "      <td>NaN</td>\n",
       "      <td>NaN</td>\n",
       "      <td>NaN</td>\n",
       "      <td>NaN</td>\n",
       "      <td>NaN</td>\n",
       "      <td>NaN</td>\n",
       "      <td>NaN</td>\n",
       "      <td>NaN</td>\n",
       "      <td>NaN</td>\n",
       "      <td>NaN</td>\n",
       "      <td>NaN</td>\n",
       "      <td>NaN</td>\n",
       "      <td>NaN</td>\n",
       "      <td>NaN</td>\n",
       "      <td>NaN</td>\n",
       "      <td>NaN</td>\n",
       "    </tr>\n",
       "    <tr>\n",
       "      <th>2</th>\n",
       "      <td>399</td>\n",
       "      <td>-47145560</td>\n",
       "      <td>-23985685</td>\n",
       "      <td>35069929</td>\n",
       "      <td>35069929</td>\n",
       "      <td>TERRA NOVA EM</td>\n",
       "      <td>JUQUITIBA</td>\n",
       "      <td>3526209</td>\n",
       "      <td>BARNABES</td>\n",
       "      <td>352620910.0</td>\n",
       "      <td>NaN</td>\n",
       "      <td>3</td>\n",
       "      <td>Municipal</td>\n",
       "      <td>BARNABES</td>\n",
       "      <td>6950000.0</td>\n",
       "      <td>R ANTONIO SOARES GODINHO</td>\n",
       "      <td>35</td>\n",
       "      <td>11</td>\n",
       "      <td>46841462</td>\n",
       "      <td>1</td>\n",
       "      <td>0</td>\n",
       "      <td>0</td>\n",
       "      <td>0</td>\n",
       "      <td>0</td>\n",
       "      <td>1</td>\n",
       "      <td>...</td>\n",
       "      <td>NaN</td>\n",
       "      <td>NaN</td>\n",
       "      <td>NaN</td>\n",
       "      <td>NaN</td>\n",
       "      <td>NaN</td>\n",
       "      <td>NaN</td>\n",
       "      <td>NaN</td>\n",
       "      <td>NaN</td>\n",
       "      <td>NaN</td>\n",
       "      <td>NaN</td>\n",
       "      <td>NaN</td>\n",
       "      <td>NaN</td>\n",
       "      <td>NaN</td>\n",
       "      <td>NaN</td>\n",
       "      <td>NaN</td>\n",
       "      <td>NaN</td>\n",
       "      <td>NaN</td>\n",
       "      <td>NaN</td>\n",
       "      <td>NaN</td>\n",
       "      <td>NaN</td>\n",
       "      <td>NaN</td>\n",
       "      <td>NaN</td>\n",
       "      <td>NaN</td>\n",
       "      <td>NaN</td>\n",
       "      <td>NaN</td>\n",
       "    </tr>\n",
       "    <tr>\n",
       "      <th>3</th>\n",
       "      <td>400</td>\n",
       "      <td>-47146239</td>\n",
       "      <td>-23983873</td>\n",
       "      <td>35036365</td>\n",
       "      <td>35036365</td>\n",
       "      <td>BAIRRO DOS BARNABES</td>\n",
       "      <td>JUQUITIBA</td>\n",
       "      <td>3526209</td>\n",
       "      <td>BARNABES</td>\n",
       "      <td>352620910.0</td>\n",
       "      <td>NaN</td>\n",
       "      <td>2</td>\n",
       "      <td>Estadual</td>\n",
       "      <td>BARNABES</td>\n",
       "      <td>6950000.0</td>\n",
       "      <td>R ANTONIO SOARES GODINHO</td>\n",
       "      <td>413</td>\n",
       "      <td>11</td>\n",
       "      <td>46841155</td>\n",
       "      <td>1</td>\n",
       "      <td>1</td>\n",
       "      <td>0</td>\n",
       "      <td>1</td>\n",
       "      <td>0</td>\n",
       "      <td>1</td>\n",
       "      <td>...</td>\n",
       "      <td>230.40</td>\n",
       "      <td>220.14</td>\n",
       "      <td>4.18</td>\n",
       "      <td>229.93</td>\n",
       "      <td>229.88</td>\n",
       "      <td>4.33</td>\n",
       "      <td>242.32</td>\n",
       "      <td>248.41</td>\n",
       "      <td>4.85</td>\n",
       "      <td>247.08</td>\n",
       "      <td>238.32</td>\n",
       "      <td>4.76</td>\n",
       "      <td>NaN</td>\n",
       "      <td>3.7</td>\n",
       "      <td>4.2</td>\n",
       "      <td>4.5</td>\n",
       "      <td>4.4</td>\n",
       "      <td>NaN</td>\n",
       "      <td>NaN</td>\n",
       "      <td>NaN</td>\n",
       "      <td>NaN</td>\n",
       "      <td>NaN</td>\n",
       "      <td>NaN</td>\n",
       "      <td>47.3253</td>\n",
       "      <td>Medio</td>\n",
       "    </tr>\n",
       "    <tr>\n",
       "      <th>4</th>\n",
       "      <td>97</td>\n",
       "      <td>-47141337</td>\n",
       "      <td>-23964408</td>\n",
       "      <td>35913424</td>\n",
       "      <td>35913424</td>\n",
       "      <td>BAIRRO DAS SENHORINHAS</td>\n",
       "      <td>JUQUITIBA</td>\n",
       "      <td>3526209</td>\n",
       "      <td>BARNABES</td>\n",
       "      <td>352620910.0</td>\n",
       "      <td>NaN</td>\n",
       "      <td>2</td>\n",
       "      <td>Estadual</td>\n",
       "      <td>SENHORINHAS</td>\n",
       "      <td>6950000.0</td>\n",
       "      <td>RUA DOS LAGOS</td>\n",
       "      <td>20</td>\n",
       "      <td>11</td>\n",
       "      <td>46812769</td>\n",
       "      <td>1</td>\n",
       "      <td>0</td>\n",
       "      <td>1</td>\n",
       "      <td>0</td>\n",
       "      <td>0</td>\n",
       "      <td>1</td>\n",
       "      <td>...</td>\n",
       "      <td>241.29</td>\n",
       "      <td>226.74</td>\n",
       "      <td>4.47</td>\n",
       "      <td>172.40</td>\n",
       "      <td>170.80</td>\n",
       "      <td>2.39</td>\n",
       "      <td>249.23</td>\n",
       "      <td>244.94</td>\n",
       "      <td>4.90</td>\n",
       "      <td>244.75</td>\n",
       "      <td>231.59</td>\n",
       "      <td>4.61</td>\n",
       "      <td>NaN</td>\n",
       "      <td>4.2</td>\n",
       "      <td>2.3</td>\n",
       "      <td>4.7</td>\n",
       "      <td>4.4</td>\n",
       "      <td>451.33</td>\n",
       "      <td>469.34</td>\n",
       "      <td>480.52</td>\n",
       "      <td>485.11</td>\n",
       "      <td>444.71</td>\n",
       "      <td>469.92</td>\n",
       "      <td>49.3778</td>\n",
       "      <td>Medio</td>\n",
       "    </tr>\n",
       "  </tbody>\n",
       "</table>\n",
       "<p>5 rows × 136 columns</p>\n",
       "</div>"
      ],
      "text/plain": [
       "    ID  LONGITUDE  LATITUDE    CODESC  CODESCTX  \\\n",
       "0   90  -47143986 -23986886  35080548  35080548   \n",
       "1  398  -47145545 -23985717  35352524  35352524   \n",
       "2  399  -47145560 -23985685  35069929  35069929   \n",
       "3  400  -47146239 -23983873  35036365  35036365   \n",
       "4   97  -47141337 -23964408  35913424  35913424   \n",
       "\n",
       "                                          NOMEESC    NOMEMUN   CODMUN  \\\n",
       "0       BAIRRO DOS BARNABES RECANTO DAS ORQUIDEAS  JUQUITIBA  3526209   \n",
       "1  MARIA CRISTINA BRESSALI CHAMA CRECHE MUNICIPAL  JUQUITIBA  3526209   \n",
       "2                                   TERRA NOVA EM  JUQUITIBA  3526209   \n",
       "3                             BAIRRO DOS BARNABES  JUQUITIBA  3526209   \n",
       "4                          BAIRRO DAS SENHORINHAS  JUQUITIBA  3526209   \n",
       "\n",
       "    NOMDIST      CODDIST  COD_SC  COD_DEP    TIP_DEP               BAIRRO  \\\n",
       "0  BARNABES  352620910.0     NaN        2   Estadual  BAIRRO DOS BARNABES   \n",
       "1  BARNABES  352620910.0     NaN        3  Municipal             BARNABES   \n",
       "2  BARNABES  352620910.0     NaN        3  Municipal             BARNABES   \n",
       "3  BARNABES  352620910.0     NaN        2   Estadual             BARNABES   \n",
       "4  BARNABES  352620910.0     NaN        2   Estadual          SENHORINHAS   \n",
       "\n",
       "         CEP                        END_ESC NUM_ESC DDD  TELEFONE  LOCALIZA  \\\n",
       "0  6950000.0  RUA ANTONIO FRANCISCO PEREIRA     285  11  46841502         1   \n",
       "1  6950000.0     RUA ANTONIO SOARES GODINHO      31  11  46841666         1   \n",
       "2  6950000.0       R ANTONIO SOARES GODINHO      35  11  46841462         1   \n",
       "3  6950000.0       R ANTONIO SOARES GODINHO     413  11  46841155         1   \n",
       "4  6950000.0                  RUA DOS LAGOS      20  11  46812769         1   \n",
       "\n",
       "   LAB_INF  QD_ESP_C  QD_ESP_D  BIBLIO  ENS_REG  ...  MAT07_AF  LP07_AF  \\\n",
       "0        0         0         1       0        1  ...       NaN      NaN   \n",
       "1        0         0         0       0        1  ...       NaN      NaN   \n",
       "2        0         0         0       0        1  ...       NaN      NaN   \n",
       "3        1         0         1       0        1  ...    230.40   220.14   \n",
       "4        0         1         0       0        1  ...    241.29   226.74   \n",
       "\n",
       "   NP07_AF  MAT09_AF  LP09_AF  NP09_AF  MAT11_AF  LP11_AF  NP11_AF  MAT13_AF  \\\n",
       "0      NaN       NaN      NaN      NaN       NaN      NaN      NaN       NaN   \n",
       "1      NaN       NaN      NaN      NaN       NaN      NaN      NaN       NaN   \n",
       "2      NaN       NaN      NaN      NaN       NaN      NaN      NaN       NaN   \n",
       "3     4.18    229.93   229.88     4.33    242.32   248.41     4.85    247.08   \n",
       "4     4.47    172.40   170.80     2.39    249.23   244.94     4.90    244.75   \n",
       "\n",
       "   LP13_AF  NP13_AF  IDEB05AF  IDEB07AF  IDEB09AF  IDEB11AF  IDEB13AF  \\\n",
       "0      NaN      NaN       NaN       NaN       NaN       NaN       NaN   \n",
       "1      NaN      NaN       NaN       NaN       NaN       NaN       NaN   \n",
       "2      NaN      NaN       NaN       NaN       NaN       NaN       NaN   \n",
       "3   238.32     4.76       NaN       3.7       4.2       4.5       4.4   \n",
       "4   231.59     4.61       NaN       4.2       2.3       4.7       4.4   \n",
       "\n",
       "   RED_EN13  LC_EN13  MAT_EN13  CH_EN13  CN_EN13  ENEM2013  INSE_AB  \\\n",
       "0       NaN      NaN       NaN      NaN      NaN       NaN  50.6921   \n",
       "1       NaN      NaN       NaN      NaN      NaN       NaN      NaN   \n",
       "2       NaN      NaN       NaN      NaN      NaN       NaN      NaN   \n",
       "3       NaN      NaN       NaN      NaN      NaN       NaN  47.3253   \n",
       "4    451.33   469.34    480.52   485.11   444.71    469.92  49.3778   \n",
       "\n",
       "      INSE_CL  \n",
       "0  Medio Alto  \n",
       "1         NaN  \n",
       "2         NaN  \n",
       "3       Medio  \n",
       "4       Medio  \n",
       "\n",
       "[5 rows x 136 columns]"
      ]
     },
     "execution_count": 3,
     "metadata": {},
     "output_type": "execute_result"
    }
   ],
   "source": [
    "escolas = pd.read_csv(\"ESC2013_RMSP_CEM.csv\")\n",
    "escolas.head()"
   ]
  },
  {
   "cell_type": "markdown",
   "metadata": {
    "id": "Of5O9G_3e2RT"
   },
   "source": [
    "### Exercício 2)\n",
    "O arquivo <font style=\"font-family: monaco\">ESC2013\\_RMSP\\_CEM.csv</font> possui muitos valores faltantes. Encontre e imprima o nome da coluna com mais valores faltantes. Calcule também o número de valores faltantes em tal coluna.\n",
    "\n",
    "__DICA__: Utilize uma combinação dos métodos do <font color='blue'>pandas</font>:\n",
    "\n",
    "[isna](https://pandas.pydata.org/pandas-docs/stable/reference/api/pandas.DataFrame.isna.html) que retorna uma máscara com True nas posições onde valores faltantes ocorrem<br>\n",
    "[idxmax](https://pandas.pydata.org/pandas-docs/stable/reference/api/pandas.DataFrame.idxmax.html) que retorna o rótulo onde o valor máximo ocorre em um dado eixo (rótulo da linha ou coluna dependento do valor do parâmetro `axis`)<br>\n",
    "[max](https://pandas.pydata.org/pandas-docs/stable/reference/api/pandas.DataFrame.max.html) que retorna o valor máximo em um eixo especificado"
   ]
  },
  {
   "cell_type": "code",
   "execution_count": 4,
   "metadata": {
    "colab": {
     "base_uri": "https://localhost:8080/"
    },
    "executionInfo": {
     "elapsed": 662,
     "status": "ok",
     "timestamp": 1615472001793,
     "user": {
      "displayName": "Moisés Rocha dos Santos",
      "photoUrl": "https://lh3.googleusercontent.com/a-/AOh14GibTBRTi_dNo8fVn5eJmxJxxTCqGLtdRIwf_lD2=s64",
      "userId": "12530905896628174712"
     },
     "user_tz": 180
    },
    "id": "oy1BxAgMe2RT",
    "outputId": "bc1bddd7-3491-4eba-9a4d-ab7c569b0c73",
    "scrolled": true
   },
   "outputs": [
    {
     "name": "stdout",
     "output_type": "stream",
     "text": [
      "CH_EN13     9803\n",
      "CN_EN13     9803\n",
      "ENEM2013    9803\n",
      "INSE_AB     6404\n",
      "INSE_CL     6404\n",
      "dtype: int64\n",
      "\n",
      "Coluna com mais valores faltantes: COD_SC\n",
      "\n",
      "O número de valores faltantes na coluna COD_SC é: 10937\n"
     ]
    }
   ],
   "source": [
    "nulos_por_coluna = escolas.isna().sum(axis=0) # o método 'isna' retorna um DataFrame booleano\n",
    "                                         # (máscara) com valores True\n",
    "                                         # nas posições onde valores faltantes ocorrem.\n",
    "                                         # Os valores True são interpretados como 1 enquanto \n",
    "                                         # que os valores False são interpretados como 0;\n",
    "                                         # aplicando o método 'sum' para somar os valores True\n",
    "                                         # por coluna (axis=0) obtemos o total de valores\n",
    "                                         # faltantes em cada coluna.\n",
    "\n",
    "                        \n",
    "print(nulos_por_coluna.tail())  # a variavel 'nulos_por_coluna' é uma série onde os rótulos das \n",
    "                          # linhas são os rótulos das colunas do DataFrame 'escolas' e o \n",
    "                          # valor em cada entrada correponde ao número de valores faltantes\n",
    "                          # na coluna correspondente\n",
    "    \n",
    "print('\\nColuna com mais valores faltantes:',nulos_por_coluna.idxmax())\n",
    "                             # 'idxmax' retorna o rótulo da coluna onde o máximo da \n",
    "                             # série ocorre\n",
    "    \n",
    "print('\\nO número de valores faltantes na coluna',nulos_por_coluna.idxmax(),\n",
    "      'é:',nulos_por_coluna.max()) # o método 'max' retorna o valor máximo da série."
   ]
  },
  {
   "cell_type": "markdown",
   "metadata": {
    "id": "OBQo1u2Ae2RU"
   },
   "source": [
    "### Exercício 3)\n",
    "Verifique se existem linhas duplicadas no conjunto de dados\n",
    "\n",
    "__Dica:__ Utilize o método <font color='blue'>duplicated</font> do <font color='blue'>pandas</font>"
   ]
  },
  {
   "cell_type": "code",
   "execution_count": 5,
   "metadata": {
    "colab": {
     "base_uri": "https://localhost:8080/"
    },
    "executionInfo": {
     "elapsed": 654,
     "status": "ok",
     "timestamp": 1615472008210,
     "user": {
      "displayName": "Moisés Rocha dos Santos",
      "photoUrl": "https://lh3.googleusercontent.com/a-/AOh14GibTBRTi_dNo8fVn5eJmxJxxTCqGLtdRIwf_lD2=s64",
      "userId": "12530905896628174712"
     },
     "user_tz": 180
    },
    "id": "6TqfGSiEe2RU",
    "outputId": "1a9f1a71-b009-43e1-c1a0-f3683be8086e"
   },
   "outputs": [
    {
     "name": "stdout",
     "output_type": "stream",
     "text": [
      "Existem 0 linhas duplicadas\n"
     ]
    }
   ],
   "source": [
    "total_duplicadas = escolas.duplicated().sum() # O método 'duplicated' retorna uma série onde\n",
    "                                         # valores 'True' ocorrem nas linhas que são duplicadas\n",
    "                                         # O método 'sum' soma o número de ocorrências\n",
    "                                         # de valores 'True' (linhas repetidas neste caso)\n",
    "\n",
    "print('Existem',total_duplicadas,'linhas duplicadas')"
   ]
  },
  {
   "cell_type": "markdown",
   "metadata": {
    "id": "LHQAby59e2RU"
   },
   "source": [
    "### Exercício 4)\n",
    "A coluna 'COD_DEP' do DataFrame `escolas` representa o código da dependência administrativa da escola (1 - Federal, 2 - Estadual, 3 - Municipal, 4 - Privada).\n",
    "\n",
    "Calcule quantas escolas federais, estaduais, municipais e particulares existem na base de dados. Armazene a contagem em uma série cujos rótulos são o tipo de dependência e os valores correspondentes o número de ocorrências da dependência administrativa.\n",
    "\n",
    "**DICA**: Utilize o método <font color='blue'>value_counts</font> do <font color='blue'>pandas</font>"
   ]
  },
  {
   "cell_type": "code",
   "execution_count": 6,
   "metadata": {
    "colab": {
     "base_uri": "https://localhost:8080/"
    },
    "executionInfo": {
     "elapsed": 976,
     "status": "ok",
     "timestamp": 1615472011463,
     "user": {
      "displayName": "Moisés Rocha dos Santos",
      "photoUrl": "https://lh3.googleusercontent.com/a-/AOh14GibTBRTi_dNo8fVn5eJmxJxxTCqGLtdRIwf_lD2=s64",
      "userId": "12530905896628174712"
     },
     "user_tz": 180
    },
    "id": "T3Ch2gwne2RU",
    "outputId": "9e43a208-51ae-463f-afb6-7a232065c5d3"
   },
   "outputs": [
    {
     "name": "stdout",
     "output_type": "stream",
     "text": [
      "Privada      5225\n",
      "Municipal    3405\n",
      "Estadual     2303\n",
      "Federal         4\n",
      "Name: COD_DEP, dtype: int64\n"
     ]
    }
   ],
   "source": [
    "contagem = escolas['COD_DEP'].value_counts() # o método 'value_counts' gera uma série onde\n",
    "                                             # os rótulos são as entradas únicas presentes na série\n",
    "                                             # original e os valores o número de vezes que \n",
    "                                             # cada entrada aparece na série\n",
    "\n",
    "# Renomeando os rótulos da série \n",
    "contagem = contagem.rename({1:'Federal',2:'Estadual',3:'Municipal',4:'Privada'})\n",
    "\n",
    "print(contagem)"
   ]
  },
  {
   "cell_type": "markdown",
   "metadata": {
    "id": "PryLsz3Re2RV"
   },
   "source": [
    "### Exercício 5)\n",
    "O Pandas também oferece recursos para visualização que são simples de utilizar. Utilize o método <font color='blue'>plot</font> do <font color='blue'>pandas</font> com o parâmetro `bar` para gerar um gráfico de barras com o número de escolas calculadas na célula acima. Para mais informações sobre os recursos gráficos disponíveis no pandas veja documentação [aqui](https://pandas.pydata.org/pandas-docs/version/0.23.4/generated/pandas.DataFrame.plot.html).\n"
   ]
  },
  {
   "cell_type": "code",
   "execution_count": 8,
   "metadata": {
    "colab": {
     "base_uri": "https://localhost:8080/",
     "height": 323
    },
    "executionInfo": {
     "elapsed": 660,
     "status": "error",
     "timestamp": 1615472014983,
     "user": {
      "displayName": "Moisés Rocha dos Santos",
      "photoUrl": "https://lh3.googleusercontent.com/a-/AOh14GibTBRTi_dNo8fVn5eJmxJxxTCqGLtdRIwf_lD2=s64",
      "userId": "12530905896628174712"
     },
     "user_tz": 180
    },
    "id": "Bn5J8vthe2RV",
    "outputId": "c1405d20-559a-4484-d23a-063afe8dbaab"
   },
   "outputs": [
    {
     "data": {
      "text/plain": [
       "<AxesSubplot: >"
      ]
     },
     "execution_count": 8,
     "metadata": {},
     "output_type": "execute_result"
    },
    {
     "data": {
      "image/png": "[encoded data removed]",
      "text/plain": [
       "<Figure size 1000x800 with 1 Axes>"
      ]
     },
     "metadata": {},
     "output_type": "display_data"
    }
   ],
   "source": [
    "contagem.plot(kind='bar')"
   ]
  },
  {
   "cell_type": "markdown",
   "metadata": {
    "id": "TCi2Z2M8e2RV"
   },
   "source": [
    "### Exercício 6)\n",
    "Como visto anteriormente, o conjunto de dados do arquivo <font style=\"font-family: monaco\">ESC2013\\_RMSP\\_CEM.csv</font> possui muitos valores faltantes. Utilize uma combinação do método <font color='blue'>map</font> e <font color='blue'>isna</font> para encontrar a porcentagem de linhas do DataFrame que possuem dados faltantes."
   ]
  },
  {
   "cell_type": "code",
   "execution_count": 9,
   "metadata": {
    "colab": {
     "base_uri": "https://localhost:8080/"
    },
    "executionInfo": {
     "elapsed": 709,
     "status": "ok",
     "timestamp": 1615472046963,
     "user": {
      "displayName": "Moisés Rocha dos Santos",
      "photoUrl": "https://lh3.googleusercontent.com/a-/AOh14GibTBRTi_dNo8fVn5eJmxJxxTCqGLtdRIwf_lD2=s64",
      "userId": "12530905896628174712"
     },
     "user_tz": 180
    },
    "id": "hN1b4URae2RV",
    "outputId": "8002a0ce-6a79-4af4-e4e7-6da4bec89c58"
   },
   "outputs": [
    {
     "name": "stdout",
     "output_type": "stream",
     "text": [
      "Porcentagem de linhas com dados faltantes:  100.0 %\n"
     ]
    }
   ],
   "source": [
    "linhas_com_valores_faltantes = escolas.isna().sum(axis=1) # calcula quantos valores faltantes \n",
    "                                                          # existem em cada linha\n",
    "\n",
    "linhas_com_valores_faltantes = linhas_com_valores_faltantes.map(lambda x: x>0) # transforma\n",
    "                                    # os valores da série de modo que toda linha\n",
    "                                    # que possui pelo menos um dado faltante recebe\n",
    "                                    # o valor True\n",
    "\n",
    "print(\"Porcentagem de linhas com dados faltantes: \",100*linhas_com_valores_faltantes.sum()/linhas_com_valores_faltantes.shape[0],'%')"
   ]
  },
  {
   "cell_type": "markdown",
   "metadata": {
    "id": "-5DglzwCe2RW"
   },
   "source": [
    "### Exercício 7)\n",
    "\n",
    "O resultado do exercício anterior mostra que todas as linhas do conjunto de dados <font style=\"font-family: monaco\">ESC2013_RMSP_CEM.csv</font> possuem pelo menos um dado faltante. Assim, se adotarmos a estratégia de remover as linhas que possuem dados faltantes, todo o conjunto de dados será descartado. \n",
    "\n",
    "Uma alternativa é remover do conjunto de dados as colunas onde o número de valores faltantes é elevado. Escreva um código que gere um novo DataFrame chamado `escolas30` contendo as colunas do DataFrame `escolas` com no máximo 30% de valores faltantes. \n",
    "\n",
    "__Dica:__ Gere uma série booleana onde os rótulos das linhas são os rótulos das colunas do DataFrame `escolas`, sendo os valores 'True' nas entradas correspondendo às colunas\n",
    "com menos que 30% de valores faltantes. Utilize a série booleana em conjunto com o comando <font color='blue'>loc</font> do <font color='blue'>pandas</font> para extrair as colunas desejadas."
   ]
  },
  {
   "cell_type": "code",
   "execution_count": 10,
   "metadata": {
    "id": "-1VgoL8we2RW",
    "outputId": "62b313ef-c585-44e1-d4d2-2ef38640da8f"
   },
   "outputs": [
    {
     "name": "stdout",
     "output_type": "stream",
     "text": [
      "    ID  LONGITUDE  LATITUDE    CODESC  CODESCTX  \\\n",
      "0   90  -47143986 -23986886  35080548  35080548   \n",
      "1  398  -47145545 -23985717  35352524  35352524   \n",
      "2  399  -47145560 -23985685  35069929  35069929   \n",
      "3  400  -47146239 -23983873  35036365  35036365   \n",
      "4   97  -47141337 -23964408  35913424  35913424   \n",
      "\n",
      "                                          NOMEESC    NOMEMUN   CODMUN  \\\n",
      "0       BAIRRO DOS BARNABES RECANTO DAS ORQUIDEAS  JUQUITIBA  3526209   \n",
      "1  MARIA CRISTINA BRESSALI CHAMA CRECHE MUNICIPAL  JUQUITIBA  3526209   \n",
      "2                                   TERRA NOVA EM  JUQUITIBA  3526209   \n",
      "3                             BAIRRO DOS BARNABES  JUQUITIBA  3526209   \n",
      "4                          BAIRRO DAS SENHORINHAS  JUQUITIBA  3526209   \n",
      "\n",
      "    NOMDIST      CODDIST  COD_DEP    TIP_DEP               BAIRRO        CEP  \\\n",
      "0  BARNABES  352620910.0        2   Estadual  BAIRRO DOS BARNABES  6950000.0   \n",
      "1  BARNABES  352620910.0        3  Municipal             BARNABES  6950000.0   \n",
      "2  BARNABES  352620910.0        3  Municipal             BARNABES  6950000.0   \n",
      "3  BARNABES  352620910.0        2   Estadual             BARNABES  6950000.0   \n",
      "4  BARNABES  352620910.0        2   Estadual          SENHORINHAS  6950000.0   \n",
      "\n",
      "                         END_ESC NUM_ESC DDD  TELEFONE  LOCALIZA  LAB_INF  \\\n",
      "0  RUA ANTONIO FRANCISCO PEREIRA     285  11  46841502         1        0   \n",
      "1     RUA ANTONIO SOARES GODINHO      31  11  46841666         1        0   \n",
      "2       R ANTONIO SOARES GODINHO      35  11  46841462         1        0   \n",
      "3       R ANTONIO SOARES GODINHO     413  11  46841155         1        1   \n",
      "4                  RUA DOS LAGOS      20  11  46812769         1        0   \n",
      "\n",
      "   QD_ESP_C  QD_ESP_D  BIBLIO  ENS_REG  REG_IN_CR  REG_IN_PE  REG_FU_8A  \\\n",
      "0         0         1       0        1          0          0          0   \n",
      "1         0         0       0        1          1          0          0   \n",
      "2         0         0       0        1          1          1          0   \n",
      "3         0         1       0        1          0          0          1   \n",
      "4         1         0       0        1          0          0          1   \n",
      "\n",
      "   REG_FU_9A  REG_MED  REG_MED_I  REG_MED_N  REG_MED_P  ENS_ESP  ESP_IN_CR  \\\n",
      "0          1        0          0          0          0        0          0   \n",
      "1          0        0          0          0          0        0          0   \n",
      "2          0        0          0          0          0        0          0   \n",
      "3          1        1          0          0          0        0          0   \n",
      "4          1        1          0          0          0        0          0   \n",
      "\n",
      "   ESP_IN_PE  ESP_FU_8A  ESP_FU_9A  ESP_MED  ESP_MED_I  ESP_MED_N  ESP_MED_P  \\\n",
      "0          0          0          0        0          0          0          0   \n",
      "1          0          0          0        0          0          0          0   \n",
      "2          0          0          0        0          0          0          0   \n",
      "3          0          0          0        0          0          0          0   \n",
      "4          0          0          0        0          0          0          0   \n",
      "\n",
      "   ESP_EJA_F  ESP_EJA_M  EJA  EJA_FUND  EJA_MED  EJA_PROJ  \n",
      "0          0          0    0         0        0         0  \n",
      "1          0          0    0         0        0         0  \n",
      "2          0          0    0         0        0         0  \n",
      "3          0          0    0         0        0         0  \n",
      "4          0          0    0         0        0         0  \n"
     ]
    }
   ],
   "source": [
    "nulos_por_coluna = escolas.isna().sum(axis=0) # calcula o número de valores faltantes em cada coluna\n",
    "                                              # gerando uma série cujos rótulos são as colunas \n",
    "                                              # e os valores a quantidade de nulos\n",
    "\n",
    "colunas_maximo30_nulos = nulos_por_coluna < 0.3*len(escolas) # gera uma\n",
    "                                                        # série booleana com valores True\n",
    "                                                        # correspondendo as colunas do \n",
    "                                                        # DataFrame 'escolas' com menos\n",
    "                                                        # que 30% de valores faltantes\n",
    "            \n",
    "escolas30 = escolas.loc[:,colunas_maximo30_nulos.values]  # obtendo as colunas do DataFrame\n",
    "                                                          # 'escolas' com menos que 30% de \n",
    "                                                          # valores faltantes\n",
    "\n",
    "print(escolas30.head())"
   ]
  },
  {
   "cell_type": "markdown",
   "metadata": {
    "id": "QhPjcajNe2RX"
   },
   "source": [
    "### Exercício 8)\n",
    "\n",
    "Quantas colunas restaram no DataFrame `escolas30`? Recalcule a porcentagem de linhas com pelo menos um valor faltante."
   ]
  },
  {
   "cell_type": "code",
   "execution_count": 11,
   "metadata": {
    "id": "94v8pbx0e2RX",
    "outputId": "be628bb5-009b-4889-a090-97b499bc4fbe"
   },
   "outputs": [
    {
     "name": "stdout",
     "output_type": "stream",
     "text": [
      "Numero de colunas restantes:  47\n",
      "10.07% de linhas com valores faltantes\n"
     ]
    }
   ],
   "source": [
    "print(\"Numero de colunas restantes: \",escolas30.shape[1])\n",
    "\n",
    "linhas_com_valores_faltantes_escolas30 = escolas30.isna().sum(axis=1).map(lambda x: x>0)\n",
    "\n",
    "perc_nulos = 100*linhas_com_valores_faltantes_escolas30.sum()/linhas_com_valores_faltantes_escolas30.shape[0]\n",
    "\n",
    "print(f'{perc_nulos:.2f}% de linhas com valores faltantes')"
   ]
  },
  {
   "cell_type": "markdown",
   "metadata": {
    "id": "zxSL35UMe2RY"
   },
   "source": [
    "### Exercício 9)\n",
    "\n",
    "O DataFrame `escolas30` possui poucos valores faltantes. Preencha os valores faltantes com o valor da _moda_  da coluna onde o valor faltante ocorre. \n",
    "\n",
    "__Dica:__ Utilize o método <font color='blue'>mode</font> combinado com <font color='blue'>fillna</font> do <font color='blue'>pandas</font>. Note que o método  <font color='blue'>mode</font> pode retornar vários valores caso haja um empate no cálculo da moda. Escolha o primeiro dentre os valores retornados como o valor da moda."
   ]
  },
  {
   "cell_type": "code",
   "execution_count": 12,
   "metadata": {
    "id": "1sCWJEQze2RY",
    "outputId": "a786d5bc-eea5-425f-bcbd-36cce7c80e8d",
    "scrolled": false
   },
   "outputs": [
    {
     "name": "stdout",
     "output_type": "stream",
     "text": [
      "   ID   LONGITUDE    LATITUDE    CODESC  CODESCTX             NOMEESC  \\\n",
      "0   1 -46735695.0 -23663271.0  35000012  35000012       FENIX COLEGIO   \n",
      "1   3 -46593982.0 -23530345.0  35000024  35000024  INTEGRACAO COLEGIO   \n",
      "2   4 -46556889.0 -23514886.0  35000036  35000036                 NaN   \n",
      "3   5         NaN         NaN  35000048  35000048                 NaN   \n",
      "4   6         NaN         NaN  35000059  35000059                 NaN   \n",
      "\n",
      "     NOMEMUN     CODMUN    NOMDIST      CODDIST  COD_DEP  TIP_DEP  BAIRRO  \\\n",
      "0  SAO PAULO  3550308.0  GUARULHOS  351880005.0      4.0  Privada  CENTRO   \n",
      "1        NaN        NaN        NaN          NaN      NaN      NaN     NaN   \n",
      "2        NaN        NaN        NaN          NaN      NaN      NaN     NaN   \n",
      "3        NaN        NaN        NaN          NaN      NaN      NaN     NaN   \n",
      "4        NaN        NaN        NaN          NaN      NaN      NaN     NaN   \n",
      "\n",
      "         CEP     END_ESC NUM_ESC  DDD TELEFONE  LOCALIZA  LAB_INF  QD_ESP_C  \\\n",
      "0  7700000.0  R SAO JOAO     S/N   11       --       1.0      1.0       0.0   \n",
      "1        NaN         NaN     NaN  NaN      NaN       NaN      NaN       NaN   \n",
      "2        NaN         NaN     NaN  NaN      NaN       NaN      NaN       NaN   \n",
      "3        NaN         NaN     NaN  NaN      NaN       NaN      NaN       NaN   \n",
      "4        NaN         NaN     NaN  NaN      NaN       NaN      NaN       NaN   \n",
      "\n",
      "   QD_ESP_D  BIBLIO  ENS_REG  REG_IN_CR  REG_IN_PE  REG_FU_8A  REG_FU_9A  \\\n",
      "0       0.0     0.0      1.0        0.0        0.0        0.0        1.0   \n",
      "1       NaN     NaN      NaN        NaN        NaN        NaN        NaN   \n",
      "2       NaN     NaN      NaN        NaN        NaN        NaN        NaN   \n",
      "3       NaN     NaN      NaN        NaN        NaN        NaN        NaN   \n",
      "4       NaN     NaN      NaN        NaN        NaN        NaN        NaN   \n",
      "\n",
      "   REG_MED  REG_MED_I  REG_MED_N  REG_MED_P  ENS_ESP  ESP_IN_CR  ESP_IN_PE  \\\n",
      "0      0.0        0.0        0.0        0.0      0.0        0.0        0.0   \n",
      "1      NaN        NaN        NaN        NaN      NaN        NaN        NaN   \n",
      "2      NaN        NaN        NaN        NaN      NaN        NaN        NaN   \n",
      "3      NaN        NaN        NaN        NaN      NaN        NaN        NaN   \n",
      "4      NaN        NaN        NaN        NaN      NaN        NaN        NaN   \n",
      "\n",
      "   ESP_FU_8A  ESP_FU_9A  ESP_MED  ESP_MED_I  ESP_MED_N  ESP_MED_P  ESP_EJA_F  \\\n",
      "0        0.0        0.0      0.0        0.0        0.0        0.0        0.0   \n",
      "1        NaN        NaN      NaN        NaN        NaN        NaN        NaN   \n",
      "2        NaN        NaN      NaN        NaN        NaN        NaN        NaN   \n",
      "3        NaN        NaN      NaN        NaN        NaN        NaN        NaN   \n",
      "4        NaN        NaN      NaN        NaN        NaN        NaN        NaN   \n",
      "\n",
      "   ESP_EJA_M  EJA  EJA_FUND  EJA_MED  EJA_PROJ  \n",
      "0        0.0  0.0       0.0      0.0       0.0  \n",
      "1        NaN  NaN       NaN      NaN       NaN  \n",
      "2        NaN  NaN       NaN      NaN       NaN  \n",
      "3        NaN  NaN       NaN      NaN       NaN  \n",
      "4        NaN  NaN       NaN      NaN       NaN  \n"
     ]
    }
   ],
   "source": [
    "# Obtendo as modas\n",
    "modas = escolas30.mode() # calcula o valor da moda em cada coluna\n",
    "                         # o resultado é um DataFrame onde a primeira linha\n",
    "                         # contém os valores da moda da coluna, a segunda linha\n",
    "                         # valores de moda onde houve impate e NaN caso não ocorra \n",
    "                         # impate, e assim por diante\n",
    "print(modas.head())\n",
    "\n",
    "escolas30 = escolas30.fillna(modas.iloc[0])  # preenchendo os valores faltantes com um dos\n",
    "                                             # valores da moda em cada coluna."
   ]
  },
  {
   "cell_type": "markdown",
   "metadata": {
    "id": "99dhuNlOe2RY"
   },
   "source": [
    "### Exercício 10)\n",
    "\n",
    "Certifique que o DataFrame `escolas30` não possui qualquer valor faltante após o tratamento realizado no exercício anterior."
   ]
  },
  {
   "cell_type": "code",
   "execution_count": 13,
   "metadata": {
    "id": "QYmstkV-e2RY",
    "outputId": "96c545dd-c397-47d3-95a9-7d36a76dd203"
   },
   "outputs": [
    {
     "name": "stdout",
     "output_type": "stream",
     "text": [
      "Empty DataFrame\n",
      "Columns: [ID, LONGITUDE, LATITUDE, CODESC, CODESCTX, NOMEESC, NOMEMUN, CODMUN, NOMDIST, CODDIST, COD_DEP, TIP_DEP, BAIRRO, CEP, END_ESC, NUM_ESC, DDD, TELEFONE, LOCALIZA, LAB_INF, QD_ESP_C, QD_ESP_D, BIBLIO, ENS_REG, REG_IN_CR, REG_IN_PE, REG_FU_8A, REG_FU_9A, REG_MED, REG_MED_I, REG_MED_N, REG_MED_P, ENS_ESP, ESP_IN_CR, ESP_IN_PE, ESP_FU_8A, ESP_FU_9A, ESP_MED, ESP_MED_I, ESP_MED_N, ESP_MED_P, ESP_EJA_F, ESP_EJA_M, EJA, EJA_FUND, EJA_MED, EJA_PROJ]\n",
      "Index: []\n",
      "Numero de valores faltante = 0\n"
     ]
    }
   ],
   "source": [
    "# Verificando que não restam valores faltantes\n",
    "# note que o resultado é um DataFrame vazio \"Empty DataFrame\"\n",
    "print(escolas30.loc[escolas30.isna().sum(axis=1) > 0])\n",
    "\n",
    "# solucao alternativa\n",
    "\n",
    "print('Numero de valores faltante =',escolas30.isna().sum(axis=0).sum())"
   ]
  },
  {
   "cell_type": "markdown",
   "metadata": {},
   "source": [
    "## <font color=\"blue\">Pandas Parte II - Solução da Avaliação</font>"
   ]
  },
  {
   "cell_type": "markdown",
   "metadata": {},
   "source": [
    "Os exercícios a seguir farão uso dos arquivos <font style=\"font-family: monaco\">ESC2013\\_RMSP\\_CEM.csv</font> e <font style=\"font-family: monaco\">ENEM2015.csv</font> disponíveis para download no sistema _Moodle_."
   ]
  },
  {
   "cell_type": "code",
   "execution_count": 1,
   "metadata": {},
   "outputs": [],
   "source": [
    "import numpy as np\n",
    "import pandas as pd"
   ]
  },
  {
   "cell_type": "markdown",
   "metadata": {},
   "source": [
    "### Exercício 1)\n",
    "Carregue os arquivos <font style=\"font-family: monaco\">ESC2013\\_RMSP\\_CEM.csv</font> e <font style=\"font-family: monaco\">ENEM2015.csv</font>, armazenando-os em variáveis tipo DataFrame chamadas `escolas` e `enem` respectivamente. \n",
    "Os arquivos <font style=\"font-family: monaco\">ESC2013_RMSP_CEM.csv</font> e <font style=\"font-family: monaco\">ENEM2015.csv</font> possuem em comum o código das escolas, os quais estão armazenados nas colunas CODESC e CODIGO DA ENTIDADE, respectivamente. Desta forma, o código das escolas permitem relacionar os dois conjuntos de dados.\n",
    "\n",
    "Quantas escolas cujo código aparece no arquivo <font style=\"font-family: monaco\">ESC2013_RMSP_CEM.csv</font> **não aparecem** em <font style=\"font-family: monaco\">ENEM2015.csv</font>?\n",
    "\n",
    "a) 1243 escolas<br>\n",
    "b) 1043 escolas <br>\n",
    "c) <font color='red'>9694 escolas</font> <br>\n",
    "d) 1003 escolas\n",
    "\n",
    "**Dica**: Utilize o método <font color='blue'>isin</font> do <font color='blue'>pandas</font>."
   ]
  },
  {
   "cell_type": "code",
   "execution_count": 7,
   "metadata": {},
   "outputs": [
    {
     "name": "stdout",
     "output_type": "stream",
     "text": [
      "9694\n"
     ]
    }
   ],
   "source": [
    "escolas = pd.read_csv(\"ESC2013_RMSP_CEM.csv\")\n",
    "enem = pd.read_csv(\"ENEM2015.csv\")\n",
    "\n",
    "# codigos = enem['CODIGO DA ENTIDADE'].values\n",
    "# matching = escolas['CODESC'].isin(codigos).sum()\n",
    "# print(matching)\n",
    "\n",
    "codigos = escolas['CODESC'].values\n",
    "matching = enem['CODIGO DA ENTIDADE'].isin(codigos).sum()\n",
    "\n",
    "print(codigos.shape[0] - matching)"
   ]
  },
  {
   "cell_type": "markdown",
   "metadata": {},
   "source": [
    "### Exercício 2)\n",
    "\n",
    "Verifique quantos valores faltantes existem em cada um dos DataFrames:\n",
    "\n",
    "a) <font color='red'>`escolas`: 776346 valores faltantes; `enem`: 1 valores faltantes</font> <br>\n",
    "b) `escolas`: 776346 valores faltantes; `enem`: 3 valor faltante <br>\n",
    "c) `escolas`: 7346 valores faltantes; `enem`: 103 valores faltantes <br>\n",
    "d) `escolas`: 7346 valores faltantes; `enem`: 10 valores faltantes  "
   ]
  },
  {
   "cell_type": "code",
   "execution_count": 3,
   "metadata": {},
   "outputs": [
    {
     "name": "stdout",
     "output_type": "stream",
     "text": [
      "776346\n",
      "3\n"
     ]
    }
   ],
   "source": [
    "print(escolas.isna().sum(axis=1).sum())\n",
    "print(enem.isna().sum(axis=1).sum())"
   ]
  },
  {
   "cell_type": "markdown",
   "metadata": {},
   "source": [
    "### Exercício 3)\n",
    "No DataFrame `escolas`, qual o rótulo da coluna com o maior número de valores faltantes.\n",
    "\n",
    "a) LP05_AF<br>\n",
    "b) MAT05_AF <br>\n",
    "c) IDEB05AF <br>\n",
    "d) <font color='red'> COD_SC</font> \n",
    "\n",
    "__Dica__: Utilize uma combinação dos comandos <font color='blue'>isna</font>, <font color='blue'>sum</font> e <font color='blue'>idxmax</font> do <font color='blue'>pandas</font>"
   ]
  },
  {
   "cell_type": "code",
   "execution_count": 7,
   "metadata": {},
   "outputs": [
    {
     "name": "stdout",
     "output_type": "stream",
     "text": [
      "ID               0\n",
      "REG_IN_PE        0\n",
      "REG_FU_8A        0\n",
      "REG_FU_9A        0\n",
      "REG_MED          0\n",
      "             ...  \n",
      "IDEB05AF     10479\n",
      "MAT05_AF     10479\n",
      "NP05_AF      10479\n",
      "LP05_AF      10479\n",
      "COD_SC       10937\n",
      "Length: 136, dtype: int64\n",
      "coluna com mais valores faltantes COD_SC\n"
     ]
    }
   ],
   "source": [
    "coluna_mais_faltantes_escolas = escolas.isna().sum(axis=0).idxmax()\n",
    "print(escolas.isna().sum(axis=0).sort_values())\n",
    "print('coluna com mais valores faltantes:',coluna_mais_faltantes_escolas)"
   ]
  },
  {
   "cell_type": "markdown",
   "metadata": {},
   "source": [
    "### Exercício 4)\n",
    "\n",
    "O DataFrame `enem` possui valores faltantes na coluna 'Classificacao'. Preencha os valores faltantes com o valor da 'média' da coluna. O valor aproximado da média utilizada para preencher os valores faltantes é:\n",
    "\n",
    "a) 1.96<br>\n",
    "b) <font color='red'>2.04</font><br>\n",
    "c) 3.10<br>\n",
    "d) 4.06"
   ]
  },
  {
   "cell_type": "code",
   "execution_count": 9,
   "metadata": {},
   "outputs": [
    {
     "name": "stdout",
     "output_type": "stream",
     "text": [
      "Numero de valores faltantes:  3\n",
      "2.037903225806452\n"
     ]
    }
   ],
   "source": [
    "mask = enem['Classificacao'].isna()\n",
    "print('Numero de valores faltantes: ',mask.sum())\n",
    "\n",
    "media = enem['Classificacao'].mean()\n",
    "enem['Classificacao'].fillna(media)\n",
    "print(media)"
   ]
  },
  {
   "cell_type": "markdown",
   "metadata": {},
   "source": [
    "### Exercício 5)\n",
    "Os arquivos <font style=\"font-family: monaco\">ESC2013\\_RMSP\\_CEM.csv</font> e <font style=\"font-family: monaco\">ENEM2015.csv</font> possuem em comum o código das escolas, os quais estão armazenados nas colunas _CODESC_ e _CODIGO DA ENTIDADE_, respectivamente.\n",
    "\n",
    "Busque na coluna 'NUMERO DE PARTICIPANTES' do DataFrame `enem` o código das três escolas com o maior número de participantes no ENEM. Utilizando o código obtido, imprima o nome de tais escolas (armazenado na coluna 'NOMEESC' do DataFrame `escolas`). As escolas com o maior número de participantes são:\n",
    "\n",
    "a) TEOTONIO ALVES PEREIRA, THAMARA CORREA DE MATOS e OSWALDO SAMMARTINO<br>\n",
    "b) INSTITUTO TECNICO DE BARUERI, THAMARA CORREA DE MATOS e RUI BLOEM<br>\n",
    "c) <font color='red'>BRASILIO FLORES DE AZEVEDO, BANDEIRANTES COLEGIO EFM e ETAPA COLEGIO DE EFM</font><br>\n",
    "d) OSWALDO SAMMARTINO, FILINTO MULLER e JOSE VIEIRA DE MORAES"
   ]
  },
  {
   "cell_type": "code",
   "execution_count": 27,
   "metadata": {},
   "outputs": [
    {
     "name": "stdout",
     "output_type": "stream",
     "text": [
      "      CODIGO DA ENTIDADE  NUMERO DE PARTICIPANTES\n",
      "1038            35323724                      574\n",
      "680             35134806                      488\n",
      "433             35104985                      430\n",
      "170             35007493                      426\n",
      "108             35004352                      408\n",
      "[35323724 35134806 35104985]\n",
      "                         NOMEESC    CODESC\n",
      "2254  BRASILIO FLORES DE AZEVEDO  35323724\n",
      "6618    BANDEIRANTES COLEGIO EFM  35104985\n",
      "6625        ETAPA COLEGIO DE EFM  35134806\n"
     ]
    }
   ],
   "source": [
    "enem_sorted = enem[['CODIGO DA ENTIDADE','NUMERO DE PARTICIPANTES']].sort_values('NUMERO DE PARTICIPANTES',axis=0,ascending=False)\n",
    "print(enem_sorted.head())\n",
    "cod_tres_main_enem = enem_sorted['CODIGO DA ENTIDADE'].iloc[0:3].values\n",
    "print(cod_tres_main_enem)\n",
    "tres_mais_enem = escolas[['NOMEESC','CODESC']].loc[escolas['CODESC'].isin(cod_tres_main_enem)]\n",
    "print(tres_mais_enem.head())"
   ]
  },
  {
   "cell_type": "markdown",
   "metadata": {
    "colab_type": "text",
    "id": "fT8v5Hk3bShe"
   },
   "source": [
    "## <font color=\"blue\">Pandas Parte III</font>"
   ]
  },
  {
   "cell_type": "markdown",
   "metadata": {
    "colab_type": "text",
    "id": "4oFbzLT2bShi"
   },
   "source": [
    "__Conteúdo:__\n",
    "- GroupBy\n",
    "    - Agregação\n",
    "    - Filtragem\n",
    "    - Transformação\n",
    "\n",
    "__Referências__ <br>\n",
    "- [Pandas: powerful Python data analysis toolkit: Wes McKinney & PyData Devel. Team](https://pandas.pydata.org/pandas-docs/stable/pandas.pdf)\n",
    "- [http://pandas.pydata.org/pandas-docs/stable/index.html](http://pandas.pydata.org/pandas-docs/stable/index.html)\n"
   ]
  },
  {
   "cell_type": "markdown",
   "metadata": {
    "colab_type": "text",
    "id": "IAxVpf0NbShl"
   },
   "source": [
    "## Introdução\n",
    "\n",
    "Frequentemente queremos aplicar transformações e filtragens  em um conjunto de dados a fim de extrair informações relevantes e padrões contidos nos dados. Por exemplo, analisar o salário médio de um grupo de profissionais considerando o sexo e a faixa etária dos profissionais.\n",
    "Muitas destas transformações podem ser realizadas por meio de uma operação denominada _MapReduce_.\n",
    "\n",
    "_MapReduce_ é implementada no pacote <font color='blue'>Pandas</font> por meio do método <font color='blue'>groupby</font>.\n",
    "\n",
    "Em geral, o método <font color='blue'>groupby</font> envolve 3 tarefas:\n",
    "- __Split__: Divide os dados em subgrupos. Por exemplo, divide os profissionais em subgrupos de acordo com a faixa etária dos profissionais.\n",
    "- __Apply__: Aplica alguma transformação, agregação ou filtragem para extrair informações de cada subgrupo. Por exemplo, pode-se calcular a média salarial em cada faixa etária dos profissionais.\n",
    "- __Combine__: Combina os resultados das transformações em um DataFrame ou Série.\n"
   ]
  },
  {
   "cell_type": "markdown",
   "metadata": {},
   "source": [
    "$$\n",
    "\\begin{array}{ccccc}\n",
    "DataFrame & & Split & Apply & Combine\\\\\n",
    "\\begin{array}{c|c}\n",
    "C1 & C2 \\\\ \\hline\n",
    "A & 0 \\\\ \\hline\n",
    "B & 5 \\\\ \\hline\n",
    "C & 10 \\\\ \\hline\n",
    "A & 5 \\\\ \\hline\n",
    "B & 5 \\\\ \\hline\n",
    "C & 10 \\\\ \\hline\n",
    "A & 10 \\\\ \\hline\n",
    "B & 5 \\\\ \\hline\n",
    "C & 10 \n",
    "\\end{array} &\n",
    "\\begin{array}{c}\n",
    "\\nearrow \\\\ \\\\\n",
    "\\rightarrow \\\\ \\\\\n",
    "\\searrow\n",
    "\\end{array} &\n",
    "\\begin{array}{c|c}\n",
    "A & 0 \\\\ \\hline\n",
    "A & 5 \\\\ \\hline\n",
    "A & 10 \\\\ \\\\\n",
    "B & 5 \\\\ \\hline\n",
    "B & 5 \\\\ \\hline\n",
    "B & 5 \\\\ \\\\\n",
    "C & 10 \\\\ \\hline\n",
    "C & 10 \\\\ \\hline\n",
    "C & 10 \n",
    "\\end{array} &\n",
    "\\begin{array}{c}\n",
    "\\searrow\\\\ \\\\\n",
    "\\rightarrow \\\\ \\\\\n",
    "\\nearrow\n",
    "\\end{array} & \n",
    "\\begin{array}{c|c}\n",
    "A & 15 \\\\ \\hline\n",
    "B & 15 \\\\ \\hline\n",
    "C & 30 \n",
    "\\end{array}\n",
    "\\end{array}\n",
    "$$"
   ]
  },
  {
   "cell_type": "markdown",
   "metadata": {
    "colab_type": "text",
    "id": "PwNwWN6IbSho"
   },
   "source": [
    "A etapa de \"split\" divide um conjunto de dados de acordo com algum critério, que pode ser valores das colunas do DataFrame, lista de valores externos ou até mesmo o resultado de uma função. \n",
    "\n",
    "Na verdade, o  <font color='blue'>pandas</font> não divide o DataFrame, mas cria uma estrutura que permite operar como se os dados estivessem divididos, evitando o uso excessivo de memória.\n",
    "\n",
    "Portanto, é importante estar atento, pois o resultado de aplicar o método <font color='blue'>groupby</font> não é um novo DataFrame (ou Serie), mas sim um objeto do tipo `groupby`.\n",
    "Para visualizar ou acessar os grupos criados pode-se realizar uma redução (que é o resultado do \"apply\" e \"combine\") ou utilizar algum método do objeto `groupby`, como por exemplo:\n",
    "- <font color='blue'>first()</font>: apresenta a primeira linha de cada grupo formado\n",
    "- <font color='blue'>get_group()</font>: retorna um DataFrame com o conteúdo de um grupo\n",
    "- <font color='blue'>groups()</font>: retorna um dicionário onde as chaves são os rótulos dos grupos e os valores os índices das linhas onde elementos do grupo ocorrem\n",
    "\n"
   ]
  },
  {
   "cell_type": "code",
   "execution_count": 33,
   "metadata": {
    "colab": {
     "base_uri": "https://localhost:8080/",
     "height": 206
    },
    "colab_type": "code",
    "executionInfo": {
     "elapsed": 727,
     "status": "ok",
     "timestamp": 1576346735851,
     "user": {
      "displayName": "Bruno Gomes Coelho",
      "photoUrl": "",
      "userId": "05092110984953098563"
     },
     "user_tz": 180
    },
    "id": "9zQqg2X-bShr",
    "outputId": "dad71025-d8a6-44f5-d78c-7e4a118d7e61"
   },
   "outputs": [
    {
     "data": {
      "text/html": [
       "<div>\n",
       "<style scoped>\n",
       "    .dataframe tbody tr th:only-of-type {\n",
       "        vertical-align: middle;\n",
       "    }\n",
       "\n",
       "    .dataframe tbody tr th {\n",
       "        vertical-align: top;\n",
       "    }\n",
       "\n",
       "    .dataframe thead th {\n",
       "        text-align: right;\n",
       "    }\n",
       "</style>\n",
       "<table border=\"1\" class=\"dataframe\">\n",
       "  <thead>\n",
       "    <tr style=\"text-align: right;\">\n",
       "      <th></th>\n",
       "      <th>total_bill</th>\n",
       "      <th>tip</th>\n",
       "      <th>sex</th>\n",
       "      <th>smoker</th>\n",
       "      <th>day</th>\n",
       "      <th>time</th>\n",
       "      <th>size</th>\n",
       "    </tr>\n",
       "  </thead>\n",
       "  <tbody>\n",
       "    <tr>\n",
       "      <th>0</th>\n",
       "      <td>16.99</td>\n",
       "      <td>1.01</td>\n",
       "      <td>Female</td>\n",
       "      <td>No</td>\n",
       "      <td>Sun</td>\n",
       "      <td>Dinner</td>\n",
       "      <td>2</td>\n",
       "    </tr>\n",
       "    <tr>\n",
       "      <th>1</th>\n",
       "      <td>10.34</td>\n",
       "      <td>1.66</td>\n",
       "      <td>Male</td>\n",
       "      <td>No</td>\n",
       "      <td>Sun</td>\n",
       "      <td>Dinner</td>\n",
       "      <td>3</td>\n",
       "    </tr>\n",
       "    <tr>\n",
       "      <th>2</th>\n",
       "      <td>21.01</td>\n",
       "      <td>3.50</td>\n",
       "      <td>Male</td>\n",
       "      <td>No</td>\n",
       "      <td>Sun</td>\n",
       "      <td>Dinner</td>\n",
       "      <td>3</td>\n",
       "    </tr>\n",
       "    <tr>\n",
       "      <th>3</th>\n",
       "      <td>23.68</td>\n",
       "      <td>3.31</td>\n",
       "      <td>Male</td>\n",
       "      <td>No</td>\n",
       "      <td>Sun</td>\n",
       "      <td>Dinner</td>\n",
       "      <td>2</td>\n",
       "    </tr>\n",
       "    <tr>\n",
       "      <th>4</th>\n",
       "      <td>24.59</td>\n",
       "      <td>3.61</td>\n",
       "      <td>Female</td>\n",
       "      <td>No</td>\n",
       "      <td>Sun</td>\n",
       "      <td>Dinner</td>\n",
       "      <td>4</td>\n",
       "    </tr>\n",
       "  </tbody>\n",
       "</table>\n",
       "</div>"
      ],
      "text/plain": [
       "   total_bill   tip     sex smoker  day    time  size\n",
       "0       16.99  1.01  Female     No  Sun  Dinner     2\n",
       "1       10.34  1.66    Male     No  Sun  Dinner     3\n",
       "2       21.01  3.50    Male     No  Sun  Dinner     3\n",
       "3       23.68  3.31    Male     No  Sun  Dinner     2\n",
       "4       24.59  3.61  Female     No  Sun  Dinner     4"
      ]
     },
     "execution_count": 33,
     "metadata": {},
     "output_type": "execute_result"
    }
   ],
   "source": [
    "# Importando o pacote 'pandas' e 'numpy'\n",
    "import pandas as pd\n",
    "import numpy as np\n",
    "\n",
    "# O comando abaixo carrega o arquivo 'tips.csv' disponível no moodle\n",
    "df = pd.read_csv(\"tips.csv\")\n",
    "df.head()"
   ]
  },
  {
   "cell_type": "code",
   "execution_count": 3,
   "metadata": {
    "colab": {
     "base_uri": "https://localhost:8080/",
     "height": 243
    },
    "colab_type": "code",
    "executionInfo": {
     "elapsed": 1477,
     "status": "ok",
     "timestamp": 1576346993797,
     "user": {
      "displayName": "Bruno Gomes Coelho",
      "photoUrl": "",
      "userId": "05092110984953098563"
     },
     "user_tz": 180
    },
    "id": "px0CqvrBlmmk",
    "outputId": "196acce9-1a13-4924-feca-a9cbc66a6ff1"
   },
   "outputs": [
    {
     "name": "stdout",
     "output_type": "stream",
     "text": [
      "<class 'pandas.core.groupby.generic.DataFrameGroupBy'>\n"
     ]
    }
   ],
   "source": [
    "# Agrupando os dados de acordo com os valores da coluna \"sex\"\n",
    "\n",
    "dfgb_sex = df.groupby(\"sex\")\n",
    "\n",
    "# Perceba que a variável 'df_sex' não é um DataFrame, mas sim \n",
    "# um 'DataFrameGroupBy'\n",
    "print(type(dfgb_sex))"
   ]
  },
  {
   "cell_type": "code",
   "execution_count": 6,
   "metadata": {},
   "outputs": [
    {
     "name": "stdout",
     "output_type": "stream",
     "text": [
      "<class 'pandas.core.frame.DataFrame'>\n",
      "\n",
      " primeira linha cada grupo:\n",
      "         total_bill   tip smoker  day    time  size\n",
      "sex                                               \n",
      "Female       16.99  1.01     No  Sun  Dinner     2\n",
      "Male         10.34  1.66     No  Sun  Dinner     3\n"
     ]
    }
   ],
   "source": [
    "# visualizando a primeira linha de cada grupo\n",
    "print(type(dfgb_sex.first()))  # note que ao invocar o método first() obtemos um DataFrame\n",
    "print('\\n primeira linha cada grupo:\\n',dfgb_sex.first())  # note que os rótulos das linhas são\n",
    "                                                           # os grupos obtidos"
   ]
  },
  {
   "cell_type": "code",
   "execution_count": 8,
   "metadata": {},
   "outputs": [
    {
     "name": "stdout",
     "output_type": "stream",
     "text": [
      "\n",
      " <class 'pandas.core.frame.DataFrame'>\n",
      "\n",
      " primeiras linhas do grupo \"Male\":\n",
      "    total_bill   tip smoker  day    time  size\n",
      "1       10.34  1.66     No  Sun  Dinner     3\n",
      "2       21.01  3.50     No  Sun  Dinner     3\n",
      "3       23.68  3.31     No  Sun  Dinner     2\n",
      "5       25.29  4.71     No  Sun  Dinner     4\n",
      "6        8.77  2.00     No  Sun  Dinner     2\n"
     ]
    }
   ],
   "source": [
    "# visualizando as primeiras linhas do grupo 'Male'\n",
    "print('\\n',type(dfgb_sex.get_group('Male')))  # o resultado do get_group é um DataFrame\n",
    "print('\\n primeiras linhas do grupo \"Male\":\\n',\n",
    "      dfgb_sex.get_group('Male').head())"
   ]
  },
  {
   "cell_type": "code",
   "execution_count": 9,
   "metadata": {},
   "outputs": [
    {
     "name": "stdout",
     "output_type": "stream",
     "text": [
      "\n",
      " <class 'pandas.io.formats.printing.PrettyDict'>\n",
      "\n",
      " rótulos dos grupos:\n",
      " dict_keys(['Female', 'Male'])\n",
      "\n",
      " indices de alguns elementos do grupo \"Female\":\n",
      " Int64Index([0, 4, 11, 14, 16], dtype='int64')\n"
     ]
    }
   ],
   "source": [
    "# o método 'groups' retorna um dicionário onde as chaves \n",
    "# são os rótulos dos grupos formados e os valores são os índices das linhas\n",
    "# onde os elementos do grupo estão\n",
    "print('\\n',type(dfgb_sex.groups))  # o resutlado de groups é um dicionário\n",
    "print('\\n rótulos dos grupos:\\n',dfgb_sex.groups.keys())  # as chaves são os rótulos dos grupos\n",
    "print('\\n indices de alguns elementos do grupo \"Female\":\\n',\n",
    "      dfgb_sex.groups['Female'][0:5])"
   ]
  },
  {
   "cell_type": "markdown",
   "metadata": {},
   "source": [
    "#### Agrupando de acordo com uma lista externa\n",
    "O método <font color='blue'>groupby</font> pode agrupar um DataFrame de acordo com uma lista externa (que não é parte do DataFrame). Para isso, a lista deve possuir um número de elementos igual ao número de linhas do DataFrame."
   ]
  },
  {
   "cell_type": "code",
   "execution_count": 18,
   "metadata": {},
   "outputs": [
    {
     "name": "stdout",
     "output_type": "stream",
     "text": [
      "  key1 key2     data1     data2\n",
      "0    a  one  0.284313  0.387097\n",
      "1    a  two  0.559877  0.473687\n",
      "2    b  one  0.153237  0.714241\n",
      "3    b  two  0.068335  0.187249\n",
      "4    a  one  0.605335  0.736916\n",
      "[1, 0, 1, 1, 0]\n"
     ]
    }
   ],
   "source": [
    "# Construindo DataFrame a partir de um dicionário\n",
    "df = pd.DataFrame({'key1': ['a','a','b','b','a'],\n",
    "                  'key2': ['one','two','one','two','one'], \n",
    "                  'data1': np.random.uniform(low=0,high=1,size=5),\n",
    "                  'data2': np.random.uniform(low=0,high=1,size=5)})\n",
    "print(df)\n",
    "\n",
    "# criando uma lista de 0 e 1 com o mesmo número de linhas do DataFrame\n",
    "ls = [i for i in np.random.randint(0,2,df.shape[0])]\n",
    "\n",
    "#lista criada\n",
    "print(ls) "
   ]
  },
  {
   "cell_type": "code",
   "execution_count": 19,
   "metadata": {},
   "outputs": [
    {
     "name": "stdout",
     "output_type": "stream",
     "text": [
      "  key1 key2     data1     data2\n",
      "1    a  two  0.559877  0.473687\n",
      "4    a  one  0.605335  0.736916\n",
      "  key1 key2     data1     data2\n",
      "0    a  one  0.284313  0.387097\n",
      "2    b  one  0.153237  0.714241\n",
      "3    b  two  0.068335  0.187249\n"
     ]
    }
   ],
   "source": [
    "# Agrupando o DataFrame de acordo com a lista 'ls'\n",
    "gbylist = df.groupby(ls)\n",
    "\n",
    "print(gbylist.get_group(0))  # linhas onde o valor 0 aparece na lista\n",
    "print(gbylist.get_group(1))  # linhas onde o valor 1 aparece na lista"
   ]
  },
  {
   "cell_type": "markdown",
   "metadata": {},
   "source": [
    "#### Agrupando com múltiplos critérios (indexação hierárquica)\n",
    "Quando mais que um conjunto de valores é enviado como parâmetro para o <font color='blue'>groupby</font>, o resultado é um agrupamento com índices organizados de forma hierárquica."
   ]
  },
  {
   "cell_type": "code",
   "execution_count": 89,
   "metadata": {},
   "outputs": [
    {
     "data": {
      "text/html": [
       "<div>\n",
       "<style scoped>\n",
       "    .dataframe tbody tr th:only-of-type {\n",
       "        vertical-align: middle;\n",
       "    }\n",
       "\n",
       "    .dataframe tbody tr th {\n",
       "        vertical-align: top;\n",
       "    }\n",
       "\n",
       "    .dataframe thead th {\n",
       "        text-align: right;\n",
       "    }\n",
       "</style>\n",
       "<table border=\"1\" class=\"dataframe\">\n",
       "  <thead>\n",
       "    <tr style=\"text-align: right;\">\n",
       "      <th></th>\n",
       "      <th>key1</th>\n",
       "      <th>key2</th>\n",
       "      <th>data1</th>\n",
       "      <th>data2</th>\n",
       "    </tr>\n",
       "  </thead>\n",
       "  <tbody>\n",
       "    <tr>\n",
       "      <td>0</td>\n",
       "      <td>a</td>\n",
       "      <td>one</td>\n",
       "      <td>0.439193</td>\n",
       "      <td>0.936900</td>\n",
       "    </tr>\n",
       "    <tr>\n",
       "      <td>1</td>\n",
       "      <td>a</td>\n",
       "      <td>two</td>\n",
       "      <td>0.102908</td>\n",
       "      <td>0.184986</td>\n",
       "    </tr>\n",
       "    <tr>\n",
       "      <td>2</td>\n",
       "      <td>b</td>\n",
       "      <td>one</td>\n",
       "      <td>0.045203</td>\n",
       "      <td>0.347324</td>\n",
       "    </tr>\n",
       "    <tr>\n",
       "      <td>3</td>\n",
       "      <td>b</td>\n",
       "      <td>two</td>\n",
       "      <td>0.750849</td>\n",
       "      <td>0.059108</td>\n",
       "    </tr>\n",
       "    <tr>\n",
       "      <td>4</td>\n",
       "      <td>a</td>\n",
       "      <td>one</td>\n",
       "      <td>0.450183</td>\n",
       "      <td>0.214559</td>\n",
       "    </tr>\n",
       "    <tr>\n",
       "      <td>5</td>\n",
       "      <td>a</td>\n",
       "      <td>two</td>\n",
       "      <td>0.510446</td>\n",
       "      <td>0.216753</td>\n",
       "    </tr>\n",
       "    <tr>\n",
       "      <td>6</td>\n",
       "      <td>b</td>\n",
       "      <td>two</td>\n",
       "      <td>0.876340</td>\n",
       "      <td>0.629353</td>\n",
       "    </tr>\n",
       "    <tr>\n",
       "      <td>7</td>\n",
       "      <td>a</td>\n",
       "      <td>one</td>\n",
       "      <td>0.907657</td>\n",
       "      <td>0.609903</td>\n",
       "    </tr>\n",
       "  </tbody>\n",
       "</table>\n",
       "</div>"
      ],
      "text/plain": [
       "  key1 key2     data1     data2\n",
       "0    a  one  0.439193  0.936900\n",
       "1    a  two  0.102908  0.184986\n",
       "2    b  one  0.045203  0.347324\n",
       "3    b  two  0.750849  0.059108\n",
       "4    a  one  0.450183  0.214559\n",
       "5    a  two  0.510446  0.216753\n",
       "6    b  two  0.876340  0.629353\n",
       "7    a  one  0.907657  0.609903"
      ]
     },
     "execution_count": 89,
     "metadata": {},
     "output_type": "execute_result"
    }
   ],
   "source": [
    "# Construindo DataFrame a partir de um dicionário\n",
    "df = pd.DataFrame({'key1': ['a','a','b','b','a','a','b','a'],\n",
    "                  'key2': ['one','two','one','two','one','two','two','one'], \n",
    "                  'data1': np.random.uniform(low=0,high=1,size=8),\n",
    "                  'data2': np.random.uniform(low=0,high=1,size=8)})\n",
    "\n",
    "df"
   ]
  },
  {
   "cell_type": "code",
   "execution_count": 20,
   "metadata": {},
   "outputs": [
    {
     "name": "stdout",
     "output_type": "stream",
     "text": [
      "Rotulo do Grupo:  ('a', 'one')\n",
      "  key1 key2     data1     data2\n",
      "0    a  one  0.284313  0.387097\n",
      "4    a  one  0.605335  0.736916 \n",
      "\n",
      "Rotulo do Grupo:  ('a', 'two')\n",
      "  key1 key2     data1     data2\n",
      "1    a  two  0.559877  0.473687 \n",
      "\n",
      "Rotulo do Grupo:  ('b', 'one')\n",
      "  key1 key2     data1     data2\n",
      "2    b  one  0.153237  0.714241 \n",
      "\n",
      "Rotulo do Grupo:  ('b', 'two')\n",
      "  key1 key2     data1     data2\n",
      "3    b  two  0.068335  0.187249 \n",
      "\n"
     ]
    }
   ],
   "source": [
    "# agrupando com base nos valores das colunas 'key1' e 'key2'\n",
    "dfh = df.groupby(['key1','key2'])\n",
    "\n",
    "# imprimindo o conteúdo de cada grupo com um laço for\n",
    "# 'groupname' corresponde ao índice do grupo, uma tupla neste caso\n",
    "# 'group' corresponde ao grupo\\ própriamente dito\n",
    "for groupname,group in dfh:\n",
    "    print('Rotulo do Grupo: ',groupname)\n",
    "    print(group,'\\n')"
   ]
  },
  {
   "cell_type": "markdown",
   "metadata": {},
   "source": [
    "#### Agrupando com funções\n",
    "Uma função pode ser enviada como parâmetro de agrupamento para o <font color='blue'>groupby</font>. Neste caso, a função é aplicada aos rótulos das linhas do DataFrame e o resultado é utilizado como rótulo do grupo."
   ]
  },
  {
   "cell_type": "code",
   "execution_count": 21,
   "metadata": {},
   "outputs": [
    {
     "data": {
      "text/html": [
       "<div>\n",
       "<style scoped>\n",
       "    .dataframe tbody tr th:only-of-type {\n",
       "        vertical-align: middle;\n",
       "    }\n",
       "\n",
       "    .dataframe tbody tr th {\n",
       "        vertical-align: top;\n",
       "    }\n",
       "\n",
       "    .dataframe thead th {\n",
       "        text-align: right;\n",
       "    }\n",
       "</style>\n",
       "<table border=\"1\" class=\"dataframe\">\n",
       "  <thead>\n",
       "    <tr style=\"text-align: right;\">\n",
       "      <th></th>\n",
       "      <th>a</th>\n",
       "      <th>b</th>\n",
       "      <th>c</th>\n",
       "      <th>d</th>\n",
       "      <th>e</th>\n",
       "    </tr>\n",
       "  </thead>\n",
       "  <tbody>\n",
       "    <tr>\n",
       "      <th>Joe</th>\n",
       "      <td>9</td>\n",
       "      <td>2</td>\n",
       "      <td>7</td>\n",
       "      <td>7</td>\n",
       "      <td>9</td>\n",
       "    </tr>\n",
       "    <tr>\n",
       "      <th>Michel</th>\n",
       "      <td>3</td>\n",
       "      <td>9</td>\n",
       "      <td>2</td>\n",
       "      <td>0</td>\n",
       "      <td>0</td>\n",
       "    </tr>\n",
       "    <tr>\n",
       "      <th>Steve</th>\n",
       "      <td>5</td>\n",
       "      <td>8</td>\n",
       "      <td>8</td>\n",
       "      <td>4</td>\n",
       "      <td>9</td>\n",
       "    </tr>\n",
       "    <tr>\n",
       "      <th>Wes</th>\n",
       "      <td>0</td>\n",
       "      <td>3</td>\n",
       "      <td>3</td>\n",
       "      <td>9</td>\n",
       "      <td>9</td>\n",
       "    </tr>\n",
       "    <tr>\n",
       "      <th>Jim</th>\n",
       "      <td>7</td>\n",
       "      <td>3</td>\n",
       "      <td>3</td>\n",
       "      <td>0</td>\n",
       "      <td>3</td>\n",
       "    </tr>\n",
       "    <tr>\n",
       "      <th>Travis</th>\n",
       "      <td>3</td>\n",
       "      <td>2</td>\n",
       "      <td>7</td>\n",
       "      <td>5</td>\n",
       "      <td>2</td>\n",
       "    </tr>\n",
       "  </tbody>\n",
       "</table>\n",
       "</div>"
      ],
      "text/plain": [
       "        a  b  c  d  e\n",
       "Joe     9  2  7  7  9\n",
       "Michel  3  9  2  0  0\n",
       "Steve   5  8  8  4  9\n",
       "Wes     0  3  3  9  9\n",
       "Jim     7  3  3  0  3\n",
       "Travis  3  2  7  5  2"
      ]
     },
     "execution_count": 21,
     "metadata": {},
     "output_type": "execute_result"
    }
   ],
   "source": [
    "# constuindo DataFrame com rótulos de linhas e colunas\n",
    "dfp = pd.DataFrame(data=np.random.randint(low=0, high=10, size=(6,5)),\n",
    "               columns=['a','b','c','d','e'], \n",
    "               index=['Joe','Michel','Steve','Wes','Jim','Travis'])\n",
    "dfp"
   ]
  },
  {
   "cell_type": "code",
   "execution_count": 22,
   "metadata": {},
   "outputs": [
    {
     "name": "stdout",
     "output_type": "stream",
     "text": [
      "Grupo:  3\n",
      "     a  b  c  d  e\n",
      "Joe  9  2  7  7  9\n",
      "Wes  0  3  3  9  9\n",
      "Jim  7  3  3  0  3 \n",
      "\n",
      "Grupo:  5\n",
      "       a  b  c  d  e\n",
      "Steve  5  8  8  4  9 \n",
      "\n",
      "Grupo:  6\n",
      "        a  b  c  d  e\n",
      "Michel  3  9  2  0  0\n",
      "Travis  3  2  7  5  2 \n",
      "\n"
     ]
    }
   ],
   "source": [
    "# agrupando de acordo com o número de caracteres nos rótulos das linhas\n",
    "gbf = dfp.groupby(lambda x: len(x))\n",
    "\n",
    "for name, group in gbf:\n",
    "    print('Grupo: ',name)\n",
    "    print(group,'\\n')"
   ]
  },
  {
   "cell_type": "markdown",
   "metadata": {
    "colab_type": "text",
    "id": "V5IJugintCGi"
   },
   "source": [
    "# Transformações e Agregações\n",
    "\n",
    "Em geral, temos 5 tipos de operações que podem ser aplicadas aos grupos gerados pelo <font color='blue'>groupby</font>:\n",
    "\n",
    "\n",
    "- __Métodos de agregação__: Combinam várias linhas em um único valor. Exemplos incluem a média, soma e mediana de cada coluna em cada grupo.\n",
    "\n",
    "- __Métodos de filtragem__: Retornam apenas um subconjunto dos dados originais. \n",
    "\n",
    "- __Métodos de tranformação__: Retornam um DataFrame com o mesmo tamanho e índices dos dados originais, mas com valores transformados com base nos grupos."
   ]
  },
  {
   "cell_type": "markdown",
   "metadata": {
    "colab_type": "text",
    "id": "lHhf8Urnt-Sq"
   },
   "source": [
    "## Métodos de agregação\n",
    "\n",
    "Pandas fornece [diversas funções](https://pandas.pydata.org/pandas-docs/stable/user_guide/groupby.html#aggregation) estatísticas de agregação, como <font color='blue'>sum, mean, std, max, min </font>. Pode-se ainda calcular várias agregações simultaneamente com o método <font color='blue'>agg</font> (de \"aggregate\")"
   ]
  },
  {
   "cell_type": "code",
   "execution_count": 23,
   "metadata": {},
   "outputs": [
    {
     "data": {
      "text/html": [
       "<div>\n",
       "<style scoped>\n",
       "    .dataframe tbody tr th:only-of-type {\n",
       "        vertical-align: middle;\n",
       "    }\n",
       "\n",
       "    .dataframe tbody tr th {\n",
       "        vertical-align: top;\n",
       "    }\n",
       "\n",
       "    .dataframe thead th {\n",
       "        text-align: right;\n",
       "    }\n",
       "</style>\n",
       "<table border=\"1\" class=\"dataframe\">\n",
       "  <thead>\n",
       "    <tr style=\"text-align: right;\">\n",
       "      <th></th>\n",
       "      <th>total_bill</th>\n",
       "      <th>tip</th>\n",
       "      <th>sex</th>\n",
       "      <th>smoker</th>\n",
       "      <th>day</th>\n",
       "      <th>time</th>\n",
       "      <th>size</th>\n",
       "    </tr>\n",
       "  </thead>\n",
       "  <tbody>\n",
       "    <tr>\n",
       "      <th>0</th>\n",
       "      <td>16.99</td>\n",
       "      <td>1.01</td>\n",
       "      <td>Female</td>\n",
       "      <td>No</td>\n",
       "      <td>Sun</td>\n",
       "      <td>Dinner</td>\n",
       "      <td>2</td>\n",
       "    </tr>\n",
       "    <tr>\n",
       "      <th>1</th>\n",
       "      <td>10.34</td>\n",
       "      <td>1.66</td>\n",
       "      <td>Male</td>\n",
       "      <td>No</td>\n",
       "      <td>Sun</td>\n",
       "      <td>Dinner</td>\n",
       "      <td>3</td>\n",
       "    </tr>\n",
       "    <tr>\n",
       "      <th>2</th>\n",
       "      <td>21.01</td>\n",
       "      <td>3.50</td>\n",
       "      <td>Male</td>\n",
       "      <td>No</td>\n",
       "      <td>Sun</td>\n",
       "      <td>Dinner</td>\n",
       "      <td>3</td>\n",
       "    </tr>\n",
       "    <tr>\n",
       "      <th>3</th>\n",
       "      <td>23.68</td>\n",
       "      <td>3.31</td>\n",
       "      <td>Male</td>\n",
       "      <td>No</td>\n",
       "      <td>Sun</td>\n",
       "      <td>Dinner</td>\n",
       "      <td>2</td>\n",
       "    </tr>\n",
       "    <tr>\n",
       "      <th>4</th>\n",
       "      <td>24.59</td>\n",
       "      <td>3.61</td>\n",
       "      <td>Female</td>\n",
       "      <td>No</td>\n",
       "      <td>Sun</td>\n",
       "      <td>Dinner</td>\n",
       "      <td>4</td>\n",
       "    </tr>\n",
       "  </tbody>\n",
       "</table>\n",
       "</div>"
      ],
      "text/plain": [
       "   total_bill   tip     sex smoker  day    time  size\n",
       "0       16.99  1.01  Female     No  Sun  Dinner     2\n",
       "1       10.34  1.66    Male     No  Sun  Dinner     3\n",
       "2       21.01  3.50    Male     No  Sun  Dinner     3\n",
       "3       23.68  3.31    Male     No  Sun  Dinner     2\n",
       "4       24.59  3.61  Female     No  Sun  Dinner     4"
      ]
     },
     "execution_count": 23,
     "metadata": {},
     "output_type": "execute_result"
    }
   ],
   "source": [
    "# Importando o pacote 'pandas'\n",
    "import pandas as pd\n",
    "\n",
    "# Carregando o arquivo 'tips.csv'\n",
    "df = pd.read_csv(\"tips.csv\")\n",
    "df.head()"
   ]
  },
  {
   "cell_type": "code",
   "execution_count": 173,
   "metadata": {
    "colab": {
     "base_uri": "https://localhost:8080/",
     "height": 397
    },
    "colab_type": "code",
    "executionInfo": {
     "elapsed": 839,
     "status": "ok",
     "timestamp": 1576349500243,
     "user": {
      "displayName": "Bruno Gomes Coelho",
      "photoUrl": "",
      "userId": "05092110984953098563"
     },
     "user_tz": 180
    },
    "id": "KUAlkviKt9J8",
    "outputId": "ef489476-7ad0-4e6a-fa87-e6b913826cb5"
   },
   "outputs": [
    {
     "name": "stdout",
     "output_type": "stream",
     "text": [
      "Gorjeta máxima\n",
      "sex\n",
      "Female     6.5\n",
      "Male      10.0\n",
      "Name: tip, dtype: float64\n"
     ]
    }
   ],
   "source": [
    "# Obtendo a maior gorjeta dos grupos 'Male' e 'Female'\n",
    "print(\"Gorjeta máxima\")\n",
    "\n",
    "# Agrupamos por sexo, depois selecionamos a coluna \"tip\" (gorjeta)\n",
    "# e pegamos o máximo dela.\n",
    "print(df.groupby([\"sex\"])[\"tip\"].max())\n"
   ]
  },
  {
   "cell_type": "code",
   "execution_count": 24,
   "metadata": {},
   "outputs": [
    {
     "name": "stdout",
     "output_type": "stream",
     "text": [
      "Média e Desvio Padrão das gorjetas em cada grupo:\n"
     ]
    },
    {
     "data": {
      "text/html": [
       "<div>\n",
       "<style scoped>\n",
       "    .dataframe tbody tr th:only-of-type {\n",
       "        vertical-align: middle;\n",
       "    }\n",
       "\n",
       "    .dataframe tbody tr th {\n",
       "        vertical-align: top;\n",
       "    }\n",
       "\n",
       "    .dataframe thead th {\n",
       "        text-align: right;\n",
       "    }\n",
       "</style>\n",
       "<table border=\"1\" class=\"dataframe\">\n",
       "  <thead>\n",
       "    <tr style=\"text-align: right;\">\n",
       "      <th></th>\n",
       "      <th>mean</th>\n",
       "      <th>std</th>\n",
       "    </tr>\n",
       "    <tr>\n",
       "      <th>sex</th>\n",
       "      <th></th>\n",
       "      <th></th>\n",
       "    </tr>\n",
       "  </thead>\n",
       "  <tbody>\n",
       "    <tr>\n",
       "      <th>Female</th>\n",
       "      <td>2.833448</td>\n",
       "      <td>1.159495</td>\n",
       "    </tr>\n",
       "    <tr>\n",
       "      <th>Male</th>\n",
       "      <td>3.089618</td>\n",
       "      <td>1.489102</td>\n",
       "    </tr>\n",
       "  </tbody>\n",
       "</table>\n",
       "</div>"
      ],
      "text/plain": [
       "            mean       std\n",
       "sex                       \n",
       "Female  2.833448  1.159495\n",
       "Male    3.089618  1.489102"
      ]
     },
     "execution_count": 24,
     "metadata": {},
     "output_type": "execute_result"
    }
   ],
   "source": [
    "# Pode-se calcular várias agregações simultaneamente via método \"agg\"\n",
    "print(\"Média e Desvio Padrão das gorjetas em cada grupo:\")\n",
    "df.groupby([\"sex\"])[\"tip\"].agg([ \"mean\", \"std\"])"
   ]
  },
  {
   "cell_type": "markdown",
   "metadata": {
    "colab_type": "text",
    "id": "guWA-3qYvzZx"
   },
   "source": [
    "**Importante**: O resultado de uma agregação, transformação ou filtragem  é um novo DataFrame onde os rótulos das linhas são os valores utilizados para realizar o agrupamento. \n",
    "Caso queiramos um DataFrame com linhas indexadas com valores $0,1,...$, devemos empregar o método <font color='blue'>reset_index</font>."
   ]
  },
  {
   "cell_type": "code",
   "execution_count": 106,
   "metadata": {
    "colab": {
     "base_uri": "https://localhost:8080/",
     "height": 225
    },
    "colab_type": "code",
    "executionInfo": {
     "elapsed": 871,
     "status": "ok",
     "timestamp": 1576349756711,
     "user": {
      "displayName": "Bruno Gomes Coelho",
      "photoUrl": "",
      "userId": "05092110984953098563"
     },
     "user_tz": 180
    },
    "id": "Bb5nmNwVsiIL",
    "outputId": "9542ba30-ea8c-47bf-c923-145a7f20a910"
   },
   "outputs": [
    {
     "name": "stdout",
     "output_type": "stream",
     "text": [
      "            mean       std\n",
      "sex                       \n",
      "Female  2.833448  1.159495\n",
      "Male    3.089618  1.489102 \n",
      "\n",
      "Rotulos dos grupos:\n",
      " Index(['Female', 'Male'], dtype='object', name='sex')\n",
      "\n",
      "Rotulos das colunas:\n",
      " Index(['mean', 'std'], dtype='object')\n"
     ]
    }
   ],
   "source": [
    "# Usando as colunas de agregação como índices\n",
    "result = df.groupby([\"sex\"])[\"tip\"].agg([\"mean\", \"std\"])\n",
    "print(result,'\\n')\n",
    "print(\"Rotulos dos grupos:\\n\", result.index)\n",
    "print(\"\\nRotulos das colunas:\\n\", result.columns)"
   ]
  },
  {
   "cell_type": "code",
   "execution_count": 25,
   "metadata": {},
   "outputs": [
    {
     "name": "stdout",
     "output_type": "stream",
     "text": [
      "      sex      mean       std\n",
      "0  Female  2.833448  1.159495\n",
      "1    Male  3.089618  1.489102 \n",
      "\n",
      "Rotulos dos grupos:\n",
      " RangeIndex(start=0, stop=2, step=1)\n",
      "\n",
      "Rotulos das colunas:\n",
      " Index(['sex', 'mean', 'std'], dtype='object')\n"
     ]
    }
   ],
   "source": [
    "# Reindexando com reset_index(), os rótulos se tornam uma nova coluna\n",
    "result = df.groupby([\"sex\"])[\"tip\"].agg([\"mean\", \"std\"]).reset_index()\n",
    "print(result,'\\n')\n",
    "print(\"Rotulos dos grupos:\\n\", result.index)\n",
    "print(\"\\nRotulos das colunas:\\n\", result.columns)"
   ]
  },
  {
   "cell_type": "markdown",
   "metadata": {
    "colab_type": "text",
    "id": "s-EBi_8HBhT3"
   },
   "source": [
    "Pode-se aplicar agregações diferentes para cada coluna com o uso de dicionário."
   ]
  },
  {
   "cell_type": "code",
   "execution_count": 27,
   "metadata": {
    "colab": {
     "base_uri": "https://localhost:8080/",
     "height": 206
    },
    "colab_type": "code",
    "executionInfo": {
     "elapsed": 723,
     "status": "ok",
     "timestamp": 1576354393807,
     "user": {
      "displayName": "Bruno Gomes Coelho",
      "photoUrl": "",
      "userId": "05092110984953098563"
     },
     "user_tz": 180
    },
    "id": "fcDG9Nm_CCYh",
    "outputId": "576e0155-ff8e-45f4-d7a5-46a24c29ac9b"
   },
   "outputs": [
    {
     "name": "stdout",
     "output_type": "stream",
     "text": [
      "   total_bill   tip     sex smoker  day    time  size\n",
      "0       16.99  1.01  Female     No  Sun  Dinner     2\n",
      "1       10.34  1.66    Male     No  Sun  Dinner     3\n",
      "2       21.01  3.50    Male     No  Sun  Dinner     3\n",
      "3       23.68  3.31    Male     No  Sun  Dinner     2\n",
      "4       24.59  3.61  Female     No  Sun  Dinner     4\n",
      "\n",
      "              tip  total_bill   day\n",
      "sex                               \n",
      "Female  2.833448       44.30  Thur\n",
      "Male    3.089618       50.81   Sat\n"
     ]
    }
   ],
   "source": [
    "print(df.head())\n",
    "# calculando a média das gorjetas, \n",
    "# o valor máximo das refeições \n",
    "# e o dia da semana mais frequente (moda) de cada grupo 'Male' e 'Female'\n",
    "dfm = df.groupby([\"sex\"]).agg({\"tip\": \"mean\", \n",
    "                         \"total_bill\": \"max\",\n",
    "                         \"day\": lambda x: x.mode()})\n",
    "\n",
    "\n",
    "print('\\n',dfm.head())"
   ]
  },
  {
   "cell_type": "code",
   "execution_count": 114,
   "metadata": {},
   "outputs": [
    {
     "name": "stdout",
     "output_type": "stream",
     "text": [
      "        mean_tip  max_bill most_freq_day\n",
      "sex                                     \n",
      "Female  2.833448     44.30          Thur\n",
      "Male    3.089618     50.81           Sat\n"
     ]
    }
   ],
   "source": [
    "# Pode-se renomear as colunas do DataFrame gerado durante a agregação\n",
    "# renomeando colunas com agg\n",
    "print(df.groupby([\"sex\"]).agg(mean_tip=(\"tip\", \"mean\"),\n",
    "                              max_bill=(\"total_bill\", \"max\"),\n",
    "                              most_freq_day=(\"day\", lambda x: x.mode())))"
   ]
  },
  {
   "cell_type": "markdown",
   "metadata": {
    "colab_type": "text",
    "id": "oYHW27Z4xOQA"
   },
   "source": [
    "## Métodos de filtragem"
   ]
  },
  {
   "cell_type": "markdown",
   "metadata": {
    "colab_type": "text",
    "id": "fCz55GwN54Uz"
   },
   "source": [
    "O método mais comum de filtragem é o <font color='blue'>filter </font>que retorna os elementos do grupo que satisfaz uma condição dada. "
   ]
  },
  {
   "cell_type": "code",
   "execution_count": 28,
   "metadata": {},
   "outputs": [
    {
     "data": {
      "text/html": [
       "<div>\n",
       "<style scoped>\n",
       "    .dataframe tbody tr th:only-of-type {\n",
       "        vertical-align: middle;\n",
       "    }\n",
       "\n",
       "    .dataframe tbody tr th {\n",
       "        vertical-align: top;\n",
       "    }\n",
       "\n",
       "    .dataframe thead th {\n",
       "        text-align: right;\n",
       "    }\n",
       "</style>\n",
       "<table border=\"1\" class=\"dataframe\">\n",
       "  <thead>\n",
       "    <tr style=\"text-align: right;\">\n",
       "      <th></th>\n",
       "      <th>key1</th>\n",
       "      <th>data0</th>\n",
       "      <th>data1</th>\n",
       "      <th>data2</th>\n",
       "    </tr>\n",
       "  </thead>\n",
       "  <tbody>\n",
       "    <tr>\n",
       "      <th>0</th>\n",
       "      <td>a</td>\n",
       "      <td>0.086350</td>\n",
       "      <td>0.011903</td>\n",
       "      <td>0.837342</td>\n",
       "    </tr>\n",
       "    <tr>\n",
       "      <th>1</th>\n",
       "      <td>c</td>\n",
       "      <td>0.196243</td>\n",
       "      <td>0.564855</td>\n",
       "      <td>0.079094</td>\n",
       "    </tr>\n",
       "    <tr>\n",
       "      <th>2</th>\n",
       "      <td>b</td>\n",
       "      <td>0.266242</td>\n",
       "      <td>0.670126</td>\n",
       "      <td>0.641429</td>\n",
       "    </tr>\n",
       "    <tr>\n",
       "      <th>3</th>\n",
       "      <td>c</td>\n",
       "      <td>0.179548</td>\n",
       "      <td>0.501113</td>\n",
       "      <td>0.946667</td>\n",
       "    </tr>\n",
       "    <tr>\n",
       "      <th>4</th>\n",
       "      <td>a</td>\n",
       "      <td>0.838896</td>\n",
       "      <td>0.386267</td>\n",
       "      <td>0.913111</td>\n",
       "    </tr>\n",
       "    <tr>\n",
       "      <th>5</th>\n",
       "      <td>a</td>\n",
       "      <td>0.435815</td>\n",
       "      <td>0.131089</td>\n",
       "      <td>0.583385</td>\n",
       "    </tr>\n",
       "    <tr>\n",
       "      <th>6</th>\n",
       "      <td>b</td>\n",
       "      <td>0.676633</td>\n",
       "      <td>0.659430</td>\n",
       "      <td>0.470401</td>\n",
       "    </tr>\n",
       "    <tr>\n",
       "      <th>7</th>\n",
       "      <td>a</td>\n",
       "      <td>0.108705</td>\n",
       "      <td>0.283600</td>\n",
       "      <td>0.554306</td>\n",
       "    </tr>\n",
       "    <tr>\n",
       "      <th>8</th>\n",
       "      <td>c</td>\n",
       "      <td>0.724383</td>\n",
       "      <td>0.091081</td>\n",
       "      <td>0.518614</td>\n",
       "    </tr>\n",
       "    <tr>\n",
       "      <th>9</th>\n",
       "      <td>b</td>\n",
       "      <td>0.373339</td>\n",
       "      <td>0.057471</td>\n",
       "      <td>0.239777</td>\n",
       "    </tr>\n",
       "  </tbody>\n",
       "</table>\n",
       "</div>"
      ],
      "text/plain": [
       "  key1     data0     data1     data2\n",
       "0    a  0.086350  0.011903  0.837342\n",
       "1    c  0.196243  0.564855  0.079094\n",
       "2    b  0.266242  0.670126  0.641429\n",
       "3    c  0.179548  0.501113  0.946667\n",
       "4    a  0.838896  0.386267  0.913111\n",
       "5    a  0.435815  0.131089  0.583385\n",
       "6    b  0.676633  0.659430  0.470401\n",
       "7    a  0.108705  0.283600  0.554306\n",
       "8    c  0.724383  0.091081  0.518614\n",
       "9    b  0.373339  0.057471  0.239777"
      ]
     },
     "execution_count": 28,
     "metadata": {},
     "output_type": "execute_result"
    }
   ],
   "source": [
    "# Construindo DataFrame a partir de um dicionário\n",
    "df = pd.DataFrame({'key1': ['a','c','b','c','a','a','b','a','c','b'],\n",
    "                  'data0': np.random.uniform(low=0,high=1,size=10),\n",
    "                  'data1': np.random.uniform(low=0,high=1,size=10),\n",
    "                  'data2': np.random.uniform(low=0,high=1,size=10)})\n",
    "\n",
    "df"
   ]
  },
  {
   "cell_type": "code",
   "execution_count": 30,
   "metadata": {
    "colab": {
     "base_uri": "https://localhost:8080/",
     "height": 424
    },
    "colab_type": "code",
    "executionInfo": {
     "elapsed": 860,
     "status": "ok",
     "timestamp": 1576352338482,
     "user": {
      "displayName": "Bruno Gomes Coelho",
      "photoUrl": "",
      "userId": "05092110984953098563"
     },
     "user_tz": 180
    },
    "id": "AH9VKTBYxN3P",
    "outputId": "9f5633e5-46b2-4580-8f17-a20f7fa11669"
   },
   "outputs": [
    {
     "name": "stdout",
     "output_type": "stream",
     "text": [
      "media da coluna \"data1\"\n",
      " 0.33569339750515387\n",
      "\n",
      "media de cada grupo\n",
      "          data0     data1     data2\n",
      "key1                              \n",
      "a     0.367442  0.203215  0.722036\n",
      "b     0.438738  0.462342  0.450536\n",
      "c     0.366725  0.385683  0.514792\n",
      "\n",
      " grupos cuja média da coluna \"data1\" é maior que a média geral de \"data1\"\n",
      "\n",
      "  key1     data0     data1     data2\n",
      "1    c  0.196243  0.564855  0.079094\n",
      "2    b  0.266242  0.670126  0.641429\n",
      "3    c  0.179548  0.501113  0.946667\n",
      "6    b  0.676633  0.659430  0.470401\n",
      "8    c  0.724383  0.091081  0.518614\n",
      "9    b  0.373339  0.057471  0.239777\n"
     ]
    }
   ],
   "source": [
    "# média geral da coluna 'data1'\n",
    "data1_mean = df['data1'].mean()\n",
    "print('media da coluna \"data1\"\\n',data1_mean)\n",
    "\n",
    "# calculando a média de cada coluna em cada grupo dado pela coluna 'key1'\n",
    "print('\\nmedia de cada grupo\\n',df.groupby('key1').mean())\n",
    "\n",
    "# filtrando os grupos cuja média da coluna 'data1' é maior que a média \n",
    "# geral da coluna 'data1'\n",
    "print('\\n grupos cuja média da coluna \"data1\" é maior que a média geral de \"data1\"\\n')\n",
    "print(df.groupby('key1').filter(lambda x : x['data1'].mean() > data1_mean))"
   ]
  },
  {
   "cell_type": "markdown",
   "metadata": {
    "colab_type": "text",
    "id": "Q6tDl55YbSiG"
   },
   "source": [
    "## Métodos de transformação"
   ]
  },
  {
   "cell_type": "markdown",
   "metadata": {
    "colab_type": "text",
    "id": "dH1Xwa6C_VO3"
   },
   "source": [
    "O método <font color='blue'>transform</font> retorna um DataFrame com o **mesmo número de linhas** que o DataFrame original. A transformação é realizada em cada elemento de cada grupo."
   ]
  },
  {
   "cell_type": "code",
   "execution_count": 31,
   "metadata": {},
   "outputs": [
    {
     "data": {
      "text/html": [
       "<div>\n",
       "<style scoped>\n",
       "    .dataframe tbody tr th:only-of-type {\n",
       "        vertical-align: middle;\n",
       "    }\n",
       "\n",
       "    .dataframe tbody tr th {\n",
       "        vertical-align: top;\n",
       "    }\n",
       "\n",
       "    .dataframe thead th {\n",
       "        text-align: right;\n",
       "    }\n",
       "</style>\n",
       "<table border=\"1\" class=\"dataframe\">\n",
       "  <thead>\n",
       "    <tr style=\"text-align: right;\">\n",
       "      <th></th>\n",
       "      <th>key1</th>\n",
       "      <th>data0</th>\n",
       "      <th>data1</th>\n",
       "      <th>data2</th>\n",
       "    </tr>\n",
       "  </thead>\n",
       "  <tbody>\n",
       "    <tr>\n",
       "      <th>0</th>\n",
       "      <td>a</td>\n",
       "      <td>0.463255</td>\n",
       "      <td>0.782207</td>\n",
       "      <td>0.387510</td>\n",
       "    </tr>\n",
       "    <tr>\n",
       "      <th>1</th>\n",
       "      <td>c</td>\n",
       "      <td>0.300289</td>\n",
       "      <td>0.085529</td>\n",
       "      <td>0.974235</td>\n",
       "    </tr>\n",
       "    <tr>\n",
       "      <th>2</th>\n",
       "      <td>b</td>\n",
       "      <td>0.572172</td>\n",
       "      <td>0.711317</td>\n",
       "      <td>0.863490</td>\n",
       "    </tr>\n",
       "    <tr>\n",
       "      <th>3</th>\n",
       "      <td>c</td>\n",
       "      <td>0.749896</td>\n",
       "      <td>0.385016</td>\n",
       "      <td>0.764900</td>\n",
       "    </tr>\n",
       "    <tr>\n",
       "      <th>4</th>\n",
       "      <td>a</td>\n",
       "      <td>0.897933</td>\n",
       "      <td>0.527419</td>\n",
       "      <td>0.193958</td>\n",
       "    </tr>\n",
       "    <tr>\n",
       "      <th>5</th>\n",
       "      <td>a</td>\n",
       "      <td>0.553310</td>\n",
       "      <td>0.046254</td>\n",
       "      <td>0.731124</td>\n",
       "    </tr>\n",
       "    <tr>\n",
       "      <th>6</th>\n",
       "      <td>b</td>\n",
       "      <td>0.694645</td>\n",
       "      <td>0.425786</td>\n",
       "      <td>0.698995</td>\n",
       "    </tr>\n",
       "    <tr>\n",
       "      <th>7</th>\n",
       "      <td>a</td>\n",
       "      <td>0.188428</td>\n",
       "      <td>0.149184</td>\n",
       "      <td>0.499854</td>\n",
       "    </tr>\n",
       "    <tr>\n",
       "      <th>8</th>\n",
       "      <td>c</td>\n",
       "      <td>0.831900</td>\n",
       "      <td>0.451432</td>\n",
       "      <td>0.949801</td>\n",
       "    </tr>\n",
       "    <tr>\n",
       "      <th>9</th>\n",
       "      <td>b</td>\n",
       "      <td>0.708337</td>\n",
       "      <td>0.547912</td>\n",
       "      <td>0.504027</td>\n",
       "    </tr>\n",
       "  </tbody>\n",
       "</table>\n",
       "</div>"
      ],
      "text/plain": [
       "  key1     data0     data1     data2\n",
       "0    a  0.463255  0.782207  0.387510\n",
       "1    c  0.300289  0.085529  0.974235\n",
       "2    b  0.572172  0.711317  0.863490\n",
       "3    c  0.749896  0.385016  0.764900\n",
       "4    a  0.897933  0.527419  0.193958\n",
       "5    a  0.553310  0.046254  0.731124\n",
       "6    b  0.694645  0.425786  0.698995\n",
       "7    a  0.188428  0.149184  0.499854\n",
       "8    c  0.831900  0.451432  0.949801\n",
       "9    b  0.708337  0.547912  0.504027"
      ]
     },
     "execution_count": 31,
     "metadata": {},
     "output_type": "execute_result"
    }
   ],
   "source": [
    "# Construindo DataFrame a partir de um dicionário\n",
    "df = pd.DataFrame({'key1': ['a','c','b','c','a','a','b','a','c','b'],\n",
    "                  'data0': np.random.uniform(low=0,high=1,size=10),\n",
    "                  'data1': np.random.uniform(low=0,high=1,size=10),\n",
    "                  'data2': np.random.uniform(low=0,high=1,size=10)})\n",
    "\n",
    "df"
   ]
  },
  {
   "cell_type": "code",
   "execution_count": 184,
   "metadata": {
    "colab": {
     "base_uri": "https://localhost:8080/",
     "height": 241
    },
    "colab_type": "code",
    "executionInfo": {
     "elapsed": 1229,
     "status": "ok",
     "timestamp": 1576354004420,
     "user": {
      "displayName": "Bruno Gomes Coelho",
      "photoUrl": "",
      "userId": "05092110984953098563"
     },
     "user_tz": 180
    },
    "id": "d5irFvBj_Ch_",
    "outputId": "16bf2268-b771-493b-b289-3c8f5c8a6c3d"
   },
   "outputs": [
    {
     "name": "stdout",
     "output_type": "stream",
     "text": [
      "média de cada grupo\n",
      "          data0     data1     data2\n",
      "key1                              \n",
      "a     0.443067  0.361329  0.461615\n",
      "b     0.222620  0.786781  0.401236\n",
      "c     0.477118  0.539101  0.479748\n",
      "\n",
      "   key1     data0     data1     data2        d1        d2        d3\n",
      "0    a  0.457959  0.453289  0.073779  0.014892  0.091960 -0.387836\n",
      "1    c  0.229437  0.815709  0.760390 -0.247681  0.276607  0.280642\n",
      "2    b  0.299484  0.917252  0.849289  0.076864  0.130472  0.448053\n",
      "3    c  0.415621  0.541973  0.023200 -0.061497  0.002872 -0.456548\n",
      "4    a  0.702530  0.239415  0.666197  0.259463 -0.121914  0.204582\n",
      "5    a  0.556920  0.050453  0.795605  0.113853 -0.310877  0.333990\n",
      "6    b  0.074003  0.933933  0.260926 -0.148617  0.147152 -0.140310\n",
      "7    a  0.054860  0.702161  0.310879 -0.388207  0.340831 -0.150736\n",
      "8    c  0.786296  0.259622  0.655654  0.309178 -0.279479  0.175906\n",
      "9    b  0.294373  0.509156  0.093493  0.071753 -0.277624 -0.307743\n"
     ]
    }
   ],
   "source": [
    "# Calcula a diferença entre a média do grupo e \n",
    "# o elemento do grupo (em cada coluna)\n",
    "print('média de cada grupo\\n',df.groupby(\"key1\").mean())\n",
    "\n",
    "df[['d1','d2','d3']] = df.groupby(\"key1\").transform(lambda x: x-x.mean())\n",
    "print('\\n',df)"
   ]
  },
  {
   "cell_type": "markdown",
   "metadata": {},
   "source": [
    "O método <font color='blue'>apply</font> aplica uma função em cada grupo e retorna um DataFrame com o resultado da função em cada grupo. Os rótulos das linhas do DataFrame gerado são os identificadores dos grupos. O método <font color='blue'>apply</font> é o mais versátil dos métodos de transformação."
   ]
  },
  {
   "cell_type": "code",
   "execution_count": 32,
   "metadata": {},
   "outputs": [
    {
     "data": {
      "text/html": [
       "<div>\n",
       "<style scoped>\n",
       "    .dataframe tbody tr th:only-of-type {\n",
       "        vertical-align: middle;\n",
       "    }\n",
       "\n",
       "    .dataframe tbody tr th {\n",
       "        vertical-align: top;\n",
       "    }\n",
       "\n",
       "    .dataframe thead th {\n",
       "        text-align: right;\n",
       "    }\n",
       "</style>\n",
       "<table border=\"1\" class=\"dataframe\">\n",
       "  <thead>\n",
       "    <tr style=\"text-align: right;\">\n",
       "      <th></th>\n",
       "      <th>key1</th>\n",
       "      <th>data0</th>\n",
       "      <th>data1</th>\n",
       "      <th>data2</th>\n",
       "    </tr>\n",
       "  </thead>\n",
       "  <tbody>\n",
       "    <tr>\n",
       "      <th>0</th>\n",
       "      <td>a</td>\n",
       "      <td>0.728933</td>\n",
       "      <td>0.394707</td>\n",
       "      <td>0.329381</td>\n",
       "    </tr>\n",
       "    <tr>\n",
       "      <th>1</th>\n",
       "      <td>c</td>\n",
       "      <td>0.850069</td>\n",
       "      <td>0.484868</td>\n",
       "      <td>0.765774</td>\n",
       "    </tr>\n",
       "    <tr>\n",
       "      <th>2</th>\n",
       "      <td>b</td>\n",
       "      <td>0.723305</td>\n",
       "      <td>0.466161</td>\n",
       "      <td>0.505828</td>\n",
       "    </tr>\n",
       "    <tr>\n",
       "      <th>3</th>\n",
       "      <td>c</td>\n",
       "      <td>0.356661</td>\n",
       "      <td>0.298262</td>\n",
       "      <td>0.968979</td>\n",
       "    </tr>\n",
       "    <tr>\n",
       "      <th>4</th>\n",
       "      <td>a</td>\n",
       "      <td>0.345557</td>\n",
       "      <td>0.908988</td>\n",
       "      <td>0.264355</td>\n",
       "    </tr>\n",
       "    <tr>\n",
       "      <th>5</th>\n",
       "      <td>a</td>\n",
       "      <td>0.951560</td>\n",
       "      <td>0.338186</td>\n",
       "      <td>0.522698</td>\n",
       "    </tr>\n",
       "    <tr>\n",
       "      <th>6</th>\n",
       "      <td>b</td>\n",
       "      <td>0.230242</td>\n",
       "      <td>0.995944</td>\n",
       "      <td>0.017758</td>\n",
       "    </tr>\n",
       "    <tr>\n",
       "      <th>7</th>\n",
       "      <td>a</td>\n",
       "      <td>0.609910</td>\n",
       "      <td>0.290037</td>\n",
       "      <td>0.903186</td>\n",
       "    </tr>\n",
       "    <tr>\n",
       "      <th>8</th>\n",
       "      <td>c</td>\n",
       "      <td>0.508228</td>\n",
       "      <td>0.864183</td>\n",
       "      <td>0.933517</td>\n",
       "    </tr>\n",
       "    <tr>\n",
       "      <th>9</th>\n",
       "      <td>b</td>\n",
       "      <td>0.223151</td>\n",
       "      <td>0.456313</td>\n",
       "      <td>0.227825</td>\n",
       "    </tr>\n",
       "  </tbody>\n",
       "</table>\n",
       "</div>"
      ],
      "text/plain": [
       "  key1     data0     data1     data2\n",
       "0    a  0.728933  0.394707  0.329381\n",
       "1    c  0.850069  0.484868  0.765774\n",
       "2    b  0.723305  0.466161  0.505828\n",
       "3    c  0.356661  0.298262  0.968979\n",
       "4    a  0.345557  0.908988  0.264355\n",
       "5    a  0.951560  0.338186  0.522698\n",
       "6    b  0.230242  0.995944  0.017758\n",
       "7    a  0.609910  0.290037  0.903186\n",
       "8    c  0.508228  0.864183  0.933517\n",
       "9    b  0.223151  0.456313  0.227825"
      ]
     },
     "execution_count": 32,
     "metadata": {},
     "output_type": "execute_result"
    }
   ],
   "source": [
    "# Construindo DataFrame a partir de um dicionário\n",
    "df = pd.DataFrame({'key1': ['a','c','b','c','a','a','b','a','c','b'],\n",
    "                  'data0': np.random.uniform(low=0,high=1,size=10),\n",
    "                  'data1': np.random.uniform(low=0,high=1,size=10),\n",
    "                  'data2': np.random.uniform(low=0,high=1,size=10)})\n",
    "\n",
    "df"
   ]
  },
  {
   "cell_type": "code",
   "execution_count": 168,
   "metadata": {},
   "outputs": [
    {
     "name": "stdout",
     "output_type": "stream",
     "text": [
      "         data0     data1     data2\n",
      "key1                              \n",
      "a     0.424786  0.824820  0.749945\n",
      "b     0.737260  0.270743  0.320039\n",
      "c     0.843099  0.570657  0.797207\n",
      "key1\n",
      "a    0.424786\n",
      "b    0.270743\n",
      "c    0.570657\n",
      "dtype: float64\n"
     ]
    }
   ],
   "source": [
    "# agrupando pela coluna 'key1' e calculando a \n",
    "# diferença entre o maior e o menor valor de cada coluna em cada grupo\n",
    "# e retornando a menor diferença\n",
    "\n",
    "# diferença entre o maior e menor valor em cada coluna em cada grupo\n",
    "print(df.groupby('key1').apply(lambda x: (x.max()-x.min())))\n",
    "\n",
    "# menor diferença em cada grupo\n",
    "max_min = df.groupby('key1').apply(lambda x: (x.max()-x.min()).sort_values()[0])\n",
    "print(max_min)"
   ]
  },
  {
   "cell_type": "markdown",
   "metadata": {
    "colab_type": "text",
    "id": "ChkhhAl0hNkc"
   },
   "source": [
    "**Comentário: MapReduce**\n",
    "\n",
    "Embora frequentemente chamamos qualquer operação split-apply-combine de _MapReduce_, originalmente esse nome foi dado ao modelo de programação desenvolvido pela Apache.\n",
    "\n",
    "Sua funcionalidade é a mesma do _GroupBy_ do Pandas, porém foi implementado para operar em grandes volumes de dados utilizando algoritmos distribuidos em uma arquitetura de computação paralela (cluster de computadores), garantindo que cada máquina opere sobre um subconjunto específico dos dados, sendo o padrão para tecnologias de Big Data como [Hadoop](https://hadoop.apache.org/)\n"
   ]
  },
  {
   "cell_type": "markdown",
   "metadata": {},
   "source": [
    "## <font color=\"blue\">Exercícios Pandas Parte III</font>"
   ]
  },
  {
   "cell_type": "markdown",
   "metadata": {},
   "source": [
    "Parte dos exercícios a seguir farão uso do arquivo <font style=\"font-family: monaco\">sales.csv</font> disponível para download no moodle.\n",
    "\n",
    "O arquivo <font style=\"font-family: monaco\">sales.csv</font> possui informações relativas à venda de produtos. As colunas abaixo são de particular importância para solução dos exercícios:\n",
    "- *Country*: país da venda\n",
    "- *Item Type*: tipo do produto vendido\n",
    "- *Units Sold*: quantidade vendida\n",
    "- *Unit Price*: preço de venda\n",
    "- *Unit Cost*: preço de custo\n",
    "- *Total Profit*: lucro"
   ]
  },
  {
   "cell_type": "code",
   "execution_count": 2,
   "metadata": {},
   "outputs": [],
   "source": [
    "# importando o 'pandas' e 'numpy'\n",
    "import pandas as pd\n",
    "import numpy as np"
   ]
  },
  {
   "cell_type": "code",
   "execution_count": 3,
   "metadata": {},
   "outputs": [
    {
     "data": {
      "text/html": [
       "<div>\n",
       "<style scoped>\n",
       "    .dataframe tbody tr th:only-of-type {\n",
       "        vertical-align: middle;\n",
       "    }\n",
       "\n",
       "    .dataframe tbody tr th {\n",
       "        vertical-align: top;\n",
       "    }\n",
       "\n",
       "    .dataframe thead th {\n",
       "        text-align: right;\n",
       "    }\n",
       "</style>\n",
       "<table border=\"1\" class=\"dataframe\">\n",
       "  <thead>\n",
       "    <tr style=\"text-align: right;\">\n",
       "      <th></th>\n",
       "      <th>Region</th>\n",
       "      <th>Country</th>\n",
       "      <th>Item Type</th>\n",
       "      <th>Sales Channel</th>\n",
       "      <th>Order Priority</th>\n",
       "      <th>Order Date</th>\n",
       "      <th>Order ID</th>\n",
       "      <th>Ship Date</th>\n",
       "      <th>Units Sold</th>\n",
       "      <th>Unit Price</th>\n",
       "      <th>Unit Cost</th>\n",
       "      <th>Total Revenue</th>\n",
       "      <th>Total Cost</th>\n",
       "      <th>Total Profit</th>\n",
       "    </tr>\n",
       "  </thead>\n",
       "  <tbody>\n",
       "    <tr>\n",
       "      <th>0</th>\n",
       "      <td>Australia and Oceania</td>\n",
       "      <td>Tuvalu</td>\n",
       "      <td>Baby Food</td>\n",
       "      <td>Offline</td>\n",
       "      <td>H</td>\n",
       "      <td>5/28/2010</td>\n",
       "      <td>669165933</td>\n",
       "      <td>6/27/2010</td>\n",
       "      <td>9925</td>\n",
       "      <td>255.28</td>\n",
       "      <td>159.42</td>\n",
       "      <td>2533654.00</td>\n",
       "      <td>1582243.50</td>\n",
       "      <td>951410.50</td>\n",
       "    </tr>\n",
       "    <tr>\n",
       "      <th>1</th>\n",
       "      <td>Central America and the Caribbean</td>\n",
       "      <td>Grenada</td>\n",
       "      <td>Cereal</td>\n",
       "      <td>Online</td>\n",
       "      <td>C</td>\n",
       "      <td>8/22/2012</td>\n",
       "      <td>963881480</td>\n",
       "      <td>9/15/2012</td>\n",
       "      <td>2804</td>\n",
       "      <td>205.70</td>\n",
       "      <td>117.11</td>\n",
       "      <td>576782.80</td>\n",
       "      <td>328376.44</td>\n",
       "      <td>248406.36</td>\n",
       "    </tr>\n",
       "    <tr>\n",
       "      <th>2</th>\n",
       "      <td>Europe</td>\n",
       "      <td>Russia</td>\n",
       "      <td>Office Supplies</td>\n",
       "      <td>Offline</td>\n",
       "      <td>L</td>\n",
       "      <td>5/2/2014</td>\n",
       "      <td>341417157</td>\n",
       "      <td>5/8/2014</td>\n",
       "      <td>1779</td>\n",
       "      <td>651.21</td>\n",
       "      <td>524.96</td>\n",
       "      <td>1158502.59</td>\n",
       "      <td>933903.84</td>\n",
       "      <td>224598.75</td>\n",
       "    </tr>\n",
       "    <tr>\n",
       "      <th>3</th>\n",
       "      <td>Sub-Saharan Africa</td>\n",
       "      <td>Sao Tome and Principe</td>\n",
       "      <td>Fruits</td>\n",
       "      <td>Online</td>\n",
       "      <td>C</td>\n",
       "      <td>6/20/2014</td>\n",
       "      <td>514321792</td>\n",
       "      <td>7/5/2014</td>\n",
       "      <td>8102</td>\n",
       "      <td>9.33</td>\n",
       "      <td>6.92</td>\n",
       "      <td>75591.66</td>\n",
       "      <td>56065.84</td>\n",
       "      <td>19525.82</td>\n",
       "    </tr>\n",
       "    <tr>\n",
       "      <th>4</th>\n",
       "      <td>Sub-Saharan Africa</td>\n",
       "      <td>Rwanda</td>\n",
       "      <td>Office Supplies</td>\n",
       "      <td>Offline</td>\n",
       "      <td>L</td>\n",
       "      <td>2/1/2013</td>\n",
       "      <td>115456712</td>\n",
       "      <td>2/6/2013</td>\n",
       "      <td>5062</td>\n",
       "      <td>651.21</td>\n",
       "      <td>524.96</td>\n",
       "      <td>3296425.02</td>\n",
       "      <td>2657347.52</td>\n",
       "      <td>639077.50</td>\n",
       "    </tr>\n",
       "  </tbody>\n",
       "</table>\n",
       "</div>"
      ],
      "text/plain": [
       "                              Region                Country        Item Type  \\\n",
       "0              Australia and Oceania                 Tuvalu        Baby Food   \n",
       "1  Central America and the Caribbean                Grenada           Cereal   \n",
       "2                             Europe                 Russia  Office Supplies   \n",
       "3                 Sub-Saharan Africa  Sao Tome and Principe           Fruits   \n",
       "4                 Sub-Saharan Africa                 Rwanda  Office Supplies   \n",
       "\n",
       "  Sales Channel Order Priority Order Date   Order ID  Ship Date  Units Sold  \\\n",
       "0       Offline              H  5/28/2010  669165933  6/27/2010        9925   \n",
       "1        Online              C  8/22/2012  963881480  9/15/2012        2804   \n",
       "2       Offline              L   5/2/2014  341417157   5/8/2014        1779   \n",
       "3        Online              C  6/20/2014  514321792   7/5/2014        8102   \n",
       "4       Offline              L   2/1/2013  115456712   2/6/2013        5062   \n",
       "\n",
       "   Unit Price  Unit Cost  Total Revenue  Total Cost  Total Profit  \n",
       "0      255.28     159.42     2533654.00  1582243.50     951410.50  \n",
       "1      205.70     117.11      576782.80   328376.44     248406.36  \n",
       "2      651.21     524.96     1158502.59   933903.84     224598.75  \n",
       "3        9.33       6.92       75591.66    56065.84      19525.82  \n",
       "4      651.21     524.96     3296425.02  2657347.52     639077.50  "
      ]
     },
     "execution_count": 3,
     "metadata": {},
     "output_type": "execute_result"
    }
   ],
   "source": [
    "# carregando o arquivo 'sales.csv'\n",
    "df = pd.read_csv('sales.csv')\n",
    "df.head()"
   ]
  },
  {
   "cell_type": "markdown",
   "metadata": {},
   "source": [
    "### Exercício 1)\n",
    "Agrupe os dados da base <font style=\"font-family: monaco\">sales.csv</font> de acordo com os países. Imprima as colunas 'Item Type' and 'Total Profit' dos grupos gerados. "
   ]
  },
  {
   "cell_type": "code",
   "execution_count": 4,
   "metadata": {},
   "outputs": [
    {
     "name": "stdout",
     "output_type": "stream",
     "text": [
      "----- \n",
      " Pais : Albania \n",
      "\n",
      "   Item Type  Total Profit\n",
      "50   Clothes     166635.36 \n",
      "\n",
      "----- \n",
      " Pais : Angola \n",
      "\n",
      "   Item Type  Total Profit\n",
      "6  Household     693911.51 \n",
      "\n",
      "----- \n",
      " Pais : Australia \n",
      "\n",
      "          Item Type  Total Profit\n",
      "32  Office Supplies     369155.00\n",
      "60           Cereal      60418.38\n",
      "91        Beverages     147031.74 \n",
      "\n",
      "----- \n",
      " Pais : Austria \n",
      "\n",
      "    Item Type  Total Profit\n",
      "57  Cosmetics     495007.89 \n",
      "\n",
      "----- \n",
      " Pais : Azerbaijan \n",
      "\n",
      "          Item Type  Total Profit\n",
      "41        Cosmetics    1257775.58\n",
      "92  Office Supplies     255151.25 \n",
      "\n",
      "----- \n",
      " Pais : Bangladesh \n",
      "\n",
      "   Item Type  Total Profit\n",
      "12   Clothes     606834.72 \n",
      "\n",
      "----- \n",
      " Pais : Belize \n",
      "\n",
      "   Item Type  Total Profit\n",
      "67   Clothes     403773.12 \n",
      "\n",
      "----- \n",
      " Pais : Brunei \n",
      "\n",
      "          Item Type  Total Profit\n",
      "38  Office Supplies      846885.0 \n",
      "\n",
      "----- \n",
      " Pais : Bulgaria \n",
      "\n",
      "          Item Type  Total Profit\n",
      "15          Clothes     122865.12\n",
      "39  Office Supplies     503358.75 \n",
      "\n",
      "----- \n",
      " Pais : Burkina Faso \n",
      "\n",
      "    Item Type  Total Profit\n",
      "7  Vegetables     510216.66 \n",
      "\n",
      "----- \n",
      " Pais : Cameroon \n",
      "\n",
      "          Item Type  Total Profit\n",
      "17        Beverages       85033.8\n",
      "62  Office Supplies      696647.5 \n",
      "\n",
      "----- \n",
      " Pais : Cape Verde \n",
      "\n",
      "   Item Type  Total Profit\n",
      "11   Clothes     306097.92 \n",
      "\n",
      "----- \n",
      " Pais : Comoros \n",
      "\n",
      "   Item Type  Total Profit\n",
      "45    Cereal      85223.58 \n",
      "\n",
      "----- \n",
      " Pais : Costa Rica \n",
      "\n",
      "        Item Type  Total Profit\n",
      "35  Personal Care     160609.54 \n",
      "\n",
      "----- \n",
      " Pais : Cote d'Ivoire \n",
      "\n",
      "   Item Type  Total Profit\n",
      "55   Clothes     255718.08 \n",
      "\n",
      "----- \n",
      " Pais : Democratic Republic of the Congo \n",
      "\n",
      "    Item Type  Total Profit\n",
      "72  Beverages      89904.06 \n",
      "\n",
      "----- \n",
      " Pais : Djibouti \n",
      "\n",
      "    Item Type  Total Profit\n",
      "34     Snacks     404010.78\n",
      "59  Cosmetics    1254472.05\n",
      "73     Cereal     766835.04 \n",
      "\n",
      "----- \n",
      " Pais : East Timor \n",
      "\n",
      "   Item Type  Total Profit\n",
      "19      Meat      337937.6 \n",
      "\n",
      "----- \n",
      " Pais : Federated States of Micronesia \n",
      "\n",
      "    Item Type  Total Profit\n",
      "76  Beverages     146875.14 \n",
      "\n",
      "----- \n",
      " Pais : Fiji \n",
      "\n",
      "   Item Type  Total Profit\n",
      "56   Clothes      727423.2 \n",
      "\n",
      "----- \n",
      " Pais : France \n",
      "\n",
      "    Item Type  Total Profit\n",
      "25  Cosmetics     315574.05 \n",
      "\n",
      "----- \n",
      " Pais : Gabon \n",
      "\n",
      "        Item Type  Total Profit\n",
      "66  Personal Care     216919.36 \n",
      "\n",
      "----- \n",
      " Pais : Grenada \n",
      "\n",
      "  Item Type  Total Profit\n",
      "1    Cereal     248406.36 \n",
      "\n",
      "----- \n",
      " Pais : Haiti \n",
      "\n",
      "    Item Type  Total Profit\n",
      "64  Cosmetics     296448.35 \n",
      "\n",
      "----- \n",
      " Pais : Honduras \n",
      "\n",
      "    Item Type  Total Profit\n",
      "13  Household    1487261.02\n",
      "22     Snacks     122686.50 \n",
      "\n",
      "----- \n",
      " Pais : Iceland \n",
      "\n",
      "    Item Type  Total Profit\n",
      "46  Cosmetics    1541705.29 \n",
      "\n",
      "----- \n",
      " Pais : Iran \n",
      "\n",
      "    Item Type  Total Profit\n",
      "82  Cosmetics    1128242.43 \n",
      "\n",
      "----- \n",
      " Pais : Kenya \n",
      "\n",
      "     Item Type  Total Profit\n",
      "84  Vegetables     407630.41 \n",
      "\n",
      "----- \n",
      " Pais : Kiribati \n",
      "\n",
      "   Item Type  Total Profit\n",
      "26    Fruits      13009.18 \n",
      "\n",
      "----- \n",
      " Pais : Kuwait \n",
      "\n",
      "   Item Type  Total Profit\n",
      "88    Fruits       1258.02 \n",
      "\n",
      "----- \n",
      " Pais : Kyrgyzstan \n",
      "\n",
      "     Item Type  Total Profit\n",
      "10  Vegetables       7828.12 \n",
      "\n",
      "----- \n",
      " Pais : Laos \n",
      "\n",
      "     Item Type  Total Profit\n",
      "77  Vegetables     235601.16 \n",
      "\n",
      "----- \n",
      " Pais : Lebanon \n",
      "\n",
      "   Item Type  Total Profit\n",
      "81   Clothes     579000.96 \n",
      "\n",
      "----- \n",
      " Pais : Lesotho \n",
      "\n",
      "   Item Type  Total Profit\n",
      "51    Fruits      23150.46 \n",
      "\n",
      "----- \n",
      " Pais : Libya \n",
      "\n",
      "   Item Type  Total Profit\n",
      "63   Clothes     449159.04\n",
      "71    Fruits       1621.93 \n",
      "\n",
      "----- \n",
      " Pais : Lithuania \n",
      "\n",
      "          Item Type  Total Profit\n",
      "68  Office Supplies    1046233.75 \n",
      "\n",
      "----- \n",
      " Pais : Macedonia \n",
      "\n",
      "   Item Type  Total Profit\n",
      "48   Clothes     575916.48 \n",
      "\n",
      "----- \n",
      " Pais : Madagascar \n",
      "\n",
      "   Item Type  Total Profit\n",
      "69   Clothes     539196.48 \n",
      "\n",
      "----- \n",
      " Pais : Malaysia \n",
      "\n",
      "   Item Type  Total Profit\n",
      "96    Fruits      15103.47 \n",
      "\n",
      "----- \n",
      " Pais : Mali \n",
      "\n",
      "   Item Type  Total Profit\n",
      "27    Fruits      14031.02\n",
      "95   Clothes      65214.72 \n",
      "\n",
      "----- \n",
      " Pais : Mauritania \n",
      "\n",
      "          Item Type  Total Profit\n",
      "49  Office Supplies      159832.5 \n",
      "\n",
      "----- \n",
      " Pais : Mexico \n",
      "\n",
      "        Item Type  Total Profit\n",
      "75      Household    1152486.42\n",
      "85  Personal Care     160935.32\n",
      "98  Personal Care     144521.02 \n",
      "\n",
      "----- \n",
      " Pais : Moldova  \n",
      "\n",
      "        Item Type  Total Profit\n",
      "24  Personal Care      127054.2 \n",
      "\n",
      "----- \n",
      " Pais : Monaco \n",
      "\n",
      "    Item Type  Total Profit\n",
      "78  Baby Food     825738.04 \n",
      "\n",
      "----- \n",
      " Pais : Mongolia \n",
      "\n",
      "        Item Type  Total Profit\n",
      "14  Personal Care     122819.06 \n",
      "\n",
      "----- \n",
      " Pais : Mozambique \n",
      "\n",
      "    Item Type  Total Profit\n",
      "99  Household     889472.91 \n",
      "\n",
      "----- \n",
      " Pais : Myanmar \n",
      "\n",
      "    Item Type  Total Profit\n",
      "33  Household     1367272.5\n",
      "44    Clothes      435499.2 \n",
      "\n",
      "----- \n",
      " Pais : New Zealand \n",
      "\n",
      "   Item Type  Total Profit\n",
      "23    Fruits       5270.67 \n",
      "\n",
      "----- \n",
      " Pais : Nicaragua \n",
      "\n",
      "    Item Type  Total Profit\n",
      "94  Beverages     127722.96 \n",
      "\n",
      "----- \n",
      " Pais : Niger \n",
      "\n",
      "        Item Type  Total Profit\n",
      "40  Personal Care       75555.9 \n",
      "\n",
      "----- \n",
      " Pais : Norway \n",
      "\n",
      "    Item Type  Total Profit\n",
      "20  Baby Food     714157.00\n",
      "28  Beverages      80241.84 \n",
      "\n",
      "----- \n",
      " Pais : Pakistan \n",
      "\n",
      "    Item Type  Total Profit\n",
      "74  Cosmetics    1719922.04 \n",
      "\n",
      "----- \n",
      " Pais : Portugal \n",
      "\n",
      "    Item Type  Total Profit\n",
      "21  Baby Food     122029.78 \n",
      "\n",
      "----- \n",
      " Pais : Republic of the Congo \n",
      "\n",
      "       Item Type  Total Profit\n",
      "8  Personal Care      152114.2 \n",
      "\n",
      "----- \n",
      " Pais : Romania \n",
      "\n",
      "    Item Type  Total Profit\n",
      "93  Cosmetics     1375311.7 \n",
      "\n",
      "----- \n",
      " Pais : Russia \n",
      "\n",
      "         Item Type  Total Profit\n",
      "2  Office Supplies     224598.75 \n",
      "\n",
      "----- \n",
      " Pais : Rwanda \n",
      "\n",
      "          Item Type  Total Profit\n",
      "4   Office Supplies     639077.50\n",
      "65        Cosmetics     778415.99 \n",
      "\n",
      "----- \n",
      " Pais : Samoa  \n",
      "\n",
      "    Item Type  Total Profit\n",
      "79  Cosmetics    1678540.98 \n",
      "\n",
      "----- \n",
      " Pais : San Marino \n",
      "\n",
      "    Item Type  Total Profit\n",
      "61  Baby Food      455335.0 \n",
      "\n",
      "----- \n",
      " Pais : Sao Tome and Principe \n",
      "\n",
      "    Item Type  Total Profit\n",
      "3      Fruits      19525.82\n",
      "54     Fruits      18405.17\n",
      "86  Beverages     138262.14 \n",
      "\n",
      "----- \n",
      " Pais : Saudi Arabia \n",
      "\n",
      "   Item Type  Total Profit\n",
      "52    Cereal     359941.17 \n",
      "\n",
      "----- \n",
      " Pais : Senegal \n",
      "\n",
      "  Item Type  Total Profit\n",
      "9    Cereal     584073.87 \n",
      "\n",
      "----- \n",
      " Pais : Sierra Leone \n",
      "\n",
      "          Item Type  Total Profit\n",
      "53  Office Supplies     436446.25\n",
      "90  Office Supplies     119685.00\n",
      "97       Vegetables      93748.05 \n",
      "\n",
      "----- \n",
      " Pais : Slovakia \n",
      "\n",
      "     Item Type  Total Profit\n",
      "43  Vegetables      10795.23 \n",
      "\n",
      "----- \n",
      " Pais : Slovenia \n",
      "\n",
      "    Item Type  Total Profit\n",
      "89  Beverages       72975.6 \n",
      "\n",
      "----- \n",
      " Pais : Solomon Islands \n",
      "\n",
      "   Item Type  Total Profit\n",
      "5  Baby Food     285087.64 \n",
      "\n",
      "----- \n",
      " Pais : South Sudan \n",
      "\n",
      "        Item Type  Total Profit\n",
      "31  Personal Care       53252.5 \n",
      "\n",
      "----- \n",
      " Pais : Spain \n",
      "\n",
      "    Item Type  Total Profit\n",
      "80  Household     747939.49 \n",
      "\n",
      "----- \n",
      " Pais : Sri Lanka \n",
      "\n",
      "    Item Type  Total Profit\n",
      "16  Cosmetics    1208744.24 \n",
      "\n",
      "----- \n",
      " Pais : Switzerland \n",
      "\n",
      "        Item Type  Total Profit\n",
      "30      Cosmetics    1505888.07\n",
      "47  Personal Care       6841.38 \n",
      "\n",
      "----- \n",
      " Pais : Syria \n",
      "\n",
      "   Item Type  Total Profit\n",
      "36    Fruits       9119.44 \n",
      "\n",
      "----- \n",
      " Pais : The Gambia \n",
      "\n",
      "    Item Type  Total Profit\n",
      "29  Household     392780.10\n",
      "37       Meat     272672.40\n",
      "42     Cereal     187545.03\n",
      "87  Baby Food     532885.74 \n",
      "\n",
      "----- \n",
      " Pais : Turkmenistan \n",
      "\n",
      "          Item Type  Total Profit\n",
      "18        Household      634745.9\n",
      "70  Office Supplies      632512.5 \n",
      "\n",
      "----- \n",
      " Pais : Tuvalu \n",
      "\n",
      "   Item Type  Total Profit\n",
      "0  Baby Food      951410.5 \n",
      "\n",
      "----- \n",
      " Pais : United Kingdom \n",
      "\n",
      "    Item Type  Total Profit\n",
      "58  Household      46735.86 \n",
      "\n",
      "----- \n",
      " Pais : Zambia \n",
      "\n",
      "   Item Type  Total Profit\n",
      "83    Snacks      225246.9 \n",
      "\n"
     ]
    }
   ],
   "source": [
    "paises = df.groupby('Country')\n",
    "for name,group in paises:\n",
    "    print(5*'-','\\n Pais :',name,'\\n')\n",
    "    print(group[['Item Type','Total Profit']],'\\n')"
   ]
  },
  {
   "cell_type": "markdown",
   "metadata": {},
   "source": [
    "### Exercício 2)\n",
    "Encontre quantos tipos diferentes de produtos o 'México' e a 'Austria' vendem."
   ]
  },
  {
   "cell_type": "code",
   "execution_count": 6,
   "metadata": {},
   "outputs": [
    {
     "name": "stdout",
     "output_type": "stream",
     "text": [
      "75        Household\n",
      "85    Personal Care\n",
      "98    Personal Care\n",
      "Name: Item Type, dtype: object\n",
      "\n",
      "Mexico:  2  produtos diferentes\n",
      "\n",
      "\n",
      "57    Cosmetics\n",
      "Name: Item Type, dtype: object\n",
      "\n",
      "Austria:  1  produtos diferentes\n"
     ]
    }
   ],
   "source": [
    "mexico = paises.get_group('Mexico')\n",
    "print(mexico['Item Type'])\n",
    "# note que o produto 'Personal Care' aparece duas vezes no México\n",
    "# logo precisa ser contabilizado somente uma vez\n",
    "print('\\nMexico: ',len(mexico['Item Type'].unique()),' produtos diferentes')\n",
    "\n",
    "print('\\n')\n",
    "\n",
    "austria = paises.get_group('Austria')\n",
    "print(austria['Item Type'])\n",
    "print('\\nAustria: ',len(austria['Item Type'].unique()),' produtos diferentes')"
   ]
  },
  {
   "cell_type": "markdown",
   "metadata": {},
   "source": [
    "### Exercício 3)\n",
    "Qual o país com o maior número de produtos diferentes?"
   ]
  },
  {
   "cell_type": "code",
   "execution_count": 88,
   "metadata": {},
   "outputs": [
    {
     "name": "stdout",
     "output_type": "stream",
     "text": [
      "Country\n",
      "Albania       1\n",
      "Angola        1\n",
      "Australia     3\n",
      "Austria       1\n",
      "Azerbaijan    2\n",
      "Name: Item Type, dtype: int64\n",
      "\n",
      "Pais com o maior número de produtos distintos\n",
      "The Gambia  com  4  produtos\n"
     ]
    }
   ],
   "source": [
    "# O método de agregaçao 'nunique' retorna o número de \n",
    "# elementos distintos, neste caso, da coluna 'Item Type' em cada grupo\n",
    "n_prod_dif_pais = df.groupby('Country')['Item Type'].nunique()\n",
    "\n",
    "# o resultado do comando acima é uma Serie indexada pelos paises e \n",
    "# valores indicando a quantidade de produtos distintos vendidos por\n",
    "# cada país\n",
    "print(n_prod_dif_pais.head())\n",
    "\n",
    "# para encontrar o país com o maior número de produtos distintos basta\n",
    "# empregar o método 'idxmax()', que retorna o rótulo da linha onde\n",
    "# o valor da série é máximo. Se o valor máximo ocorre em várias linhas,\n",
    "# a linha com a primeira ocorrência é retornada\n",
    "pais_m_prod = n_prod_dif_pais.idxmax()\n",
    "print('\\nPais com o maior número de produtos distintos:')\n",
    "print(pais_m_prod,' com ',n_prod_dif_pais[pais_m_prod],' produtos')"
   ]
  },
  {
   "cell_type": "markdown",
   "metadata": {},
   "source": [
    "### Exercício 4)\n",
    "Utilizando <font color='blue'>groupby</font>, construa um DataFrame onde:\n",
    "- os rótulos das linhas correspondem a cada tipo de produto vendido\n",
    "- possua uma coluna contendo a quantidade total de vendas de cada produto\n",
    "- possua uma coluna contendo o lucro total de cada produto"
   ]
  },
  {
   "cell_type": "code",
   "execution_count": 7,
   "metadata": {},
   "outputs": [
    {
     "name": "stdout",
     "output_type": "stream",
     "text": [
      "                 Qtdade        Lucro\n",
      "Item Type                           \n",
      "Baby Food         40545   3886643.70\n",
      "Beverages         56708    888047.28\n",
      "Cereal            25877   2292443.43\n",
      "Clothes           71260   5233334.40\n",
      "Cosmetics         83718  14556048.66\n",
      "Fruits            49998    120495.18\n",
      "Household         44727   7412605.71\n",
      "Meat              10675    610610.00\n",
      "Office Supplies   46967   5929583.75\n",
      "Personal Care     48708   1220622.48\n",
      "Snacks            13637    751944.18\n",
      "Vegetables        20051   1265819.63\n"
     ]
    }
   ],
   "source": [
    "# a solução deste exercício é uma aplicação direta de grouby com agregação\n",
    "prod_venda = df.groupby('Item Type').agg(Qtdade=('Units Sold','sum'),\n",
    "                                         Lucro=('Total Profit','sum'))\n",
    "print(prod_venda)"
   ]
  },
  {
   "cell_type": "markdown",
   "metadata": {},
   "source": [
    "### Exercício 5)\n",
    "Utilizando <font color='blue'>groupby</font>, construa um DataFrame contendo:\n",
    "- uma coluna com o nome dos países contidos na base de dados, sendo que cada país aparece somente uma vez na coluna\n",
    "- uma coluna com o total de unidades vendas no país correspondente"
   ]
  },
  {
   "cell_type": "code",
   "execution_count": 8,
   "metadata": {},
   "outputs": [
    {
     "name": "stdout",
     "output_type": "stream",
     "text": [
      "           Country  Total_de_Vendas\n",
      "0          Albania             2269\n",
      "1           Angola             4187\n",
      "2        Australia            12995\n",
      "3          Austria             2847\n",
      "4       Azerbaijan             9255\n",
      "..             ...              ...\n",
      "71      The Gambia            14813\n",
      "72    Turkmenistan             8840\n",
      "73          Tuvalu             9925\n",
      "74  United Kingdom              282\n",
      "75          Zambia             4085\n",
      "\n",
      "[76 rows x 2 columns]\n"
     ]
    }
   ],
   "source": [
    "# Para agrupar por país, fazendo com que o nome do grupo se tornem uma coluna \n",
    "# e não rótulos para as linhas, devemos utilizar o método reset_index()'\n",
    "pais_venda_prod = df.groupby('Country').agg(\n",
    "                      Total_de_Vendas=('Units Sold','sum')).reset_index()\n",
    "print(pais_venda_prod)"
   ]
  },
  {
   "cell_type": "markdown",
   "metadata": {},
   "source": [
    "### Exercício 6)\n",
    "Construa um DataFrame com as seguintes características:\n",
    "- Possua uma coluna contendo cada tipo de produto (cada produto aparece apenas uma vez)\n",
    "- Para cada produto, incluir seu lucro médio em uma nova coluna, ou seja, para cada produto deve-se calcular a diferença entre o valor de venda e o valor de custo do produto e calcular a média destas diferenças.\n",
    "\n",
    "**Dica**: Adicione uma nova coluna no DataFrame original com as diferenças e depois construa o novo DataFrame"
   ]
  },
  {
   "cell_type": "code",
   "execution_count": 9,
   "metadata": {},
   "outputs": [
    {
     "name": "stdout",
     "output_type": "stream",
     "text": [
      "          Item Type  Lucro Produto\n",
      "0         Baby Food          95.86\n",
      "1         Beverages          15.66\n",
      "2            Cereal          88.59\n",
      "3           Clothes          73.44\n",
      "4         Cosmetics         173.87\n",
      "5            Fruits           2.41\n",
      "6         Household         165.73\n",
      "7              Meat          57.20\n",
      "8   Office Supplies         126.25\n",
      "9     Personal Care          25.06\n",
      "10           Snacks          55.14\n",
      "11       Vegetables          63.13\n"
     ]
    }
   ],
   "source": [
    "# calculando o lucro: o resultado da diferenca é o lucro de cada produto.\n",
    "# O resultado é uma Serie que é adicionada como um nova coluna ao DataFrame\n",
    "df['Lucro Produto']=df['Unit Price']-df['Unit Cost']\n",
    "\n",
    "# agrupando de acordo com os produtos e calculando a media do lucro\n",
    "# como o resultado de groupby(df['Item Type']).mean() é uma Serie, \n",
    "# pegamos apenas os valores para atribuir a nova coluna 'Lucro'\n",
    "prod_qtdade_lucro=df.groupby('Item Type')['Lucro Produto'].mean().reset_index()\n",
    "print(prod_qtdade_lucro)"
   ]
  },
  {
   "cell_type": "markdown",
   "metadata": {},
   "source": [
    "### Exercício 7) \n",
    "Utilizando o método <font color='blue'>transfom</font> do <font color='blue'>groupby</font> construa uma Serie com o mesmo número de linhas do conjunto de dados <font style=\"font-family: monaco\">sales.csv</font>, onde os valores correspondem ao índice da linha onde o produto mais vendido de cada país ocorre.\n",
    "\n",
    "Por exemplo: O país 'Australia' vende três tipos de produtos, \n",
    "'Office Supplies', 'Cereal', and 'Beverages'. A busca \n",
    "```python\n",
    "df[['Country','Item Type','Units Sold']].loc[df['Country']=='Australia'])\n",
    "```\n",
    "resulta em:\n",
    "```python\n",
    "      Country        Item Type  Units Sold\n",
    "32  Australia  Office Supplies        2924\n",
    "60  Australia           Cereal         682\n",
    "91  Australia        Beverages        9389\n",
    "```\n",
    "Assim, o produto mais vendido da 'Australia' é 'Beverages' e esta informação ocorre na linha de índice 91 do DataFrame original. Desta forma, a Serie gerada deve possuir nas linhas de índice 32, 60 e 91 o valor 91.\n",
    "\n",
    "**Dica**: Agrupe pela coluna 'Country' e aplique o método <font color='blue'>transfom</font> somente na coluna 'Units Sold'. O método <font color='blue'>idxmax()</font>  do <font color='blue'>pandas</font>  retorna o índice da linha onde o máximo valor de uma Serie ocorre. "
   ]
  },
  {
   "cell_type": "code",
   "execution_count": 10,
   "metadata": {
    "scrolled": true
   },
   "outputs": [
    {
     "name": "stdout",
     "output_type": "stream",
     "text": [
      "32    91\n",
      "60    91\n",
      "91    91\n",
      "Name: Units Sold, dtype: int64\n"
     ]
    },
    {
     "data": {
      "text/plain": [
       "0     0\n",
       "1     1\n",
       "2     2\n",
       "3    86\n",
       "4     4\n",
       "Name: Units Sold, dtype: int64"
      ]
     },
     "execution_count": 10,
     "metadata": {},
     "output_type": "execute_result"
    }
   ],
   "source": [
    "# Agrupando por países e restringindo o método 'transform' \n",
    "# à coluna 'Units Sold'\n",
    "id_mais_vendidos = df.groupby('Country')['Units Sold'].transform(lambda x: x.idxmax())\n",
    "\n",
    "# verificando o resultado para o país 'Australia'\n",
    "print(id_mais_vendidos.iloc[[32,60,91]])"
   ]
  },
  {
   "cell_type": "markdown",
   "metadata": {},
   "source": [
    "### Exercício 8) \n",
    "Construa um DataFrame com uma coluna chamada 'Pais', contendo os nomes de todos os países do DataFrame original (sem repetição). O DataFrame deve ser indexado com valores interios entre 0 e $n-1$, onde $n$ é o número de paises. Quantos países existem na base de dados?\n",
    "\n",
    "**Dica**: Para obter o rótulo (nome) de um grupo dentro do método <font color='blue'>apply</font> pode utilizar o atributo <font color='blue'>.name</font>, ou seja,\n",
    "```python\n",
    "df.groupby(<dados agrupamento>).apply(lambda x. x.name)\n",
    "```\n",
    "retorna o rótulo de cada grupo gerado pelo <font color='blue'>groupby</font>"
   ]
  },
  {
   "cell_type": "code",
   "execution_count": 12,
   "metadata": {},
   "outputs": [
    {
     "name": "stdout",
     "output_type": "stream",
     "text": [
      "         Pais\n",
      "0     Albania\n",
      "1      Angola\n",
      "2   Australia\n",
      "3     Austria\n",
      "4  Azerbaijan\n",
      "número de países 76\n"
     ]
    }
   ],
   "source": [
    "paises = pd.DataFrame(df.groupby('Country').apply(lambda x: x.name).values,\n",
    "                                      columns=['Pais'])\n",
    "print(paises.head())\n",
    "print('número de países',paises.shape[0])"
   ]
  },
  {
   "cell_type": "markdown",
   "metadata": {},
   "source": [
    "### Exercício 9) \n",
    "Construa um DataFrame contendo:\n",
    "- uma coluna com os nomes dos países (cada país aparece apenas uma vez)\n",
    "- uma coluna com o nome do produto mais vendido no país, ou seja, cada linha contém o nome do país e o produto mais vendido daquele país.\n",
    "\n",
    "**Dica**: Agrupe a Serie criada no exercício 7) de acordo com os países,\n",
    "gerando uma nova Serie com o número de linhas equivalente ao número de países. Utilize a Serie gerada para buscar, no DataFrame original, o nome do produto mais vendido."
   ]
  },
  {
   "cell_type": "code",
   "execution_count": 199,
   "metadata": {
    "scrolled": true
   },
   "outputs": [
    {
     "name": "stdout",
     "output_type": "stream",
     "text": [
      "              Pais Prod Mais Vendido\n",
      "0          Albania           Clothes\n",
      "1           Angola         Household\n",
      "2        Australia         Beverages\n",
      "3          Austria         Cosmetics\n",
      "4       Azerbaijan         Cosmetics\n",
      "..             ...               ...\n",
      "71      The Gambia         Baby Food\n",
      "72    Turkmenistan   Office Supplies\n",
      "73          Tuvalu         Baby Food\n",
      "74  United Kingdom         Household\n",
      "75          Zambia            Snacks\n",
      "\n",
      "[76 rows x 2 columns]\n"
     ]
    }
   ],
   "source": [
    "id_mais_vendidos = df.groupby('Country')['Units Sold'].transform(lambda x: x.idxmax())\n",
    "\n",
    "prod_mais_vendido_pais = pd.DataFrame(df.groupby('Country').apply(lambda x: x.name).values,\n",
    "                                      columns=['Pais'])\n",
    "\n",
    "# Agrupando de acordo com os países e retornando apena o primeiro elemento\n",
    "# de cada grupo (todos os elementos do grupo possem o mesmo valor,\n",
    "# que corresponde ao índice da linha onde o produto mais vendido ocorre)\n",
    "aux = id_mais_vendidos.groupby(df['Country'].values).apply(lambda i: i.iloc[0]).values\n",
    "\n",
    "# Extraindo do DataFrame original o produto mais vendido de cada país\n",
    "prod_mais_vendido_pais['Prod Mais Vendido'] = df['Item Type'].iloc[aux].values\n",
    "print(prod_mais_vendido_pais)"
   ]
  },
  {
   "cell_type": "code",
   "execution_count": 200,
   "metadata": {},
   "outputs": [
    {
     "name": "stdout",
     "output_type": "stream",
     "text": [
      "Australia \n",
      "           Item Type  Units Sold\n",
      "32  Office Supplies        2924\n",
      "60           Cereal         682\n",
      "91        Beverages        9389\n",
      "\n",
      "\n",
      "        Pais Prod Mais Vendido\n",
      "2  Australia         Beverages\n"
     ]
    }
   ],
   "source": [
    "# verificando que a construção do DataFrame acima está correta\n",
    "pais = 'Australia'\n",
    "test = df.groupby('Country')\n",
    "print(pais,'\\n',test.get_group(pais)[['Item Type','Units Sold']])\n",
    "\n",
    "print('\\n')\n",
    "print(prod_mais_vendido_pais.loc[prod_mais_vendido_pais['Pais'] == pais])"
   ]
  },
  {
   "cell_type": "markdown",
   "metadata": {},
   "source": [
    "### Exercício 10) \n",
    "O método <font color='blue'>groupby</font> combinado com a transformação <font color='blue'>apply</font> podem ser utilizados para preencher dados faltantes com valores específicos em cada grupo. O DataFrame gerado no código abaixo possui dados faltantes (`NaN`) em várias posições. \n",
    "1. Divida os elementos do DataFrame em dois grupos, o grupo das linha pares e o grupo das linhas ímpares.\n",
    "2. Preencha os dados faltantes do grupo das linhas pares com o valor médio dos valores no grupo \n",
    "3. Preencha os dados faltantes do grupo das linhas ímpares com o valor médio dos valores no grupo "
   ]
  },
  {
   "cell_type": "code",
   "execution_count": 57,
   "metadata": {},
   "outputs": [
    {
     "name": "stdout",
     "output_type": "stream",
     "text": [
      "    c1   c2   c3   c4   c5\n",
      "0  4.0  4.0  4.0  1.0  1.0\n",
      "1  3.0  5.0  8.0  7.0  0.0\n",
      "2  3.0  8.0  NaN  NaN  4.0\n",
      "3  3.0  3.0  9.0  6.0  4.0\n",
      "4  4.0  NaN  6.0  6.0  3.0\n",
      "5  NaN  3.0  0.0  5.0  0.0\n",
      "6  3.0  1.0  3.0  5.0  5.0\n",
      "7  7.0  0.0  0.0  7.0  7.0\n",
      "8  3.0  0.0  7.0  NaN  6.0\n",
      "9  8.0  8.0  1.0  4.0  6.0\n"
     ]
    }
   ],
   "source": [
    "dataf = np.random.randint(low=0, high=10, size=(10,5)).astype(float)\n",
    "rid = np.random.randint(low=0, high=10, size=5)\n",
    "cid = np.random.randint(low=0, high=5, size=5)\n",
    "dataf[rid,cid] = np.nan\n",
    "\n",
    "clabels=['c1','c2','c3','c4','c5']\n",
    "df = pd.DataFrame(data=dataf,columns=clabels)\n",
    "\n",
    "print(df)"
   ]
  },
  {
   "cell_type": "code",
   "execution_count": 56,
   "metadata": {},
   "outputs": [
    {
     "name": "stdout",
     "output_type": "stream",
     "text": [
      "          c1        c2   c3    c4    c5\n",
      "False 1  1.0  4.000000  4.0  6.00  2.00\n",
      "      3  5.0  1.000000  6.0  3.00  7.00\n",
      "      5  6.0  5.000000  7.0  8.00  5.00\n",
      "      7  8.0  6.000000  7.0  3.00  9.00\n",
      "      9  5.0  6.000000  1.0  5.00  5.75\n",
      "True  0  8.0  5.000000  7.0  1.00  3.00\n",
      "      2  5.0  4.000000  8.0  5.00  3.00\n",
      "      4  5.0  3.333333  7.0  9.00  8.00\n",
      "      6  0.0  1.000000  5.0  5.75  6.00\n",
      "      8  9.0  3.333333  0.0  8.00  3.00\n"
     ]
    }
   ],
   "source": [
    "dfgrouped = df.groupby(lambda x: x%2==0).apply(lambda i: i.fillna(i.mean()))\n",
    "print(dfgrouped)"
   ]
  },
  {
   "cell_type": "markdown",
   "metadata": {},
   "source": [
    "## <span style=\"color:blue\">Pandas Parte III - Avaliação </span>"
   ]
  },
  {
   "cell_type": "markdown",
   "metadata": {},
   "source": [
    "Os exercícios a seguir farão uso do arquivo <font style=\"font-family: monaco\">sales1000.csv</font> disponível para download no moodle.\n",
    "\n",
    "O arquivo <font style=\"font-family: monaco\">sales1000.csv</font> possui informações relativas à venda de produtos. As colunas abaixo são de particular importância para solução dos exercícios:\n",
    "- *Country*: país da venda\n",
    "- *Item Type*: tipo do produto vendido no país\n",
    "- *Units Sold*: quantidade vendida\n",
    "- *Unit Price*: preço de venda\n",
    "- *Unit Cost*: preço de custo\n",
    "- *Total Profit*: lucro total"
   ]
  },
  {
   "cell_type": "code",
   "execution_count": 1,
   "metadata": {},
   "outputs": [],
   "source": [
    "import pandas as pd\n",
    "import numpy as np\n",
    "\n",
    "df = pd.read_csv('sales1000.csv')"
   ]
  },
  {
   "cell_type": "markdown",
   "metadata": {},
   "source": [
    "### Exercício 1)\n",
    "Agrupe os elementos da base de dados armazenada no arquivo <font style=\"font-family: monaco\">sales1000.csv</font> de acordo com os países.\n",
    "Quantos produtos diferentes o país \"Japan\" vende?\n",
    "\n",
    "a) 7<br>\n",
    "b) <font color='red'>6</font><br>\n",
    "c) 5<br>\n",
    "d) 4"
   ]
  },
  {
   "cell_type": "code",
   "execution_count": 2,
   "metadata": {},
   "outputs": [
    {
     "name": "stdout",
     "output_type": "stream",
     "text": [
      "['Cereal' 'Beverages' 'Baby Food' 'Cosmetics' 'Personal Care' 'Meat']\n",
      "6\n"
     ]
    }
   ],
   "source": [
    "grouped_paises = df.groupby('Country')\n",
    "\n",
    "print(grouped_paises.get_group('Japan')['Item Type'].unique())\n",
    "print(len(grouped_paises.get_group('Japan')['Item Type'].unique()))"
   ]
  },
  {
   "cell_type": "markdown",
   "metadata": {},
   "source": [
    "### Exercício 2)\n",
    "Considerando todas as vendas realizadas por cada país, qual o país com o menor lucro total?\n",
    "\n",
    "a) <font color='red'>Cameroon</font><br>\n",
    "b) Japan<br>\n",
    "c) Australia<br>\n",
    "d) Cuba"
   ]
  },
  {
   "cell_type": "code",
   "execution_count": 7,
   "metadata": {},
   "outputs": [
    {
     "name": "stdout",
     "output_type": "stream",
     "text": [
      "Cameroon 34407.36\n"
     ]
    }
   ],
   "source": [
    "lucro_total = df.groupby('Country')['Total Profit'].sum()\n",
    "#print(lucro_total.sort_values())\n",
    "print(lucro_total.idxmin(),lucro_total.loc[lucro_total.idxmin()])"
   ]
  },
  {
   "cell_type": "markdown",
   "metadata": {},
   "source": [
    "### Exercício 3)\n",
    "Quantos países vendem exatamente 8 (oito) produtos distintos? \n",
    "\n",
    "<font color='red'>a) 2</font><br>\n",
    "b) 4<br>\n",
    "c) 6<br>\n",
    "d) 8"
   ]
  },
  {
   "cell_type": "code",
   "execution_count": 10,
   "metadata": {},
   "outputs": [
    {
     "name": "stdout",
     "output_type": "stream",
     "text": [
      "Numero de países com 6 produtos distintos: 2\n",
      "Country\n",
      "Belarus    8\n",
      "Cuba       8\n",
      "Name: Item Type, dtype: int64\n"
     ]
    }
   ],
   "source": [
    "nprodutos=df.groupby('Country')['Item Type'].nunique()\n",
    "mask = nprodutos.values == 8 \n",
    "print('Numero de países com 8 produtos distintos:',np.sum(mask))\n",
    "\n",
    "#print(nprodutos.sort_values()[-20:])\n",
    "print(nprodutos[nprodutos.values == 8])"
   ]
  },
  {
   "cell_type": "markdown",
   "metadata": {},
   "source": [
    "### Exercício 4)\n",
    "Qual o país com a maior diferença entre a maior quantidade e a menor quantidade de produtos vendidos? Por exemplo, 'Tonga' vende os seguintes quantidades de produtos:\n",
    "```python\n",
    "Household  8635\n",
    "Beverages  9367\n",
    "Meat       9633\n",
    "Fruits     7124\n",
    "Meat       3499\n",
    "```\n",
    "Portando, a diferença entre a maior e a menor quantidade de produtos vendidos é $$9633-3499=6134$$ Qual o país com a maior diferença?\n",
    "\n",
    "a) Tonga<br>\n",
    "b) <font color='red'>Cape Verde</font><br>\n",
    "c) Romania<br>\n",
    "d) Cuba"
   ]
  },
  {
   "cell_type": "code",
   "execution_count": 6,
   "metadata": {},
   "outputs": [
    {
     "name": "stdout",
     "output_type": "stream",
     "text": [
      "Cape Verde 9775\n"
     ]
    }
   ],
   "source": [
    "gprodutos = df.groupby('Country')['Units Sold'].apply(lambda x: x.max()-x.min())\n",
    "print(gprodutos.idxmax(),gprodutos.max())"
   ]
  },
  {
   "cell_type": "markdown",
   "metadata": {},
   "source": [
    "### Exercício 5)\n",
    "O lucro de um produto é a diferença entre o preço de venda e o de custo. Qual o produto que fornece o maior lucro médio?\n",
    "\n",
    "a) Baby Food<br>\n",
    "b) Fruits<br>\n",
    "c) Household<br>\n",
    "<font color='red'>d) Cosmetics</font>"
   ]
  },
  {
   "cell_type": "code",
   "execution_count": 17,
   "metadata": {},
   "outputs": [
    {
     "name": "stdout",
     "output_type": "stream",
     "text": [
      "Item Type\n",
      "Cereal              88.59\n",
      "Baby Food           95.86\n",
      "Office Supplies    126.25\n",
      "Household          165.73\n",
      "Cosmetics          173.87\n",
      "Name: Lucro Produto, dtype: float64\n",
      "Maior Lucro Médio: Cosmetics 173.87000000000023\n"
     ]
    }
   ],
   "source": [
    "df['Lucro Produto'] = df['Unit Price']-df['Unit Cost']\n",
    "\n",
    "produto_lucro = df.groupby('Item Type')['Lucro Produto'].mean()\n",
    "print(produto_lucro.sort_values()[-5:])\n",
    "\n",
    "print('Maior Lucro Médio:',produto_lucro.idxmax(),produto_lucro.max())"
   ]
  },
  {
   "cell_type": "markdown",
   "metadata": {},
   "source": [
    "## <font color=\"blue\">Avaliação Final</font>"
   ]
  },
  {
   "cell_type": "markdown",
   "metadata": {},
   "source": [
    "Para responder as questões abaixo será necessário fazer uso do arquivo <font style=\"font-family: monaco\">auto_infracao_IBAMA.csv</font> disponível para download no _moodle_. Dentre as colunas do conjunto de dados, as que serão relevantes para esta avaliação são:\n",
    "- **VAL_AUTO_INFRACAO**: Valor do auto de infração\n",
    "- **UF**: estado onde ocorreu o auto de infração\n",
    "- **TIPO_AUTO**: tipo da infração\n",
    "- **DAT_HORA_AUTO_INFRACAO**: data e hora em que a infração foi lavrada"
   ]
  },
  {
   "cell_type": "code",
   "execution_count": 44,
   "metadata": {},
   "outputs": [],
   "source": [
    "import numpy as np\n",
    "import pandas as pd"
   ]
  },
  {
   "cell_type": "markdown",
   "metadata": {},
   "source": [
    "### Questão 1 (2 pontos)\n",
    "Considerando os dados contidos no arquivo <font style=\"font-family: monaco\">auto_infracao_IBAMA.csv</font>:\n"
   ]
  },
  {
   "cell_type": "markdown",
   "metadata": {},
   "source": [
    "#### a) (0.5 ponto)\n",
    "Carregue o arquivo \"auto_infracao_IBAMA.csv\" e armazena em um DataFrame. Imprima as 10 primeiras linhas do DataFrame."
   ]
  },
  {
   "cell_type": "code",
   "execution_count": 45,
   "metadata": {},
   "outputs": [
    {
     "name": "stdout",
     "output_type": "stream",
     "text": [
      "(642981, 16)\n"
     ]
    },
    {
     "data": {
      "text/html": [
       "<div>\n",
       "<style scoped>\n",
       "    .dataframe tbody tr th:only-of-type {\n",
       "        vertical-align: middle;\n",
       "    }\n",
       "\n",
       "    .dataframe tbody tr th {\n",
       "        vertical-align: top;\n",
       "    }\n",
       "\n",
       "    .dataframe thead th {\n",
       "        text-align: right;\n",
       "    }\n",
       "</style>\n",
       "<table border=\"1\" class=\"dataframe\">\n",
       "  <thead>\n",
       "    <tr style=\"text-align: right;\">\n",
       "      <th></th>\n",
       "      <th>TIPO_AUTO</th>\n",
       "      <th>VAL_AUTO_INFRACAO</th>\n",
       "      <th>UNID_ARRECADACAO</th>\n",
       "      <th>DES_AUTO_INFRACAO</th>\n",
       "      <th>DAT_HORA_AUTO_INFRACAO</th>\n",
       "      <th>DAT_CIENCIA_AUTUACAO</th>\n",
       "      <th>COD_MUNICIPIO</th>\n",
       "      <th>MUNICIPIO</th>\n",
       "      <th>UF</th>\n",
       "      <th>NUM_PROCESSO</th>\n",
       "      <th>COD_INFRACAO</th>\n",
       "      <th>DES_INFRACAO</th>\n",
       "      <th>TIPO_INFRACAO</th>\n",
       "      <th>UNID_CONTROLE</th>\n",
       "      <th>ULTIMA_ATUALIZACAO_RELATORIO</th>\n",
       "      <th>ANO_INFRA</th>\n",
       "    </tr>\n",
       "  </thead>\n",
       "  <tbody>\n",
       "    <tr>\n",
       "      <th>0</th>\n",
       "      <td>Multa simples</td>\n",
       "      <td>1500.0</td>\n",
       "      <td>IMP/GEREX</td>\n",
       "      <td>POR FUNCIONAR ESTABELICIMENTO PONTENCIALMENTE ...</td>\n",
       "      <td>05/03/2004 00:00:00</td>\n",
       "      <td>05/03/2004</td>\n",
       "      <td>2105302.0</td>\n",
       "      <td>IMPERATRIZ</td>\n",
       "      <td>MA</td>\n",
       "      <td>205100001204.0</td>\n",
       "      <td>401001.0</td>\n",
       "      <td>Funcionar sem prévio registro no Ibama - Admin...</td>\n",
       "      <td>Penalidade pecuniária - Flora</td>\n",
       "      <td>IMP/GEREX</td>\n",
       "      <td>13/03/2023 19:01</td>\n",
       "      <td>2004</td>\n",
       "    </tr>\n",
       "    <tr>\n",
       "      <th>1</th>\n",
       "      <td>Multa simples</td>\n",
       "      <td>1500.0</td>\n",
       "      <td>IMP/GEREX</td>\n",
       "      <td>POR FUCIONAR ESTABELECIMENTO POTENCIALMENTE PO...</td>\n",
       "      <td>05/03/2004 00:00:00</td>\n",
       "      <td>05/03/2004</td>\n",
       "      <td>2105302.0</td>\n",
       "      <td>IMPERATRIZ</td>\n",
       "      <td>MA</td>\n",
       "      <td>205100001104.0</td>\n",
       "      <td>606002.0</td>\n",
       "      <td>Exercer atividade potencialmente degradadora e...</td>\n",
       "      <td>Penalidade pecuniária - Controle ambiental</td>\n",
       "      <td>IMP/GEREX</td>\n",
       "      <td>13/03/2023 19:01</td>\n",
       "      <td>2004</td>\n",
       "    </tr>\n",
       "    <tr>\n",
       "      <th>2</th>\n",
       "      <td>Multa simples</td>\n",
       "      <td>2500.0</td>\n",
       "      <td>IMP/GEREX</td>\n",
       "      <td>por fucionar estabelecimento potencialmente po...</td>\n",
       "      <td>11/05/2004 00:00:00</td>\n",
       "      <td>11/05/2004</td>\n",
       "      <td>2100600.0</td>\n",
       "      <td>AMARANTE DO MARANHAO</td>\n",
       "      <td>MA</td>\n",
       "      <td>205100007104.0</td>\n",
       "      <td>401001.0</td>\n",
       "      <td>Funcionar sem prévio registro no Ibama - Admin...</td>\n",
       "      <td>Penalidade pecuniária - Flora</td>\n",
       "      <td>IMP/GEREX</td>\n",
       "      <td>13/03/2023 19:01</td>\n",
       "      <td>2004</td>\n",
       "    </tr>\n",
       "    <tr>\n",
       "      <th>3</th>\n",
       "      <td>Multa simples</td>\n",
       "      <td>200.0</td>\n",
       "      <td>IMP/GEREX</td>\n",
       "      <td>POR COMERCIALIZAR PRODUTOS FLORESTAIS, A SABER...</td>\n",
       "      <td>04/11/2004 10:00:00</td>\n",
       "      <td>NaN</td>\n",
       "      <td>2104057.0</td>\n",
       "      <td>ESTREITO</td>\n",
       "      <td>MA</td>\n",
       "      <td>205100026204.0</td>\n",
       "      <td>422001.0</td>\n",
       "      <td>Vender ou expor à venda produto florestal sem ...</td>\n",
       "      <td>Penalidade pecuniária - Flora</td>\n",
       "      <td>IMP/GEREX</td>\n",
       "      <td>13/03/2023 19:01</td>\n",
       "      <td>2004</td>\n",
       "    </tr>\n",
       "    <tr>\n",
       "      <th>4</th>\n",
       "      <td>Multa simples</td>\n",
       "      <td>600.0</td>\n",
       "      <td>IMP/GEREX</td>\n",
       "      <td>Por comercializar produtos florestais a saber:...</td>\n",
       "      <td>04/11/2004 00:00:00</td>\n",
       "      <td>NaN</td>\n",
       "      <td>2104057.0</td>\n",
       "      <td>ESTREITO</td>\n",
       "      <td>MA</td>\n",
       "      <td>205100026304.0</td>\n",
       "      <td>422001.0</td>\n",
       "      <td>Receber e comercializar produto florestal sem ...</td>\n",
       "      <td>Penalidade pecuniária - Flora</td>\n",
       "      <td>IMP/GEREX</td>\n",
       "      <td>13/03/2023 19:01</td>\n",
       "      <td>2004</td>\n",
       "    </tr>\n",
       "    <tr>\n",
       "      <th>5</th>\n",
       "      <td>Multa simples</td>\n",
       "      <td>400.0</td>\n",
       "      <td>IMP/GEREX</td>\n",
       "      <td>POR COMERCIALIZAR PRODUTOS FLORESTAIS  A SABER...</td>\n",
       "      <td>04/11/2004 00:00:00</td>\n",
       "      <td>04/11/2004</td>\n",
       "      <td>2104057.0</td>\n",
       "      <td>ESTREITO</td>\n",
       "      <td>MA</td>\n",
       "      <td>205100026404.0</td>\n",
       "      <td>422001.0</td>\n",
       "      <td>Receber e comercializar produto florestal sem ...</td>\n",
       "      <td>Penalidade pecuniária - Flora</td>\n",
       "      <td>IMP/GEREX</td>\n",
       "      <td>13/03/2023 19:01</td>\n",
       "      <td>2004</td>\n",
       "    </tr>\n",
       "    <tr>\n",
       "      <th>6</th>\n",
       "      <td>Multa simples</td>\n",
       "      <td>2000.0</td>\n",
       "      <td>IMP/GEREX</td>\n",
       "      <td>POR TRANSPORTAR, VIA ATPF Nº  6.709.736 O VOLU...</td>\n",
       "      <td>22/06/2004 00:00:00</td>\n",
       "      <td>22/06/2004</td>\n",
       "      <td>2105302.0</td>\n",
       "      <td>IMPERATRIZ</td>\n",
       "      <td>MA</td>\n",
       "      <td>205100008004.0</td>\n",
       "      <td>403002.0</td>\n",
       "      <td>Transportar produto florestal em desacordo com...</td>\n",
       "      <td>Penalidade pecuniária - Flora</td>\n",
       "      <td>IMP/GEREX</td>\n",
       "      <td>13/03/2023 19:01</td>\n",
       "      <td>2004</td>\n",
       "    </tr>\n",
       "    <tr>\n",
       "      <th>7</th>\n",
       "      <td>Multa simples</td>\n",
       "      <td>700.0</td>\n",
       "      <td>IMP/GEREX</td>\n",
       "      <td>Por transporte irregular e sem o devido acober...</td>\n",
       "      <td>02/08/2004 00:00:00</td>\n",
       "      <td>NaN</td>\n",
       "      <td>2100055.0</td>\n",
       "      <td>ACAILANDIA</td>\n",
       "      <td>MA</td>\n",
       "      <td>205100016104.0</td>\n",
       "      <td>403002.0</td>\n",
       "      <td>Transportar produto florestal em desacordo com...</td>\n",
       "      <td>Penalidade pecuniária - Flora</td>\n",
       "      <td>IMP/GEREX</td>\n",
       "      <td>13/03/2023 19:01</td>\n",
       "      <td>2004</td>\n",
       "    </tr>\n",
       "    <tr>\n",
       "      <th>8</th>\n",
       "      <td>Multa simples</td>\n",
       "      <td>600.0</td>\n",
       "      <td>IMP/GEREX</td>\n",
       "      <td>POR TRANSPORTE IRREGULAR E SEM O DEVIDO ACOBER...</td>\n",
       "      <td>03/08/2004 09:50:00</td>\n",
       "      <td>NaN</td>\n",
       "      <td>2105302.0</td>\n",
       "      <td>IMPERATRIZ</td>\n",
       "      <td>MA</td>\n",
       "      <td>205100016204.0</td>\n",
       "      <td>403002.0</td>\n",
       "      <td>Transportar produto florestal em desacordo com...</td>\n",
       "      <td>Penalidade pecuniária - Flora</td>\n",
       "      <td>IMP/GEREX</td>\n",
       "      <td>13/03/2023 19:01</td>\n",
       "      <td>2004</td>\n",
       "    </tr>\n",
       "    <tr>\n",
       "      <th>9</th>\n",
       "      <td>Multa simples</td>\n",
       "      <td>1400.0</td>\n",
       "      <td>IMP/GEREX</td>\n",
       "      <td>Pro comercialização ilegal de produtos da faun...</td>\n",
       "      <td>12/04/2005 07:15:00</td>\n",
       "      <td>NaN</td>\n",
       "      <td>2100055.0</td>\n",
       "      <td>ACAILANDIA</td>\n",
       "      <td>MA</td>\n",
       "      <td>205100053805.0</td>\n",
       "      <td>579001.0</td>\n",
       "      <td>Comercializar, em qualquer local, produtos e o...</td>\n",
       "      <td>Penalidade pecuniária - Fauna</td>\n",
       "      <td>IMP/GEREX</td>\n",
       "      <td>13/03/2023 19:01</td>\n",
       "      <td>2005</td>\n",
       "    </tr>\n",
       "  </tbody>\n",
       "</table>\n",
       "</div>"
      ],
      "text/plain": [
       "       TIPO_AUTO  VAL_AUTO_INFRACAO UNID_ARRECADACAO  \\\n",
       "0  Multa simples             1500.0        IMP/GEREX   \n",
       "1  Multa simples             1500.0        IMP/GEREX   \n",
       "2  Multa simples             2500.0        IMP/GEREX   \n",
       "3  Multa simples              200.0        IMP/GEREX   \n",
       "4  Multa simples              600.0        IMP/GEREX   \n",
       "5  Multa simples              400.0        IMP/GEREX   \n",
       "6  Multa simples             2000.0        IMP/GEREX   \n",
       "7  Multa simples              700.0        IMP/GEREX   \n",
       "8  Multa simples              600.0        IMP/GEREX   \n",
       "9  Multa simples             1400.0        IMP/GEREX   \n",
       "\n",
       "                                   DES_AUTO_INFRACAO DAT_HORA_AUTO_INFRACAO  \\\n",
       "0  POR FUNCIONAR ESTABELICIMENTO PONTENCIALMENTE ...    05/03/2004 00:00:00   \n",
       "1  POR FUCIONAR ESTABELECIMENTO POTENCIALMENTE PO...    05/03/2004 00:00:00   \n",
       "2  por fucionar estabelecimento potencialmente po...    11/05/2004 00:00:00   \n",
       "3  POR COMERCIALIZAR PRODUTOS FLORESTAIS, A SABER...    04/11/2004 10:00:00   \n",
       "4  Por comercializar produtos florestais a saber:...    04/11/2004 00:00:00   \n",
       "5  POR COMERCIALIZAR PRODUTOS FLORESTAIS  A SABER...    04/11/2004 00:00:00   \n",
       "6  POR TRANSPORTAR, VIA ATPF Nº  6.709.736 O VOLU...    22/06/2004 00:00:00   \n",
       "7  Por transporte irregular e sem o devido acober...    02/08/2004 00:00:00   \n",
       "8  POR TRANSPORTE IRREGULAR E SEM O DEVIDO ACOBER...    03/08/2004 09:50:00   \n",
       "9  Pro comercialização ilegal de produtos da faun...    12/04/2005 07:15:00   \n",
       "\n",
       "  DAT_CIENCIA_AUTUACAO  COD_MUNICIPIO             MUNICIPIO  UF  \\\n",
       "0           05/03/2004      2105302.0            IMPERATRIZ  MA   \n",
       "1           05/03/2004      2105302.0            IMPERATRIZ  MA   \n",
       "2           11/05/2004      2100600.0  AMARANTE DO MARANHAO  MA   \n",
       "3                  NaN      2104057.0              ESTREITO  MA   \n",
       "4                  NaN      2104057.0              ESTREITO  MA   \n",
       "5           04/11/2004      2104057.0              ESTREITO  MA   \n",
       "6           22/06/2004      2105302.0            IMPERATRIZ  MA   \n",
       "7                  NaN      2100055.0            ACAILANDIA  MA   \n",
       "8                  NaN      2105302.0            IMPERATRIZ  MA   \n",
       "9                  NaN      2100055.0            ACAILANDIA  MA   \n",
       "\n",
       "     NUM_PROCESSO  COD_INFRACAO  \\\n",
       "0  205100001204.0      401001.0   \n",
       "1  205100001104.0      606002.0   \n",
       "2  205100007104.0      401001.0   \n",
       "3  205100026204.0      422001.0   \n",
       "4  205100026304.0      422001.0   \n",
       "5  205100026404.0      422001.0   \n",
       "6  205100008004.0      403002.0   \n",
       "7  205100016104.0      403002.0   \n",
       "8  205100016204.0      403002.0   \n",
       "9  205100053805.0      579001.0   \n",
       "\n",
       "                                        DES_INFRACAO  \\\n",
       "0  Funcionar sem prévio registro no Ibama - Admin...   \n",
       "1  Exercer atividade potencialmente degradadora e...   \n",
       "2  Funcionar sem prévio registro no Ibama - Admin...   \n",
       "3  Vender ou expor à venda produto florestal sem ...   \n",
       "4  Receber e comercializar produto florestal sem ...   \n",
       "5  Receber e comercializar produto florestal sem ...   \n",
       "6  Transportar produto florestal em desacordo com...   \n",
       "7  Transportar produto florestal em desacordo com...   \n",
       "8  Transportar produto florestal em desacordo com...   \n",
       "9  Comercializar, em qualquer local, produtos e o...   \n",
       "\n",
       "                                TIPO_INFRACAO UNID_CONTROLE  \\\n",
       "0               Penalidade pecuniária - Flora     IMP/GEREX   \n",
       "1  Penalidade pecuniária - Controle ambiental     IMP/GEREX   \n",
       "2               Penalidade pecuniária - Flora     IMP/GEREX   \n",
       "3               Penalidade pecuniária - Flora     IMP/GEREX   \n",
       "4               Penalidade pecuniária - Flora     IMP/GEREX   \n",
       "5               Penalidade pecuniária - Flora     IMP/GEREX   \n",
       "6               Penalidade pecuniária - Flora     IMP/GEREX   \n",
       "7               Penalidade pecuniária - Flora     IMP/GEREX   \n",
       "8               Penalidade pecuniária - Flora     IMP/GEREX   \n",
       "9               Penalidade pecuniária - Fauna     IMP/GEREX   \n",
       "\n",
       "  ULTIMA_ATUALIZACAO_RELATORIO  ANO_INFRA  \n",
       "0             13/03/2023 19:01       2004  \n",
       "1             13/03/2023 19:01       2004  \n",
       "2             13/03/2023 19:01       2004  \n",
       "3             13/03/2023 19:01       2004  \n",
       "4             13/03/2023 19:01       2004  \n",
       "5             13/03/2023 19:01       2004  \n",
       "6             13/03/2023 19:01       2004  \n",
       "7             13/03/2023 19:01       2004  \n",
       "8             13/03/2023 19:01       2004  \n",
       "9             13/03/2023 19:01       2005  "
      ]
     },
     "execution_count": 45,
     "metadata": {},
     "output_type": "execute_result"
    }
   ],
   "source": [
    "# Solucao\n",
    "\n",
    "df = pd.read_csv('auto_infracao_IBAMA.csv', low_memory=False)\n",
    "print(df.shape)\n",
    "df.head(10)\n"
   ]
  },
  {
   "cell_type": "markdown",
   "metadata": {},
   "source": [
    "#### b) (0.5 ponto)\n",
    "Verifique quantos dados faltantes existem na coluna 'VAL_AUTO_INFRACAO' e substitua os dados faltantes por zero. "
   ]
  },
  {
   "cell_type": "code",
   "execution_count": 46,
   "metadata": {},
   "outputs": [
    {
     "name": "stdout",
     "output_type": "stream",
     "text": [
      "Existem 3389 dados faltantes na coluna 'VAL_AUTO_INFRACAO'\n",
      "0\n"
     ]
    }
   ],
   "source": [
    "# Solucao\n",
    "\n",
    "df_nulos_coluna = df['VAL_AUTO_INFRACAO'].isnull().sum()\n",
    "print(f\"Existem {df_nulos_coluna} dados faltantes na coluna 'VAL_AUTO_INFRACAO'\")\n",
    "\n",
    " \n",
    "df1 = df.fillna({'VAL_AUTO_INFRACAO':0})\n",
    "print(df1['VAL_AUTO_INFRACAO'].isnull().sum())\n"
   ]
  },
  {
   "cell_type": "markdown",
   "metadata": {},
   "source": [
    "#### c) (1 ponto)\n",
    "A coluna 'DAT_CIENCIA_AUTUACAO' contém muitos valores faltantes, portanto deve ser eliminada. Elimine a coluna 'DAT_CIENCIA_AUTUACAO' do DataFrame."
   ]
  },
  {
   "cell_type": "code",
   "execution_count": 47,
   "metadata": {},
   "outputs": [
    {
     "data": {
      "text/html": [
       "<div>\n",
       "<style scoped>\n",
       "    .dataframe tbody tr th:only-of-type {\n",
       "        vertical-align: middle;\n",
       "    }\n",
       "\n",
       "    .dataframe tbody tr th {\n",
       "        vertical-align: top;\n",
       "    }\n",
       "\n",
       "    .dataframe thead th {\n",
       "        text-align: right;\n",
       "    }\n",
       "</style>\n",
       "<table border=\"1\" class=\"dataframe\">\n",
       "  <thead>\n",
       "    <tr style=\"text-align: right;\">\n",
       "      <th></th>\n",
       "      <th>TIPO_AUTO</th>\n",
       "      <th>VAL_AUTO_INFRACAO</th>\n",
       "      <th>UNID_ARRECADACAO</th>\n",
       "      <th>DES_AUTO_INFRACAO</th>\n",
       "      <th>DAT_HORA_AUTO_INFRACAO</th>\n",
       "      <th>COD_MUNICIPIO</th>\n",
       "      <th>MUNICIPIO</th>\n",
       "      <th>UF</th>\n",
       "      <th>NUM_PROCESSO</th>\n",
       "      <th>COD_INFRACAO</th>\n",
       "      <th>DES_INFRACAO</th>\n",
       "      <th>TIPO_INFRACAO</th>\n",
       "      <th>UNID_CONTROLE</th>\n",
       "      <th>ULTIMA_ATUALIZACAO_RELATORIO</th>\n",
       "      <th>ANO_INFRA</th>\n",
       "    </tr>\n",
       "  </thead>\n",
       "  <tbody>\n",
       "    <tr>\n",
       "      <th>0</th>\n",
       "      <td>Multa simples</td>\n",
       "      <td>1500.0</td>\n",
       "      <td>IMP/GEREX</td>\n",
       "      <td>POR FUNCIONAR ESTABELICIMENTO PONTENCIALMENTE ...</td>\n",
       "      <td>05/03/2004 00:00:00</td>\n",
       "      <td>2105302.0</td>\n",
       "      <td>IMPERATRIZ</td>\n",
       "      <td>MA</td>\n",
       "      <td>205100001204.0</td>\n",
       "      <td>401001.0</td>\n",
       "      <td>Funcionar sem prévio registro no Ibama - Admin...</td>\n",
       "      <td>Penalidade pecuniária - Flora</td>\n",
       "      <td>IMP/GEREX</td>\n",
       "      <td>13/03/2023 19:01</td>\n",
       "      <td>2004</td>\n",
       "    </tr>\n",
       "    <tr>\n",
       "      <th>1</th>\n",
       "      <td>Multa simples</td>\n",
       "      <td>1500.0</td>\n",
       "      <td>IMP/GEREX</td>\n",
       "      <td>POR FUCIONAR ESTABELECIMENTO POTENCIALMENTE PO...</td>\n",
       "      <td>05/03/2004 00:00:00</td>\n",
       "      <td>2105302.0</td>\n",
       "      <td>IMPERATRIZ</td>\n",
       "      <td>MA</td>\n",
       "      <td>205100001104.0</td>\n",
       "      <td>606002.0</td>\n",
       "      <td>Exercer atividade potencialmente degradadora e...</td>\n",
       "      <td>Penalidade pecuniária - Controle ambiental</td>\n",
       "      <td>IMP/GEREX</td>\n",
       "      <td>13/03/2023 19:01</td>\n",
       "      <td>2004</td>\n",
       "    </tr>\n",
       "    <tr>\n",
       "      <th>2</th>\n",
       "      <td>Multa simples</td>\n",
       "      <td>2500.0</td>\n",
       "      <td>IMP/GEREX</td>\n",
       "      <td>por fucionar estabelecimento potencialmente po...</td>\n",
       "      <td>11/05/2004 00:00:00</td>\n",
       "      <td>2100600.0</td>\n",
       "      <td>AMARANTE DO MARANHAO</td>\n",
       "      <td>MA</td>\n",
       "      <td>205100007104.0</td>\n",
       "      <td>401001.0</td>\n",
       "      <td>Funcionar sem prévio registro no Ibama - Admin...</td>\n",
       "      <td>Penalidade pecuniária - Flora</td>\n",
       "      <td>IMP/GEREX</td>\n",
       "      <td>13/03/2023 19:01</td>\n",
       "      <td>2004</td>\n",
       "    </tr>\n",
       "    <tr>\n",
       "      <th>3</th>\n",
       "      <td>Multa simples</td>\n",
       "      <td>200.0</td>\n",
       "      <td>IMP/GEREX</td>\n",
       "      <td>POR COMERCIALIZAR PRODUTOS FLORESTAIS, A SABER...</td>\n",
       "      <td>04/11/2004 10:00:00</td>\n",
       "      <td>2104057.0</td>\n",
       "      <td>ESTREITO</td>\n",
       "      <td>MA</td>\n",
       "      <td>205100026204.0</td>\n",
       "      <td>422001.0</td>\n",
       "      <td>Vender ou expor à venda produto florestal sem ...</td>\n",
       "      <td>Penalidade pecuniária - Flora</td>\n",
       "      <td>IMP/GEREX</td>\n",
       "      <td>13/03/2023 19:01</td>\n",
       "      <td>2004</td>\n",
       "    </tr>\n",
       "    <tr>\n",
       "      <th>4</th>\n",
       "      <td>Multa simples</td>\n",
       "      <td>600.0</td>\n",
       "      <td>IMP/GEREX</td>\n",
       "      <td>Por comercializar produtos florestais a saber:...</td>\n",
       "      <td>04/11/2004 00:00:00</td>\n",
       "      <td>2104057.0</td>\n",
       "      <td>ESTREITO</td>\n",
       "      <td>MA</td>\n",
       "      <td>205100026304.0</td>\n",
       "      <td>422001.0</td>\n",
       "      <td>Receber e comercializar produto florestal sem ...</td>\n",
       "      <td>Penalidade pecuniária - Flora</td>\n",
       "      <td>IMP/GEREX</td>\n",
       "      <td>13/03/2023 19:01</td>\n",
       "      <td>2004</td>\n",
       "    </tr>\n",
       "  </tbody>\n",
       "</table>\n",
       "</div>"
      ],
      "text/plain": [
       "       TIPO_AUTO  VAL_AUTO_INFRACAO UNID_ARRECADACAO  \\\n",
       "0  Multa simples             1500.0        IMP/GEREX   \n",
       "1  Multa simples             1500.0        IMP/GEREX   \n",
       "2  Multa simples             2500.0        IMP/GEREX   \n",
       "3  Multa simples              200.0        IMP/GEREX   \n",
       "4  Multa simples              600.0        IMP/GEREX   \n",
       "\n",
       "                                   DES_AUTO_INFRACAO DAT_HORA_AUTO_INFRACAO  \\\n",
       "0  POR FUNCIONAR ESTABELICIMENTO PONTENCIALMENTE ...    05/03/2004 00:00:00   \n",
       "1  POR FUCIONAR ESTABELECIMENTO POTENCIALMENTE PO...    05/03/2004 00:00:00   \n",
       "2  por fucionar estabelecimento potencialmente po...    11/05/2004 00:00:00   \n",
       "3  POR COMERCIALIZAR PRODUTOS FLORESTAIS, A SABER...    04/11/2004 10:00:00   \n",
       "4  Por comercializar produtos florestais a saber:...    04/11/2004 00:00:00   \n",
       "\n",
       "   COD_MUNICIPIO             MUNICIPIO  UF    NUM_PROCESSO  COD_INFRACAO  \\\n",
       "0      2105302.0            IMPERATRIZ  MA  205100001204.0      401001.0   \n",
       "1      2105302.0            IMPERATRIZ  MA  205100001104.0      606002.0   \n",
       "2      2100600.0  AMARANTE DO MARANHAO  MA  205100007104.0      401001.0   \n",
       "3      2104057.0              ESTREITO  MA  205100026204.0      422001.0   \n",
       "4      2104057.0              ESTREITO  MA  205100026304.0      422001.0   \n",
       "\n",
       "                                        DES_INFRACAO  \\\n",
       "0  Funcionar sem prévio registro no Ibama - Admin...   \n",
       "1  Exercer atividade potencialmente degradadora e...   \n",
       "2  Funcionar sem prévio registro no Ibama - Admin...   \n",
       "3  Vender ou expor à venda produto florestal sem ...   \n",
       "4  Receber e comercializar produto florestal sem ...   \n",
       "\n",
       "                                TIPO_INFRACAO UNID_CONTROLE  \\\n",
       "0               Penalidade pecuniária - Flora     IMP/GEREX   \n",
       "1  Penalidade pecuniária - Controle ambiental     IMP/GEREX   \n",
       "2               Penalidade pecuniária - Flora     IMP/GEREX   \n",
       "3               Penalidade pecuniária - Flora     IMP/GEREX   \n",
       "4               Penalidade pecuniária - Flora     IMP/GEREX   \n",
       "\n",
       "  ULTIMA_ATUALIZACAO_RELATORIO  ANO_INFRA  \n",
       "0             13/03/2023 19:01       2004  \n",
       "1             13/03/2023 19:01       2004  \n",
       "2             13/03/2023 19:01       2004  \n",
       "3             13/03/2023 19:01       2004  \n",
       "4             13/03/2023 19:01       2004  "
      ]
     },
     "execution_count": 47,
     "metadata": {},
     "output_type": "execute_result"
    }
   ],
   "source": [
    "# Solucao\n",
    "\n",
    "df1.drop('DAT_CIENCIA_AUTUACAO', axis='columns', inplace=True)\n",
    "df1.head()\n"
   ]
  },
  {
   "cell_type": "markdown",
   "metadata": {},
   "source": [
    "### Questão 2 (2 pontos)\n",
    "Verifique quantos tipos de infração diferentes exitem na base (coluna 'TIPO_AUTO') e aponte qual o tipo de infração mais comum (infração que mais aparece na base)."
   ]
  },
  {
   "cell_type": "code",
   "execution_count": 48,
   "metadata": {},
   "outputs": [
    {
     "name": "stdout",
     "output_type": "stream",
     "text": [
      "Tipos de infrações existentes: dict_keys(['Advertencia', 'Multa diaria', 'Multa simples'])\n",
      "Quantidades de infrações por tipo:\n",
      "Multa simples    637417\n",
      "Advertencia        5329\n",
      "Multa diaria        235\n",
      "Name: TIPO_AUTO, dtype: int64\n",
      "A infração mais comum é a Multa simples com 637417 ocorrências.\n"
     ]
    }
   ],
   "source": [
    "# Solucao\n",
    "\n",
    "df_infracao = df1.groupby('TIPO_AUTO')\n",
    "print('Tipos de infrações existentes:',df_infracao.groups.keys())\n",
    "\n",
    "print('Quantidades de infrações por tipo:')\n",
    "df_infracao_tipo = df1['TIPO_AUTO'].value_counts()\n",
    "print(df_infracao_tipo)\n",
    "\n",
    "print('A infração mais comum é a', df_infracao_tipo.index[0], 'com', df_infracao_tipo.max(), 'ocorrências.')\n"
   ]
  },
  {
   "cell_type": "markdown",
   "metadata": {},
   "source": [
    "### Questão 3 (3 pontos)\n",
    "Verifique qual estado (coluna 'UF') recebeu o maior número de infrações. Qual o valor total das infrações (soma da coluna 'VAL_AUTO_INFRACAO') no estado com o maior número de infrações? "
   ]
  },
  {
   "cell_type": "code",
   "execution_count": 49,
   "metadata": {},
   "outputs": [
    {
     "name": "stdout",
     "output_type": "stream",
     "text": [
      "MG\n",
      "O Estado que recebeu o maior números de infrações é MG com 108775 infrações.\n",
      "O valor total das infrações no Estado de MG, Estado com o maior número de infrações, é de R$ 15,046,932,268.30\n"
     ]
    }
   ],
   "source": [
    "# Solucao\n",
    "\n",
    "estado = df1['UF'].value_counts()\n",
    "print(estado.index[0])\n",
    "print('O Estado que recebeu o maior números de infrações é', estado.index[0], 'com', estado.max(), 'infrações.')\n",
    "\n",
    "valor_total = df1.groupby('UF')['VAL_AUTO_INFRACAO'].agg('sum')\n",
    "valor_total_MG = valor_total.loc['MG']\n",
    "\n",
    "print(f'O valor total das infrações no Estado de {estado.index[0]}, Estado com o maior número de infrações, é de R$ {valor_total_MG:,.2f}')\n"
   ]
  },
  {
   "cell_type": "markdown",
   "metadata": {},
   "source": [
    "### Questão 4 (3 pontos)\n",
    "Faça o gráfico da evolução do número total de infrações aplicadas anualmente. Especificamente, some o número de infrações ocorridas em cada ano e faça um gráfico onde o eixo horizontal contém os anos e o vertical o número total de infrações em cada ano.\n",
    "\n",
    "**Dica**: Gere uma nova coluna no DataFrame com o ano da infração, retirando esta informação da coluna 'DAT_HORA_AUTO_INFRACAO'. Aplique um <font color='blue'> groupby </font> na coluna geranda contando o número de registros em cada grupo. "
   ]
  },
  {
   "cell_type": "code",
   "execution_count": 50,
   "metadata": {},
   "outputs": [
    {
     "name": "stdout",
     "output_type": "stream",
     "text": [
      "ANO_INFRA\n",
      "1980        9\n",
      "1981       96\n",
      "1982      289\n",
      "1983      133\n",
      "1984      247\n",
      "1985      657\n",
      "1986      605\n",
      "1987      822\n",
      "1988     2578\n",
      "1989     1420\n",
      "1990     3356\n",
      "1991     2081\n",
      "1992     1036\n",
      "1993     1292\n",
      "1994     2061\n",
      "1995     3699\n",
      "1996    36422\n",
      "1997    37298\n",
      "1998    33213\n",
      "1999    33887\n",
      "2000    24141\n",
      "2001    26073\n",
      "2002    36424\n",
      "2003    21064\n",
      "2004    25955\n",
      "2005    31597\n",
      "2006    24372\n",
      "2007    26892\n",
      "2008    29639\n",
      "2009    21830\n",
      "2010    20180\n",
      "2011    19577\n",
      "2012    18214\n",
      "2013    15353\n",
      "2014    14488\n",
      "2015    16197\n",
      "2016    16972\n",
      "2017    15317\n",
      "2018    14564\n",
      "2019    13108\n",
      "2020    12515\n",
      "2021    14713\n",
      "2022    18974\n",
      "2023     3621\n",
      "Name: ANO_INFRA, dtype: int64\n"
     ]
    },
    {
     "data": {
      "text/plain": [
       "<AxesSubplot:xlabel='ANO_INFRA'>"
      ]
     },
     "execution_count": 50,
     "metadata": {},
     "output_type": "execute_result"
    },
    {
     "data": {
      "image/png": "[encoded data removed]",
      "text/plain": [
       "<Figure size 640x480 with 1 Axes>"
      ]
     },
     "metadata": {},
     "output_type": "display_data"
    }
   ],
   "source": [
    "# Solucao\n",
    "\n",
    "infracoes_ano = df1.groupby('ANO_INFRA')['ANO_INFRA'].count()\n",
    "print(infracoes_ano)\n",
    "infracoes_ano.plot(kind='bar')\n"
   ]
  }
 ],
 "metadata": {
  "colab": {
   "name": "Python I  exercicios solucoes.ipynb",
   "provenance": []
  },
  "kernelspec": {
   "display_name": "Python 3 (ipykernel)",
   "language": "python",
   "name": "python3"
  },
  "language_info": {
   "codemirror_mode": {
    "name": "ipython",
    "version": 3
   },
   "file_extension": ".py",
   "mimetype": "text/x-python",
   "name": "python",
   "nbconvert_exporter": "python",
   "pygments_lexer": "ipython3",
   "version": "3.10.12"
  },
  "toc": {
   "base_numbering": 1,
   "nav_menu": {},
   "number_sections": true,
   "sideBar": true,
   "skip_h1_title": false,
   "title_cell": "Table of Contents",
   "title_sidebar": "Contents",
   "toc_cell": false,
   "toc_position": {},
   "toc_section_display": true,
   "toc_window_display": false
  }
 },
 "nbformat": 4,
 "nbformat_minor": 2
}
